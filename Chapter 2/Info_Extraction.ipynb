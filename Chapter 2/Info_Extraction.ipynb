{
  "nbformat": 4,
  "nbformat_minor": 0,
  "metadata": {
    "colab": {
      "name": "Info_Extraction.ipynb",
      "provenance": [],
      "collapsed_sections": []
    },
    "kernelspec": {
      "name": "python3",
      "display_name": "Python 3"
    },
    "language_info": {
      "name": "python"
    }
  },
  "cells": [
    {
      "cell_type": "code",
      "metadata": {
        "colab": {
          "base_uri": "https://localhost:8080/"
        },
        "id": "5G4svruS5puV",
        "outputId": "8a5a8215-ec3f-4e88-962b-b0faafeb97df"
      },
      "source": [
        "!pip install datefinder"
      ],
      "execution_count": 1,
      "outputs": [
        {
          "output_type": "stream",
          "text": [
            "Collecting datefinder\n",
            "  Downloading datefinder-0.7.1-py2.py3-none-any.whl (10 kB)\n",
            "Requirement already satisfied: pytz in /usr/local/lib/python3.7/dist-packages (from datefinder) (2018.9)\n",
            "Requirement already satisfied: regex>=2017.02.08 in /usr/local/lib/python3.7/dist-packages (from datefinder) (2019.12.20)\n",
            "Requirement already satisfied: python-dateutil>=2.4.2 in /usr/local/lib/python3.7/dist-packages (from datefinder) (2.8.2)\n",
            "Requirement already satisfied: six>=1.5 in /usr/local/lib/python3.7/dist-packages (from python-dateutil>=2.4.2->datefinder) (1.15.0)\n",
            "Installing collected packages: datefinder\n",
            "Successfully installed datefinder-0.7.1\n"
          ],
          "name": "stdout"
        }
      ]
    },
    {
      "cell_type": "code",
      "metadata": {
        "id": "JWzwFOh1JIA8",
        "colab": {
          "base_uri": "https://localhost:8080/"
        },
        "outputId": "9fc406b1-ee8b-49e8-8e1a-b0163ff8f077"
      },
      "source": [
        "\n",
        "import datefinder\n",
        "import datetime\n",
        "import re\n",
        "import nltk\n",
        "from nltk import word_tokenize as tokenize\n",
        "from nltk import pos_tag as tag\n",
        "nltk.download('wordnet')\n",
        "\n",
        "# import sutime\n",
        "# from sutime import SUTime\n",
        "import json\n"
      ],
      "execution_count": 2,
      "outputs": [
        {
          "output_type": "stream",
          "text": [
            "[nltk_data] Downloading package wordnet to /root/nltk_data...\n",
            "[nltk_data]   Unzipping corpora/wordnet.zip.\n"
          ],
          "name": "stdout"
        }
      ]
    },
    {
      "cell_type": "code",
      "metadata": {
        "id": "6WIbNGkgNC5P"
      },
      "source": [
        "# nltk.download('punkt')\n",
        "# nltk.download('averaged_perceptron_tagger')"
      ],
      "execution_count": 3,
      "outputs": []
    },
    {
      "cell_type": "markdown",
      "metadata": {
        "id": "hbaxj1n1Vgjy"
      },
      "source": [
        "Date Extraction:"
      ]
    },
    {
      "cell_type": "code",
      "metadata": {
        "id": "INLgw9Ex6bbM"
      },
      "source": [
        "# Some ideas taken from:\n",
        "#https://www.techwithtim.net/tutorials/voice-assistant/speaking-events/\n",
        "#https://pypi.org/project/datefinder/\n",
        "\n",
        "sorted_months = [\"january\", \"february\", \"march\", \"april\", \"may\", \"june\",\"july\",\n",
        "          \"august\", \"september\",\"october\",\"november\", \"december\"]\n",
        "sorted_days = [\"monday\", \"tuesday\", \"wednesday\", \"thursday\", \"friday\",\n",
        "        \"saturday\", \"sunday\"]\n",
        "ordinal_numbers = [\"rd\", \"th\", \"st\", \"nd\"]\n",
        "numbers_list = ['one', 'two', 'three', 'four', 'five', 'six', 'seven', 'eight', 'nine']\n",
        "\n",
        "def date_from_text(input_string):\n",
        "    '''\n",
        "    get datetime() date information from raw text\n",
        "    '''\n",
        "    \n",
        "    text = input_string.lower()\n",
        "    today = datetime.date.today()\n",
        "\n",
        "    # If today is in text:\n",
        "    if text.count(\"today\") > 0:\n",
        "        return today\n",
        "\n",
        "    #if tomorrow is in text:\n",
        "    if text.count(\"tomorrow\") > 0 or text.count(\"tmr\") > 0:\n",
        "        return today + datetime.timedelta(1)\n",
        "\n",
        "    #For the case where we have in _ days/weeks\n",
        "    if bool(re.search(r'in\\s(\\d+|one|two|three|four|five|six|seven|eight|nine)\\s(days|weeks|week)', text)):\n",
        "      x = re.search(r'in\\s(\\d+|one|two|three|four|five|six|seven|eight|nine)\\s(days|weeks|week)', text)\n",
        "      match = x.group()\n",
        "      n = match.split()[-2]\n",
        "      if n in numbers_list:\n",
        "        num = numbers_list.index(n)+1\n",
        "      else:\n",
        "        num = int(n)\n",
        "\n",
        "      if match.split()[-1] == 'days':\n",
        "        return today + datetime.timedelta(num)\n",
        "      else:\n",
        "        return today + datetime.timedelta(num*7) \n",
        "\n",
        "    \n",
        "\n",
        "    day, month, day_idx = -1,-1,-1\n",
        "    year = today.year\n",
        "\n",
        "    for token in text.split():\n",
        "      #regualar expression for abreviated months:\n",
        "      if bool(re.search(r'jan(?:uary)?|feb(?:ruary)?|mar(?:ch)?|apr(?:il)?|may|jun(?:e)?|jul(?:y)?|aug(?:ust)?|sep(?:tember)?|oct(?:ober)?|nov(?:ember)?|dec(?:ember)?', token)):\n",
        "        match = re.findall(r'jan(?:uary)?|feb(?:ruary)?|mar(?:ch)?|apr(?:il)?|may|jun(?:e)?|jul(?:y)?|aug(?:ust)?|sep(?:tember)?|oct(?:ober)?|nov(?:ember)?|dec(?:ember)?', token)[0]\n",
        "        #print(match)\n",
        "\n",
        "        #find corresponding month index\n",
        "        for m in sorted_months:\n",
        "          if match in m:\n",
        "            month = sorted_months.index(m) + 1\n",
        "            #print(month)\n",
        "        \n",
        "      elif bool(re.search(r'\\b((mon|tues|wed(nes)?|thur(s)?|fri|sat(ur)?|sun)(day)?)\\b', token)):\n",
        "\n",
        "        match = re.findall(r'\\b((mon|tues|wed(nes)?|thur(s)?|fri|sat(ur)?|sun)(day)?)\\b', token)[0][0]\n",
        "        \n",
        "        #find corresponding day index\n",
        "        for d in sorted_days:\n",
        "          if match in d:\n",
        "            day_idx = sorted_days.index(d)\n",
        "      \n",
        "      elif token in sorted_days:\n",
        "        day_idx = sorted_days.index(token)\n",
        "\n",
        "      elif token.isdigit():\n",
        "        day = int(token)\n",
        "        \n",
        "      else:\n",
        "        for ordinal in ordinal_numbers:\n",
        "          found = token.find(ordinal)\n",
        "          if found > 0:\n",
        "            try:\n",
        "              day = int(token[:found])\n",
        "            except:\n",
        "              pass\n",
        "\n",
        "    #If the given month has passed go to the next year\n",
        "    if month < today.month and month != -1:  \n",
        "      year = year+1\n",
        "    \n",
        "    #If we are given the current month but day has passed\n",
        "    #go to the next year \n",
        "    if month == today.month and day !=-1:\n",
        "      if day < today.day:\n",
        "        year = year+1\n",
        "\n",
        "    #if month is not present:\n",
        "    if month == -1 and day != -1:  \n",
        "      #if day is less than current day go to next month\n",
        "      if day < today.day:\n",
        "        month = today.month + 1\n",
        "      \n",
        "      else:\n",
        "        month = today.month\n",
        "\n",
        "    \n",
        "    if month == -1 and day == -1 and day_idx != -1:\n",
        "      today_idx = today.weekday()\n",
        "      difference = day_idx - today_idx\n",
        "\n",
        "      if difference < 0:\n",
        "        difference += 7\n",
        "        if text.count(\"next\") >= 1:\n",
        "          difference += 7\n",
        "\n",
        "      return today + datetime.timedelta(difference)\n",
        "\n",
        "    if day != -1:  \n",
        "      return datetime.datetime(month=month, day=day, year=year)\n",
        "    \n",
        "    else:\n",
        "      matches = datefinder.find_dates(input_string)\n",
        "      for match in matches:\n",
        "        return match.date()"
      ],
      "execution_count": 4,
      "outputs": []
    },
    {
      "cell_type": "markdown",
      "metadata": {
        "id": "cv0VH8GyVaKR"
      },
      "source": [
        "Time Extraction:"
      ]
    },
    {
      "cell_type": "code",
      "metadata": {
        "id": "E53ezwe-7ERK"
      },
      "source": [
        "def time_from_text(input_string):\n",
        "  '''\n",
        "  get time information from raw text\n",
        "  '''\n",
        "  \n",
        "  if bool(re.search(r'(([0-1]{0,1}[0-9]( )?(AM|am|aM|Am|PM|pm|pM|Pm))|(([0]?[1-9]|1[0-2])(:|\\.)[0-5][0-9]( )?(AM|am|aM|Am|PM|pm|pM|Pm))|(([0]?[0-9]|1[0-9]|2[0-3])(:|\\.)[0-5][0-9]))', input_string)):\n",
        "    match = re.findall(r'(([0-1]{0,1}[0-9]( )?(AM|am|aM|Am|PM|pm|pM|Pm))|(([0]?[1-9]|1[0-2])(:|\\.)[0-5][0-9]( )?(AM|am|aM|Am|PM|pm|pM|Pm))|(([0]?[0-9]|1[0-9]|2[0-3])(:|\\.)[0-5][0-9]))', input_string)[0][0]\n",
        "    match = match.lower()\n",
        "\n",
        "    match_list = match.split()\n",
        "    #print(match_list)\n",
        "    \n",
        "    if len(match_list) == 1:\n",
        "      \n",
        "      if 'pm' in match:\n",
        "        \n",
        "        i = match.index('pm')\n",
        "        num = match[:i]\n",
        "        \n",
        "        if ':' in num:\n",
        "          split = num.split(':')\n",
        "          hours = int(split[0]) + 12\n",
        "          minutes = int(split[1])\n",
        "      \n",
        "        else:\n",
        "          hours = int(num) + 12\n",
        "          minutes = 0\n",
        "      \n",
        "      elif 'am' in match:\n",
        "        i = match.index('am')\n",
        "        num = match[:i]\n",
        "        \n",
        "        if ':' in num:\n",
        "          split = num.split(':')\n",
        "          hours = int(split[0])\n",
        "          minutes = int(split[1])\n",
        "        else:\n",
        "          hours = int(num)\n",
        "          minutes = 0\n",
        "      \n",
        "      else:\n",
        "        split = match.split(':')\n",
        "        hours = int(split[0])\n",
        "        minutes = int(split[1])\n",
        "      \n",
        "    elif len(match_list) == 2:\n",
        "      \n",
        "      if ':' in match_list[0]:\n",
        "        \n",
        "        split = match_list[0].split(':')\n",
        "        hours = int(split[0])\n",
        "        minutes = int(split[1])\n",
        "     \n",
        "      else:\n",
        "        hours = int(match_list[0])\n",
        "        minutes = 0\n",
        "      \n",
        "      if match_list[-1] == 'pm':\n",
        "        hours += 12\n",
        "\n",
        "        \n",
        "  else:\n",
        "    \n",
        "    print('No time in string')\n",
        "    return None\n",
        "  #print('Hours:',hours)\n",
        "  #print('Minutes:', minutes)\n",
        "  timeobj = datetime.time(hours, minutes)\n",
        "  return timeobj\n",
        "\n"
      ],
      "execution_count": 5,
      "outputs": []
    },
    {
      "cell_type": "code",
      "metadata": {
        "id": "KxWKrZ3C7Hp4",
        "colab": {
          "base_uri": "https://localhost:8080/"
        },
        "outputId": "f1cc0bce-c248-4d88-e522-4a61c89f6e68"
      },
      "source": [
        "string = 'Next Saturday at 23:00'\n",
        "# x = re.search(r'in\\s\\d+\\s(days|weeks|week)', string)\n",
        "# x.group()\n",
        "date = date_from_text(string)\n",
        "time = time_from_text(string)\n",
        "print('String:')\n",
        "print(string)\n",
        "print('Date:', date)\n",
        "print('Time:', time)"
      ],
      "execution_count": 21,
      "outputs": [
        {
          "output_type": "stream",
          "text": [
            "String:\n",
            "Next Saturday at 23:00\n",
            "Date: 2021-09-04\n",
            "Time: 23:00:00\n"
          ],
          "name": "stdout"
        }
      ]
    },
    {
      "cell_type": "code",
      "metadata": {
        "id": "X1wtN2UpAoaJ"
      },
      "source": [
        "def get_slot_from_datetime(time, date):\n",
        "\n",
        "  '''\n",
        "  accepts time in 24h format and date\n",
        "  returns timeslot\n",
        "  '''\n",
        "  hour_lst = str(time).split(':')\n",
        "  day_slot = int(hour_lst[0])\n",
        "  #isoweekday() -> Monday = 1 ...  Sunday  = 6\n",
        "  day_idx = date.isoweekday() % 7 \n",
        "  timeslot = day_slot+24*day_idx\n",
        "  return timeslot\n",
        "\n"
      ],
      "execution_count": 7,
      "outputs": []
    },
    {
      "cell_type": "code",
      "metadata": {
        "id": "PKmWefrTAamB"
      },
      "source": [
        "timeslot = get_slot_from_datetime(time, date)"
      ],
      "execution_count": 8,
      "outputs": []
    },
    {
      "cell_type": "code",
      "metadata": {
        "colab": {
          "base_uri": "https://localhost:8080/"
        },
        "id": "00B89foCDSy3",
        "outputId": "83506671-0e8b-4671-a6cb-5d2260bb23d6"
      },
      "source": [
        "print(timeslot)"
      ],
      "execution_count": 9,
      "outputs": [
        {
          "output_type": "stream",
          "text": [
            "167\n"
          ],
          "name": "stdout"
        }
      ]
    },
    {
      "cell_type": "code",
      "metadata": {
        "id": "cq1f15MBYciU",
        "colab": {
          "base_uri": "https://localhost:8080/"
        },
        "outputId": "25b7df4c-b6d8-4bca-94f0-3ec7d62309c7"
      },
      "source": [
        "text = 'in 2 days'\n",
        "if bool(re.search(r'in\\s\\d+\\s(days|weeks|week)', text)):\n",
        "  print(True)\n",
        "else:\n",
        "  print(False)"
      ],
      "execution_count": 10,
      "outputs": [
        {
          "output_type": "stream",
          "text": [
            "True\n"
          ],
          "name": "stdout"
        }
      ]
    },
    {
      "cell_type": "code",
      "metadata": {
        "id": "9s_3riCbnC_A",
        "colab": {
          "base_uri": "https://localhost:8080/"
        },
        "outputId": "762925da-807d-42df-8cf9-f249c335c74b"
      },
      "source": [
        "text = 'in nine days'\n",
        "x = re.search(r'in\\s(\\d+|one|two|three|four|five|six|seven|eight|nine)\\s(days|weeks|week)', text)\n",
        "match = x.group()\n",
        "match.split()\n"
      ],
      "execution_count": 11,
      "outputs": [
        {
          "output_type": "execute_result",
          "data": {
            "text/plain": [
              "['in', 'nine', 'days']"
            ]
          },
          "metadata": {},
          "execution_count": 11
        }
      ]
    }
  ]
}