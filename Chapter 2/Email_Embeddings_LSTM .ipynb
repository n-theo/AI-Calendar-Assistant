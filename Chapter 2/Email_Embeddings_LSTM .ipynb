{
  "nbformat": 4,
  "nbformat_minor": 0,
  "metadata": {
    "colab": {
      "name": "Email_Embeddings_LSTM.ipynb",
      "provenance": [],
      "collapsed_sections": []
    },
    "kernelspec": {
      "name": "python3",
      "display_name": "Python 3"
    },
    "language_info": {
      "name": "python"
    },
    "accelerator": "GPU"
  },
  "cells": [
    {
      "cell_type": "code",
      "metadata": {
        "colab": {
          "base_uri": "https://localhost:8080/"
        },
        "id": "RUbMhgrvKDWT",
        "outputId": "58ae21b3-9d2c-479b-b428-d98da3181a47"
      },
      "source": [
        "#Import libraries:\n",
        "\n",
        "import json\n",
        "import pandas as pd\n",
        "import numpy as np\n",
        "import codecs\n",
        "\n",
        "import matplotlib.pyplot as plt\n",
        "import seaborn as sns\n",
        "\n",
        "import re\n",
        "import nltk\n",
        "from nltk import word_tokenize as tokenize\n",
        "from nltk import pos_tag as tag\n",
        "nltk.download('wordnet')\n",
        "\n",
        "from sklearn import feature_extraction, model_selection, naive_bayes, pipeline,manifold, preprocessing\n",
        "from sklearn.model_selection import train_test_split\n",
        "from sklearn.metrics import accuracy_score, classification_report, confusion_matrix, f1_score\n",
        "import gensim\n",
        "import gensim.downloader as gensim_api\n",
        "from spacy.lang.en.stop_words import STOP_WORDS as en_stop\n",
        "\n",
        "\n",
        "import torch\n",
        "import torch.nn as nn\n",
        "import torch.nn.functional as F\n",
        "import torch.optim as optim\n",
        "from torchtext.legacy import data\n",
        "\n",
        "\n",
        "device = torch.device(\"cuda\" if torch.cuda.is_available() else \"cpu\")\n",
        "print(\"Device available for running: \")\n",
        "print(device)"
      ],
      "execution_count": null,
      "outputs": [
        {
          "output_type": "stream",
          "text": [
            "[nltk_data] Downloading package wordnet to /root/nltk_data...\n",
            "[nltk_data]   Package wordnet is already up-to-date!\n",
            "Device available for running: \n",
            "cuda\n"
          ],
          "name": "stdout"
        }
      ]
    },
    {
      "cell_type": "code",
      "metadata": {
        "colab": {
          "base_uri": "https://localhost:8080/"
        },
        "id": "nfrRNC0QpoTv",
        "outputId": "5d1f4869-d4c4-46ed-8fc8-0b6a142be24c"
      },
      "source": [
        "!pip install datefinder\n",
        "!pip install sutime\n",
        "!pip install dateparser"
      ],
      "execution_count": null,
      "outputs": [
        {
          "output_type": "stream",
          "text": [
            "Requirement already satisfied: datefinder in /usr/local/lib/python3.7/dist-packages (0.7.1)\n",
            "Requirement already satisfied: python-dateutil>=2.4.2 in /usr/local/lib/python3.7/dist-packages (from datefinder) (2.8.2)\n",
            "Requirement already satisfied: pytz in /usr/local/lib/python3.7/dist-packages (from datefinder) (2018.9)\n",
            "Requirement already satisfied: regex>=2017.02.08 in /usr/local/lib/python3.7/dist-packages (from datefinder) (2019.12.20)\n",
            "Requirement already satisfied: six>=1.5 in /usr/local/lib/python3.7/dist-packages (from python-dateutil>=2.4.2->datefinder) (1.15.0)\n",
            "Requirement already satisfied: sutime in /usr/local/lib/python3.7/dist-packages (1.0.1)\n",
            "Requirement already satisfied: JPype1<2.0.0,>=1.1.2 in /usr/local/lib/python3.7/dist-packages (from sutime) (1.3.0)\n",
            "Requirement already satisfied: typing-extensions in /usr/local/lib/python3.7/dist-packages (from JPype1<2.0.0,>=1.1.2->sutime) (3.7.4.3)\n",
            "Requirement already satisfied: dateparser in /usr/local/lib/python3.7/dist-packages (1.0.0)\n",
            "Requirement already satisfied: pytz in /usr/local/lib/python3.7/dist-packages (from dateparser) (2018.9)\n",
            "Requirement already satisfied: regex!=2019.02.19 in /usr/local/lib/python3.7/dist-packages (from dateparser) (2019.12.20)\n",
            "Requirement already satisfied: python-dateutil in /usr/local/lib/python3.7/dist-packages (from dateparser) (2.8.2)\n",
            "Requirement already satisfied: tzlocal in /usr/local/lib/python3.7/dist-packages (from dateparser) (1.5.1)\n",
            "Requirement already satisfied: six>=1.5 in /usr/local/lib/python3.7/dist-packages (from python-dateutil->dateparser) (1.15.0)\n"
          ],
          "name": "stdout"
        }
      ]
    },
    {
      "cell_type": "code",
      "metadata": {
        "id": "Ovv8KV9Lpq-4"
      },
      "source": [
        "import dateparser\n",
        "import datefinder\n",
        "import datetime\n",
        "\n",
        "\n",
        "import sutime\n",
        "from sutime import SUTime\n",
        "import json\n"
      ],
      "execution_count": null,
      "outputs": []
    },
    {
      "cell_type": "markdown",
      "metadata": {
        "id": "OwaaQvGjzJJV"
      },
      "source": [
        "Load and Pre-process data & Create Data loaders"
      ]
    },
    {
      "cell_type": "code",
      "metadata": {
        "colab": {
          "base_uri": "https://localhost:8080/"
        },
        "id": "KSMNMtC-KbJR",
        "outputId": "6e330df2-2aca-41e7-9888-4d14a8d58cb0"
      },
      "source": [
        "#mount google drive\n",
        "from google.colab import drive\n",
        "\n",
        "drive.mount('/content/gdrive')\n",
        "root_path = 'gdrive/My Drive/Enron/' "
      ],
      "execution_count": null,
      "outputs": [
        {
          "output_type": "stream",
          "text": [
            "Drive already mounted at /content/gdrive; to attempt to forcibly remount, call drive.mount(\"/content/gdrive\", force_remount=True).\n"
          ],
          "name": "stdout"
        }
      ]
    },
    {
      "cell_type": "code",
      "metadata": {
        "id": "fuZ_SLEOKwhv"
      },
      "source": [
        "#import and shuffle dataset\n",
        "\n",
        "filepath = \"/content/gdrive/MyDrive/Enron/data.csv\"\n",
        "# Read the data into a pandas dataframe called emails\n",
        "\n",
        "emails = pd.read_csv(filepath)\n",
        "emails = emails.sample(frac=1)"
      ],
      "execution_count": null,
      "outputs": []
    },
    {
      "cell_type": "code",
      "metadata": {
        "id": "iHp1FsxeLiLJ"
      },
      "source": [
        "# #word_vectors  = gensim_api.load(\"glove-wiki-gigaword-50\")\n",
        "# !wget http://nlp.stanford.edu/data/glove.6B.zip\n",
        "# !unzip glove.6B.zip\n"
      ],
      "execution_count": null,
      "outputs": []
    },
    {
      "cell_type": "code",
      "metadata": {
        "id": "3eslf3pYUiuV"
      },
      "source": [
        "#emails[emails['Message-Body'].duplicated() == True]#.sum()"
      ],
      "execution_count": null,
      "outputs": []
    },
    {
      "cell_type": "code",
      "metadata": {
        "colab": {
          "base_uri": "https://localhost:8080/"
        },
        "id": "5yVcmpFxUrNt",
        "outputId": "c955a107-915b-42ff-8e85-161e22cff5b4"
      },
      "source": [
        "#Find duplicate text:\n",
        "print('Number of duplicated in dataset:')\n",
        "emails['Message-Body'].duplicated().sum()"
      ],
      "execution_count": null,
      "outputs": [
        {
          "output_type": "stream",
          "text": [
            "Number of duplicated in dataset:\n"
          ],
          "name": "stdout"
        },
        {
          "output_type": "execute_result",
          "data": {
            "text/plain": [
              "308"
            ]
          },
          "metadata": {
            "tags": []
          },
          "execution_count": 112
        }
      ]
    },
    {
      "cell_type": "code",
      "metadata": {
        "id": "hETw5H1jUgdj",
        "colab": {
          "base_uri": "https://localhost:8080/"
        },
        "outputId": "b1ec6308-2fe8-4ce4-a70c-c2412cb08a8f"
      },
      "source": [
        "#remove duplicate test\n",
        "print('Removing duplicates..')\n",
        "emails = emails.drop_duplicates(subset=['Message-Body'], keep='last')"
      ],
      "execution_count": null,
      "outputs": [
        {
          "output_type": "stream",
          "text": [
            "Removing duplicates..\n"
          ],
          "name": "stdout"
        }
      ]
    },
    {
      "cell_type": "code",
      "metadata": {
        "colab": {
          "base_uri": "https://localhost:8080/"
        },
        "id": "Yc1VwY1RU2Il",
        "outputId": "201e5b3d-9f65-48d4-be88-a121f58d74fb"
      },
      "source": [
        "print('Duplicates left:', emails['Message-Body'].duplicated().sum())\n"
      ],
      "execution_count": null,
      "outputs": [
        {
          "output_type": "stream",
          "text": [
            "Duplicates left: 0\n"
          ],
          "name": "stdout"
        }
      ]
    },
    {
      "cell_type": "code",
      "metadata": {
        "id": "Vp784UtkUAPy"
      },
      "source": [
        "################################################################################\n",
        "#When this is true we do train val test split.\n",
        "#Otherwise just train, val\n",
        "test_on = True\n",
        "################################################################################"
      ],
      "execution_count": null,
      "outputs": []
    },
    {
      "cell_type": "code",
      "metadata": {
        "id": "KrPfpR7UR4w4"
      },
      "source": [
        "#split dataset\n",
        "if test_on:\n",
        "  X_train, x_test, Y_train, y_test = train_test_split(emails['Message-Body'], emails['class'], test_size = 0.1, random_state = 1)\n",
        "  x_train, x_val, y_train, y_val = train_test_split(X_train, Y_train, test_size = 0.1, random_state = 1)\n",
        "else:\n",
        "  x_train, x_val, y_train, y_val = train_test_split(emails['Message-Body'], emails['class'], test_size = 0.1, random_state = 1)"
      ],
      "execution_count": null,
      "outputs": []
    },
    {
      "cell_type": "code",
      "metadata": {
        "id": "wx192y9nT7dv"
      },
      "source": [
        "#create sub-dataframes\n",
        "train_df = pd.concat([x_train, y_train], axis=1)\n",
        "val_df = test_df = pd.concat([x_val, y_val], axis=1)\n",
        "if test_on:\n",
        "  test_df = pd.concat([x_test, y_test], axis=1)"
      ],
      "execution_count": null,
      "outputs": []
    },
    {
      "cell_type": "code",
      "metadata": {
        "colab": {
          "base_uri": "https://localhost:8080/"
        },
        "id": "_jWqhg29lLjr",
        "outputId": "39f87c4c-cfe3-423e-f3c6-4f6629c83c28"
      },
      "source": [
        "print('Checking for overlaps between datasets')\n",
        "print()\n",
        "commondf_1=pd.merge(x_train,x_val, on=['Message-Body'], right_index=True)\n",
        "print('Common elements between train and val:', commondf_1.shape[0])\n",
        "print()\n",
        "\n",
        "if test_on:\n",
        "\n",
        "  commondf_2=pd.merge(x_train,x_test, on=['Message-Body'], right_index=True)\n",
        "  print('Common elements between train and test:', commondf_2.shape[0])\n",
        "  print()\n",
        "  commondf_3=pd.merge(x_val,x_test, on=['Message-Body'], right_index=True)\n",
        "  print('Common elements between val and test:', commondf_3.shape[0])\n",
        "  print()\n",
        "\n",
        "  if commondf_2.shape[0] == commondf_3.shape[0] == commondf_1.shape[0] == 0:\n",
        "    print('Correct! No overlap between sets')\n",
        "  else:\n",
        "    print('There is overlap between the sets')"
      ],
      "execution_count": null,
      "outputs": [
        {
          "output_type": "stream",
          "text": [
            "Checking for overlaps between datasets\n",
            "\n",
            "Common elements between train and val: 0\n",
            "\n",
            "Common elements between train and test: 0\n",
            "\n",
            "Common elements between val and test: 0\n",
            "\n",
            "Correct! No overlap between sets\n"
          ],
          "name": "stdout"
        }
      ]
    },
    {
      "cell_type": "code",
      "metadata": {
        "colab": {
          "base_uri": "https://localhost:8080/"
        },
        "id": "EoIIAshLUxh7",
        "outputId": "7eafacad-f9b6-43ff-8a5b-333daf590230"
      },
      "source": [
        "#Check if split is even:\n",
        "\n",
        "print('Meeting relevant emails in training data:')\n",
        "print(train_df[train_df['class'] == 0].shape[0])\n",
        "print(100*'-')\n",
        "print('Other emails in training data:')\n",
        "print(train_df[train_df['class'] == 1].shape[0])\n",
        "print(100*'-')\n",
        "print('Meeting relevant emails in validationN data:')\n",
        "print(val_df[val_df['class'] == 0].shape[0])\n",
        "print(100*'-')\n",
        "print('Other emails in validation data:')\n",
        "print(val_df[val_df['class'] == 1].shape[0])\n",
        "print(100*'-')\n",
        "\n",
        "if test_on:\n",
        "  \n",
        "  print('Meeting relevant emails in test data:')\n",
        "  print(test_df[test_df['class'] == 0].shape[0])\n",
        "  print(100*'-')\n",
        "  print('Other emails in test data:')\n",
        "  print(test_df[test_df['class'] == 1].shape[0])\n",
        "  print(100*'-')"
      ],
      "execution_count": null,
      "outputs": [
        {
          "output_type": "stream",
          "text": [
            "Meeting relevant emails in training data:\n",
            "2727\n",
            "----------------------------------------------------------------------------------------------------\n",
            "Other emails in training data:\n",
            "3144\n",
            "----------------------------------------------------------------------------------------------------\n",
            "Meeting relevant emails in validationN data:\n",
            "324\n",
            "----------------------------------------------------------------------------------------------------\n",
            "Other emails in validation data:\n",
            "329\n",
            "----------------------------------------------------------------------------------------------------\n",
            "Meeting relevant emails in test data:\n",
            "330\n",
            "----------------------------------------------------------------------------------------------------\n",
            "Other emails in test data:\n",
            "395\n",
            "----------------------------------------------------------------------------------------------------\n"
          ],
          "name": "stdout"
        }
      ]
    },
    {
      "cell_type": "code",
      "metadata": {
        "id": "3vauw22jYXkX"
      },
      "source": [
        "#Preprocess messages:\n",
        "\n",
        "def process_text(text, stemming=False, lemmatization=True, additional_stopwords = []):\n",
        "    unwanted_seqs = ['calendar entry appointment description tms weekly',\n",
        "                     'calendar entry appointment description team leader ',\n",
        "                     'calendar entry appointment description',\n",
        "                     'calendar entry appointment team leader',\n",
        "                     'calendar entry appointment',\n",
        "                     'chairperson outlook migration team detailed',\n",
        "                     'inline attachment follows'\n",
        "                     ]\n",
        "    stemmer = nltk.stem.porter.PorterStemmer()\n",
        "    lemmer = nltk.stem.wordnet.WordNetLemmatizer()\n",
        "\n",
        "\n",
        "    text = re.sub(r'[^\\w\\s]', '', str(text).lower().strip())\n",
        "    text = re.sub(r'\\d{9,}', '', str(text).lower().strip())\n",
        "    text = re.sub(r\"http\\S+\",\"URL\", str(text).lower().strip())\n",
        "\n",
        "            \n",
        "    ## Tokenize (convert from string to list)\n",
        "    text_list = text.split()\n",
        "    \n",
        "    ## remove Stopwords\n",
        "    stopwords = list(en_stop) + additional_stopwords\n",
        "    text_list = [word for word in text_list if word not in stopwords]\n",
        "                \n",
        "    if stemming:\n",
        "      lst_text = [stemmer.stem(word) for word in text_list]\n",
        "                \n",
        "    ## Lemmatisation (convert the word into root word)\n",
        "    if lemmatization:\n",
        "      lst_text = [lemmer.lemmatize(word) for word in text_list]\n",
        "    \n",
        "    ## back to string from list\n",
        "    output = \" \".join(text_list)\n",
        "\n",
        "    for seq in unwanted_seqs:\n",
        "      if seq in output:\n",
        "        output = re.sub(seq, '', str(output).lower().strip())\n",
        "    \n",
        "    return output"
      ],
      "execution_count": null,
      "outputs": []
    },
    {
      "cell_type": "code",
      "metadata": {
        "id": "FWw6jjG8aSfq",
        "colab": {
          "base_uri": "https://localhost:8080/"
        },
        "outputId": "5881f381-1380-4535-ccd6-742b47f24d7c"
      },
      "source": [
        "employee_list = emails.employee.unique().tolist()\n",
        "my_words = ['enron', 'corp', 'hou', 'description'] + employee_list\n",
        "print('Please wait. Preprocessing data...')\n",
        "\n",
        "emails[\"text\"] = emails[\"Message-Body\"].apply(lambda x: process_text(x, False, True, my_words ))\n",
        "train_df[\"text\"] = train_df[\"Message-Body\"].apply(lambda x: process_text(x, False, True, my_words ))\n",
        "val_df[\"text\"] = val_df[\"Message-Body\"].apply(lambda x: process_text(x, False, True, my_words ))\n",
        "if test_on:\n",
        "  test_df[\"text\"] = test_df[\"Message-Body\"].apply(lambda x: process_text(x, False, True, my_words ))\n",
        "\n",
        "print('preprocessing done!')"
      ],
      "execution_count": null,
      "outputs": [
        {
          "output_type": "stream",
          "text": [
            "Please wait. Preprocessing data...\n",
            "preprocessing done!\n"
          ],
          "name": "stdout"
        }
      ]
    },
    {
      "cell_type": "code",
      "metadata": {
        "id": "Hzn3BZmdqpz0"
      },
      "source": [
        "sum_char_message_train = 0\n",
        "sum_char_other_train = 0\n",
        "sum_word_message_train = 0\n",
        "sum_word_other_train = 0\n",
        "\n",
        "for index, row in train_df.iterrows():\n",
        "  char = len(row['text'])\n",
        "  word = len(row['text'].split())\n",
        "  if row['class'] == 0:\n",
        "    sum_char_message_train += char\n",
        "    sum_word_message_train += word\n",
        "  else:\n",
        "    sum_char_other_train += char\n",
        "    sum_word_other_train += word\n",
        "\n",
        "count_msg = train_df[train_df['class'] == 0].shape[0]\n",
        "count_other = train_df[train_df['class'] == 1].shape[0]\n",
        "\n",
        "avg_word_msg = sum_word_message_train/count_msg\n",
        "avg_char_msg = sum_char_message_train/count_msg\n",
        "\n",
        "avg_word_other = sum_word_other_train/count_other\n",
        "avg_char_other = sum_char_other_train/count_other\n",
        "\n",
        "\n",
        "\n"
      ],
      "execution_count": null,
      "outputs": []
    },
    {
      "cell_type": "code",
      "metadata": {
        "colab": {
          "base_uri": "https://localhost:8080/"
        },
        "id": "rGSHPmQRv8xS",
        "outputId": "d3e5617d-bc59-4d02-f02c-7085109f70f6"
      },
      "source": [
        "print('Average character count in meeting messages:', avg_char_msg)\n",
        "print('Average word count in meeting messages:', avg_word_msg)\n",
        "print('Average character count in other messages:', avg_char_other)\n",
        "print('Average word count count in other messages:', avg_word_other)"
      ],
      "execution_count": null,
      "outputs": [
        {
          "output_type": "stream",
          "text": [
            "Average character count in meeting messages: 119.33810047671435\n",
            "Average word count in meeting messages: 17.77777777777778\n",
            "Average character count in other messages: 1015.5480279898219\n",
            "Average word count count in other messages: 135.7662213740458\n"
          ],
          "name": "stdout"
        }
      ]
    },
    {
      "cell_type": "code",
      "metadata": {
        "id": "v3rBPX1Uc0qx"
      },
      "source": [
        "#Study the effects of preprocessing:\n",
        "from random import sample\n",
        "def print_before_after(df):\n",
        "  rindex =  np.array(sample(range(len(df)), 1))\n",
        "  idx = 10\n",
        "  print(100*'-')\n",
        "  print('ORIGINAL')\n",
        "  print(100*'-')\n",
        "  print(df[\"Message-Body\"].iloc[rindex])\n",
        "  print(100*'-')\n",
        "  print(100*'-')\n",
        "  print()\n",
        "  print(100*'-')\n",
        "  print('PROCESSED')\n",
        "  print(100*'-')\n",
        "  print(df[\"text\"].iloc[rindex])\n",
        "  print(100*'-')\n",
        "  print(100*'-')"
      ],
      "execution_count": null,
      "outputs": []
    },
    {
      "cell_type": "code",
      "metadata": {
        "colab": {
          "base_uri": "https://localhost:8080/"
        },
        "id": "AnQsuE_8JpaO",
        "outputId": "d03dea41-55ef-44e3-c1ed-c82da0bcbbac"
      },
      "source": [
        "print_before_after(emails)"
      ],
      "execution_count": null,
      "outputs": [
        {
          "output_type": "stream",
          "text": [
            "----------------------------------------------------------------------------------------------------\n",
            "ORIGINAL\n",
            "----------------------------------------------------------------------------------------------------\n",
            "6035    for your reference, please find attached a sho...\n",
            "Name: Message-Body, dtype: object\n",
            "----------------------------------------------------------------------------------------------------\n",
            "----------------------------------------------------------------------------------------------------\n",
            "\n",
            "----------------------------------------------------------------------------------------------------\n",
            "PROCESSED\n",
            "----------------------------------------------------------------------------------------------------\n",
            "6035    reference find attached short presentation pre...\n",
            "Name: text, dtype: object\n",
            "----------------------------------------------------------------------------------------------------\n",
            "----------------------------------------------------------------------------------------------------\n"
          ],
          "name": "stdout"
        }
      ]
    },
    {
      "cell_type": "code",
      "metadata": {
        "id": "pVcwcyUi3e_L"
      },
      "source": [
        "#Drop irrelevant column\n",
        "\n",
        "train_df.drop(columns=['Message-Body'], inplace=True)\n",
        "val_df.drop(columns=['Message-Body'], inplace=True)\n",
        "if test_on:\n",
        "  test_df.drop(columns=['Message-Body'], inplace=True)"
      ],
      "execution_count": null,
      "outputs": []
    },
    {
      "cell_type": "code",
      "metadata": {
        "id": "twNigi__ADzW"
      },
      "source": [
        "#Rename columns:\n",
        "\n",
        "train_df.rename(columns={'class':'target'}, inplace=True)\n",
        "val_df.rename(columns={'class':'target'}, inplace=True)\n",
        "if test_on:\n",
        "  test_df.rename(columns={'class':'target'}, inplace=True)"
      ],
      "execution_count": null,
      "outputs": []
    },
    {
      "cell_type": "code",
      "metadata": {
        "id": "wIEwQmp1M4Kp"
      },
      "source": [
        "train_df = train_df.drop(train_df[train_df['text'] == ''].index)\n",
        "val_df = val_df.drop(val_df[val_df['text'] == ''].index)\n",
        "if test_on:\n",
        "  test_df = test_df.drop(test_df[test_df['text'] == ''].index)"
      ],
      "execution_count": null,
      "outputs": []
    },
    {
      "cell_type": "code",
      "metadata": {
        "id": "MM5ag3tF51rS"
      },
      "source": [
        "#use spacy to tokenize text. We will then use these to convert into tensors\n",
        "message_field = data.Field(tokenize = 'spacy', include_lengths = True, batch_first= True)\n",
        "label_field = data.LabelField(dtype = torch.float, batch_first = True)"
      ],
      "execution_count": null,
      "outputs": []
    },
    {
      "cell_type": "code",
      "metadata": {
        "id": "Sz55jB2h6_Kb"
      },
      "source": [
        "#This class will help use the Pandas emails dataframe as a data source.\n",
        "#It can be found at:\n",
        "# source : https://gist.github.com/lextoumbourou/8f90313cbc3598ffbabeeaa1741a11c8\n",
        "\n",
        "class DataFrameDataset(data.Dataset):\n",
        "\n",
        "    def __init__(self, df, fields,**kwargs):#, is_test=False, **kwargs):\n",
        "        examples = []\n",
        "        for i, row in df.iterrows():\n",
        "            label = row.target #if not is_test else None\n",
        "            text = row.text\n",
        "            examples.append(data.Example.fromlist([text, label], fields))\n",
        "\n",
        "        super().__init__(examples, fields, **kwargs)\n",
        "\n",
        "    @staticmethod\n",
        "    def sort_key(ex):\n",
        "        return len(ex.text)\n",
        "\n",
        "    @classmethod\n",
        "    #returns train val test datasets composed of the tokenized text and correpsonding labels\n",
        "    def splits(cls, fields, train_df, val_df=None, test_df=None, **kwargs):\n",
        "        train_data, val_data, test_data = (None, None, None)\n",
        "        data_field = fields\n",
        "\n",
        "        if train_df is not None:\n",
        "            train_data = cls(train_df.copy(), data_field, **kwargs)\n",
        "        if val_df is not None:\n",
        "            val_data = cls(val_df.copy(), data_field, **kwargs)\n",
        "        if test_df is not None:\n",
        "            test_data = cls(test_df.copy(), data_field,**kwargs)# True, **kwargs)\n",
        "\n",
        "        return tuple(d for d in (train_data, val_data, test_data) if d is not None)"
      ],
      "execution_count": null,
      "outputs": []
    },
    {
      "cell_type": "code",
      "metadata": {
        "id": "f_oZOms67QlA",
        "colab": {
          "base_uri": "https://localhost:8080/"
        },
        "outputId": "af861fd6-463d-4d22-ce09-6d0aa502bbfe"
      },
      "source": [
        "#create the fields with the corresponding names\n",
        "fields = [('text',message_field), ('label',label_field)]\n",
        "\n",
        "#split up the datasets\n",
        "print('Creating data structures. This will take a while...')\n",
        "if test_on:\n",
        "  training, validation,test = DataFrameDataset.splits(fields, train_df, val_df,test_df)\n",
        "else:\n",
        "  training, validation = DataFrameDataset.splits(fields, train_df, val_df)\n",
        "  \n",
        "print('Data structures created successfully!')"
      ],
      "execution_count": null,
      "outputs": [
        {
          "output_type": "stream",
          "text": [
            "Creating data structures. This will take a while...\n",
            "Data structures created successfully!\n"
          ],
          "name": "stdout"
        }
      ]
    },
    {
      "cell_type": "code",
      "metadata": {
        "colab": {
          "base_uri": "https://localhost:8080/"
        },
        "id": "0X9aAKfF-NRW",
        "outputId": "c9e13d7f-1c37-4cbb-eabf-a9d72880c94c"
      },
      "source": [
        "#build a vocabulary using the training data. Max size is 30000, use glove 100d embeddings\n",
        "#Also create an unknown token for words not in the vocab\n",
        "\n",
        "print('Building vocabulary. Please wait...')\n",
        "message_field.build_vocab(training, max_size = 30000, vectors = 'glove.6B.100d',\n",
        "                 unk_init = torch.Tensor.zero_)"
      ],
      "execution_count": null,
      "outputs": [
        {
          "output_type": "stream",
          "text": [
            "Building vocabulary. Please wait...\n"
          ],
          "name": "stdout"
        }
      ]
    },
    {
      "cell_type": "code",
      "metadata": {
        "id": "hrjuJUT7v176"
      },
      "source": [
        "#Save vocabulary for inference\n",
        "# vocab_obj = message_field.vocab\n",
        "# torch.save(vocab_obj, '/content/gdrive/MyDrive/Enron/vocab_obj.pth')"
      ],
      "execution_count": null,
      "outputs": []
    },
    {
      "cell_type": "code",
      "metadata": {
        "id": "nc1haRkCEcsM"
      },
      "source": [
        "label_field.build_vocab(training)"
      ],
      "execution_count": null,
      "outputs": []
    },
    {
      "cell_type": "code",
      "metadata": {
        "id": "ThZa_hbGEiOb"
      },
      "source": [
        "glove_embeddings = message_field.vocab.vectors"
      ],
      "execution_count": null,
      "outputs": []
    },
    {
      "cell_type": "code",
      "metadata": {
        "id": "cKC8UW60OZZJ"
      },
      "source": [
        "glove_dim = len(glove_embeddings[0])"
      ],
      "execution_count": null,
      "outputs": []
    },
    {
      "cell_type": "code",
      "metadata": {
        "id": "2IDzbazjElqc"
      },
      "source": [
        "################################################################################\n",
        "#Notes:\n",
        "#Model tends to overfit with no dropout\n",
        "#Better performance with dropout less than 0.5 and many epochs\n",
        "#So use 2 layers and dropout after each fc\n",
        "################################################################################\n",
        "\n",
        "num_epochs = 20\n",
        "batch_size = 64\n",
        "learning_rate = 0.001\n",
        "vocab_size = len(message_field.vocab)\n",
        "\n",
        "#embedding dimension\n",
        "embedding_dim = glove_dim\n",
        "hidden_dim = 128\n",
        "out_dim = 1\n",
        "num_layers = 2\n",
        "is_bidir = True\n",
        "dropout= 0.3\n",
        "padding_index = message_field.vocab.stoi[message_field.pad_token]"
      ],
      "execution_count": null,
      "outputs": []
    },
    {
      "cell_type": "code",
      "metadata": {
        "colab": {
          "base_uri": "https://localhost:8080/"
        },
        "id": "OuPPNPdVanCa",
        "outputId": "0359a581-86f2-462f-fb7e-fca20809dee5"
      },
      "source": [
        "padding_index"
      ],
      "execution_count": null,
      "outputs": [
        {
          "output_type": "execute_result",
          "data": {
            "text/plain": [
              "1"
            ]
          },
          "metadata": {
            "tags": []
          },
          "execution_count": 138
        }
      ]
    },
    {
      "cell_type": "code",
      "metadata": {
        "colab": {
          "base_uri": "https://localhost:8080/"
        },
        "id": "3dSn8knjilgm",
        "outputId": "ead30fd8-f336-4d1d-d356-c17f772d2eb9"
      },
      "source": [
        "message_field"
      ],
      "execution_count": null,
      "outputs": [
        {
          "output_type": "execute_result",
          "data": {
            "text/plain": [
              "<torchtext.legacy.data.field.Field at 0x7f886e0bfad0>"
            ]
          },
          "metadata": {
            "tags": []
          },
          "execution_count": 139
        }
      ]
    },
    {
      "cell_type": "code",
      "metadata": {
        "id": "2HayWK5-bsCn"
      },
      "source": [
        "#Create iterators:\n",
        "\n",
        "if test_on:\n",
        "\n",
        "  train_iterator, valid_iterator, test_iterator = data.BucketIterator.splits(\n",
        "      (training, validation, test), \n",
        "      batch_size = batch_size,\n",
        "      sort_within_batch = True,\n",
        "      device = device)\n",
        "else:\n",
        "  train_iterator, valid_iterator = data.BucketIterator.splits(\n",
        "    (training, validation), \n",
        "    batch_size = batch_size,\n",
        "    sort_within_batch = True,\n",
        "    device = device)"
      ],
      "execution_count": null,
      "outputs": []
    },
    {
      "cell_type": "markdown",
      "metadata": {
        "id": "rv-leKMxVI1B"
      },
      "source": [
        "Model Definition:"
      ]
    },
    {
      "cell_type": "code",
      "metadata": {
        "id": "r9HHwzSQEoo_"
      },
      "source": [
        "\n",
        "\n",
        "################################################################################\n",
        "#Two fc layers with low dropout work well\n",
        "#We can also use 1 with higher dropout/\n",
        "################################################################################\n",
        "\n",
        "class network(nn.Module):\n",
        "    def __init__(self, vocab_size, embedding_dim, hidden_dim, output_dim, n_layers, \n",
        "                 bidirectional, dropout, pad_idx):\n",
        "        \n",
        "        super().__init__()\n",
        "        \n",
        "        self.embedding = nn.Embedding(vocab_size, embedding_dim, padding_idx = pad_idx)\n",
        "        \n",
        "        self.rnn = nn.LSTM(embedding_dim, \n",
        "                           hidden_dim, \n",
        "                           num_layers=n_layers, \n",
        "                           bidirectional=bidirectional, \n",
        "                           dropout=dropout,\n",
        "                           batch_first = True)\n",
        "        \n",
        "        self.fc = nn.Linear(2*hidden_dim, 1)\n",
        "\n",
        "        #self.fc1 = nn.Linear(2*hidden_dim, hidden_dim)\n",
        "        \n",
        "        #self.fc2 = nn.Linear(hidden_dim, 1)\n",
        "        \n",
        "        self.dropout = nn.Dropout(dropout)\n",
        "        \n",
        "    \n",
        "    def forward(self, inp, inp_len):\n",
        "        \n",
        "        input_seq = self.embedding(inp)\n",
        "        \n",
        "        #Pack a Tensor containing padded sequences of variable length:\n",
        "        packed_seq = nn.utils.rnn.pack_padded_sequence(input_seq, inp_len.cpu(), batch_first=True)\n",
        "        \n",
        "        packed, (hidden_state, c_state) = self.rnn(packed_seq)\n",
        "        \n",
        "        #concatenate forward and backward hidden states:\n",
        "        #hidden_state = self.dropout(torch.cat((hidden_state[-2,:,:], hidden_state[-1,:,:]), dim = 1))\n",
        "        \n",
        "        #h2h = self.fc1(hidden_state)\n",
        "        #output = self.dropout(self.fc2(h2h))\n",
        "       \n",
        "        hidden_state = torch.cat((hidden_state[-2,:,:], hidden_state[-1,:,:]), dim = 1)\n",
        "        h2o = self.fc(hidden_state)\n",
        "        output = self.dropout(h2o)\n",
        "                \n",
        "            \n",
        "        return output"
      ],
      "execution_count": null,
      "outputs": []
    },
    {
      "cell_type": "code",
      "metadata": {
        "id": "4fNqyp5wVDh9"
      },
      "source": [
        "#inspired by:\n",
        "#https://www.kaggle.com/swarnabha/pytorch-text-classification-torchtext-lstm"
      ],
      "execution_count": null,
      "outputs": []
    },
    {
      "cell_type": "code",
      "metadata": {
        "id": "Fp9nnTS_ErmP"
      },
      "source": [
        "\n",
        "model = network(vocab_size, \n",
        "            embedding_dim, \n",
        "            hidden_dim, \n",
        "            out_dim, \n",
        "            num_layers, \n",
        "            is_bidir, \n",
        "            dropout, \n",
        "            padding_index)"
      ],
      "execution_count": null,
      "outputs": []
    },
    {
      "cell_type": "code",
      "metadata": {
        "id": "IldhoX6eEv0F"
      },
      "source": [
        "\n",
        "#Apply the weights and set the pad inex to zer0\n",
        "model.embedding.weight.data.copy_(glove_embeddings)\n",
        "model.embedding.weight.data[padding_index] = torch.zeros(embedding_dim)"
      ],
      "execution_count": null,
      "outputs": []
    },
    {
      "cell_type": "code",
      "metadata": {
        "id": "MMjyL9v8E0O4"
      },
      "source": [
        "model.to(device) #CNN to GPU\n",
        "#This loss combines a Sigmoid layer and the BCELoss in one single class. \n",
        "#This version is more numerically stable than using a plain Sigmoid followed by a BCELoss as\n",
        "#by combining the operations into one layer, we take advantage of the log-sum-exp trick for numerical stability.\n",
        "loss_function = nn.BCEWithLogitsLoss()\n",
        "optimizer = torch.optim.Adam(model.parameters(), lr=learning_rate)"
      ],
      "execution_count": null,
      "outputs": []
    },
    {
      "cell_type": "code",
      "metadata": {
        "id": "0tNsJUNhE5V5"
      },
      "source": [
        "def get_accuracy(predictions, actual):\n",
        "\n",
        "    label_pred = torch.round(torch.sigmoid(predictions))\n",
        "    is_correct = (label_pred == actual).float() \n",
        "    num_correct = len(is_correct)\n",
        "    sum_correct = is_correct.sum()\n",
        "    output = sum_correct / num_correct\n",
        "    \n",
        "    return output"
      ],
      "execution_count": null,
      "outputs": []
    },
    {
      "cell_type": "code",
      "metadata": {
        "id": "rhDOU8LPE7uY"
      },
      "source": [
        "def train(model, iterator):\n",
        "    \n",
        "    loss_sum = 0\n",
        "    accuracy_sum = 0\n",
        "    denom = len(iterator)\n",
        "    \n",
        "    model.train()\n",
        "    \n",
        "    for batch in iterator:\n",
        "        \n",
        "        email, email_len = batch.text\n",
        "        lbl = batch.label\n",
        "        optimizer.zero_grad()\n",
        "        model_pred = model(email, email_len)\n",
        "        loss = loss_function(model_pred.squeeze(1), lbl)\n",
        "        accuracy = get_accuracy(model_pred.squeeze(1), lbl)\n",
        "\n",
        "        loss.backward()\n",
        "        optimizer.step()\n",
        "        \n",
        "        loss_sum += loss.item()\n",
        "        accuracy_sum += accuracy.item()\n",
        "        \n",
        "    loss_avg = loss_sum / denom\n",
        "    acc_avg =  accuracy_sum / denom\n",
        "    \n",
        "    return loss_avg, acc_avg"
      ],
      "execution_count": null,
      "outputs": []
    },
    {
      "cell_type": "code",
      "metadata": {
        "id": "P8L4d77IE8pZ"
      },
      "source": [
        "def eval(model, iterator):\n",
        "    \n",
        "    accuracy_sum = 0\n",
        "    loss_sum = 0\n",
        "    denom = len(iterator)\n",
        "\n",
        "    #model.eval() sets the model on the evaluation phase\n",
        "    #and deactivates the dropout layers.\n",
        "\n",
        "    model.eval()\n",
        "    \n",
        "    with torch.no_grad():\n",
        "        \n",
        "        for batch in iterator:\n",
        "\n",
        "            email, email_len = batch.text\n",
        "            lbl = batch.label\n",
        "            model_pred = model(email, email_len)\n",
        "            accuracy = get_accuracy(model_pred.squeeze(1), lbl)\n",
        "            loss = loss_function(model_pred.squeeze(1), lbl)\n",
        "            \n",
        "            loss_sum += loss.item()\n",
        "            accuracy_sum += accuracy.item()\n",
        "    \n",
        "    loss_avg = loss_sum / denom\n",
        "    acc_avg =  accuracy_sum / denom \n",
        "    return loss_avg, acc_avg"
      ],
      "execution_count": null,
      "outputs": []
    },
    {
      "cell_type": "code",
      "metadata": {
        "id": "8GwtPgOYgMlw"
      },
      "source": [
        "def test_model(model, iterator):\n",
        "    y_pred = list()\n",
        "    y_true = list()\n",
        "    \n",
        "    accuracy_sum = 0\n",
        "    #model.eval() sets the model on the evaluation phase\n",
        "    # and deactivates the dropout layers.\n",
        "    model.eval()\n",
        "    with torch.no_grad():\n",
        "      \n",
        "      for batch in iterator:\n",
        "        email, email_len = batch.text\n",
        "        #print(email_len)\n",
        "        lbl = batch.label\n",
        "        #print(lbl)\n",
        "        model_pred = model(email, email_len)\n",
        "        model_pred = model_pred.squeeze(1)\n",
        "        #print(model_pred)\n",
        "        accuracy = get_accuracy(model_pred, lbl)\n",
        "        output =  torch.round(torch.sigmoid(model_pred))\n",
        "\n",
        "        y_pred.extend(output.tolist())\n",
        "        y_true.extend(lbl.tolist())\n",
        "        accuracy_sum+= accuracy.item()\n",
        "\n",
        "    conf_mat = confusion_matrix(y_true, y_pred)   \n",
        "    print('Confusion Matrix :')\n",
        "    print(conf_mat) \n",
        "    acc = accuracy_score(y_true, y_pred)\n",
        "    print ('Accuracy: %.3f'% acc) \n",
        "    print(100*'-')\n",
        "    print()\n",
        "    print ('Classification report : ')\n",
        "    print (classification_report(y_true, y_pred))\n",
        "    print(100*'-')\n",
        "    f_score = f1_score(y_true, y_pred, average = 'binary')\n",
        "    print('F1 Score: %.3f' % f_score)\n",
        "\n",
        "    ax= plt.subplot()\n",
        "    names = ['True Negative:','False Positive:','False Negative:','True Positive:']\n",
        "    counts = [\"{0:0.0f}\".format(i) for i in conf_mat.flatten()]\n",
        "    percentages = [\"{0:.2%}\".format(i) for i in conf_mat.flatten()/np.sum(conf_mat)]\n",
        "    labels = [f\"{v1}\\n{v2}\\n{v3}\" for v1, v2, v3 in zip(names, counts, percentages)]\n",
        "    labels_array = np.asarray(labels).reshape(2,2)\n",
        "    sns.heatmap(conf_mat, annot=labels_array, fmt='', cmap= 'RdPu')\n",
        "    ax.xaxis.set_ticklabels(['Meeting', 'Other'])\n",
        "    ax.yaxis.set_ticklabels(['Meeting', 'Other'])\n",
        "    #plt.savefig(\"gdrive/My Drive/Enron/conf_LSTM.png\")\n",
        "    plt.show()\n",
        "\n",
        "\n",
        "    "
      ],
      "execution_count": null,
      "outputs": []
    },
    {
      "cell_type": "code",
      "metadata": {
        "colab": {
          "base_uri": "https://localhost:8080/"
        },
        "id": "u_C-vuJZFAlI",
        "outputId": "462136fb-0edb-4d75-8f56-a9b0b79a5d49"
      },
      "source": [
        "################################################################################\n",
        "### TRAIN MODEL\n",
        "################################################################################\n",
        "\n",
        "train_loss_list= list()\n",
        "val_loss_list = list()\n",
        "train_acc_list= list()\n",
        "val_acc_list = list()\n",
        "\n",
        "print('Beginning training...')\n",
        "for epoch in range(num_epochs):\n",
        "    \n",
        "    train_loss, train_accuracy = train(model, train_iterator)\n",
        "    valid_loss, valid_accuracy = eval(model, valid_iterator)\n",
        "    print(f'\\tEpoch {epoch+1}/{num_epochs}:')\n",
        "    print('Accuracies:')\n",
        "    print(f'\\tTrain Accuracy: {train_accuracy*100:.2f}%  || Validation Accuracy: {valid_accuracy*100:.2f}%')\n",
        "    print('Losses:')\n",
        "    print(f'\\tTrain Loss: {train_loss:.3f} || Validation Loss: {valid_loss:.3f}')\n",
        "    print(100*'-')\n",
        "    \n",
        "    train_loss_list.append(train_loss)\n",
        "    train_acc_list.append(train_accuracy)\n",
        "\n",
        "    val_acc_list.append(valid_accuracy)\n",
        "    val_loss_list.append(valid_loss)\n",
        "\n",
        "################################################################################\n",
        "\n",
        "################################################################################\n",
        "    \n"
      ],
      "execution_count": null,
      "outputs": [
        {
          "output_type": "stream",
          "text": [
            "Beginning training...\n",
            "\tEpoch 1/20:\n",
            "Accuracies:\n",
            "\tTrain Accuracy: 74.76%  || Validation Accuracy: 94.03%\n",
            "Losses:\n",
            "\tTrain Loss: 0.467 || Validation Loss: 0.203\n",
            "----------------------------------------------------------------------------------------------------\n",
            "\tEpoch 2/20:\n",
            "Accuracies:\n",
            "\tTrain Accuracy: 81.27%  || Validation Accuracy: 95.60%\n",
            "Losses:\n",
            "\tTrain Loss: 0.331 || Validation Loss: 0.162\n",
            "----------------------------------------------------------------------------------------------------\n",
            "\tEpoch 3/20:\n",
            "Accuracies:\n",
            "\tTrain Accuracy: 83.19%  || Validation Accuracy: 96.02%\n",
            "Losses:\n",
            "\tTrain Loss: 0.290 || Validation Loss: 0.133\n",
            "----------------------------------------------------------------------------------------------------\n",
            "\tEpoch 4/20:\n",
            "Accuracies:\n",
            "\tTrain Accuracy: 84.36%  || Validation Accuracy: 95.45%\n",
            "Losses:\n",
            "\tTrain Loss: 0.256 || Validation Loss: 0.114\n",
            "----------------------------------------------------------------------------------------------------\n",
            "\tEpoch 5/20:\n",
            "Accuracies:\n",
            "\tTrain Accuracy: 84.97%  || Validation Accuracy: 95.45%\n",
            "Losses:\n",
            "\tTrain Loss: 0.249 || Validation Loss: 0.110\n",
            "----------------------------------------------------------------------------------------------------\n",
            "\tEpoch 6/20:\n",
            "Accuracies:\n",
            "\tTrain Accuracy: 84.88%  || Validation Accuracy: 96.16%\n",
            "Losses:\n",
            "\tTrain Loss: 0.240 || Validation Loss: 0.105\n",
            "----------------------------------------------------------------------------------------------------\n",
            "\tEpoch 7/20:\n",
            "Accuracies:\n",
            "\tTrain Accuracy: 85.11%  || Validation Accuracy: 95.74%\n",
            "Losses:\n",
            "\tTrain Loss: 0.228 || Validation Loss: 0.113\n",
            "----------------------------------------------------------------------------------------------------\n",
            "\tEpoch 8/20:\n",
            "Accuracies:\n",
            "\tTrain Accuracy: 85.68%  || Validation Accuracy: 95.45%\n",
            "Losses:\n",
            "\tTrain Loss: 0.222 || Validation Loss: 0.127\n",
            "----------------------------------------------------------------------------------------------------\n",
            "\tEpoch 9/20:\n",
            "Accuracies:\n",
            "\tTrain Accuracy: 86.12%  || Validation Accuracy: 95.45%\n",
            "Losses:\n",
            "\tTrain Loss: 0.216 || Validation Loss: 0.142\n",
            "----------------------------------------------------------------------------------------------------\n",
            "\tEpoch 10/20:\n",
            "Accuracies:\n",
            "\tTrain Accuracy: 84.63%  || Validation Accuracy: 94.60%\n",
            "Losses:\n",
            "\tTrain Loss: 0.245 || Validation Loss: 0.157\n",
            "----------------------------------------------------------------------------------------------------\n",
            "\tEpoch 11/20:\n",
            "Accuracies:\n",
            "\tTrain Accuracy: 85.51%  || Validation Accuracy: 95.45%\n",
            "Losses:\n",
            "\tTrain Loss: 0.225 || Validation Loss: 0.122\n",
            "----------------------------------------------------------------------------------------------------\n",
            "\tEpoch 12/20:\n",
            "Accuracies:\n",
            "\tTrain Accuracy: 85.39%  || Validation Accuracy: 95.45%\n",
            "Losses:\n",
            "\tTrain Loss: 0.222 || Validation Loss: 0.128\n",
            "----------------------------------------------------------------------------------------------------\n",
            "\tEpoch 13/20:\n",
            "Accuracies:\n",
            "\tTrain Accuracy: 85.53%  || Validation Accuracy: 95.03%\n",
            "Losses:\n",
            "\tTrain Loss: 0.220 || Validation Loss: 0.153\n",
            "----------------------------------------------------------------------------------------------------\n",
            "\tEpoch 14/20:\n",
            "Accuracies:\n",
            "\tTrain Accuracy: 85.80%  || Validation Accuracy: 95.60%\n",
            "Losses:\n",
            "\tTrain Loss: 0.215 || Validation Loss: 0.160\n",
            "----------------------------------------------------------------------------------------------------\n",
            "\tEpoch 15/20:\n",
            "Accuracies:\n",
            "\tTrain Accuracy: 85.87%  || Validation Accuracy: 95.31%\n",
            "Losses:\n",
            "\tTrain Loss: 0.219 || Validation Loss: 0.160\n",
            "----------------------------------------------------------------------------------------------------\n",
            "\tEpoch 16/20:\n",
            "Accuracies:\n",
            "\tTrain Accuracy: 85.19%  || Validation Accuracy: 95.31%\n",
            "Losses:\n",
            "\tTrain Loss: 0.214 || Validation Loss: 0.174\n",
            "----------------------------------------------------------------------------------------------------\n",
            "\tEpoch 17/20:\n",
            "Accuracies:\n",
            "\tTrain Accuracy: 85.29%  || Validation Accuracy: 95.31%\n",
            "Losses:\n",
            "\tTrain Loss: 0.209 || Validation Loss: 0.173\n",
            "----------------------------------------------------------------------------------------------------\n",
            "\tEpoch 18/20:\n",
            "Accuracies:\n",
            "\tTrain Accuracy: 86.36%  || Validation Accuracy: 95.31%\n",
            "Losses:\n",
            "\tTrain Loss: 0.206 || Validation Loss: 0.177\n",
            "----------------------------------------------------------------------------------------------------\n",
            "\tEpoch 19/20:\n",
            "Accuracies:\n",
            "\tTrain Accuracy: 86.38%  || Validation Accuracy: 95.17%\n",
            "Losses:\n",
            "\tTrain Loss: 0.207 || Validation Loss: 0.184\n",
            "----------------------------------------------------------------------------------------------------\n",
            "\tEpoch 20/20:\n",
            "Accuracies:\n",
            "\tTrain Accuracy: 86.23%  || Validation Accuracy: 95.03%\n",
            "Losses:\n",
            "\tTrain Loss: 0.212 || Validation Loss: 0.192\n",
            "----------------------------------------------------------------------------------------------------\n"
          ],
          "name": "stdout"
        }
      ]
    },
    {
      "cell_type": "code",
      "metadata": {
        "id": "S-Tr86GqkBdJ",
        "colab": {
          "base_uri": "https://localhost:8080/",
          "height": 329
        },
        "outputId": "9d2226e0-5af7-4803-bf4d-4ffa774b68f3"
      },
      "source": [
        "plt.title('Accuracy per epoch')\n",
        "plt.plot(range(num_epochs), train_acc_list)\n",
        "plt.plot(range(num_epochs), val_acc_list)\n",
        "plt.legend([\"Train Accuracy\", \"Validation Accuracy\"])\n",
        "plt.ylabel('Accuracy')\n",
        "plt.xlabel('Epoch')\n",
        "plt.figure()\n",
        "#plt.savefig(\"/content/gdrive/MyDrive/Enron/acc.png\")"
      ],
      "execution_count": null,
      "outputs": [
        {
          "output_type": "execute_result",
          "data": {
            "text/plain": [
              "<Figure size 432x288 with 0 Axes>"
            ]
          },
          "metadata": {
            "tags": []
          },
          "execution_count": 150
        },
        {
          "output_type": "display_data",
          "data": {
            "image/png": "[encoded data removed]",
            "text/plain": [
              "<Figure size 432x288 with 1 Axes>"
            ]
          },
          "metadata": {
            "tags": [],
            "needs_background": "light"
          }
        },
        {
          "output_type": "display_data",
          "data": {
            "text/plain": [
              "<Figure size 432x288 with 0 Axes>"
            ]
          },
          "metadata": {
            "tags": []
          }
        }
      ]
    },
    {
      "cell_type": "code",
      "metadata": {
        "id": "MlssOTyi_RRV",
        "colab": {
          "base_uri": "https://localhost:8080/",
          "height": 329
        },
        "outputId": "79240026-44bc-426b-dbf1-6bd530be7c16"
      },
      "source": [
        "plt.title('Loss per epoch')\n",
        "plt.plot(range(num_epochs), train_loss_list)\n",
        "plt.plot(range(num_epochs), val_loss_list)\n",
        "plt.legend([\"Train Loss\", \"Validation Loss\"])\n",
        "plt.ylabel('Loss')\n",
        "plt.xlabel('Epoch')\n",
        "plt.figure()\n",
        "#plt.savefig(\"/content/gdrive/MyDrive/Enron/loss.png\")"
      ],
      "execution_count": null,
      "outputs": [
        {
          "output_type": "execute_result",
          "data": {
            "text/plain": [
              "<Figure size 432x288 with 0 Axes>"
            ]
          },
          "metadata": {
            "tags": []
          },
          "execution_count": 151
        },
        {
          "output_type": "display_data",
          "data": {
            "image/png": "[encoded data removed]",
            "text/plain": [
              "<Figure size 432x288 with 1 Axes>"
            ]
          },
          "metadata": {
            "tags": [],
            "needs_background": "light"
          }
        },
        {
          "output_type": "display_data",
          "data": {
            "text/plain": [
              "<Figure size 432x288 with 0 Axes>"
            ]
          },
          "metadata": {
            "tags": []
          }
        }
      ]
    },
    {
      "cell_type": "code",
      "metadata": {
        "colab": {
          "base_uri": "https://localhost:8080/",
          "height": 350
        },
        "id": "rSe18Ms8YW8N",
        "outputId": "e96ce1d9-8e6d-40e4-e5e6-6b70088cf6da"
      },
      "source": [
        "plt.figure(figsize=(15, 5))\n",
        "ax = plt.subplot(121)\n",
        "plt.title('Loss per epoch')\n",
        "plt.xlabel('Number of Epochs')\n",
        "plt.ylabel('Loss')\n",
        "plt.plot(range(num_epochs), train_loss_list)\n",
        "plt.plot(range(num_epochs), val_loss_list)\n",
        "plt.legend([\"Train Loss\", \"Validation Loss\"])\n",
        "#plt.legend(frameon=False);\n",
        "plt.subplot(122)\n",
        "plt.title('Accuracy per epoch')\n",
        "plt.plot(range(num_epochs), train_acc_list)\n",
        "plt.plot(range(num_epochs), val_acc_list)\n",
        "plt.legend([\"Train Accuracy\", \"Validation Accuracy\"])\n",
        "#plt.legend(frameon=False);\n",
        "plt.xlabel('Number of Epochs')\n",
        "plt.ylabel('Accuracies')\n",
        "#plt.savefig(\"/content/gdrive/MyDrive/Enron/learn_LSTM.png\")\n",
        "plt.show()"
      ],
      "execution_count": null,
      "outputs": [
        {
          "output_type": "display_data",
          "data": {
            "image/png": "[encoded data removed]",
            "text/plain": [
              "<Figure size 1080x360 with 2 Axes>"
            ]
          },
          "metadata": {
            "tags": [],
            "needs_background": "light"
          }
        }
      ]
    },
    {
      "cell_type": "code",
      "metadata": {
        "id": "I68KAcJnjYNh"
      },
      "source": [
        "#torch.save(model.state_dict(), '/content/gdrive/MyDrive/Enron/LSTM_model.pth' )"
      ],
      "execution_count": null,
      "outputs": []
    },
    {
      "cell_type": "code",
      "metadata": {
        "id": "6RtkvHDGPQqG"
      },
      "source": [
        ""
      ],
      "execution_count": null,
      "outputs": []
    },
    {
      "cell_type": "code",
      "metadata": {
        "id": "sm_RwGomjfRP",
        "colab": {
          "base_uri": "https://localhost:8080/",
          "height": 567
        },
        "outputId": "ecb7f794-2fa5-4ca1-d41a-c6e50dd387d5"
      },
      "source": [
        "if test_on:\n",
        "  test_model(model, test_iterator)\n"
      ],
      "execution_count": null,
      "outputs": [
        {
          "output_type": "stream",
          "text": [
            "Confusion Matrix :\n",
            "[[387   8]\n",
            " [ 26 303]]\n",
            "Accuracy: 0.953\n",
            "----------------------------------------------------------------------------------------------------\n",
            "\n",
            "Classification report : \n",
            "              precision    recall  f1-score   support\n",
            "\n",
            "         0.0       0.94      0.98      0.96       395\n",
            "         1.0       0.97      0.92      0.95       329\n",
            "\n",
            "    accuracy                           0.95       724\n",
            "   macro avg       0.96      0.95      0.95       724\n",
            "weighted avg       0.95      0.95      0.95       724\n",
            "\n",
            "----------------------------------------------------------------------------------------------------\n",
            "F1 Score: 0.947\n"
          ],
          "name": "stdout"
        },
        {
          "output_type": "display_data",
          "data": {
            "image/png": "[encoded data removed]",
            "text/plain": [
              "<Figure size 432x288 with 2 Axes>"
            ]
          },
          "metadata": {
            "tags": [],
            "needs_background": "light"
          }
        }
      ]
    },
    {
      "cell_type": "code",
      "metadata": {
        "id": "xeySjXgP3f78"
      },
      "source": [
        "# random_text = 'Goodmorning guys how are you'\n",
        "# processed_random_text = process_text(random_text)\n",
        "# print(fields)"
      ],
      "execution_count": null,
      "outputs": []
    },
    {
      "cell_type": "code",
      "metadata": {
        "id": "kMHs-Qvy6noH"
      },
      "source": [
        "# print(processed_random_text)\n",
        "# msg = data.Example.fromlist([processed_random_text, 1],fields)\n",
        "# example = data.Dataset([msg],fields)\n",
        "# print(msg)\n",
        "# print(example)\n",
        "# #iterator = data.BucketIterator.splits(example, sort=False, batch_size= 1)"
      ],
      "execution_count": null,
      "outputs": []
    },
    {
      "cell_type": "code",
      "metadata": {
        "id": "ALRSxpAVwsZ6"
      },
      "source": [
        "# model = network(vocab_size, \n",
        "#             embedding_dim, \n",
        "#             hidden_dim, \n",
        "#             out_dim, \n",
        "#             num_layers, \n",
        "#             is_bidir, \n",
        "#             dropout, \n",
        "#             padding_index)\n",
        "# model.load_state_dict(torch.load('/content/gdrive/MyDrive/Enron/LSTM_model.pth'))\n"
      ],
      "execution_count": null,
      "outputs": []
    },
    {
      "cell_type": "code",
      "metadata": {
        "id": "N_cLVYVhyZXH"
      },
      "source": [
        "# model.to(device)"
      ],
      "execution_count": null,
      "outputs": []
    },
    {
      "cell_type": "code",
      "metadata": {
        "id": "kvc27GkCxJeb"
      },
      "source": [
        "# vocab_obj = torch.load( '/content/gdrive/MyDrive/Enron/vocab_obj.pth')"
      ],
      "execution_count": null,
      "outputs": []
    },
    {
      "cell_type": "markdown",
      "metadata": {
        "id": "WARJBzq2yLX3"
      },
      "source": [
        "Define and test information extractor:"
      ]
    },
    {
      "cell_type": "code",
      "metadata": {
        "id": "7b486VK_G-dQ"
      },
      "source": [
        "import spacy\n",
        "myspacy = spacy.load('en')\n",
        "\n",
        "\n",
        "def predict(model, input_seq):\n",
        "    \n",
        "    model.eval()\n",
        "    with torch.no_grad():\n",
        "      tokenized_sequence = [token.text for token in myspacy.tokenizer(input_seq)] \n",
        "      #print(tokenized) #tokenize the sentence \n",
        "      w2i = [message_field.vocab.stoi[t] for t in tokenized_sequence]\n",
        "      #print(indexed)         \n",
        "      sequence_length = [len(w2i)]                                   \n",
        "      tensor = torch.LongTensor(w2i).to(device) \n",
        "      #print(tensor)             \n",
        "      tensor = tensor.unsqueeze(1).T  \n",
        "      #print(tensor)\n",
        "      #print(tensor.shape)                        \n",
        "      length_tensor = torch.LongTensor(sequence_length)  \n",
        "      #print(length_tensor)              \n",
        "      prediction = model(tensor, length_tensor).squeeze()\n",
        "      out = torch.round(torch.sigmoid(-prediction))        \n",
        "      return out.item()       "
      ],
      "execution_count": null,
      "outputs": []
    },
    {
      "cell_type": "code",
      "metadata": {
        "id": "lpQZVh2jp1dL"
      },
      "source": [
        "sorted_months = [\"january\", \"february\", \"march\", \"april\", \"may\", \"june\",\"july\",\n",
        "          \"august\", \"september\",\"october\",\"november\", \"december\"]\n",
        "sorted_days = [\"monday\", \"tuesday\", \"wednesday\", \"thursday\", \"friday\",\n",
        "        \"saturday\", \"sunday\"]\n",
        "ordinal_numbers = [\"rd\", \"th\", \"st\", \"nd\"]\n",
        "numbers_list = ['one', 'two', 'three', 'four', 'five', 'six', 'seven', 'eight', 'nine']\n",
        "\n",
        "def date_from_text(input_string):\n",
        "    '''\n",
        "    get datetime() date information from raw text\n",
        "    '''\n",
        "    \n",
        "    text = input_string.lower()\n",
        "    today = datetime.date.today()\n",
        "\n",
        "    # If today is in text:\n",
        "    if text.count(\"today\") > 0:\n",
        "        return today\n",
        "\n",
        "    #if tomorrow is in text:\n",
        "    if text.count(\"tomorrow\") > 0 or text.count(\"tmr\") > 0:\n",
        "        return today + datetime.timedelta(1)\n",
        "\n",
        "    #For the case where we have in _ days/weeks\n",
        "    if bool(re.search(r'in\\s(\\d+|one|two|three|four|five|six|seven|eight|nine)\\s(days|weeks|week)', text)):\n",
        "      x = re.search(r'in\\s(\\d+|one|two|three|four|five|six|seven|eight|nine)\\s(days|weeks|week)', text)\n",
        "      match = x.group()\n",
        "      n = match.split()[-2]\n",
        "      if n in numbers_list:\n",
        "        num = numbers_list.index(n)+1\n",
        "      else:\n",
        "        num = int(n)\n",
        "\n",
        "      if match.split()[-1] == 'days':\n",
        "        return today + datetime.timedelta(num)\n",
        "      else:\n",
        "        return today + datetime.timedelta(num*7) \n",
        "\n",
        "    \n",
        "\n",
        "    day, month, day_idx = -1,-1,-1\n",
        "    year = today.year\n",
        "\n",
        "    for token in text.split():\n",
        "      #regualar expression for abreviated months:\n",
        "      if bool(re.search(r'jan(?:uary)?|feb(?:ruary)?|mar(?:ch)?|apr(?:il)?|may|jun(?:e)?|jul(?:y)?|aug(?:ust)?|sep(?:tember)?|oct(?:ober)?|nov(?:ember)?|dec(?:ember)?', token)):\n",
        "        match = re.findall(r'jan(?:uary)?|feb(?:ruary)?|mar(?:ch)?|apr(?:il)?|may|jun(?:e)?|jul(?:y)?|aug(?:ust)?|sep(?:tember)?|oct(?:ober)?|nov(?:ember)?|dec(?:ember)?', token)[0]\n",
        "        #print(match)\n",
        "\n",
        "        #find corresponding month index\n",
        "        for m in sorted_months:\n",
        "          if match in m:\n",
        "            month = sorted_months.index(m) + 1\n",
        "            #print(month)\n",
        "        \n",
        "      elif bool(re.search(r'\\b((mon|tues|wed(nes)?|thur(s)?|fri|sat(ur)?|sun)(day)?)\\b', token)):\n",
        "\n",
        "        match = re.findall(r'\\b((mon|tues|wed(nes)?|thur(s)?|fri|sat(ur)?|sun)(day)?)\\b', token)[0][0]\n",
        "        \n",
        "        #find corresponding day index\n",
        "        for d in sorted_days:\n",
        "          if match in d:\n",
        "            day_idx = sorted_days.index(d)\n",
        "      \n",
        "      elif token in sorted_days:\n",
        "        day_idx = sorted_days.index(token)\n",
        "\n",
        "      elif token.isdigit():\n",
        "        day = int(token)\n",
        "        \n",
        "      else:\n",
        "        for ordinal in ordinal_numbers:\n",
        "          found = token.find(ordinal)\n",
        "          if found > 0:\n",
        "            try:\n",
        "              day = int(token[:found])\n",
        "            except:\n",
        "              pass\n",
        "\n",
        "    #If the given month has passed go to the next year\n",
        "    if month < today.month and month != -1:  \n",
        "      year = year+1\n",
        "    \n",
        "    #If we are given the current month but day has passed\n",
        "    #go to the next year \n",
        "    if month == today.month and day !=-1:\n",
        "      if day < today.day:\n",
        "        year = year+1\n",
        "\n",
        "    #if month is not present:\n",
        "    if month == -1 and day != -1:  \n",
        "      #if day is less than current day go to next month\n",
        "      if day < today.day:\n",
        "        month = today.month + 1\n",
        "      \n",
        "      else:\n",
        "        month = today.month\n",
        "\n",
        "    \n",
        "    if month == -1 and day == -1 and day_idx != -1:\n",
        "      today_idx = today.weekday()\n",
        "      difference = day_idx - today_idx\n",
        "\n",
        "      if difference < 0:\n",
        "        difference += 7\n",
        "        if text.count(\"next\") >= 1:\n",
        "          difference += 7\n",
        "\n",
        "      return today + datetime.timedelta(difference)\n",
        "\n",
        "    if day != -1:  \n",
        "      return datetime.datetime(month=month, day=day, year=year)\n",
        "    \n",
        "    else:\n",
        "      matches = datefinder.find_dates(input_string)\n",
        "      for match in matches:\n",
        "        return match.date()\n",
        "      "
      ],
      "execution_count": null,
      "outputs": []
    },
    {
      "cell_type": "code",
      "metadata": {
        "id": "ijbowAHRp45o"
      },
      "source": [
        "def time_from_text(input_string):\n",
        "  \n",
        "  if bool(re.search(r'(([0-1]{0,1}[0-9]( )?(AM|am|aM|Am|PM|pm|pM|Pm))|(([0]?[1-9]|1[0-2])(:|\\.)[0-5][0-9]( )?(AM|am|aM|Am|PM|pm|pM|Pm))|(([0]?[0-9]|1[0-9]|2[0-3])(:|\\.)[0-5][0-9]))', input_string)):\n",
        "    match = re.findall(r'(([0-1]{0,1}[0-9]( )?(AM|am|aM|Am|PM|pm|pM|Pm))|(([0]?[1-9]|1[0-2])(:|\\.)[0-5][0-9]( )?(AM|am|aM|Am|PM|pm|pM|Pm))|(([0]?[0-9]|1[0-9]|2[0-3])(:|\\.)[0-5][0-9]))', input_string)[0][0]\n",
        "    match = match.lower()\n",
        "\n",
        "    match_list = match.split()\n",
        "    #print(match_list)\n",
        "    \n",
        "    if len(match_list) == 1:\n",
        "      \n",
        "      if 'pm' in match:\n",
        "        \n",
        "        i = match.index('pm')\n",
        "        num = match[:i]\n",
        "        \n",
        "        if ':' in num:\n",
        "          split = num.split(':')\n",
        "          hours = int(split[0]) +12\n",
        "          minutes = int(split[1])\n",
        "      \n",
        "        else:\n",
        "          hours = int(num) + 12\n",
        "          minutes = 0\n",
        "      \n",
        "      elif 'am' in match:\n",
        "        i = match.index('am')\n",
        "        num = match[:i]\n",
        "        \n",
        "        if ':' in num:\n",
        "          split = num.split(':')\n",
        "          hours = int(split[0])\n",
        "          minutes = int(split[1])\n",
        "        else:\n",
        "          hours = int(num)\n",
        "          minutes = 0\n",
        "      \n",
        "      else:\n",
        "        split = match.split(':')\n",
        "        hours = int(split[0])\n",
        "        minutes = int(split[1])\n",
        "      \n",
        "    elif len(match_list) == 2:\n",
        "      \n",
        "      if ':' in match_list[0]:\n",
        "        \n",
        "        split = match_list[0].split(':')\n",
        "        hours = int(split[0])\n",
        "        minutes = int(split[1])\n",
        "     \n",
        "      else:\n",
        "        hours = int(match_list[0])\n",
        "        minutes = 0\n",
        "      \n",
        "      if match_list[-1] == 'pm':\n",
        "        hours += 12\n",
        "\n",
        "        \n",
        "  else:\n",
        "    \n",
        "    print('No time in string')\n",
        "    return None\n",
        "  #print('Hours:',hours)\n",
        "  #print('Minutes:', minutes)\n",
        "  timeobj = datetime.time(hours, minutes)\n",
        "  return timeobj"
      ],
      "execution_count": null,
      "outputs": []
    },
    {
      "cell_type": "code",
      "metadata": {
        "id": "VauoyWV0p8GR",
        "colab": {
          "base_uri": "https://localhost:8080/"
        },
        "outputId": "12370001-40c9-4f40-f046-e6bd515d9b8a"
      },
      "source": [
        "random_text = 'Board meeting tomorrow at 5pm'\n",
        "processed_random_text = process_text(random_text)\n",
        "prediction = predict(model, processed_random_text)\n",
        "if prediction == 0:\n",
        "  print(100*'-')\n",
        "  print('String contains meeting request. ')\n",
        "  print(100*'-')\n",
        "  print()\n",
        "  date = date_from_text(random_text)\n",
        "  time = time_from_text(random_text)\n",
        "  print(100*'-')\n",
        "  print('Date:', date)\n",
        "  print(100*'-')\n",
        "  print()\n",
        "  print(100*'-')\n",
        "  print('Time:', time)\n",
        "  print(100*'-')\n",
        "\n",
        "elif prediction == 1:\n",
        "  print('Other')\n",
        "else:\n",
        "  print('Something wrong')"
      ],
      "execution_count": null,
      "outputs": [
        {
          "output_type": "stream",
          "text": [
            "----------------------------------------------------------------------------------------------------\n",
            "String contains meeting request. \n",
            "----------------------------------------------------------------------------------------------------\n",
            "\n",
            "----------------------------------------------------------------------------------------------------\n",
            "Date: 2021-08-17\n",
            "----------------------------------------------------------------------------------------------------\n",
            "\n",
            "----------------------------------------------------------------------------------------------------\n",
            "Time: 17:00:00\n",
            "----------------------------------------------------------------------------------------------------\n"
          ],
          "name": "stdout"
        }
      ]
    },
    {
      "cell_type": "code",
      "metadata": {
        "id": "j0x__k5ifk3a"
      },
      "source": [
        "# pd.set_option('display.max_colwidth', None)\n",
        "# test_df[test_df['target'] == 1]"
      ],
      "execution_count": null,
      "outputs": []
    },
    {
      "cell_type": "code",
      "metadata": {
        "colab": {
          "base_uri": "https://localhost:8080/"
        },
        "id": "oCQL97UELnbl",
        "outputId": "1e7d9b77-b8ca-479c-8b73-fcf226fc75da"
      },
      "source": [
        "random_text = 'tomorrow at 6'\n",
        "date = date_from_text(random_text)\n",
        "time = time_from_text(random_text)\n",
        "print('date:', date)\n",
        "print('time:', time)"
      ],
      "execution_count": null,
      "outputs": [
        {
          "output_type": "stream",
          "text": [
            "No time in string\n",
            "date: 2021-08-17\n",
            "time: None\n"
          ],
          "name": "stdout"
        }
      ]
    },
    {
      "cell_type": "code",
      "metadata": {
        "colab": {
          "base_uri": "https://localhost:8080/"
        },
        "id": "Fl_tWjDiP2Jb",
        "outputId": "2633f6a2-2070-4fce-fc19-97a3a23aeb9b"
      },
      "source": [
        "train_df[train_df['target'] == 0]['text']"
      ],
      "execution_count": null,
      "outputs": [
        {
          "output_type": "execute_result",
          "data": {
            "text/plain": [
              "6438    fyi details naveens demo racs processestools r...\n",
              "282     altura gains co poi 78023 chris greaney date 5...\n",
              "6635    calendar entry reminder mail mortgage payment ...\n",
              "6155        arriving fbo signature flight support wa intl\n",
              "6620    calendar entry invitation operational risk for...\n",
              "                              ...                        \n",
              "972     weekly priority mtgraetta date 12202001 time 9...\n",
              "1007    terry k oncall date 552001 time 700 800 centra...\n",
              "6492    calendar entry invitation happy hour berney ed...\n",
              "1164    discuss financial reporting needs lynns office...\n",
              "6743    dallas lisa left emergency numbers group forwa...\n",
              "Name: text, Length: 2716, dtype: object"
            ]
          },
          "metadata": {
            "tags": []
          },
          "execution_count": 182
        }
      ]
    }
  ]
}