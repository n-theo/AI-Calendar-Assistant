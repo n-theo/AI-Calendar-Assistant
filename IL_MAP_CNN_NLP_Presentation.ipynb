{
  "nbformat": 4,
  "nbformat_minor": 0,
  "metadata": {
    "colab": {
      "name": "IL_MAP_CNN_NLP .ipynb",
      "provenance": [],
      "collapsed_sections": []
    },
    "kernelspec": {
      "name": "python3",
      "display_name": "Python 3"
    },
    "language_info": {
      "name": "python"
    },
    "accelerator": "GPU"
  },
  "cells": [
    {
      "cell_type": "code",
      "metadata": {
        "id": "9a7xF8TgCtht",
        "colab": {
          "base_uri": "https://localhost:8080/"
        },
        "outputId": "d896902e-6f6d-41a8-db41-144182c59763"
      },
      "source": [
        "#Installation of packages\n",
        "!pip install datefinder"
      ],
      "execution_count": 1,
      "outputs": [
        {
          "output_type": "stream",
          "text": [
            "Requirement already satisfied: datefinder in /usr/local/lib/python3.7/dist-packages (0.7.1)\n",
            "Requirement already satisfied: regex>=2017.02.08 in /usr/local/lib/python3.7/dist-packages (from datefinder) (2019.12.20)\n",
            "Requirement already satisfied: python-dateutil>=2.4.2 in /usr/local/lib/python3.7/dist-packages (from datefinder) (2.8.2)\n",
            "Requirement already satisfied: pytz in /usr/local/lib/python3.7/dist-packages (from datefinder) (2018.9)\n",
            "Requirement already satisfied: six>=1.5 in /usr/local/lib/python3.7/dist-packages (from python-dateutil>=2.4.2->datefinder) (1.15.0)\n"
          ],
          "name": "stdout"
        }
      ]
    },
    {
      "cell_type": "code",
      "metadata": {
        "id": "MzHsCUefJvjm"
      },
      "source": [
        "#Imports for the negotiation:\n",
        "\n",
        "import time\n",
        "import numpy as np\n",
        "from pprint import pprint\n",
        "import random\n",
        "from random import choices\n",
        "from copy import deepcopy\n",
        "from collections import defaultdict\n",
        "import pandas as pd\n",
        "import matplotlib.pyplot as plt\n",
        "from matplotlib import colors"
      ],
      "execution_count": 2,
      "outputs": []
    },
    {
      "cell_type": "code",
      "metadata": {
        "id": "Oj57Jq6lshUG",
        "colab": {
          "base_uri": "https://localhost:8080/"
        },
        "outputId": "7b70afe1-9591-446e-d1e9-0488ce353897"
      },
      "source": [
        "#Imports for loading models:\n",
        "\n",
        "import torch\n",
        "import torch.nn as nn\n",
        "import torch.nn.functional as F\n",
        "import torch.optim as optim\n",
        "from torch.autograd import Variable\n",
        "\n",
        "device = torch.device(\"cuda\" if torch.cuda.is_available() else \"cpu\")\n",
        "print(\"Device available for running: \")\n",
        "print(device)"
      ],
      "execution_count": 3,
      "outputs": [
        {
          "output_type": "stream",
          "text": [
            "Device available for running: \n",
            "cuda\n"
          ],
          "name": "stdout"
        }
      ]
    },
    {
      "cell_type": "code",
      "metadata": {
        "colab": {
          "base_uri": "https://localhost:8080/"
        },
        "id": "fBwVbExP3vjt",
        "outputId": "8b60e0c6-da0c-46f9-d54b-ec81b74b5c3d"
      },
      "source": [
        "#Imports for Info extraction:\n",
        "\n",
        "import datefinder\n",
        "import datetime\n",
        "import re\n",
        "import nltk\n",
        "from nltk import word_tokenize as tokenize\n",
        "from nltk import pos_tag as tag\n",
        "nltk.download('wordnet')\n",
        "\n",
        "import json\n",
        "\n",
        "import email\n",
        "from email import policy\n"
      ],
      "execution_count": 4,
      "outputs": [
        {
          "output_type": "stream",
          "text": [
            "[nltk_data] Downloading package wordnet to /root/nltk_data...\n",
            "[nltk_data]   Package wordnet is already up-to-date!\n"
          ],
          "name": "stdout"
        }
      ]
    },
    {
      "cell_type": "code",
      "metadata": {
        "id": "Z7-d07z52Vva"
      },
      "source": [
        "import spacy\n",
        "from spacy.lang.en.stop_words import STOP_WORDS as en_stop\n",
        "myspacy = spacy.load('en')"
      ],
      "execution_count": 5,
      "outputs": []
    },
    {
      "cell_type": "code",
      "metadata": {
        "colab": {
          "base_uri": "https://localhost:8080/"
        },
        "id": "k29OYjB_sk44",
        "outputId": "b4133520-120f-4e2e-c589-81f8d550b1ad"
      },
      "source": [
        "from google.colab import drive\n",
        "drive.mount('/content/gdrive')"
      ],
      "execution_count": 6,
      "outputs": [
        {
          "output_type": "stream",
          "text": [
            "Drive already mounted at /content/gdrive; to attempt to forcibly remount, call drive.mount(\"/content/gdrive\", force_remount=True).\n"
          ],
          "name": "stdout"
        }
      ]
    },
    {
      "cell_type": "code",
      "metadata": {
        "id": "cCdt3jb05bBX"
      },
      "source": [
        "#load the lookup table:\n",
        "df_lookup = pd.read_csv('gdrive/My Drive/Preferences/lookup.csv')\n",
        "df_lookup =df_lookup.drop(columns=['Unnamed: 0'])"
      ],
      "execution_count": 7,
      "outputs": []
    },
    {
      "cell_type": "code",
      "metadata": {
        "id": "EtkPEyuE0VN_"
      },
      "source": [
        "#Load the vocabulary\n",
        "vocab_obj = torch.load( 'gdrive/MyDrive/Enron/vocab_obj.pth')"
      ],
      "execution_count": 8,
      "outputs": []
    },
    {
      "cell_type": "markdown",
      "metadata": {
        "id": "fE_yugzX78Wd"
      },
      "source": [
        "**LOADING THE MODELS**"
      ]
    },
    {
      "cell_type": "code",
      "metadata": {
        "id": "np5HX7JA5l38"
      },
      "source": [
        "#load the preference network:\n",
        "\n",
        "class CNN(nn.Module):\n",
        "    def __init__(self):\n",
        "        super().__init__()\n",
        "        self.conv1 = nn.Conv2d(1,16,3, padding= 1) #7x24 -> 7x24\n",
        "        self.bn1 = nn.BatchNorm2d(16)\n",
        "        self.conv2 = nn.Conv2d(16, 32, (5, 7)) #7X24 -> 3X20\n",
        "        self.bn2 = nn.BatchNorm2d(32)\n",
        "        self.fc1 = nn.Linear(1728, 84)\n",
        "        self.fc2 = nn.Linear(120, 84)\n",
        "        self.fc3 = nn.Linear(84, 18)\n",
        "\n",
        "    def forward(self, x):\n",
        "        x = F.relu(self.conv1(x))\n",
        "        x = self.bn1(x)\n",
        "        x = F.relu(self.conv2(x))\n",
        "        x = self.bn2(x)\n",
        "        x = torch.flatten(x, 1)\n",
        "        x = F.relu(self.fc1(x))\n",
        "        #x = F.relu(self.fc2(x))\n",
        "        x = self.fc3(x)\n",
        "        return x"
      ],
      "execution_count": 9,
      "outputs": []
    },
    {
      "cell_type": "code",
      "metadata": {
        "id": "F7bZ7Cyp5ntx"
      },
      "source": [
        "output_size = 18 #0-17 (classes)\n",
        "epochs = 20\n",
        "batch_size = 32\n",
        "learning_rate = 0.001"
      ],
      "execution_count": 10,
      "outputs": []
    },
    {
      "cell_type": "code",
      "metadata": {
        "colab": {
          "base_uri": "https://localhost:8080/"
        },
        "id": "4Q_FpKot5p6V",
        "outputId": "fa73396e-c9dc-4aa7-d4a0-23a4bbe1fc4a"
      },
      "source": [
        "#load the preference network\n",
        "model = CNN()\n",
        "model.load_state_dict(torch.load('gdrive/My Drive/Preferences/CNN/CNN_model_2.pth'))"
      ],
      "execution_count": 11,
      "outputs": [
        {
          "output_type": "execute_result",
          "data": {
            "text/plain": [
              "<All keys matched successfully>"
            ]
          },
          "metadata": {},
          "execution_count": 11
        }
      ]
    },
    {
      "cell_type": "code",
      "metadata": {
        "id": "ZayGsHoO0kpn"
      },
      "source": [
        "class LSTM(nn.Module):\n",
        "    def __init__(self, vocab_size, embedding_dim, hidden_dim, output_dim, n_layers, \n",
        "                 bidirectional, dropout, pad_idx):\n",
        "        \n",
        "        super().__init__()\n",
        "        \n",
        "        self.embedding = nn.Embedding(vocab_size, embedding_dim, padding_idx =\n",
        "                                      pad_idx)\n",
        "        \n",
        "        self.rnn = nn.LSTM(embedding_dim, \n",
        "                           hidden_dim, \n",
        "                           num_layers=n_layers, \n",
        "                           bidirectional=bidirectional, \n",
        "                           dropout=dropout,\n",
        "                           batch_first = True)\n",
        "        \n",
        "        self.fc = nn.Linear(2*hidden_dim, 1)\n",
        "        \n",
        "        self.dropout = nn.Dropout(dropout)\n",
        "        \n",
        "    \n",
        "    def forward(self, inp, inp_len):\n",
        "        \n",
        "        input_seq = self.embedding(inp)\n",
        "        \n",
        "        #Pack a Tensor containing padded sequences of variable length:\n",
        "        packed_seq = nn.utils.rnn.pack_padded_sequence(input_seq, inp_len.cpu(),\n",
        "                                                       batch_first=True)\n",
        "        \n",
        "        packed, (hidden_state, c_state) = self.rnn(packed_seq)\n",
        "\n",
        "       \n",
        "        hidden_state = torch.cat((hidden_state[-2,:,:], hidden_state[-1,:,:]),\n",
        "                                 dim = 1)\n",
        "        h2o = self.fc(hidden_state)\n",
        "        output = self.dropout(h2o)\n",
        "                \n",
        "            \n",
        "        return output"
      ],
      "execution_count": 12,
      "outputs": []
    },
    {
      "cell_type": "code",
      "metadata": {
        "id": "okALgSll03Cy"
      },
      "source": [
        "num_epochs = 20\n",
        "batch_size = 64\n",
        "learning_rate = 0.001\n",
        "vocab_size = len(vocab_obj)\n",
        "\n",
        "#embedding dimension\n",
        "embedding_dim = 100\n",
        "hidden_dim = 128\n",
        "out_dim = 1\n",
        "num_layers = 2\n",
        "is_bidir = True\n",
        "dropout= 0.3\n",
        "padding_index = 1"
      ],
      "execution_count": 13,
      "outputs": []
    },
    {
      "cell_type": "code",
      "metadata": {
        "id": "zZATHtw-1QMJ"
      },
      "source": [
        "model_LSTM = LSTM(vocab_size, \n",
        "            embedding_dim, \n",
        "            hidden_dim, \n",
        "            out_dim, \n",
        "            num_layers, \n",
        "            is_bidir, \n",
        "            dropout, \n",
        "            padding_index)"
      ],
      "execution_count": 14,
      "outputs": []
    },
    {
      "cell_type": "code",
      "metadata": {
        "colab": {
          "base_uri": "https://localhost:8080/"
        },
        "id": "J65r8EeR1TAU",
        "outputId": "b53e6dab-d440-4482-e4f6-143a7f8028e2"
      },
      "source": [
        "model_LSTM.load_state_dict(torch.load('gdrive/MyDrive/Enron/LSTM_model.pth'))\n"
      ],
      "execution_count": 15,
      "outputs": [
        {
          "output_type": "execute_result",
          "data": {
            "text/plain": [
              "<All keys matched successfully>"
            ]
          },
          "metadata": {},
          "execution_count": 15
        }
      ]
    },
    {
      "cell_type": "code",
      "metadata": {
        "colab": {
          "base_uri": "https://localhost:8080/"
        },
        "id": "NGikoGYp2H_v",
        "outputId": "950bb553-003d-46b4-873c-dc8e2848a348"
      },
      "source": [
        "model_LSTM.to(device)"
      ],
      "execution_count": 16,
      "outputs": [
        {
          "output_type": "execute_result",
          "data": {
            "text/plain": [
              "LSTM(\n",
              "  (embedding): Embedding(30002, 100, padding_idx=1)\n",
              "  (rnn): LSTM(100, 128, num_layers=2, batch_first=True, dropout=0.3, bidirectional=True)\n",
              "  (fc): Linear(in_features=256, out_features=1, bias=True)\n",
              "  (dropout): Dropout(p=0.3, inplace=False)\n",
              ")"
            ]
          },
          "metadata": {},
          "execution_count": 16
        }
      ]
    },
    {
      "cell_type": "code",
      "metadata": {
        "id": "gz3GHeHM5uzO"
      },
      "source": [
        "def predict_preference(in_model, in_array, lookup, print_on):\n",
        "  '''\n",
        "  function that takes NN model and 7*24 calendar and tags it with \n",
        "  preferences according to lookup table\n",
        "  '''\n",
        "  test_sample = torch.FloatTensor(in_array.tolist())\n",
        "\n",
        "  \n",
        "  in_model.eval()\n",
        "  with torch.no_grad():\n",
        "    test_var = Variable(test_sample)\n",
        "    test_var = test_var.unsqueeze(0)\n",
        "\n",
        "    net_out = in_model(test_var.unsqueeze(0))\n",
        "    test_pred = torch.max(net_out.data, 1)[1].numpy()\n",
        "    predicted_label = test_pred.item()\n",
        "\n",
        "    lookup_row = lookup[lookup['lbl_concat'] == predicted_label]\n",
        "    w = lookup_row['Week'].item()\n",
        "    d = lookup_row['Day'].item()\n",
        "    b = lookup_row['b2b'].item()\n",
        "    if print_on:\n",
        "\n",
        "      print(100*'-')\n",
        "      print('Predictions:')\n",
        "      print(100*'-')\n",
        "      print()\n",
        "      print('Predicted Label:',predicted_label)\n",
        "      print('Time of week preference:', w)\n",
        "      print('Time of day preference:', d)\n",
        "      print('Back to back meetings (True/False):', b)\n",
        "      print()\n",
        "      print(100*'-')\n",
        "      print()\n",
        "      print(100*'-')\n",
        "\n",
        "    return test_pred.item(), w, d, b"
      ],
      "execution_count": 17,
      "outputs": []
    },
    {
      "cell_type": "code",
      "metadata": {
        "id": "uZroLAcj2M2E"
      },
      "source": [
        "\n",
        "def predict_meeting_request(in_model, input_seq, vocab):\n",
        "  '''\n",
        "  takes in text, NLP model and vocabulary and predicts\n",
        "  whether input sequence contains meeting request\n",
        "  '''\n",
        "  \n",
        "  in_model.eval()\n",
        "  with torch.no_grad():\n",
        "    tokenized_sequence = [token.text for token in myspacy.tokenizer(input_seq)] \n",
        "    #print(tokenized) #tokenize the sentence \n",
        "    w2i = [vocab.stoi[t] for t in tokenized_sequence]\n",
        "    #print(indexed)         \n",
        "    sequence_length = [len(w2i)]                                   \n",
        "    tensor = torch.LongTensor(w2i).to(device) \n",
        "    #print(tensor)             \n",
        "    tensor = tensor.unsqueeze(1).T  \n",
        "    #print(tensor)\n",
        "    #print(tensor.shape)                        \n",
        "    length_tensor = torch.LongTensor(sequence_length)  \n",
        "    #print(length_tensor)              \n",
        "    prediction = in_model(tensor, length_tensor).squeeze() \n",
        "    #print(prediction)\n",
        "    out = torch.round(torch.sigmoid(-prediction))        \n",
        "    return out.item()       "
      ],
      "execution_count": 18,
      "outputs": []
    },
    {
      "cell_type": "markdown",
      "metadata": {
        "id": "EbizdBD83_g9"
      },
      "source": [
        "**INFO EXTRACTION**"
      ]
    },
    {
      "cell_type": "code",
      "metadata": {
        "id": "PiqQotTu6JfR"
      },
      "source": [
        "def process_text(text, stemming=False, lemmatization=True,\n",
        "                 additional_stopwords = []):\n",
        "    '''\n",
        "    preprocess text by stemming or lemmatizing and removing stopwords\n",
        "    \n",
        "    '''\n",
        "    unwanted_seqs = ['calendar entry appointment description tms weekly',\n",
        "                     'calendar entry appointment description team leader ',\n",
        "                     'calendar entry appointment description',\n",
        "                     'calendar entry appointment team leader',\n",
        "                     'calendar entry appointment',\n",
        "                     'chairperson outlook migration team detailed',\n",
        "                     'inline attachment follows'\n",
        "                     ]\n",
        "    stemmer = nltk.stem.porter.PorterStemmer()\n",
        "    lemmer = nltk.stem.wordnet.WordNetLemmatizer()\n",
        "\n",
        "\n",
        "    text = re.sub(r'[^\\w\\s]', '', str(text).lower().strip())\n",
        "    text = re.sub(r'\\d{9,}', '', str(text).lower().strip())\n",
        "    text = re.sub(r\"http\\S+\",\"URL\", str(text).lower().strip())\n",
        "\n",
        "            \n",
        "    ## Tokenize (convert from string to list)\n",
        "    text_list = text.split()\n",
        "    \n",
        "    ## remove Stopwords\n",
        "    stopwords = list(en_stop) + additional_stopwords\n",
        "    text_list = [word for word in text_list if word not in stopwords]\n",
        "                \n",
        "    if stemming:\n",
        "      lst_text = [stemmer.stem(word) for word in text_list]\n",
        "                \n",
        "    ## Lemmatisation (convert the word into root word)\n",
        "    if lemmatization:\n",
        "      lst_text = [lemmer.lemmatize(word) for word in text_list]\n",
        "    \n",
        "    ## back to string from list\n",
        "    output = \" \".join(text_list)\n",
        "\n",
        "    for seq in unwanted_seqs:\n",
        "      if seq in output:\n",
        "        output = re.sub(seq, '', str(output).lower().strip())\n",
        "    \n",
        "    return output"
      ],
      "execution_count": 19,
      "outputs": []
    },
    {
      "cell_type": "code",
      "metadata": {
        "id": "SDA6AQcP4F3i"
      },
      "source": [
        "sorted_months = [\"january\", \"february\", \"march\", \"april\", \"may\", \"june\",\"july\",\n",
        "          \"august\", \"september\",\"october\",\"november\", \"december\"]\n",
        "sorted_days = [\"monday\", \"tuesday\", \"wednesday\", \"thursday\", \"friday\",\n",
        "        \"saturday\", \"sunday\"]\n",
        "ordinal_numbers = [\"rd\", \"th\", \"st\", \"nd\"]\n",
        "numbers_list = ['one', 'two', 'three', 'four', 'five',\n",
        "                'six', 'seven', 'eight', 'nine']\n",
        "\n",
        "def date_from_text(input_string):\n",
        "    '''\n",
        "    get datetime() date information from raw text\n",
        "    '''\n",
        "    \n",
        "    text = input_string.lower()\n",
        "    today = datetime.date.today()\n",
        "\n",
        "    # If today is in text:\n",
        "    if text.count(\"today\") > 0:\n",
        "        return today\n",
        "\n",
        "    #if tomorrow is in text:\n",
        "    if text.count(\"tomorrow\") > 0 or text.count(\"tmr\") > 0:\n",
        "        return today + datetime.timedelta(1)\n",
        "\n",
        "    #For the case where we have in _ days/weeks\n",
        "    if bool(re.search(r'in\\s(\\d+|one|two|three|four|five|six|seven|eight|nine)\\s(days|weeks|week)', text)):\n",
        "      x = re.search(r'in\\s(\\d+|one|two|three|four|five|six|seven|eight|nine)\\s(days|weeks|week)', text)\n",
        "      match = x.group()\n",
        "      n = match.split()[-2]\n",
        "      if n in numbers_list:\n",
        "        num = numbers_list.index(n)+1\n",
        "      else:\n",
        "        num = int(n)\n",
        "\n",
        "      if match.split()[-1] == 'days':\n",
        "        return today + datetime.timedelta(num)\n",
        "      else:\n",
        "        return today + datetime.timedelta(num*7) \n",
        "\n",
        "    \n",
        "\n",
        "    day, month, day_idx = -1,-1,-1\n",
        "    year = today.year\n",
        "\n",
        "    for token in text.split():\n",
        "      #regualar expression for abreviated months:\n",
        "      if bool(re.search(r'jan(?:uary)?|feb(?:ruary)?|mar(?:ch)?|apr(?:il)?|may|jun(?:e)?|jul(?:y)?|aug(?:ust)?|sep(?:tember)?|oct(?:ober)?|nov(?:ember)?|dec(?:ember)?', token)):\n",
        "        match = re.findall(r'jan(?:uary)?|feb(?:ruary)?|mar(?:ch)?|apr(?:il)?|may|jun(?:e)?|jul(?:y)?|aug(?:ust)?|sep(?:tember)?|oct(?:ober)?|nov(?:ember)?|dec(?:ember)?', token)[0]\n",
        "        #print(match)\n",
        "\n",
        "        #find corresponding month index\n",
        "        for m in sorted_months:\n",
        "          if match in m:\n",
        "            month = sorted_months.index(m) + 1\n",
        "            #print(month)\n",
        "        \n",
        "      elif bool(re.search(r'\\b((mon|tues|wed(nes)?|thur(s)?|fri|sat(ur)?|sun)(day)?)\\b', token)):\n",
        "\n",
        "        match = re.findall(r'\\b((mon|tues|wed(nes)?|thur(s)?|fri|sat(ur)?|sun)(day)?)\\b', token)[0][0]\n",
        "        \n",
        "        #find corresponding day index\n",
        "        for d in sorted_days:\n",
        "          if match in d:\n",
        "            day_idx = sorted_days.index(d)\n",
        "      \n",
        "      elif token in sorted_days:\n",
        "        day_idx = sorted_days.index(token)\n",
        "\n",
        "      elif token.isdigit():\n",
        "        day = int(token)\n",
        "        \n",
        "      else:\n",
        "        for ordinal in ordinal_numbers:\n",
        "          found = token.find(ordinal)\n",
        "          if found > 0:\n",
        "            try:\n",
        "              day = int(token[:found])\n",
        "            except:\n",
        "              pass\n",
        "\n",
        "    #If the given month has passed go to the next year\n",
        "    if month < today.month and month != -1:  \n",
        "      year = year+1\n",
        "    \n",
        "    #If we are given the current month but day has passed\n",
        "    #go to the next year \n",
        "    if month == today.month and day !=-1:\n",
        "      if day < today.day:\n",
        "        year = year+1\n",
        "\n",
        "    #if month is not present:\n",
        "    if month == -1 and day != -1:  \n",
        "      #if day is less than current day go to next month\n",
        "      if day < today.day:\n",
        "        month = today.month + 1\n",
        "      \n",
        "      else:\n",
        "        month = today.month\n",
        "\n",
        "    \n",
        "    if month == -1 and day == -1 and day_idx != -1:\n",
        "      today_idx = today.weekday()\n",
        "      difference = day_idx - today_idx\n",
        "\n",
        "      if difference < 0:\n",
        "        difference += 7\n",
        "        if text.count(\"next\") >= 1:\n",
        "          difference += 7\n",
        "\n",
        "      return today + datetime.timedelta(difference)\n",
        "\n",
        "    if day != -1:  \n",
        "      return datetime.datetime(month=month, day=day, year=year)\n",
        "    \n",
        "    else:\n",
        "      matches = datefinder.find_dates(input_string)\n",
        "      for match in matches:\n",
        "        return match.date()\n",
        "      "
      ],
      "execution_count": 20,
      "outputs": []
    },
    {
      "cell_type": "code",
      "metadata": {
        "id": "okyPH-8J4JSb"
      },
      "source": [
        "def time_from_text(input_string):\n",
        "  '''\n",
        "  get time information from raw text\n",
        "  '''\n",
        "  \n",
        "  if bool(re.search(r'(([0-1]{0,1}[0-9]( )?(AM|am|aM|Am|PM|pm|pM|Pm))|(([0]?[1-9]|1[0-2])(:|\\.)[0-5][0-9]( )?(AM|am|aM|Am|PM|pm|pM|Pm))|(([0]?[0-9]|1[0-9]|2[0-3])(:|\\.)[0-5][0-9]))', input_string)):\n",
        "    match = re.findall(r'(([0-1]{0,1}[0-9]( )?(AM|am|aM|Am|PM|pm|pM|Pm))|(([0]?[1-9]|1[0-2])(:|\\.)[0-5][0-9]( )?(AM|am|aM|Am|PM|pm|pM|Pm))|(([0]?[0-9]|1[0-9]|2[0-3])(:|\\.)[0-5][0-9]))', input_string)[0][0]\n",
        "    match = match.lower()\n",
        "\n",
        "    match_list = match.split()\n",
        "    #print(match_list)\n",
        "    \n",
        "    if len(match_list) == 1:\n",
        "      \n",
        "      if 'pm' in match:\n",
        "        \n",
        "        i = match.index('pm')\n",
        "        num = match[:i]\n",
        "        \n",
        "        if ':' in num:\n",
        "          split = num.split(':')\n",
        "          hours = int(split[0]) + 12\n",
        "          minutes = int(split[1])\n",
        "      \n",
        "        else:\n",
        "          hours = int(num) + 12\n",
        "          minutes = 0\n",
        "      \n",
        "      elif 'am' in match:\n",
        "        i = match.index('am')\n",
        "        num = match[:i]\n",
        "        \n",
        "        if ':' in num:\n",
        "          split = num.split(':')\n",
        "          hours = int(split[0])\n",
        "          minutes = int(split[1])\n",
        "        else:\n",
        "          hours = int(num)\n",
        "          minutes = 0\n",
        "      \n",
        "      else:\n",
        "        split = match.split(':')\n",
        "        hours = int(split[0])\n",
        "        minutes = int(split[1])\n",
        "      \n",
        "    elif len(match_list) == 2:\n",
        "      \n",
        "      if ':' in match_list[0]:\n",
        "        \n",
        "        split = match_list[0].split(':')\n",
        "        hours = int(split[0])\n",
        "        minutes = int(split[1])\n",
        "     \n",
        "      else:\n",
        "        hours = int(match_list[0])\n",
        "        minutes = 0\n",
        "      \n",
        "      if match_list[-1] == 'pm':\n",
        "        hours += 12\n",
        "\n",
        "        \n",
        "  else:\n",
        "    \n",
        "    print('No time in string')\n",
        "    return None\n",
        "  #print('Hours:',hours)\n",
        "  #print('Minutes:', minutes)\n",
        "  timeobj = datetime.time(hours, minutes)\n",
        "  return timeobj\n",
        "\n",
        "\n"
      ],
      "execution_count": 21,
      "outputs": []
    },
    {
      "cell_type": "code",
      "metadata": {
        "id": "ChNRYOaD4TmR"
      },
      "source": [
        "def get_slot_from_datetime(time, date):\n",
        "\n",
        "  '''\n",
        "  accepts time in 24h format and date\n",
        "  returns timeslot\n",
        "  '''\n",
        "  hour_lst = str(time).split(':')\n",
        "  day_slot = int(hour_lst[0])\n",
        "  #isoweekday() -> Monday = 1 ...  Sunday  = 6\n",
        "  day_idx = date.isoweekday() % 7 \n",
        "  timeslot = day_slot+24*day_idx\n",
        "  return timeslot\n"
      ],
      "execution_count": 22,
      "outputs": []
    },
    {
      "cell_type": "markdown",
      "metadata": {
        "id": "7fcRtq5j4UjA"
      },
      "source": [
        "**NEGOTIATION**\n"
      ]
    },
    {
      "cell_type": "code",
      "metadata": {
        "id": "25jfwjs0atvx"
      },
      "source": [
        "#################################################################\n",
        "###                  INITIAL PARAMETERS                       ###\n",
        "#################################################################\n",
        "\n",
        "\n",
        "#meeting_duration = 1\n",
        "#min_attendees_per_meeting = 2\n",
        "#num_workdays = 5\n",
        "#len_workday = 5\n",
        "num_agents = 5\n",
        "#num_timeslots = num_workdays*(len_workday//meeting_duration)\n",
        "\n",
        "#################################################################\n",
        "###                  INITIAL PARAMETERS                       ###\n",
        "#################################################################\n",
        "\n"
      ],
      "execution_count": 23,
      "outputs": []
    },
    {
      "cell_type": "code",
      "metadata": {
        "id": "dCnYHrrkaNQc"
      },
      "source": [
        "def create_week_dict(day_start, day_end, num_slots):\n",
        "  \n",
        "  keys = [i for i in range(num_slots)]\n",
        "  week = {key: {'day': None, 'available': None} for key in keys}\n",
        "  \n",
        "  available_slots =[i for i in range(day_start, day_end)]\n",
        "  all_available_slots = []\n",
        "  for i in range(7):\n",
        "    new_list = [x+24*i for x in available_slots]\n",
        "    all_available_slots += new_list\n",
        "  \n",
        "  idx = 0\n",
        "  \n",
        "  for key in keys:\n",
        "    if key in all_available_slots:\n",
        "       week[key]['available'] = True\n",
        "    else:\n",
        "       week[key]['available'] = False\n",
        "\n",
        "    if key in range(idx,idx+24):\n",
        "      week[key]['day'] = 'Sunday'\n",
        "    if key in range(idx+24,idx+24*2):\n",
        "      week[key]['day'] = 'Monday'\n",
        "    if key in range(idx+24*2,idx+24*3):\n",
        "      week[key]['day'] = 'Tuesday'\n",
        "    if key in range(idx+24*3,idx+24*4):\n",
        "      week[key]['day'] = 'Wednesday'\n",
        "    if key in range(idx+24*4,idx+24*5):\n",
        "      week[key]['day'] = 'Thursday'\n",
        "    if key in range(idx+24*5,idx+24*6):\n",
        "      week[key]['day'] = 'Friday'\n",
        "    if key in range(idx+24*6,idx+24*7):\n",
        "      week[key]['day'] = 'Saturday'\n",
        "  return week"
      ],
      "execution_count": 24,
      "outputs": []
    },
    {
      "cell_type": "code",
      "metadata": {
        "id": "_3EtseUNggTK"
      },
      "source": [
        "# week_dict = create_week_dict(5,23,168)"
      ],
      "execution_count": 25,
      "outputs": []
    },
    {
      "cell_type": "code",
      "metadata": {
        "id": "yoZTztvIhMfV"
      },
      "source": [
        "def create_agents_week(num_agents, percentage_busy, week_dict):\n",
        "  '''\n",
        "  creates a dictionary of agents\n",
        "  each has a unique id, a calendar, and a number of meetings\n",
        "  num_agents: number of agents to create\n",
        "  percentage_busy: how many of them should be deemed as busy\n",
        "  num_timeslots: how many timeslots should their calendar have\n",
        "  '''\n",
        "\n",
        "  agents = dict()\n",
        "  population = [0,1]\n",
        "  weights = (1-percentage_busy, percentage_busy)\n",
        "  for i in range(num_agents):\n",
        "    idx = choices(population,weights)[0]\n",
        "    \n",
        "    if idx == 1:\n",
        "      agents.update({'A%i'%i:{'calendar':{'%i'%i:{'meeting':'No Meeting','status':None, 'day':week_dict[i]['day'], 'available': week_dict[i]['available']}for i in range(168)},'busy':True, 'num_meetings': 0}})\n",
        "    \n",
        "    elif idx == 0:\n",
        "      agents.update({'A%i'%i:{'calendar':{'%i'%i:{'meeting':'No Meeting','status':None, 'day':week_dict[i]['day'], 'available': week_dict[i]['available']}for i in range(168)},'busy':False, 'num_meetings': 0}})\n",
        "\n",
        "\n",
        "  \n",
        "  return agents\n",
        "\n",
        "    "
      ],
      "execution_count": 26,
      "outputs": []
    },
    {
      "cell_type": "code",
      "metadata": {
        "id": "pmNRTnbXiAOG"
      },
      "source": [
        "# all_agents_full = create_agents_week(num_agents, 0.5,week_dict)"
      ],
      "execution_count": 27,
      "outputs": []
    },
    {
      "cell_type": "code",
      "metadata": {
        "id": "lUrrKurq96jb"
      },
      "source": [
        "def get_free_slots(dictionary, idx):\n",
        "  '''\n",
        "  function that returns free slots for given attendee\n",
        "  used when populating initial calendar\n",
        "  '''\n",
        "  available_slots = []\n",
        "  for key in dictionary[idx]['calendar'].keys():\n",
        "    if dictionary[idx]['calendar'][key]['day'] != 'Saturday' and dictionary[idx]['calendar'][key]['day'] != 'Sunday':\n",
        "      if dictionary[idx]['calendar'][key]['meeting'] == 'No Meeting' and dictionary[idx]['calendar'][key]['available']:\n",
        "        available_slots.append(key)\n",
        "  return available_slots\n"
      ],
      "execution_count": 28,
      "outputs": []
    },
    {
      "cell_type": "code",
      "metadata": {
        "id": "lB56K6XMMt8G"
      },
      "source": [
        "def get_free_slots_2(m_dict, attendee):\n",
        "  '''\n",
        "  function that gets free slots for attendee\n",
        "  adapted for negotiation protocol\n",
        "  '''\n",
        "  available_slots =[i for i in range(5, 23)]\n",
        "  all_available_slots = []\n",
        "  for i in range(1,6):\n",
        "    new_list = [x+24*i for x in available_slots]\n",
        "    all_available_slots += new_list\n",
        " \n",
        "  #print('available slots:', available_slots)\n",
        "  #print('num available slots:', len(available_slots))\n",
        "  for key in m_dict.keys():\n",
        "    if attendee in m_dict[key]['attendees']:\n",
        "      for tuple in m_dict[key]['timeslots']:\n",
        "        if int(tuple[0]) in all_available_slots:\n",
        "          all_available_slots.remove(int(tuple[0]))\n",
        "\n",
        "  return all_available_slots"
      ],
      "execution_count": 29,
      "outputs": []
    },
    {
      "cell_type": "code",
      "metadata": {
        "id": "evrKSA97nEQ5"
      },
      "source": [
        "def create_meetings(agents, num_slots, density_busy, density_not_busy,\n",
        "                    min_attendees, max_attendees):\n",
        "  '''\n",
        "  function that creates meetings and populates calendars of attendees\n",
        "  agents: dictionary\n",
        "  num_slots = number of available slots\n",
        "  density_busy: How dense should a busy persons calendar be\n",
        "  density_not_busy: How dense should a not busy persons calendar be\n",
        "  min, max attendees: minimum and maximum attendees for each meeting\n",
        "  '''\n",
        "  #empty dict for meetings:\n",
        "  meetings = dict()\n",
        "  count = 0\n",
        "  #how many meetings busy and non busy individuals should have according to\n",
        "  #percentages:\n",
        "  num_meetings_busy = int(num_slots*density_busy)\n",
        "  num_meetings_not_busy = int(num_slots*density_not_busy)\n",
        "\n",
        "  #get list of agent ids:\n",
        "  agent_list = list(agents.keys())\n",
        "  \n",
        "  #while the above list is not empty\n",
        "  while len(agent_list) >= min_attendees:\n",
        "    #randomly sample a subset of the attendees within allowed number of attendees:\n",
        "    num = max_attendees\n",
        "    if len(agent_list) <= num:\n",
        "      num = len(agent_list)\n",
        "    attendees = random.sample(agent_list,random.randint(min_attendees,num))\n",
        "\n",
        "\n",
        "    all_slots = []\n",
        "    #for each attendee, add the available slots to a list:\n",
        "    for attendee in attendees:\n",
        "      available_slots = get_free_slots(agents, attendee)\n",
        "\n",
        "      #append free slots for a single attendee to array for all attendees\n",
        "      all_slots.append(available_slots)\n",
        "    #find the overlap between the slots for each attendee:\n",
        "    overlap = set(all_slots[0]).intersection(*all_slots)\n",
        "    #\n",
        "    if len(overlap) == 0:\n",
        "      pass\n",
        "      #print(attendees)\n",
        "    #if the overlap is a non empty list, choose a random slot\n",
        "    else:\n",
        "      meeting_slot = random.choice(list(overlap))\n",
        "      #create a meeting for that slot, and add it to the meetings dictionary\n",
        "      meeting_id = 'M%i'%count\n",
        "      count += 1\n",
        "      #randomly assign an initiator\n",
        "      initiator_idx = random.randint(0,len(attendees)-1)\n",
        "      meetings.update({meeting_id: {'attendees': attendees, 'timeslot':\n",
        "                                    meeting_slot, \n",
        "                                    'initiator': attendees[initiator_idx], \n",
        "                                    'status':'CONFIRMED'}})\n",
        "\n",
        "      \n",
        "      #for each attendee in that meeting, update the calendar and the meetings count\n",
        "      for attendee in attendees:\n",
        "        agents[attendee]['calendar'][meeting_slot]['meeting'] = meeting_id\n",
        "        agents[attendee]['calendar'][meeting_slot]['status'] = 'CONFIRMED'\n",
        "        agents[attendee]['num_meetings']+= 1\n",
        "        \n",
        "        #if the attendees have reached their maximum allowed limit of meetings,\n",
        "        #remove them from available attendees\n",
        "        if  agents[attendee]['busy'] and agents[attendee]['num_meetings'] == num_meetings_busy:\n",
        "          agent_list.remove(attendee)\n",
        "        if  not agents[attendee]['busy'] and agents[attendee]['num_meetings'] == num_meetings_not_busy:\n",
        "          agent_list.remove(attendee)\n",
        "        \n",
        "\n",
        "     \n",
        "  return meetings"
      ],
      "execution_count": 30,
      "outputs": []
    },
    {
      "cell_type": "code",
      "metadata": {
        "id": "94jYGQETTQLs"
      },
      "source": [
        "def list_duplicates(seq):\n",
        "  '''\n",
        "  function that finds duplicates in a list\n",
        "  this is implemented for testing reasons\n",
        "  '''\n",
        "  tally = defaultdict(list)\n",
        "  for i,item in enumerate(seq):\n",
        "      tally[item].append(i)\n",
        "  return ((key,locs) for key,locs in tally.items() \n",
        "                          if len(locs)>1)"
      ],
      "execution_count": 31,
      "outputs": []
    },
    {
      "cell_type": "code",
      "metadata": {
        "id": "iwx37dH9iUIB"
      },
      "source": [
        "\n",
        "\n",
        "def agents_to_dict(a_dictionary):\n",
        "  '''\n",
        "  takes agents dictionary and adjusts it for negotiation protocol\n",
        "  '''\n",
        "\n",
        "  a_dict = deepcopy(a_dictionary)\n",
        "  out = {}\n",
        "  for key in a_dict.keys():\n",
        "    out.update({key: []})\n",
        "    for key_2 in a_dict[key]['calendar'].keys():\n",
        "      if a_dict[key]['calendar'][key_2]['meeting'] != 'No Meeting':\n",
        "        out[key].append([a_dict[key]['calendar'][key_2]['meeting'], key_2,\n",
        "                        a_dict[key]['calendar'][key_2]['status']])\n",
        "  return out\n",
        "\n",
        "def meetings_to_dict(m_dictionary):\n",
        "  '''\n",
        "  takes meetings dictionary and adjusts it for negotiation protocol\n",
        "  '''\n",
        "  m_dict = deepcopy(m_dictionary)\n",
        "  out = {}\n",
        "  for key in m_dict.keys():\n",
        "    out.update({key: {'attendees': m_dict[key]['attendees'],\n",
        "                      'initiator': m_dict[key]['initiator'],\n",
        "                      'timeslots': []}})\n",
        "    \n",
        "    out[key]['timeslots'].append( [m_dict[key]['timeslot'],\n",
        "                                   m_dict[key]['status']])\n",
        "  \n",
        "  return out\n",
        "\n",
        "\n",
        "\n"
      ],
      "execution_count": 32,
      "outputs": []
    },
    {
      "cell_type": "code",
      "metadata": {
        "id": "8T61hkKsazYJ"
      },
      "source": [
        "def create_preferences_dict(a_dict):\n",
        "  '''\n",
        "  takes the dictionary of agaents and returns a corresponding dictionary\n",
        "  of individual preferences based on their meeting distribution\n",
        "  '''\n",
        "\n",
        "  out = {}\n",
        "  keys_list = list(a_dict.keys())\n",
        "  for key in keys_list:\n",
        "    out.update({key:{'calendar': np.zeros((168,)), 'preference': None, 'week': None, 'day': None, 'b2b':None}})\n",
        "    for t in a_dict[key]:\n",
        "      out[key]['calendar'][int(t[1])] = 1\n",
        "    out[key]['calendar_1'] = np.asarray(out[key]['calendar'].reshape((7,24)))\n",
        "\n",
        "  for key in keys_list:\n",
        "    \n",
        "    cal = out[key]['calendar_1']\n",
        "    pred =  predict_preference(model, cal, df_lookup, False)\n",
        "    out[key]['preference'] = pred[0]\n",
        "    out[key]['week'] = pred[1]\n",
        "    out[key]['day'] = pred[2]\n",
        "    out[key]['b2b'] = pred[3]\n",
        "\n",
        "  return out"
      ],
      "execution_count": 33,
      "outputs": []
    },
    {
      "cell_type": "code",
      "metadata": {
        "id": "opIK4i6eOsk6"
      },
      "source": [
        "def create_slot_lookup(day_start, day_end):\n",
        "  '''\n",
        "  funtion that tags each timeslot for preferences\n",
        "  '''\n",
        "  out = {}\n",
        "  available_slots =[i for i in range(day_start, day_end)]\n",
        "  all_available_slots = []\n",
        "\n",
        "  #all available slots (exclude weekends and sleep times)\n",
        "  for i in range(1,6):\n",
        "    new_list = [x+24*i for x in available_slots]\n",
        "    all_available_slots += new_list\n",
        "  \n",
        "  for s in all_available_slots:\n",
        "    out.update({s:{'Week':None, 'Day': None}})\n",
        "  \n",
        "  #get max slot in a week and use it to\n",
        "  #classify slots\n",
        "  keys_list = list(out.keys())\n",
        "  max_key = max(keys_list)\n",
        "\n",
        "  for key in out.keys():\n",
        "    #split week in half\n",
        "    if key <= max_key // 2:\n",
        "      out[key]['Week'] = 'early'\n",
        "    else:\n",
        "      out[key]['Week'] = 'late'\n",
        "    \n",
        "    #slit day in half\n",
        "    if key % 24 < 12:\n",
        "      out[key]['Day'] = 'early'\n",
        "    else:\n",
        "      out[key]['Day'] = 'late'\n",
        "\n",
        "  return out\n",
        "\n"
      ],
      "execution_count": 34,
      "outputs": []
    },
    {
      "cell_type": "code",
      "metadata": {
        "id": "Fe68LQCgtluR"
      },
      "source": [
        "def list_intersection(lst1, lst2):\n",
        "  '''\n",
        "  helper function that finds list intersection\n",
        "  '''\n",
        "  \n",
        "  lst3 = [value for value in lst1 if value in lst2]\n",
        "  return lst3"
      ],
      "execution_count": 35,
      "outputs": []
    },
    {
      "cell_type": "code",
      "metadata": {
        "id": "fAvvVXA5f3BH"
      },
      "source": [
        "def get_prefered_slot(available_slots, a_dict, agent, pref_dict, slot_lookup):\n",
        "  '''\n",
        "  function that takes free slots and checks overlap with preference\n",
        "  returns a list of prefereed slots\n",
        "  '''\n",
        "  \n",
        "  slots = []\n",
        "  day_pref = pref_dict[agent]['day']\n",
        "  week_pref = pref_dict[agent]['week']\n",
        "  b2b_pref = pref_dict[agent]['b2b']\n",
        "\n",
        "\n",
        "  \n",
        "  #print('day_pref:', type(day_pref))\n",
        "  #print('week_pref:', week_pref)\n",
        "  #print('b2b_pref:', b2b_pref)\n",
        "\n",
        "  booked_slots = [str(i[1]) for i in a_dict[agent]]\n",
        "  \n",
        "  if day_pref != 'None' and week_pref != 'None':\n",
        "    #print('both')\n",
        "    for key in slot_lookup.keys():\n",
        "      if slot_lookup[key]['Day'] == day_pref and slot_lookup[key]['Week'] == week_pref:\n",
        "        slots.append(str(key))\n",
        "\n",
        "  if day_pref != 'None' and week_pref == 'None':\n",
        "   # print('day')\n",
        "    for key in slot_lookup.keys():\n",
        "      if slot_lookup[key]['Day'] == day_pref:\n",
        "        slots.append(str(key))\n",
        "\n",
        "  if day_pref == 'None' and week_pref != 'None':\n",
        "   # print('week')\n",
        "    for key in slot_lookup.keys():\n",
        "      if slot_lookup[key]['Week'] == week_pref:\n",
        "        slots.append(str(key))\n",
        "  \n",
        "  if day_pref == 'None' and week_pref == 'None':\n",
        "    slots = available_slots\n",
        "    \n",
        "  out = [str(i) for i in list_intersection(slots, available_slots)]\n",
        "  \n",
        "  if b2b_pref:\n",
        "    b2b_slots = []\n",
        "    for i in out:\n",
        "      for j in booked_slots:\n",
        "        diff = abs(int(i)-int(j))\n",
        "        if diff == 1 or diff == 2:\n",
        "          b2b_slots.append(str(i))\n",
        "    #print('Preferred Slots:', list(set(b2b_slots)))\n",
        "    # print('booked slots:', booked_slots)\n",
        "    # print('prefered slots:', out)\n",
        "\n",
        "    return list(set(b2b_slots))\n",
        "    \n",
        "  else:\n",
        "    #print('Preferred Slots:', out)\n",
        "    return out\n",
        "    \n"
      ],
      "execution_count": 36,
      "outputs": []
    },
    {
      "cell_type": "code",
      "metadata": {
        "id": "nITKBd4_TUCE"
      },
      "source": [
        "def check_for_duplicates(timeslots):\n",
        "  '''\n",
        "  function that takes in timeslots for every meeting\n",
        "  and checks whether there is overlap between attendees\n",
        "  '''\n",
        "  duplicate_timeslots = []\n",
        "  for dup in sorted(list_duplicates(timeslots)):\n",
        "      duplicate_timeslots.append(dup)\n",
        "  final = []\n",
        "  for i in duplicate_timeslots:\n",
        "    attendees_of_duplicates = []\n",
        "    for key in m.keys():\n",
        "      if m[key]['timeslot'] == i[0]:\n",
        "        attendees_of_duplicates.append(m[key]['attendees'])\n",
        "    final.append(attendees_of_duplicates)\n",
        "  for f in final:\n",
        "     overlap = set(f[0]).intersection(*f)\n",
        "     if len(overlap) != 0:\n",
        "       return('MISTAKE')\n",
        "  return 'NO MISTAKE'\n"
      ],
      "execution_count": 37,
      "outputs": []
    },
    {
      "cell_type": "code",
      "metadata": {
        "id": "MbJwfN9i4lOI"
      },
      "source": [
        "def get_number_from_key(key):\n",
        "  '''\n",
        "  helper function to get number in key string\n",
        "  '''\n",
        "  l = list(key)\n",
        "  digits = l[1:]\n",
        "  new_num = int(\"\".join(digits))\n",
        "  return new_num\n"
      ],
      "execution_count": 38,
      "outputs": []
    },
    {
      "cell_type": "code",
      "metadata": {
        "id": "R0p6X26zv3hl"
      },
      "source": [
        "def check(user):\n",
        "  '''\n",
        "  takes a user as an input and\n",
        "  checks whether actual number of meetings matches up \n",
        "  to corresponding entry\n",
        "  '''\n",
        "  counter = 0\n",
        "  for key in new_dict_deepcopy[user]['calendar'].keys():\n",
        "    if new_dict_deepcopy[user]['calendar'][key] != 'No Meeting':\n",
        "      counter += 1\n",
        "  if counter ==  new_dict_deepcopy[user]['num_meetings'] == counter:\n",
        "    return 'CORRECT'\n",
        "  else:\n",
        "    return 'WRONG'\n",
        "\n",
        "\n"
      ],
      "execution_count": 39,
      "outputs": []
    },
    {
      "cell_type": "code",
      "metadata": {
        "id": "0RQLEV2zprlF"
      },
      "source": [
        "\n",
        "def get_new_meeting_id(meeting_ids):\n",
        "  '''\n",
        "  takes previous ids, returns new id\n",
        "  '''\n",
        "  last_id = list(meeting_ids[-1])\n",
        "  digits = last_id[1:]\n",
        "  new_num = int(\"\".join(digits))+1\n",
        "  new_id = last_id[0]+str(new_num)\n",
        "  return new_id\n"
      ],
      "execution_count": 40,
      "outputs": []
    },
    {
      "cell_type": "code",
      "metadata": {
        "id": "-TVyX72a359k"
      },
      "source": [
        "def get_meetings_at_t_2(timeslot, m_dict):\n",
        "  ''' \n",
        "  function that returns all meetings\n",
        "  at timeslot t\n",
        "  '''\n",
        "  m_dict_1 = deepcopy(m_dict)\n",
        "  out = {}\n",
        "  for key in m_dict_1.keys():\n",
        "    for tuple in  m_dict_1[key]['timeslots']:\n",
        "      if tuple[0] == timeslot:\n",
        "        out.update({key:m_dict_1[key]})\n",
        "  return out"
      ],
      "execution_count": 41,
      "outputs": []
    },
    {
      "cell_type": "code",
      "metadata": {
        "id": "jb52CW25yiL6"
      },
      "source": [
        "def bumping_rule_2( attendee,  meeting_in_calendar,meeting_proposed,\n",
        "                   a_dict, m_dict):\n",
        "  '''\n",
        "  function that takes current meeting and proposed meeting and chooses\n",
        "  whether to bump or not\n",
        "  '''\n",
        "  bump = False\n",
        "  diff_list_1 = []\n",
        "  diff_list_2 = []\n",
        "  sum_1 = 0\n",
        "  sum_2 = 0\n",
        "  if attendee not in m_dict[meeting_in_calendar]['attendees']:\n",
        "    return('Wrong Input')\n",
        "  for att in m_dict[meeting_in_calendar]['attendees']:\n",
        "    if att != attendee:\n",
        "      diff_list_1.append(att)\n",
        "  for att in m_dict[meeting_proposed]['attendees']:\n",
        "    if att != attendee:\n",
        "      diff_list_2.append(att)\n",
        "  for i in diff_list_1:\n",
        "    sum_1+=  len(a_dict[i])\n",
        "  for j in diff_list_2:\n",
        "    sum_2+=  len(a_dict[j])\n",
        "  if sum_2 > sum_1:\n",
        "    bump = True\n",
        "  if print_on:\n",
        "    print(attendee, 'deciding whether to bump', meeting_in_calendar, 'for',\n",
        "          meeting_proposed)\n",
        "    print('Difficulty of', meeting_in_calendar, ':', sum_1)\n",
        "    print('Difficulty of', meeting_proposed, ':', sum_2)\n",
        "  return bump"
      ],
      "execution_count": 42,
      "outputs": []
    },
    {
      "cell_type": "code",
      "metadata": {
        "id": "AM7w0dpszkVq"
      },
      "source": [
        "# def create_new_meeting_random_2(num_attendees, a_dict, m_dict):\n",
        "#   '''\n",
        "#   takes in meeting arguments, and creates a pending meeting\n",
        "#   '''\n",
        "#   meeting_ids = list(m_dict.keys())\n",
        "#   new_id = get_new_meeting_id(meeting_ids)\n",
        "#   agent_list = list(a_dict.keys())\n",
        "#   attendees = random.sample(agent_list,num_attendees)\n",
        "#   idx = random.randint(0, len(attendees)-1)\n",
        "#   initiator = attendees[idx]\n",
        "#   timeslots = get_free_slots_2(m_dict, initiator)\n",
        "#   if len(timeslots) == 0:\n",
        "#     return 'No available timeslots for initiator'\n",
        "#   ##############################################################################\n",
        "#   preferred_timeslots = get_prefered_slot(timeslots, a_dict, initiator, pref_dict, slot_lookup)\n",
        "#   global preference_on\n",
        "#   if preference_on:\n",
        "#     t_idx = random.randint(0, len(preferred_timeslots)-1)\n",
        "#     t = preferred_timeslots[t_idx]\n",
        "#     if print_on:\n",
        "#       print('Preferred timeslots of intiator:', preferred_timeslots)\n",
        "#   ##############################################################################\n",
        "#   else:\n",
        "#     t_idx = random.randint(0, len(timeslots)-1)\n",
        "#     t = timeslots [t_idx]\n",
        "    \n",
        "\n",
        "\n",
        "#   out = {new_id: {'attendees': attendees, 'initiator': initiator,\n",
        "#                   'timeslots':[[t, 'PENDING']] }}\n",
        "#   return out\n"
      ],
      "execution_count": 43,
      "outputs": []
    },
    {
      "cell_type": "code",
      "metadata": {
        "id": "BNiYVwgJ3YUb"
      },
      "source": [
        "def create_new_meeting(initiator, attendees, timeslot, m_dict):\n",
        "  '''\n",
        "  takes in meeting arguments, and creates a pending meeting\n",
        "  '''\n",
        "  meeting_ids = list(m_dict.keys())\n",
        "  new_id = get_new_meeting_id(meeting_ids)\n",
        "  \n",
        "  out = {new_id: {'attendees': attendees, 'initiator': initiator,\n",
        "                  'timeslots':[[timeslot, 'PENDING']] }}\n",
        "  return out\n",
        "\n",
        "\n"
      ],
      "execution_count": 44,
      "outputs": []
    },
    {
      "cell_type": "code",
      "metadata": {
        "id": "TUpkiQby5qEM"
      },
      "source": [
        "def initiate_2_negotiation(initiator, attendees, timeslot, a_dict, m_dict):\n",
        "  '''\n",
        "  initiates new meeting with given initiator, attendees and timeslot\n",
        "  '''\n",
        "  #create new meeting:\n",
        "  global round\n",
        "  round+=1\n",
        "\n",
        "  if print_on:\n",
        "    print('--------------------------------------------------')\n",
        "    print('ROUND:',round)\n",
        "    print('--------------------------------------------------')\n",
        "    print('initiated random meeting')\n",
        "  \n",
        "  new_meeting = create_new_meeting(initiator, attendees, str(timeslot), m_dict)\n",
        "\n",
        "  m_dict.update(new_meeting)\n",
        "  new_id = list(new_meeting)[0]\n",
        "\n",
        "  timeslot = new_meeting[new_id]['timeslots'][0][0]\n",
        "  if print_on:\n",
        "    print('ID:', new_id)\n",
        "    print('Proposed timeslot:', timeslot)\n",
        "    print('initiator:',new_meeting[new_id]['initiator'])\n",
        "    print('attendees:', new_meeting[new_id]['attendees'])\n",
        "  #for each attenddee call the next function:\n",
        "  for attendee in new_meeting[new_id]['attendees']:\n",
        "    if attendee !=  new_meeting[new_id]['initiator']: \n",
        "\n",
        "      receive_propose_2(new_id, attendee, timeslot, a_dict, m_dict)"
      ],
      "execution_count": 45,
      "outputs": []
    },
    {
      "cell_type": "code",
      "metadata": {
        "id": "SZpVcC0_T86H"
      },
      "source": [
        "def meetings_to_plots(meetings_dict, agent_list, shape):\n",
        "  num_slots = shape[0]*shape[1]\n",
        "  out = dict()\n",
        "  last_key = list(meetings_dict.keys())[-1]\n",
        "  for key in agent_list:\n",
        "    out.update({key:np.zeros(num_slots)})\n",
        "  \n",
        "  for key in meetings_dict.keys():\n",
        "    for tuple in meetings_dict[key]['timeslots']:\n",
        "      if tuple[-1] == 'CONFIRMED':\n",
        "        slot = int(tuple[0])\n",
        "        for attendee in meetings_dict[key]['attendees']:\n",
        "          if key == last_key:\n",
        "            out[attendee][slot] = 1.5\n",
        "          elif ['IMPOSSIBLE' in tuple for tuple in meetings_dict[key]['timeslots']][0]:\n",
        "            out[attendee][slot] = 2\n",
        "          else:\n",
        "            out[attendee][slot] = 1\n",
        "\n",
        "      \n",
        "      else:\n",
        "        pass\n",
        "  for key in out.keys():\n",
        "    out[key] = out[key].reshape(shape)\n",
        "  return out"
      ],
      "execution_count": 46,
      "outputs": []
    },
    {
      "cell_type": "code",
      "metadata": {
        "id": "meCIFJ9ykY_m"
      },
      "source": [
        "\n"
      ],
      "execution_count": 46,
      "outputs": []
    },
    {
      "cell_type": "markdown",
      "metadata": {
        "id": "6MTjEYjRoQ3o"
      },
      "source": [
        "From this point onwards, the functions correspond to the pseudocode in the paper"
      ]
    },
    {
      "cell_type": "code",
      "metadata": {
        "id": "jH3d8JHMLPFe"
      },
      "source": [
        "def initiate_2(meeting, a_dict, m_dict):\n",
        "  '''\n",
        "  initiates meeting negotiation for pre-defined meeeting\n",
        "  that already has given attendees and initiator\n",
        "  '''\n",
        "  global round\n",
        "  round+=1\n",
        "  if print_on:\n",
        "    print('--------------------------------------------------')\n",
        "    print('ROUND:',round)\n",
        "    print('--------------------------------------------------')\n",
        "    print('re-initiate negotiation for meeting', meeting)\n",
        "\n",
        "  #create new meeting:\n",
        "  \n",
        "  initiator = m_dict[meeting]['initiator']\n",
        "  timeslots = get_free_slots_2(m_dict, initiator)\n",
        "\n",
        "  if len(timeslots) == 0:\n",
        "    return 'No available timeslots for initiator'\n",
        "    \n",
        "  preferred_timeslots = get_prefered_slot(timeslots, a_dict, initiator, pref_dict, slot_lookup)\n",
        "  if len(preferred_timeslots) == 0 and preference_on:\n",
        "    return 'No available timeslots for initiator'\n",
        "  \n",
        "  if preference_on:\n",
        "    t_idx = random.randint(0, len(preferred_timeslots)-1)\n",
        "    t = preferred_timeslots[t_idx]\n",
        "    if print_on:\n",
        "      print('Preferred timeslots:', preferred_timeslots)\n",
        "  \n",
        "  else:\n",
        "    t_idx = random.randint(0, len(timeslots)-1)\n",
        "    t = timeslots[t_idx]\n",
        "\n",
        "\n",
        "  m_dict[meeting]['timeslots'].append([str(t), 'PENDING'])\n",
        "  \n",
        "  if print_on:\n",
        "    print('Proposed timeslot:', str(t))\n",
        "    print('Initiator:', initiator)\n",
        "    print('attendees:', m_dict[meeting]['attendees'])\n",
        "\n",
        "  #for each attenddee call the next function:\n",
        "  for attendee in m_dict[meeting]['attendees']:\n",
        "    #########################\n",
        "    if attendee != initiator: \n",
        "    #########################\n",
        "      receive_propose_2(meeting, attendee, str(t), a_dict, m_dict)"
      ],
      "execution_count": 47,
      "outputs": []
    },
    {
      "cell_type": "code",
      "metadata": {
        "id": "LHm4t8w_XSiv"
      },
      "source": [
        "def receive_propose_2(meeting, attendee, timeslot, a_dict, m_dict):\n",
        "  '''\n",
        "  takes meeting id and proposed timeslot and checks \n",
        "  for individual availability of given\n",
        "  '''\n",
        "  global round\n",
        "  global preference_on\n",
        "  round+=1\n",
        "\n",
        "\n",
        "  #print('Type', type(timeslot))\n",
        "  if round >= 20:\n",
        "    print('**************************************************')\n",
        "    print('**************************************************')\n",
        "    print('DEACTIVATING PREFERENCE. ROUNDS HAVE EXCEEDED 20')\n",
        "    print('**************************************************')\n",
        "    print('**************************************************')\n",
        "\n",
        "\n",
        "\n",
        "    preference_on = False\n",
        "\n",
        "  if print_on:\n",
        "    print('--------------------------------------------------')\n",
        "    print('ROUND:',round)\n",
        "    print('--------------------------------------------------')\n",
        "\n",
        "\n",
        "  other_meetings = []\n",
        "  meetings_at_t = get_meetings_at_t_2(timeslot, m_dict)\n",
        "  for key in meetings_at_t.keys():\n",
        "\n",
        "    if key != meeting and attendee in meetings_at_t[key]['attendees']:\n",
        "      other_meetings.append(key)\n",
        "  \n",
        "  if preference_on:\n",
        "    #############################################################################\n",
        "    ## PREFERENCES\n",
        "    #############################################################################\n",
        "    #timeslots = get_free_slots_2(m_dict, attendee)\n",
        "\n",
        "    #use the preference dictionary to find the preferred timeslots\n",
        "    #of the specific attendee:\n",
        "\n",
        "    available_slots =[i for i in range(5, 23)]\n",
        "    all_available_slots = []\n",
        "    for i in range(1,6):\n",
        "      new_list = [str(x+24*i) for x in available_slots]\n",
        "      all_available_slots += new_list\n",
        "\n",
        "    preferred_timeslots_attendee = get_prefered_slot(all_available_slots, a_dict, attendee,\n",
        "                                            pref_dict, slot_lookup)\n",
        "    if print_on:\n",
        "      print('preferred timeslots of', attendee, ':')\n",
        "      print(preferred_timeslots_attendee)\n",
        "    \n",
        "    #############################################################################\n",
        "    #############################################################################\n",
        "\n",
        "\n",
        "    if len(other_meetings) != 0:\n",
        "      print('other meetings of', attendee,'at', timeslot, ':')\n",
        "      print(other_meetings)\n",
        "\n",
        "      for key in other_meetings:\n",
        "\n",
        "        #if the specific meeting is pending, reply impossible:\n",
        "        for tuple in m_dict[key]['timeslots']:\n",
        "          if print_on:\n",
        "            print('Status of timeslot', timeslot, 'of',\n",
        "                  attendee,'before editing:',key,'-',tuple[1])\n",
        "          if tuple[0] == timeslot and tuple[1] == 'PENDING':\n",
        "            reply =  'IMPOSSIBLE'\n",
        "        \n",
        "        #if the meeting is already confirmed check the bumping rule: \n",
        "          elif tuple[0] == timeslot and tuple[1] == 'CONFIRMED' and timeslot in preferred_timeslots_attendee:\n",
        "            \n",
        "          #if the bumping rule holds, bump current\n",
        "          # meeting and add pending to new\n",
        "            if bumping_rule_2(attendee, key, meeting, a_dict, m_dict):\n",
        "\n",
        "              tuple[1] = 'BUMPED'\n",
        "              print(attendee,'bumped', key, 'for',meeting)\n",
        "              for tuple_2 in m_dict[meeting]['timeslots']:\n",
        "                if tuple_2[0] == timeslot:\n",
        "                  tuple_2[1] = 'PENDING'\n",
        "              reply = 'PENDING'\n",
        "          \n",
        "            else:\n",
        "              if print_on:\n",
        "                print(attendee,'did not bump', key, 'for', meeting)\n",
        "              reply = 'IMPOSSIBLE'\n",
        "\n",
        "          elif tuple[0] == timeslot and tuple[1] == 'CONFIRMED' and timeslot not in preferred_timeslots_attendee:\n",
        "\n",
        "            if print_on:\n",
        "              print(attendee,'did not bump', key, 'since they do not prefer that slot')\n",
        "            reply = 'IMPOSSIBLE'\n",
        "          \n",
        "        \n",
        "          #cover the BUMPED case\n",
        "          # elif tuple[0] == timeslot and tuple[1] == 'BUMPED' and timeslot in preferred_timeslots_attendee:\n",
        "          #   if print_on:\n",
        "          #     print(attendee,'has a bumped meeting at that timeslot')\n",
        "          #   reply = 'PENDING'\n",
        "          \n",
        "          # elif tuple[0] == timeslot and tuple[1] == 'BUMPED' and timeslot not in preferred_timeslots_attendee:\n",
        "          #   reply = 'IMPOSSIBLE'\n",
        "          \n",
        "          else: #if tuple[0] == timeslot and (tuple[1] == 'BUMPED' or tuple[1] == 'IMPOSSIBLE' or tuple[1] == 'POSSIBLE'):\n",
        "            if timeslot in preferred_timeslots_attendee:\n",
        "              reply =  'PENDING'\n",
        "            else:\n",
        "              reply = 'IMPOSSIBLE'\n",
        "            \n",
        "\n",
        "\n",
        "\n",
        "    ### BUMPED case not covered? ###\n",
        "    #if there is no meeting at that timeslot, reply pending\n",
        "    else:\n",
        "      if print_on:\n",
        "        print(attendee, 'has no meeting at that timeslot')\n",
        "      if timeslot in preferred_timeslots_attendee:\n",
        "        if print_on:\n",
        "          print('The proposed timeslot is within the prefered slots of', attendee)\n",
        "        for tuple_2 in m_dict[meeting]['timeslots']:\n",
        "          if tuple_2[0] == timeslot:\n",
        "            tuple_2[1] = 'PENDING'\n",
        "\n",
        "\n",
        "        reply = 'PENDING'\n",
        "\n",
        "      else:\n",
        "        if print_on:\n",
        "          print(attendee,'does not prefer timeslot', timeslot, 'for', meeting)\n",
        "        reply = 'IMPOSSIBLE'\n",
        "\n",
        "\n",
        "################################################################################\n",
        "################################################################################\n",
        "\n",
        "  else:\n",
        "    if len(other_meetings) != 0:\n",
        "      if print_on:\n",
        "        print('other meetings of', attendee,'at', timeslot, ':')\n",
        "        print(other_meetings)\n",
        "\n",
        "      for key in other_meetings:\n",
        "\n",
        "        #if the specific meeting is pending, reply impossible:\n",
        "        for tuple in m_dict[key]['timeslots']:\n",
        "          if print_on:\n",
        "            print('Status of timeslot', timeslot, 'of',\n",
        "                  attendee,'before editing:',key,'-',tuple[1])\n",
        "          if tuple[0] == timeslot and tuple[1] == 'PENDING':\n",
        "            reply =  'IMPOSSIBLE'\n",
        "        \n",
        "        #if the meeting is already confirmed check the bumping rule: \n",
        "          elif tuple[0] == timeslot and tuple[1] == 'CONFIRMED':\n",
        "\n",
        "          #if the bumping rule holds, bump current\n",
        "          # meeting and add pending to new\n",
        "            if bumping_rule_2(attendee, key, meeting, a_dict, m_dict):\n",
        "\n",
        "              tuple[1] = 'BUMPED'\n",
        "              if print_on:\n",
        "                print(attendee,'bumped', key, 'for',meeting)\n",
        "              for tuple_2 in m_dict[meeting]['timeslots']:\n",
        "                if tuple_2[0] == timeslot:\n",
        "                  tuple_2[1] = 'PENDING'\n",
        "              reply = 'PENDING'\n",
        "          \n",
        "            else:\n",
        "              if print_on:\n",
        "                print(attendee,'did not bump', key, 'for', meeting)\n",
        "              reply = 'IMPOSSIBLE'\n",
        "          \n",
        "          #cover the BUMPED case\n",
        "          else: #if tuple[0] == timeslot and (tuple[1] == 'BUMPED' or tuple[1] == 'IMPOSSIBLE' or tuple[1] == 'POSSIBLE'):\n",
        "            if print_on:\n",
        "              print(attendee,'has a', tuple[1], 'meeting at that timeslot')\n",
        "            reply =  'PENDING'\n",
        "\n",
        "    ### BUMPED case not covered? ###\n",
        "    #if there is no meeting at that timeslot, reply pending\n",
        "    else:\n",
        "      if print_on:\n",
        "        print(attendee,'has no other meetings at', timeslot)\n",
        "      for tuple_2 in m_dict[meeting]['timeslots']:\n",
        "        if tuple_2[0] == timeslot:\n",
        "          tuple_2[1] = 'PENDING'\n",
        "\n",
        "\n",
        "      reply = 'PENDING'\n",
        "\n",
        "\n",
        "    \n",
        "  if print_on:\n",
        "    print('Attendee', attendee, 'replied',reply)\n",
        "\n",
        "  receive_reply_2(meeting, str(timeslot), reply, attendee,  a_dict, m_dict)"
      ],
      "execution_count": 48,
      "outputs": []
    },
    {
      "cell_type": "code",
      "metadata": {
        "id": "Kd0UGczuTpVY"
      },
      "source": [
        " def receive_reply_2(meeting, timeslot, reply, attendee, a_dict, m_dict):\n",
        "\n",
        "  '''\n",
        "  function that takes the replies of attendees for proposed meeting\n",
        "  and checks for possible intersection.\n",
        "  If not new timeslot is proposed\n",
        "  '''\n",
        "  global round\n",
        "  round+=1\n",
        "  if print_on:\n",
        "    print('--------------------------------------------------')\n",
        "    print('ROUND:',round)\n",
        "    print('--------------------------------------------------')\n",
        "  reply_list = []\n",
        "  a_dict[attendee].append([meeting, timeslot, reply])\n",
        "\n",
        "  if print_on:\n",
        "    print('initiator',m_dict[meeting]['initiator'],\n",
        "          'received reply from', attendee )\n",
        "  \n",
        "  for attendee in m_dict[meeting]['attendees']:\n",
        "    ############################################\n",
        "    if attendee != m_dict[meeting]['initiator']:\n",
        "      ##########################################\n",
        "      for tuple in a_dict[attendee]:\n",
        "        if tuple[0] == meeting and tuple[1] == timeslot:\n",
        "          reply_list.append(tuple[2])\n",
        "    \n",
        "  #print(reply_list)\n",
        "  ##########################################################\n",
        "  if len(reply_list) == len(m_dict[meeting]['attendees'])-1:\n",
        "  ##########################################################\n",
        "    if print_on:\n",
        "      print('All attendees have replied')\n",
        "      print()\n",
        "    \n",
        "    t_list = []\n",
        "    s_list = []\n",
        "\n",
        "    for attendee in m_dict[meeting]['attendees']:\n",
        "      if attendee != m_dict[meeting]['initiator']:\n",
        "\n",
        "        for tuple in a_dict[attendee]:\n",
        "          if tuple[0] == meeting and tuple[1] == timeslot:\n",
        "            t_list.append(tuple)\n",
        "            s_list.append(tuple[2])\n",
        "    \n",
        "    if print_on:\n",
        "      print('collected replies list:')\n",
        "      print()\n",
        "      print(s_list)\n",
        "      print()\n",
        "    \n",
        "    if len(set(s_list)) == 1 and s_list[0] == 'PENDING':\n",
        "      \n",
        "      t_dash = str(t_list[0][1])\n",
        "\n",
        "      if print_on:\n",
        "        print('confirmed timeslot:', t_dash, 'for', meeting)\n",
        "      \n",
        "      for tuple in m_dict[meeting]['timeslots']:\n",
        "        if tuple[0] == t_dash:\n",
        "\n",
        "          tuple[1] = 'CONFIRMED'\n",
        "          resolved_2(meeting, a_dict, m_dict)\n",
        "\n",
        "          if print_on:\n",
        "            print('attendees of', meeting, m_dict[meeting]['attendees'])\n",
        "          \n",
        "          for attendee in m_dict[meeting]['attendees']:\n",
        "            ###########################################\n",
        "            if attendee != m_dict[meeting]['initiator']:\n",
        "              if print_on:\n",
        "                print('send confirm to attendee', attendee)\n",
        "                print()\n",
        "              receive_confirm_2(meeting, str(t_dash), attendee, a_dict, m_dict)\n",
        "            ###########################################\n",
        "            \n",
        "            \n",
        "          \n",
        "          for key in m_dict.keys():\n",
        "\n",
        "            for tuple_2 in m_dict[key]['timeslots']:\n",
        "              if tuple_2[0] == t_dash and tuple_2[1] == 'BUMPED':\n",
        "                if print_on:\n",
        "                  print('reschedule ',key)\n",
        "                #return 'Reschedule'\n",
        "                ##################################################\n",
        "                reschedule_2(key, m_dict[key]['initiator'], a_dict, m_dict)\n",
        "                ##################################################\n",
        "      \n",
        "    else:\n",
        "\n",
        "      free_slots = get_free_slots_2(m_dict, m_dict[meeting]['initiator'])\n",
        "      \n",
        "      #if no free slot is found send fail\n",
        "      if len(free_slots) == 0:\n",
        "        if print_on:\n",
        "          print('null')\n",
        "        \n",
        "        #############################################\n",
        "        resolved_2(meeting, a_dict, m_dict)\n",
        "        for attendee in m_dict[meeting]['attendees']:\n",
        "          if attendee != m_dict[meeting]['initiator']:\n",
        "            receive_fail_2(meeting, attendee, a_dict, m_dict)\n",
        "\n",
        "            if print_on:\n",
        "              print('send meeting', meeting, 'FAILED to', attendee)\n",
        "        #############################################\n",
        "\n",
        "      \n",
        "      else:\n",
        "\n",
        "        #find new timeslot\n",
        "        t_idx = random.randint(0, len(free_slots)-1)\n",
        "        t_dash_dash = free_slots[t_idx]\n",
        "        if print_on:\n",
        "          print('alternative timeslot for', meeting, ':', t_dash_dash)\n",
        "\n",
        "        for key in m_dict.keys():\n",
        "\n",
        "          if key == meeting:\n",
        "            m_dict[key]['timeslots'].append([str(t_dash_dash), 'PENDING'])####################\n",
        "\n",
        "            for attendee in m_dict[key]['attendees']:\n",
        "              if attendee != m_dict[meeting]['initiator']:\n",
        "\n",
        "                #propose alternative timeslot to attendees\n",
        "                if print_on:\n",
        "                  print('propose alternative slot to', attendee)\n",
        "                receive_propose_2(meeting, attendee,\n",
        "                                  str(t_dash_dash), a_dict, m_dict)\n",
        "              \n",
        "             \n",
        "    \n",
        "  else:\n",
        "    pass\n",
        "                                              \n",
        "\n",
        "\n",
        "\n",
        "\n",
        "\n",
        "\n"
      ],
      "execution_count": 49,
      "outputs": []
    },
    {
      "cell_type": "code",
      "metadata": {
        "id": "MsD1pxveUYbu"
      },
      "source": [
        "def receive_confirm_2(meeting, timeslot, attendee, a_dict, m_dict):\n",
        "  '''\n",
        "  function for changing status of confirmed meeting\n",
        "  '''\n",
        "  global round\n",
        "  round+=1\n",
        "\n",
        "  if print_on:\n",
        "    print('--------------------------------------------------')\n",
        "    print('ROUND:',round)\n",
        "    print('--------------------------------------------------')  \n",
        "    print(attendee, 'receiving confirmation for', meeting)\n",
        "  \n",
        "  for tuple in m_dict[meeting]['timeslots']:\n",
        "    if tuple[0] == timeslot:\n",
        "      tuple[1] = 'CONFIRMED'\n",
        "      resolved_2(meeting, a_dict, m_dict)\n",
        "  \n",
        "  for key in m_dict.keys():\n",
        "    for tuple_2 in m_dict[key]['timeslots']:\n",
        "      if tuple_2[0] == timeslot and tuple_2[1] == 'BUMPED':\n",
        "        reschedule_2(key, attendee, a_dict, m_dict)"
      ],
      "execution_count": 50,
      "outputs": []
    },
    {
      "cell_type": "code",
      "metadata": {
        "id": "8fgf5YArYuPf"
      },
      "source": [
        "def receive_fail_2(meeting, attendee, a_dict, m_dict):\n",
        "  \n",
        "  global round\n",
        "  round+=1\n",
        "\n",
        "  if print_on:\n",
        "    print('--------------------------------------------------')\n",
        "    print('ROUND:',round)\n",
        "    print('--------------------------------------------------')\n",
        "    print('attendee', attendee, 'received fail for', meeting)\n",
        "    \n",
        "  resolved_2(meeting, a_dict, m_dict)"
      ],
      "execution_count": 51,
      "outputs": []
    },
    {
      "cell_type": "code",
      "metadata": {
        "id": "-Y7fKyh7Iy_X"
      },
      "source": [
        "def receive_reschedule_2(meeting, attendee, a_dict, m_dict):\n",
        "  \n",
        "  global round\n",
        "  round+=1\n",
        "\n",
        "  if print_on:\n",
        "    print('--------------------------------------------------')\n",
        "    print('ROUND:',round)\n",
        "    print('--------------------------------------------------') \n",
        "    print(attendee, 'received reschedule')\n",
        "  reschedule_2(meeting, attendee, a_dict, m_dict)"
      ],
      "execution_count": 52,
      "outputs": []
    },
    {
      "cell_type": "code",
      "metadata": {
        "id": "FyQOb_fIjzoi"
      },
      "source": [
        "def reschedule_2(meeting, attendee, a_dict, m_dict):\n",
        "  '''\n",
        "  function that reschedules meeting\n",
        "  '''\n",
        "  global round\n",
        "  round+=1\n",
        "\n",
        "  if print_on:\n",
        "    print('--------------------------------------------------')\n",
        "    print('ROUND:',round)\n",
        "    print('--------------------------------------------------')\n",
        "\n",
        "    print('rescheduling', meeting)\n",
        "  \n",
        "  initiator = m_dict[meeting]['initiator']\n",
        "  attendees = m_dict[meeting]['attendees']\n",
        "  \n",
        "  if initiator == attendee:\n",
        "    if print_on:\n",
        "      print(attendee, 'is the initiator')\n",
        "      \n",
        "    for tuple in m_dict[meeting]['timeslots']: ### was key\n",
        "      if tuple[1] == 'BUMPED' or tuple[1] == 'CONFIRMED':\n",
        "        if print_on:\n",
        "          print('Changing the status of', meeting, 'at', tuple[0], 'from',\n",
        "                tuple[1], 'to IMPOSSIBLE')\n",
        "        tuple[1] = 'IMPOSSIBLE'\n",
        "\n",
        "    \n",
        "    for attendee in m_dict[meeting]['attendees']:\n",
        "      if attendee != m_dict[meeting]['initiator']:\n",
        "\n",
        "        for tuple_2 in a_dict[attendee]:\n",
        "          if tuple_2[2] == 'IMPOSSIBLE' or tuple_2[2] == 'PENDING':\n",
        "            tuple_2[2] = 'POSSIBLE'\n",
        "    \n",
        "    initiate_2(meeting, a_dict, m_dict)\n",
        "  \n",
        "  else:\n",
        "    receive_reschedule_2(meeting, initiator, a_dict, m_dict)\n",
        "\n"
      ],
      "execution_count": 53,
      "outputs": []
    },
    {
      "cell_type": "code",
      "metadata": {
        "id": "2MPEB0vwwNW_"
      },
      "source": [
        "def resolved_2(meeting, a_dict, m_dict):\n",
        "  '''\n",
        "  final function that resolves meetings that\n",
        "  are either confirmed or failed\n",
        "  '''\n",
        "  global round\n",
        "  round+=1\n",
        "\n",
        "  if print_on:\n",
        "    print('--------------------------------------------------')\n",
        "    print('ROUND:',round)\n",
        "    print('--------------------------------------------------')\n",
        "\n",
        "    print('resolving', meeting)\n",
        "\n",
        "  for key in m_dict.keys():\n",
        "    if key == meeting:\n",
        "      for tuple in m_dict[meeting]['timeslots']:\n",
        "        if tuple[1] == 'PENDING':\n",
        "          slot = tuple[0]\n",
        "          tuple[1] = 'POSSIBLE'\n",
        "\n",
        "          if print_on:\n",
        "            print('changed status of', meeting,\n",
        "                  'at', slot, 'from PENDING to POSSIBLE')\n",
        "\n",
        "          for key in m_dict.keys():\n",
        "            for tuple_2 in m_dict[key]['timeslots']:\n",
        "              if tuple_2[0] == slot and tuple_2[1] == 'BUMPED':\n",
        "                tuple_2[1] = 'CONFIRMED'\n",
        "\n",
        "                if print_on:\n",
        "                  print('changed status of', meeting, 'at',\n",
        "                        slot, 'from BUMPED to CONFIRMED')\n",
        "          \n"
      ],
      "execution_count": 54,
      "outputs": []
    },
    {
      "cell_type": "code",
      "metadata": {
        "id": "DD-VKFBxZYCG"
      },
      "source": [
        "\n",
        "def get_confirmed_meetings_at_t(timeslot, m_dict):\n",
        "  ''' \n",
        "  function that returns all meetings\n",
        "  at timeslot t\n",
        "  '''\n",
        "  m_dict_1 = deepcopy(m_dict)\n",
        "  out = {}\n",
        "  for key in m_dict_1.keys():\n",
        "    for tuple in  m_dict_1[key]['timeslots']:\n",
        "      if tuple[0] == timeslot and tuple[1] == 'CONFIRMED':\n",
        "        out.update({key:m_dict_1[key]})\n",
        "  return out\n",
        "\n"
      ],
      "execution_count": 55,
      "outputs": []
    },
    {
      "cell_type": "code",
      "metadata": {
        "id": "htSjUeBVnN6C"
      },
      "source": [
        "def check_for_overlaps(m_dict):\n",
        "  '''\n",
        "  function that checks whether attendees have more\n",
        "  than one meeting in the same timeslot\n",
        "  '''\n",
        "\n",
        "  overlap_count = 0\n",
        "  timeslots = [str(i) for i in range(168)]\n",
        "  confirmed_meetings_at_t = []\n",
        "\n",
        "  for t in timeslots:\n",
        "    confirmed_meetings_at_t.append(get_confirmed_meetings_at_t(t, m_dict))\n",
        "\n",
        "  double_confirmed_meetings_at_t = []\n",
        "  for i in confirmed_meetings_at_t:\n",
        "    if len(i) > 1:\n",
        "      double_confirmed_meetings_at_t.append(i)\n",
        "\n",
        "  attendees_in_doubles = {}\n",
        "\n",
        "  for d in double_confirmed_meetings_at_t:\n",
        "\n",
        "    d_list = []\n",
        "    for key in d.keys():\n",
        "      d_list.append(set(d[key]['attendees']))\n",
        "\n",
        "    for key in d.keys():\n",
        "\n",
        "      for t in d[key]['timeslots']:\n",
        "        if t[1] == 'CONFIRMED':\n",
        "          key_2 = t[0]\n",
        "          break\n",
        "    \n",
        "    attendees_in_doubles.update({key_2:d_list})  \n",
        "\n",
        "  print('attendees in each timeslot:')\n",
        "  print()\n",
        "  print(attendees_in_doubles)\n",
        "  print()\n",
        "  for key in attendees_in_doubles.keys():\n",
        "    lst = attendees_in_doubles[key]\n",
        "    overlap = lst[0].intersection(*lst)\n",
        "    if len(overlap) != 0:\n",
        "      overlap_count += 1\n",
        "      print('Overlap at timeslot', key)\n",
        "\n",
        "  if overlap_count == 0:\n",
        "    return 'Correct, no overlap found'\n",
        "  else:\n",
        "    return 'Overlaps found'\n"
      ],
      "execution_count": 56,
      "outputs": []
    },
    {
      "cell_type": "code",
      "metadata": {
        "id": "8MxLbYofkiIN"
      },
      "source": [
        "week_dict = create_week_dict(5,23,168)\n",
        "all_agents_full = create_agents_week(num_agents, 0.5,week_dict)"
      ],
      "execution_count": 57,
      "outputs": []
    },
    {
      "cell_type": "code",
      "metadata": {
        "id": "uI4dnd_sk09V"
      },
      "source": [
        "#create a copy of the agent dictionary and use it to create meetings:\n",
        "day_start = 5\n",
        "day_end = 23\n",
        "num_slots = (day_end-day_start)*5\n",
        "new_dict_deepcopy = deepcopy(all_agents_full)\n",
        "m = create_meetings(new_dict_deepcopy,num_slots,0.5,0.3,2,5)"
      ],
      "execution_count": 58,
      "outputs": []
    },
    {
      "cell_type": "code",
      "metadata": {
        "id": "4vwe2rcMk8OG"
      },
      "source": [
        "#create the meetings dictionary\n",
        "meetings = meetings_to_dict(m)\n",
        "meetings_before = deepcopy(meetings)\n",
        "agents = agents_to_dict(new_dict_deepcopy)"
      ],
      "execution_count": 59,
      "outputs": []
    },
    {
      "cell_type": "code",
      "metadata": {
        "id": "RJExWOullEf-"
      },
      "source": [
        "pref_dict = create_preferences_dict(agents)\n",
        "slot_lookup = create_slot_lookup(5,23)\n",
        "for key in pref_dict.keys():\n",
        "  pref_dict[key]['7x24'] = pref_dict[key]['calendar'].reshape((7,24))"
      ],
      "execution_count": 60,
      "outputs": []
    },
    {
      "cell_type": "code",
      "metadata": {
        "colab": {
          "base_uri": "https://localhost:8080/"
        },
        "id": "d4YnL7xT9ttp",
        "outputId": "1385e982-c6eb-408d-cc8c-1a49fe7a05bc"
      },
      "source": [
        "print(100*'-')\n",
        "print('Preference dictionary for agents:')\n",
        "print(100*'-')\n",
        "pprint(pref_dict)\n",
        "print(100*'-')\n",
        "print(100*'-')"
      ],
      "execution_count": 61,
      "outputs": [
        {
          "output_type": "stream",
          "text": [
            "----------------------------------------------------------------------------------------------------\n",
            "Preference dictionary for agents:\n",
            "----------------------------------------------------------------------------------------------------\n",
            "{'A0': {'7x24': array([[0., 0., 0., 0., 0., 0., 0., 0., 0., 0., 0., 0., 0., 0., 0., 0.,\n",
            "        0., 0., 0., 0., 0., 0., 0., 0.],\n",
            "       [0., 0., 0., 0., 0., 1., 0., 0., 1., 0., 0., 1., 0., 0., 0., 0.,\n",
            "        0., 0., 1., 1., 0., 1., 0., 0.],\n",
            "       [0., 0., 0., 0., 0., 1., 0., 0., 1., 0., 0., 0., 1., 0., 1., 1.,\n",
            "        0., 0., 0., 0., 1., 0., 1., 0.],\n",
            "       [0., 0., 0., 0., 0., 0., 0., 0., 0., 0., 0., 0., 0., 0., 0., 0.,\n",
            "        0., 0., 1., 1., 1., 0., 0., 0.],\n",
            "       [0., 0., 0., 0., 0., 1., 0., 0., 0., 0., 0., 0., 0., 0., 0., 1.,\n",
            "        1., 0., 0., 1., 0., 0., 0., 0.],\n",
            "       [0., 0., 0., 0., 0., 0., 1., 1., 0., 1., 0., 0., 0., 0., 1., 0.,\n",
            "        1., 1., 0., 1., 0., 0., 0., 0.],\n",
            "       [0., 0., 0., 0., 0., 0., 0., 0., 0., 0., 0., 0., 0., 0., 0., 0.,\n",
            "        0., 0., 0., 0., 0., 0., 0., 0.]]),\n",
            "        'b2b': True,\n",
            "        'calendar': array([0., 0., 0., 0., 0., 0., 0., 0., 0., 0., 0., 0., 0., 0., 0., 0., 0.,\n",
            "       0., 0., 0., 0., 0., 0., 0., 0., 0., 0., 0., 0., 1., 0., 0., 1., 0.,\n",
            "       0., 1., 0., 0., 0., 0., 0., 0., 1., 1., 0., 1., 0., 0., 0., 0., 0.,\n",
            "       0., 0., 1., 0., 0., 1., 0., 0., 0., 1., 0., 1., 1., 0., 0., 0., 0.,\n",
            "       1., 0., 1., 0., 0., 0., 0., 0., 0., 0., 0., 0., 0., 0., 0., 0., 0.,\n",
            "       0., 0., 0., 0., 0., 1., 1., 1., 0., 0., 0., 0., 0., 0., 0., 0., 1.,\n",
            "       0., 0., 0., 0., 0., 0., 0., 0., 0., 1., 1., 0., 0., 1., 0., 0., 0.,\n",
            "       0., 0., 0., 0., 0., 0., 0., 1., 1., 0., 1., 0., 0., 0., 0., 1., 0.,\n",
            "       1., 1., 0., 1., 0., 0., 0., 0., 0., 0., 0., 0., 0., 0., 0., 0., 0.,\n",
            "       0., 0., 0., 0., 0., 0., 0., 0., 0., 0., 0., 0., 0., 0., 0.]),\n",
            "        'calendar_1': array([[0., 0., 0., 0., 0., 0., 0., 0., 0., 0., 0., 0., 0., 0., 0., 0.,\n",
            "        0., 0., 0., 0., 0., 0., 0., 0.],\n",
            "       [0., 0., 0., 0., 0., 1., 0., 0., 1., 0., 0., 1., 0., 0., 0., 0.,\n",
            "        0., 0., 1., 1., 0., 1., 0., 0.],\n",
            "       [0., 0., 0., 0., 0., 1., 0., 0., 1., 0., 0., 0., 1., 0., 1., 1.,\n",
            "        0., 0., 0., 0., 1., 0., 1., 0.],\n",
            "       [0., 0., 0., 0., 0., 0., 0., 0., 0., 0., 0., 0., 0., 0., 0., 0.,\n",
            "        0., 0., 1., 1., 1., 0., 0., 0.],\n",
            "       [0., 0., 0., 0., 0., 1., 0., 0., 0., 0., 0., 0., 0., 0., 0., 1.,\n",
            "        1., 0., 0., 1., 0., 0., 0., 0.],\n",
            "       [0., 0., 0., 0., 0., 0., 1., 1., 0., 1., 0., 0., 0., 0., 1., 0.,\n",
            "        1., 1., 0., 1., 0., 0., 0., 0.],\n",
            "       [0., 0., 0., 0., 0., 0., 0., 0., 0., 0., 0., 0., 0., 0., 0., 0.,\n",
            "        0., 0., 0., 0., 0., 0., 0., 0.]]),\n",
            "        'day': 'late',\n",
            "        'preference': 14,\n",
            "        'week': 'None'},\n",
            " 'A1': {'7x24': array([[0., 0., 0., 0., 0., 0., 0., 0., 0., 0., 0., 0., 0., 0., 0., 0.,\n",
            "        0., 0., 0., 0., 0., 0., 0., 0.],\n",
            "       [0., 0., 0., 0., 0., 1., 0., 0., 0., 0., 0., 0., 0., 0., 0., 0.,\n",
            "        0., 0., 1., 1., 0., 1., 0., 0.],\n",
            "       [0., 0., 0., 0., 0., 1., 0., 1., 1., 0., 0., 1., 1., 0., 1., 0.,\n",
            "        0., 0., 0., 1., 0., 0., 1., 0.],\n",
            "       [0., 0., 0., 0., 0., 1., 0., 0., 0., 0., 0., 0., 0., 0., 0., 0.,\n",
            "        0., 1., 1., 1., 1., 0., 0., 0.],\n",
            "       [0., 0., 0., 0., 0., 1., 0., 0., 0., 0., 0., 0., 0., 0., 0., 1.,\n",
            "        1., 0., 0., 1., 1., 0., 0., 0.],\n",
            "       [0., 0., 0., 0., 0., 0., 1., 0., 0., 1., 0., 0., 0., 0., 1., 0.,\n",
            "        1., 1., 0., 0., 0., 0., 0., 0.],\n",
            "       [0., 0., 0., 0., 0., 0., 0., 0., 0., 0., 0., 0., 0., 0., 0., 0.,\n",
            "        0., 0., 0., 0., 0., 0., 0., 0.]]),\n",
            "        'b2b': True,\n",
            "        'calendar': array([0., 0., 0., 0., 0., 0., 0., 0., 0., 0., 0., 0., 0., 0., 0., 0., 0.,\n",
            "       0., 0., 0., 0., 0., 0., 0., 0., 0., 0., 0., 0., 1., 0., 0., 0., 0.,\n",
            "       0., 0., 0., 0., 0., 0., 0., 0., 1., 1., 0., 1., 0., 0., 0., 0., 0.,\n",
            "       0., 0., 1., 0., 1., 1., 0., 0., 1., 1., 0., 1., 0., 0., 0., 0., 1.,\n",
            "       0., 0., 1., 0., 0., 0., 0., 0., 0., 1., 0., 0., 0., 0., 0., 0., 0.,\n",
            "       0., 0., 0., 0., 1., 1., 1., 1., 0., 0., 0., 0., 0., 0., 0., 0., 1.,\n",
            "       0., 0., 0., 0., 0., 0., 0., 0., 0., 1., 1., 0., 0., 1., 1., 0., 0.,\n",
            "       0., 0., 0., 0., 0., 0., 0., 1., 0., 0., 1., 0., 0., 0., 0., 1., 0.,\n",
            "       1., 1., 0., 0., 0., 0., 0., 0., 0., 0., 0., 0., 0., 0., 0., 0., 0.,\n",
            "       0., 0., 0., 0., 0., 0., 0., 0., 0., 0., 0., 0., 0., 0., 0.]),\n",
            "        'calendar_1': array([[0., 0., 0., 0., 0., 0., 0., 0., 0., 0., 0., 0., 0., 0., 0., 0.,\n",
            "        0., 0., 0., 0., 0., 0., 0., 0.],\n",
            "       [0., 0., 0., 0., 0., 1., 0., 0., 0., 0., 0., 0., 0., 0., 0., 0.,\n",
            "        0., 0., 1., 1., 0., 1., 0., 0.],\n",
            "       [0., 0., 0., 0., 0., 1., 0., 1., 1., 0., 0., 1., 1., 0., 1., 0.,\n",
            "        0., 0., 0., 1., 0., 0., 1., 0.],\n",
            "       [0., 0., 0., 0., 0., 1., 0., 0., 0., 0., 0., 0., 0., 0., 0., 0.,\n",
            "        0., 1., 1., 1., 1., 0., 0., 0.],\n",
            "       [0., 0., 0., 0., 0., 1., 0., 0., 0., 0., 0., 0., 0., 0., 0., 1.,\n",
            "        1., 0., 0., 1., 1., 0., 0., 0.],\n",
            "       [0., 0., 0., 0., 0., 0., 1., 0., 0., 1., 0., 0., 0., 0., 1., 0.,\n",
            "        1., 1., 0., 0., 0., 0., 0., 0.],\n",
            "       [0., 0., 0., 0., 0., 0., 0., 0., 0., 0., 0., 0., 0., 0., 0., 0.,\n",
            "        0., 0., 0., 0., 0., 0., 0., 0.]]),\n",
            "        'day': 'late',\n",
            "        'preference': 14,\n",
            "        'week': 'None'},\n",
            " 'A2': {'7x24': array([[0., 0., 0., 0., 0., 0., 0., 0., 0., 0., 0., 0., 0., 0., 0., 0.,\n",
            "        0., 0., 0., 0., 0., 0., 0., 0.],\n",
            "       [0., 0., 0., 0., 0., 1., 1., 0., 0., 1., 0., 0., 0., 1., 0., 0.,\n",
            "        0., 1., 1., 1., 0., 1., 1., 0.],\n",
            "       [0., 0., 0., 0., 0., 0., 1., 1., 1., 0., 0., 1., 1., 0., 0., 1.,\n",
            "        1., 0., 1., 1., 1., 1., 1., 0.],\n",
            "       [0., 0., 0., 0., 0., 1., 1., 1., 0., 1., 0., 0., 0., 0., 1., 0.,\n",
            "        0., 1., 1., 0., 0., 0., 0., 0.],\n",
            "       [0., 0., 0., 0., 0., 1., 0., 0., 0., 0., 0., 0., 1., 0., 0., 0.,\n",
            "        1., 1., 0., 1., 1., 1., 0., 0.],\n",
            "       [0., 0., 0., 0., 0., 1., 1., 0., 0., 1., 0., 0., 1., 1., 1., 1.,\n",
            "        1., 0., 1., 1., 0., 0., 0., 0.],\n",
            "       [0., 0., 0., 0., 0., 0., 0., 0., 0., 0., 0., 0., 0., 0., 0., 0.,\n",
            "        0., 0., 0., 0., 0., 0., 0., 0.]]),\n",
            "        'b2b': True,\n",
            "        'calendar': array([0., 0., 0., 0., 0., 0., 0., 0., 0., 0., 0., 0., 0., 0., 0., 0., 0.,\n",
            "       0., 0., 0., 0., 0., 0., 0., 0., 0., 0., 0., 0., 1., 1., 0., 0., 1.,\n",
            "       0., 0., 0., 1., 0., 0., 0., 1., 1., 1., 0., 1., 1., 0., 0., 0., 0.,\n",
            "       0., 0., 0., 1., 1., 1., 0., 0., 1., 1., 0., 0., 1., 1., 0., 1., 1.,\n",
            "       1., 1., 1., 0., 0., 0., 0., 0., 0., 1., 1., 1., 0., 1., 0., 0., 0.,\n",
            "       0., 1., 0., 0., 1., 1., 0., 0., 0., 0., 0., 0., 0., 0., 0., 0., 1.,\n",
            "       0., 0., 0., 0., 0., 0., 1., 0., 0., 0., 1., 1., 0., 1., 1., 1., 0.,\n",
            "       0., 0., 0., 0., 0., 0., 1., 1., 0., 0., 1., 0., 0., 1., 1., 1., 1.,\n",
            "       1., 0., 1., 1., 0., 0., 0., 0., 0., 0., 0., 0., 0., 0., 0., 0., 0.,\n",
            "       0., 0., 0., 0., 0., 0., 0., 0., 0., 0., 0., 0., 0., 0., 0.]),\n",
            "        'calendar_1': array([[0., 0., 0., 0., 0., 0., 0., 0., 0., 0., 0., 0., 0., 0., 0., 0.,\n",
            "        0., 0., 0., 0., 0., 0., 0., 0.],\n",
            "       [0., 0., 0., 0., 0., 1., 1., 0., 0., 1., 0., 0., 0., 1., 0., 0.,\n",
            "        0., 1., 1., 1., 0., 1., 1., 0.],\n",
            "       [0., 0., 0., 0., 0., 0., 1., 1., 1., 0., 0., 1., 1., 0., 0., 1.,\n",
            "        1., 0., 1., 1., 1., 1., 1., 0.],\n",
            "       [0., 0., 0., 0., 0., 1., 1., 1., 0., 1., 0., 0., 0., 0., 1., 0.,\n",
            "        0., 1., 1., 0., 0., 0., 0., 0.],\n",
            "       [0., 0., 0., 0., 0., 1., 0., 0., 0., 0., 0., 0., 1., 0., 0., 0.,\n",
            "        1., 1., 0., 1., 1., 1., 0., 0.],\n",
            "       [0., 0., 0., 0., 0., 1., 1., 0., 0., 1., 0., 0., 1., 1., 1., 1.,\n",
            "        1., 0., 1., 1., 0., 0., 0., 0.],\n",
            "       [0., 0., 0., 0., 0., 0., 0., 0., 0., 0., 0., 0., 0., 0., 0., 0.,\n",
            "        0., 0., 0., 0., 0., 0., 0., 0.]]),\n",
            "        'day': 'None',\n",
            "        'preference': 16,\n",
            "        'week': 'None'},\n",
            " 'A3': {'7x24': array([[0., 0., 0., 0., 0., 0., 0., 0., 0., 0., 0., 0., 0., 0., 0., 0.,\n",
            "        0., 0., 0., 0., 0., 0., 0., 0.],\n",
            "       [0., 0., 0., 0., 0., 1., 1., 0., 0., 1., 0., 1., 0., 1., 0., 0.,\n",
            "        0., 1., 1., 0., 0., 0., 1., 0.],\n",
            "       [0., 0., 0., 0., 0., 1., 1., 1., 1., 0., 0., 0., 0., 0., 0., 1.,\n",
            "        1., 0., 1., 0., 0., 1., 0., 0.],\n",
            "       [0., 0., 0., 0., 0., 1., 1., 1., 0., 1., 0., 0., 0., 0., 1., 0.,\n",
            "        0., 1., 1., 1., 1., 0., 0., 0.],\n",
            "       [0., 0., 0., 0., 0., 1., 0., 0., 0., 0., 0., 0., 1., 0., 0., 0.,\n",
            "        1., 0., 0., 1., 0., 1., 0., 0.],\n",
            "       [0., 0., 0., 0., 0., 1., 1., 0., 0., 1., 0., 0., 1., 1., 1., 1.,\n",
            "        0., 0., 1., 0., 0., 0., 0., 0.],\n",
            "       [0., 0., 0., 0., 0., 0., 0., 0., 0., 0., 0., 0., 0., 0., 0., 0.,\n",
            "        0., 0., 0., 0., 0., 0., 0., 0.]]),\n",
            "        'b2b': True,\n",
            "        'calendar': array([0., 0., 0., 0., 0., 0., 0., 0., 0., 0., 0., 0., 0., 0., 0., 0., 0.,\n",
            "       0., 0., 0., 0., 0., 0., 0., 0., 0., 0., 0., 0., 1., 1., 0., 0., 1.,\n",
            "       0., 1., 0., 1., 0., 0., 0., 1., 1., 0., 0., 0., 1., 0., 0., 0., 0.,\n",
            "       0., 0., 1., 1., 1., 1., 0., 0., 0., 0., 0., 0., 1., 1., 0., 1., 0.,\n",
            "       0., 1., 0., 0., 0., 0., 0., 0., 0., 1., 1., 1., 0., 1., 0., 0., 0.,\n",
            "       0., 1., 0., 0., 1., 1., 1., 1., 0., 0., 0., 0., 0., 0., 0., 0., 1.,\n",
            "       0., 0., 0., 0., 0., 0., 1., 0., 0., 0., 1., 0., 0., 1., 0., 1., 0.,\n",
            "       0., 0., 0., 0., 0., 0., 1., 1., 0., 0., 1., 0., 0., 1., 1., 1., 1.,\n",
            "       0., 0., 1., 0., 0., 0., 0., 0., 0., 0., 0., 0., 0., 0., 0., 0., 0.,\n",
            "       0., 0., 0., 0., 0., 0., 0., 0., 0., 0., 0., 0., 0., 0., 0.]),\n",
            "        'calendar_1': array([[0., 0., 0., 0., 0., 0., 0., 0., 0., 0., 0., 0., 0., 0., 0., 0.,\n",
            "        0., 0., 0., 0., 0., 0., 0., 0.],\n",
            "       [0., 0., 0., 0., 0., 1., 1., 0., 0., 1., 0., 1., 0., 1., 0., 0.,\n",
            "        0., 1., 1., 0., 0., 0., 1., 0.],\n",
            "       [0., 0., 0., 0., 0., 1., 1., 1., 1., 0., 0., 0., 0., 0., 0., 1.,\n",
            "        1., 0., 1., 0., 0., 1., 0., 0.],\n",
            "       [0., 0., 0., 0., 0., 1., 1., 1., 0., 1., 0., 0., 0., 0., 1., 0.,\n",
            "        0., 1., 1., 1., 1., 0., 0., 0.],\n",
            "       [0., 0., 0., 0., 0., 1., 0., 0., 0., 0., 0., 0., 1., 0., 0., 0.,\n",
            "        1., 0., 0., 1., 0., 1., 0., 0.],\n",
            "       [0., 0., 0., 0., 0., 1., 1., 0., 0., 1., 0., 0., 1., 1., 1., 1.,\n",
            "        0., 0., 1., 0., 0., 0., 0., 0.],\n",
            "       [0., 0., 0., 0., 0., 0., 0., 0., 0., 0., 0., 0., 0., 0., 0., 0.,\n",
            "        0., 0., 0., 0., 0., 0., 0., 0.]]),\n",
            "        'day': 'None',\n",
            "        'preference': 16,\n",
            "        'week': 'None'},\n",
            " 'A4': {'7x24': array([[0., 0., 0., 0., 0., 0., 0., 0., 0., 0., 0., 0., 0., 0., 0., 0.,\n",
            "        0., 0., 0., 0., 0., 0., 0., 0.],\n",
            "       [0., 0., 0., 0., 0., 0., 1., 0., 1., 0., 0., 0., 0., 0., 0., 0.,\n",
            "        0., 0., 1., 1., 0., 0., 0., 0.],\n",
            "       [0., 0., 0., 0., 0., 1., 0., 0., 1., 0., 0., 0., 1., 0., 1., 1.,\n",
            "        0., 0., 0., 1., 1., 0., 0., 0.],\n",
            "       [0., 0., 0., 0., 0., 0., 0., 0., 0., 0., 0., 0., 0., 0., 0., 0.,\n",
            "        0., 1., 1., 1., 1., 0., 0., 0.],\n",
            "       [0., 0., 0., 0., 0., 1., 0., 0., 0., 0., 0., 0., 0., 0., 0., 0.,\n",
            "        1., 1., 0., 1., 1., 0., 0., 0.],\n",
            "       [0., 0., 0., 0., 0., 0., 1., 1., 0., 1., 0., 0., 0., 1., 1., 0.,\n",
            "        1., 1., 0., 0., 0., 0., 0., 0.],\n",
            "       [0., 0., 0., 0., 0., 0., 0., 0., 0., 0., 0., 0., 0., 0., 0., 0.,\n",
            "        0., 0., 0., 0., 0., 0., 0., 0.]]),\n",
            "        'b2b': True,\n",
            "        'calendar': array([0., 0., 0., 0., 0., 0., 0., 0., 0., 0., 0., 0., 0., 0., 0., 0., 0.,\n",
            "       0., 0., 0., 0., 0., 0., 0., 0., 0., 0., 0., 0., 0., 1., 0., 1., 0.,\n",
            "       0., 0., 0., 0., 0., 0., 0., 0., 1., 1., 0., 0., 0., 0., 0., 0., 0.,\n",
            "       0., 0., 1., 0., 0., 1., 0., 0., 0., 1., 0., 1., 1., 0., 0., 0., 1.,\n",
            "       1., 0., 0., 0., 0., 0., 0., 0., 0., 0., 0., 0., 0., 0., 0., 0., 0.,\n",
            "       0., 0., 0., 0., 1., 1., 1., 1., 0., 0., 0., 0., 0., 0., 0., 0., 1.,\n",
            "       0., 0., 0., 0., 0., 0., 0., 0., 0., 0., 1., 1., 0., 1., 1., 0., 0.,\n",
            "       0., 0., 0., 0., 0., 0., 0., 1., 1., 0., 1., 0., 0., 0., 1., 1., 0.,\n",
            "       1., 1., 0., 0., 0., 0., 0., 0., 0., 0., 0., 0., 0., 0., 0., 0., 0.,\n",
            "       0., 0., 0., 0., 0., 0., 0., 0., 0., 0., 0., 0., 0., 0., 0.]),\n",
            "        'calendar_1': array([[0., 0., 0., 0., 0., 0., 0., 0., 0., 0., 0., 0., 0., 0., 0., 0.,\n",
            "        0., 0., 0., 0., 0., 0., 0., 0.],\n",
            "       [0., 0., 0., 0., 0., 0., 1., 0., 1., 0., 0., 0., 0., 0., 0., 0.,\n",
            "        0., 0., 1., 1., 0., 0., 0., 0.],\n",
            "       [0., 0., 0., 0., 0., 1., 0., 0., 1., 0., 0., 0., 1., 0., 1., 1.,\n",
            "        0., 0., 0., 1., 1., 0., 0., 0.],\n",
            "       [0., 0., 0., 0., 0., 0., 0., 0., 0., 0., 0., 0., 0., 0., 0., 0.,\n",
            "        0., 1., 1., 1., 1., 0., 0., 0.],\n",
            "       [0., 0., 0., 0., 0., 1., 0., 0., 0., 0., 0., 0., 0., 0., 0., 0.,\n",
            "        1., 1., 0., 1., 1., 0., 0., 0.],\n",
            "       [0., 0., 0., 0., 0., 0., 1., 1., 0., 1., 0., 0., 0., 1., 1., 0.,\n",
            "        1., 1., 0., 0., 0., 0., 0., 0.],\n",
            "       [0., 0., 0., 0., 0., 0., 0., 0., 0., 0., 0., 0., 0., 0., 0., 0.,\n",
            "        0., 0., 0., 0., 0., 0., 0., 0.]]),\n",
            "        'day': 'late',\n",
            "        'preference': 14,\n",
            "        'week': 'None'}}\n",
            "----------------------------------------------------------------------------------------------------\n",
            "----------------------------------------------------------------------------------------------------\n"
          ],
          "name": "stdout"
        }
      ]
    },
    {
      "cell_type": "code",
      "metadata": {
        "id": "7YSU1xi_KDlq"
      },
      "source": [
        "cmap = colors.ListedColormap(['purple', 'yellow', 'red','orange'])\n",
        "bounds=[0,0.5,1,1.5,2,2.5]\n",
        "norm = colors.BoundaryNorm(bounds, cmap.N)"
      ],
      "execution_count": 62,
      "outputs": []
    },
    {
      "cell_type": "code",
      "metadata": {
        "colab": {
          "base_uri": "https://localhost:8080/",
          "height": 817
        },
        "id": "b-xacU8eXNWi",
        "outputId": "2a301ac9-f7ed-4b31-813b-7ca944214d10"
      },
      "source": [
        "for key in pref_dict.keys():\n",
        "  print('Calendar for agent',key, ':')\n",
        "  #plt.imshow(pref_dict[key]['7x24'])\n",
        "  plt.imshow(pref_dict[key]['7x24'], interpolation='nearest',\n",
        "                    cmap=cmap, norm=norm)\n",
        "\n",
        "  plt.yticks(ticks = list(range(7)), labels = ['Sunday', 'Monday', 'Tuesday', 'Wednesday', 'Thursday', 'Friday', 'Saturday'])\n",
        "  plt.xticks(ticks = list(range(24)),labels =  list(range(24)))\n",
        "  plt.xlabel('Timeslot')\n",
        "  plt.ylabel('Week Index')\n",
        "  plt.show()"
      ],
      "execution_count": 63,
      "outputs": [
        {
          "output_type": "stream",
          "text": [
            "Calendar for agent A0 :\n"
          ],
          "name": "stdout"
        },
        {
          "output_type": "display_data",
          "data": {
            "image/png": "[encoded data removed]",
            "text/plain": [
              "<Figure size 432x288 with 1 Axes>"
            ]
          },
          "metadata": {
            "needs_background": "light"
          }
        },
        {
          "output_type": "stream",
          "text": [
            "Calendar for agent A1 :\n"
          ],
          "name": "stdout"
        },
        {
          "output_type": "display_data",
          "data": {
            "image/png": "[encoded data removed]",
            "text/plain": [
              "<Figure size 432x288 with 1 Axes>"
            ]
          },
          "metadata": {
            "needs_background": "light"
          }
        },
        {
          "output_type": "stream",
          "text": [
            "Calendar for agent A2 :\n"
          ],
          "name": "stdout"
        },
        {
          "output_type": "display_data",
          "data": {
            "image/png": "[encoded data removed]",
            "text/plain": [
              "<Figure size 432x288 with 1 Axes>"
            ]
          },
          "metadata": {
            "needs_background": "light"
          }
        },
        {
          "output_type": "stream",
          "text": [
            "Calendar for agent A3 :\n"
          ],
          "name": "stdout"
        },
        {
          "output_type": "display_data",
          "data": {
            "image/png": "[encoded data removed]",
            "text/plain": [
              "<Figure size 432x288 with 1 Axes>"
            ]
          },
          "metadata": {
            "needs_background": "light"
          }
        },
        {
          "output_type": "stream",
          "text": [
            "Calendar for agent A4 :\n"
          ],
          "name": "stdout"
        },
        {
          "output_type": "display_data",
          "data": {
            "image/png": "[encoded data removed]",
            "text/plain": [
              "<Figure size 432x288 with 1 Axes>"
            ]
          },
          "metadata": {
            "needs_background": "light"
          }
        }
      ]
    },
    {
      "cell_type": "code",
      "metadata": {
        "id": "3q6N-tIvR9EU"
      },
      "source": [
        "#source: https://stackoverflow.com/questions/17874360/python-how-to-parse-the-body-from-a-raw-email-given-that-raw-email-does-not\n",
        "\n",
        "\n",
        "raw_email = \"\"\"From A0 Thu Jul 25 19:28:59 2013\n",
        "Received: from a1.local.tld (localhost [127.0.0.1])\n",
        "    by a1.local.tld (8.14.4/8.14.4) with ESMTP id r6Q2SxeQ003866\n",
        "    for <A1,A2>; Thu, 25 Jul 2013 19:28:59 -0700\n",
        "Received: (from A0)\n",
        "    by a1.local.tld (8.14.4/8.14.4/Submit) id r6Q2Sxbh003865;\n",
        "    Thu, 25 Jul 2013 19:28:59 -0700\n",
        "From: A0\n",
        "Subject: oooooooooooooooo\n",
        "To: A1, A2\n",
        "Cc: \n",
        "X-Originating-IP: 192.168.15.127\n",
        "X-Mailer: Webmin 1.420\n",
        "Message-Id: <1374805739.3861@a1>\n",
        "Date: Thu, 25 Jul 2013 19:28:59 -0700 (PDT)\n",
        "MIME-Version: 1.0\n",
        "Content-Type: multipart/mixed; boundary=\"bound1374805739\"\n",
        "\n",
        "This is a multi-part message in MIME format.\n",
        "\n",
        "--bound1374805739\n",
        "Content-Type: text/plain\n",
        "Content-Transfer-Encoding: 7bit\n",
        "\n",
        "\n",
        "'Hi Robert and Chiraag, can we schedule a meeting on Monday at 5pm to discuss the thesis'\n",
        "\n",
        "\n",
        "--bound1374805739--\"\"\""
      ],
      "execution_count": 64,
      "outputs": []
    },
    {
      "cell_type": "code",
      "metadata": {
        "id": "cP0XVsl2SGsN",
        "colab": {
          "base_uri": "https://localhost:8080/"
        },
        "outputId": "3b28499a-5523-49e1-8def-88a0ebbcb3e9"
      },
      "source": [
        "message = email.message_from_string(raw_email)\n",
        "#Person who sent email:\n",
        "from_who = message['from']\n",
        "\n",
        "#Recipients:\n",
        "to_who = message['to']\n",
        "\n",
        "#Get main body of email:\n",
        "if message.is_multipart():\n",
        "  for payload in message.get_payload():\n",
        "    # if payload.is_multipart(): ...\n",
        "    body = payload.get_payload()\n",
        "    print(payload.get_payload())\n",
        "else:\n",
        "  body = payload.get_payload()\n",
        "  print(payload.get_payload())"
      ],
      "execution_count": 65,
      "outputs": [
        {
          "output_type": "stream",
          "text": [
            "\n",
            "'Hi Robert and Chiraag, can we schedule a meeting on Monday at 5pm to discuss the thesis'\n",
            "\n",
            "\n"
          ],
          "name": "stdout"
        }
      ]
    },
    {
      "cell_type": "code",
      "metadata": {
        "id": "s2UeLDUNSMU7",
        "colab": {
          "base_uri": "https://localhost:8080/"
        },
        "outputId": "5ce386a3-1e99-434b-f252-3ca492dd5871"
      },
      "source": [
        "#Person who sent email is the intiator:\n",
        "initiator = from_who\n",
        "\n",
        "#Recipients are assumed to be the remaining attendees:\n",
        "attendees = to_who.split(',')\n",
        "for i in range(len(attendees)):\n",
        "  attendees[i] = attendees[i].strip()\n",
        "\n",
        "attendees.append(initiator)\n",
        "\n",
        "print('Initiator:', initiator)\n",
        "print('Attendees:', attendees)\n",
        "\n",
        "for attendee in attendees:\n",
        "  if attendee not in agents.keys():\n",
        "    raise ValueError('Wrong attendee inputs')"
      ],
      "execution_count": 66,
      "outputs": [
        {
          "output_type": "stream",
          "text": [
            "Initiator: A0\n",
            "Attendees: ['A1', 'A2', 'A0']\n"
          ],
          "name": "stdout"
        }
      ]
    },
    {
      "cell_type": "code",
      "metadata": {
        "id": "FVoFfXy_5TPp",
        "colab": {
          "base_uri": "https://localhost:8080/"
        },
        "outputId": "de9885c2-cba7-40cf-bdaf-d66a64a193df"
      },
      "source": [
        "#Get available slots of initiator:\n",
        "initiator_free_slots = get_free_slots_2(meetings, initiator)\n",
        "print('Free slots of initiator:')\n",
        "print(initiator_free_slots)"
      ],
      "execution_count": 67,
      "outputs": [
        {
          "output_type": "stream",
          "text": [
            "Free slots of initiator:\n",
            "[30, 31, 33, 34, 36, 37, 38, 39, 40, 41, 44, 46, 54, 55, 57, 58, 59, 61, 64, 65, 66, 67, 69, 77, 78, 79, 80, 81, 82, 83, 84, 85, 86, 87, 88, 89, 93, 94, 102, 103, 104, 105, 106, 107, 108, 109, 110, 113, 114, 116, 117, 118, 125, 128, 130, 131, 132, 133, 135, 138, 140, 141, 142]\n"
          ],
          "name": "stdout"
        }
      ]
    },
    {
      "cell_type": "code",
      "metadata": {
        "id": "_0vSQNdv4zdS",
        "colab": {
          "base_uri": "https://localhost:8080/"
        },
        "outputId": "87263c42-ebb9-42a8-b1c0-4dce279a4c70"
      },
      "source": [
        "#Preprocess main body and check whether it contains meeting request\n",
        "body_2 = 'Hi Robert, could you please review the attached evaluation report'\n",
        "body_3 = 'New Calendar entry request for tuesday 10:00'\n",
        "processed_random_text = process_text(body)\n",
        "prediction = predict_meeting_request(model_LSTM, processed_random_text, vocab_obj)\n",
        "\n",
        "#If text contains a meeting request:\n",
        "if prediction == 0:\n",
        "  print(100*'-')\n",
        "  print('String contains meeting request. ')\n",
        "  print(100*'-')\n",
        "  print()\n",
        "\n",
        "  date = date_from_text(body)\n",
        "  time = time_from_text(body)\n",
        "  print(100*'-')\n",
        "  print('Date:', date)\n",
        "  print(100*'-')\n",
        "  print()\n",
        "  print(100*'-')\n",
        "  print('Time:', time)\n",
        "  print(100*'-')\n",
        "\n",
        "elif prediction == 1:\n",
        "  print('String does not contains meeting request.')\n",
        "else:\n",
        "  print('Something wrong')"
      ],
      "execution_count": 68,
      "outputs": [
        {
          "output_type": "stream",
          "text": [
            "----------------------------------------------------------------------------------------------------\n",
            "String contains meeting request. \n",
            "----------------------------------------------------------------------------------------------------\n",
            "\n",
            "----------------------------------------------------------------------------------------------------\n",
            "Date: 2021-08-30\n",
            "----------------------------------------------------------------------------------------------------\n",
            "\n",
            "----------------------------------------------------------------------------------------------------\n",
            "Time: 17:00:00\n",
            "----------------------------------------------------------------------------------------------------\n"
          ],
          "name": "stdout"
        }
      ]
    },
    {
      "cell_type": "code",
      "metadata": {
        "id": "wjkKOE9_Laqi"
      },
      "source": [
        ""
      ],
      "execution_count": 68,
      "outputs": []
    },
    {
      "cell_type": "code",
      "metadata": {
        "id": "cZTx1n7m5Erw",
        "colab": {
          "base_uri": "https://localhost:8080/",
          "height": 1000
        },
        "outputId": "40fcab34-40a8-4acd-c4c0-f6eb228b71ab"
      },
      "source": [
        "#If text contains a meeting request\n",
        "\n",
        "if prediction == 0:\n",
        "  \n",
        "  #Convert datetime objects to timeslot:\n",
        "  timeslot = get_slot_from_datetime(time, date)\n",
        "  print('Timeslot:', timeslot)\n",
        "\n",
        "  if timeslot in initiator_free_slots:\n",
        "    print_on = True\n",
        "    preference_on = True\n",
        "    round = 0\n",
        "\n",
        "    initiate_2_negotiation(initiator, attendees, timeslot, agents, meetings)\n",
        "    if print_on:\n",
        "      print()\n",
        "      print('--------------------------------------------------')\n",
        "      print('--------------------------------------------------')\n",
        "      print()\n",
        "      print('PROCESS HAS ENDED')\n",
        "      print('TOTAL ROUNDS OF NEGOTIATION:',round)\n",
        "      print()\n",
        "      print('--------------------------------------------------')\n",
        "      print('--------------------------------------------------')\n",
        "    \n",
        "    #Plot the calendars\n",
        "    agent_list = list(agents.keys())\n",
        "    calendars_after = meetings_to_plots(meetings, agent_list, (7,24))\n",
        "    \n",
        "    \n",
        "    for key in calendars_after.keys():\n",
        "      print('Calendar for agent',key, ':')\n",
        "      #plt.imshow(calendars_after[key])\n",
        "      f = plt.figure(figsize=(18,2))\n",
        "      f.add_subplot(1,2, 1)\n",
        "      plt.title('Calendar of agent {} Before Negotiation'.format(key))\n",
        "      plt.imshow(pref_dict[key]['7x24'], interpolation='nearest',\n",
        "                        cmap=cmap, norm=norm)\n",
        "      plt.yticks(ticks = list(range(7)), labels = ['Sunday', 'Monday', 'Tuesday', 'Wednesday', 'Thursday', 'Friday', 'Saturday'])\n",
        "      plt.xticks(ticks = list(range(24)),labels =  list(range(24)))\n",
        "      plt.xlabel('Timeslot')\n",
        "      plt.ylabel('Week Index')\n",
        "\n",
        "      f.add_subplot(1,2, 2)\n",
        "      plt.title('Calendar of agent {} After Negotiation'.format(key))\n",
        "      plt.imshow(calendars_after[key], interpolation='nearest',\n",
        "                      cmap=cmap, norm=norm)\n",
        "\n",
        "      plt.yticks(ticks = list(range(7)), labels = ['Sunday', 'Monday', 'Tuesday', 'Wednesday', 'Thursday', 'Friday', 'Saturday'])\n",
        "      plt.xticks(ticks = list(range(24)),labels =  list(range(24)))\n",
        "      plt.xlabel('Timeslot')\n",
        "      plt.ylabel('Week Index')\n",
        "      plt.show(block=True)\n",
        "\n",
        "\n",
        "  else:\n",
        "    print('Timeslot is not available')"
      ],
      "execution_count": 69,
      "outputs": [
        {
          "output_type": "stream",
          "text": [
            "Timeslot: 41\n",
            "--------------------------------------------------\n",
            "ROUND: 1\n",
            "--------------------------------------------------\n",
            "initiated random meeting\n",
            "ID: M54\n",
            "Proposed timeslot: 41\n",
            "initiator: A0\n",
            "attendees: ['A1', 'A2', 'A0']\n",
            "--------------------------------------------------\n",
            "ROUND: 2\n",
            "--------------------------------------------------\n",
            "preferred timeslots of A1 :\n",
            "['60', '90', '111', '134', '44', '45', '42', '68', '92', '116', '118', '66', '132', '137', '65', '89', '88', '64', '117', '63', '115', '138', '135', '136', '114', '87', '139', '43', '40', '109', '110', '112', '133', '93', '61', '46', '94', '91', '62', '69', '41', '113']\n",
            "A1 has no meeting at that timeslot\n",
            "The proposed timeslot is within the prefered slots of A1\n",
            "Attendee A1 replied PENDING\n",
            "--------------------------------------------------\n",
            "ROUND: 3\n",
            "--------------------------------------------------\n",
            "initiator A0 received reply from A1\n",
            "--------------------------------------------------\n",
            "ROUND: 4\n",
            "--------------------------------------------------\n",
            "preferred timeslots of A2 :\n",
            "['60', '131', '107', '44', '58', '128', '79', '132', '34', '39', '88', '30', '117', '106', '63', '138', '87', '109', '112', '46', '69', '140', '42', '84', '116', '65', '136', '127', '61', '62', '53', '57', '80', '90', '134', '85', '45', '92', '68', '126', '29', '118', '125', '103', '38', '64', '102', '82', '35', '43', '133', '31', '110', '56', '55', '78', '91', '70', '130', '83', '111', '32', '81', '66', '137', '89', '141', '36', '54', '115', '77', '67', '135', '114', '139', '40', '59', '41', '113']\n",
            "other meetings of A2 at 41 :\n",
            "['M36']\n",
            "Status of timeslot 41 of A2 before editing: M36 - CONFIRMED\n",
            "A2 deciding whether to bump M36 for M54\n",
            "Difficulty of M36 : 38\n",
            "Difficulty of M54 : 55\n",
            "A2 bumped M36 for M54\n",
            "Attendee A2 replied PENDING\n",
            "--------------------------------------------------\n",
            "ROUND: 5\n",
            "--------------------------------------------------\n",
            "initiator A0 received reply from A2\n",
            "All attendees have replied\n",
            "\n",
            "collected replies list:\n",
            "\n",
            "['PENDING', 'PENDING']\n",
            "\n",
            "confirmed timeslot: 41 for M54\n",
            "--------------------------------------------------\n",
            "ROUND: 6\n",
            "--------------------------------------------------\n",
            "resolving M54\n",
            "attendees of M54 ['A1', 'A2', 'A0']\n",
            "send confirm to attendee A1\n",
            "\n",
            "--------------------------------------------------\n",
            "ROUND: 7\n",
            "--------------------------------------------------\n",
            "A1 receiving confirmation for M54\n",
            "--------------------------------------------------\n",
            "ROUND: 8\n",
            "--------------------------------------------------\n",
            "resolving M54\n",
            "--------------------------------------------------\n",
            "ROUND: 9\n",
            "--------------------------------------------------\n",
            "rescheduling M36\n",
            "--------------------------------------------------\n",
            "ROUND: 10\n",
            "--------------------------------------------------\n",
            "A2 received reschedule\n",
            "--------------------------------------------------\n",
            "ROUND: 11\n",
            "--------------------------------------------------\n",
            "rescheduling M36\n",
            "A2 is the initiator\n",
            "Changing the status of M36 at 41 from BUMPED to IMPOSSIBLE\n",
            "--------------------------------------------------\n",
            "ROUND: 12\n",
            "--------------------------------------------------\n",
            "re-initiate negotiation for meeting M36\n",
            "Preferred timeslots: ['130', '57', '80', '131', '83', '107', '111', '140', '44', '85', '92', '84', '58', '32', '118', '103', '38', '128', '137', '65', '34', '39', '88', '141', '36', '106', '102', '82', '35', '114', '87', '127', '40', '31', '109', '110', '61', '91', '62', '53']\n",
            "Proposed timeslot: 109\n",
            "Initiator: A2\n",
            "attendees: ['A2', 'A3']\n",
            "--------------------------------------------------\n",
            "ROUND: 13\n",
            "--------------------------------------------------\n",
            "preferred timeslots of A3 :\n",
            "['130', '57', '80', '131', '83', '90', '107', '33', '111', '44', '134', '85', '45', '42', '68', '92', '84', '58', '126', '32', '29', '81', '116', '118', '125', '103', '38', '128', '66', '79', '132', '65', '137', '89', '34', '39', '88', '30', '64', '36', '54', '106', '117', '63', '77', '102', '115', '82', '67', '135', '136', '35', '114', '140', '37', '87', '127', '139', '43', '40', '31', '109', '110', '133', '56', '93', '61', '55', '78', '94', '91', '62', '70', '53', '41', '113']\n",
            "A3 has no meeting at that timeslot\n",
            "The proposed timeslot is within the prefered slots of A3\n",
            "Attendee A3 replied PENDING\n",
            "--------------------------------------------------\n",
            "ROUND: 14\n",
            "--------------------------------------------------\n",
            "initiator A2 received reply from A3\n",
            "All attendees have replied\n",
            "\n",
            "collected replies list:\n",
            "\n",
            "['PENDING']\n",
            "\n",
            "confirmed timeslot: 109 for M36\n",
            "--------------------------------------------------\n",
            "ROUND: 15\n",
            "--------------------------------------------------\n",
            "resolving M36\n",
            "attendees of M36 ['A2', 'A3']\n",
            "send confirm to attendee A3\n",
            "\n",
            "--------------------------------------------------\n",
            "ROUND: 16\n",
            "--------------------------------------------------\n",
            "A3 receiving confirmation for M36\n",
            "--------------------------------------------------\n",
            "ROUND: 17\n",
            "--------------------------------------------------\n",
            "resolving M36\n",
            "send confirm to attendee A2\n",
            "\n",
            "--------------------------------------------------\n",
            "ROUND: 18\n",
            "--------------------------------------------------\n",
            "A2 receiving confirmation for M54\n",
            "--------------------------------------------------\n",
            "ROUND: 19\n",
            "--------------------------------------------------\n",
            "resolving M54\n",
            "\n",
            "--------------------------------------------------\n",
            "--------------------------------------------------\n",
            "\n",
            "PROCESS HAS ENDED\n",
            "TOTAL ROUNDS OF NEGOTIATION: 19\n",
            "\n",
            "--------------------------------------------------\n",
            "--------------------------------------------------\n",
            "Calendar for agent A0 :\n"
          ],
          "name": "stdout"
        },
        {
          "output_type": "display_data",
          "data": {
            "image/png": "[encoded data removed]",
            "text/plain": [
              "<Figure size 1296x144 with 2 Axes>"
            ]
          },
          "metadata": {
            "needs_background": "light"
          }
        },
        {
          "output_type": "stream",
          "text": [
            "Calendar for agent A1 :\n"
          ],
          "name": "stdout"
        },
        {
          "output_type": "display_data",
          "data": {
            "image/png": "[encoded data removed]",
            "text/plain": [
              "<Figure size 1296x144 with 2 Axes>"
            ]
          },
          "metadata": {
            "needs_background": "light"
          }
        },
        {
          "output_type": "stream",
          "text": [
            "Calendar for agent A2 :\n"
          ],
          "name": "stdout"
        },
        {
          "output_type": "display_data",
          "data": {
            "image/png": "[encoded data removed]",
            "text/plain": [
              "<Figure size 1296x144 with 2 Axes>"
            ]
          },
          "metadata": {
            "needs_background": "light"
          }
        },
        {
          "output_type": "stream",
          "text": [
            "Calendar for agent A3 :\n"
          ],
          "name": "stdout"
        },
        {
          "output_type": "display_data",
          "data": {
            "image/png": "[encoded data removed]",
            "text/plain": [
              "<Figure size 1296x144 with 2 Axes>"
            ]
          },
          "metadata": {
            "needs_background": "light"
          }
        },
        {
          "output_type": "stream",
          "text": [
            "Calendar for agent A4 :\n"
          ],
          "name": "stdout"
        },
        {
          "output_type": "display_data",
          "data": {
            "image/png": "[encoded data removed]",
            "text/plain": [
              "<Figure size 1296x144 with 2 Axes>"
            ]
          },
          "metadata": {
            "needs_background": "light"
          }
        }
      ]
    },
    {
      "cell_type": "code",
      "metadata": {
        "id": "aoCZjm_Ltu-v",
        "colab": {
          "base_uri": "https://localhost:8080/"
        },
        "outputId": "908d0449-43c6-466e-9da5-7e42114d6d27"
      },
      "source": [
        "new_id ='M'+ str(max([get_number_from_key(key) for key in meetings.keys()]))\n",
        "meetings[new_id]"
      ],
      "execution_count": 70,
      "outputs": [
        {
          "output_type": "execute_result",
          "data": {
            "text/plain": [
              "{'attendees': ['A1', 'A2', 'A0'],\n",
              " 'initiator': 'A0',\n",
              " 'timeslots': [['41', 'CONFIRMED']]}"
            ]
          },
          "metadata": {},
          "execution_count": 70
        }
      ]
    },
    {
      "cell_type": "code",
      "metadata": {
        "id": "fVcCB_hHuWZg"
      },
      "source": [
        "# body  = 'Upcoming board meeting in one week'\n",
        "\n",
        "# date = date_from_text(body)\n",
        "# time = time_from_text(body)\n",
        "# print(100*'-')\n",
        "# print('Date:', date)\n",
        "# print(100*'-')\n",
        "# print()\n",
        "# print(100*'-')\n",
        "# print('Time:', time)\n",
        "# print(100*'-')\n",
        "\n"
      ],
      "execution_count": 71,
      "outputs": []
    },
    {
      "cell_type": "code",
      "metadata": {
        "colab": {
          "base_uri": "https://localhost:8080/"
        },
        "id": "Idu4LrnN8qcp",
        "outputId": "539427b3-fd7a-47df-ed6a-648337a706db"
      },
      "source": [
        "meetings"
      ],
      "execution_count": 72,
      "outputs": [
        {
          "output_type": "execute_result",
          "data": {
            "text/plain": [
              "{'M0': {'attendees': ['A1', 'A4', 'A2'],\n",
              "  'initiator': 'A4',\n",
              "  'timeslots': [['116', 'CONFIRMED']]},\n",
              " 'M1': {'attendees': ['A2', 'A1', 'A0', 'A3', 'A4'],\n",
              "  'initiator': 'A3',\n",
              "  'timeslots': [['129', 'CONFIRMED']]},\n",
              " 'M10': {'attendees': ['A1', 'A2'],\n",
              "  'initiator': 'A2',\n",
              "  'timeslots': [['59', 'CONFIRMED']]},\n",
              " 'M11': {'attendees': ['A1', 'A0', 'A2', 'A4', 'A3'],\n",
              "  'initiator': 'A4',\n",
              "  'timeslots': [['112', 'CONFIRMED']]},\n",
              " 'M12': {'attendees': ['A2', 'A0', 'A1'],\n",
              "  'initiator': 'A2',\n",
              "  'timeslots': [['70', 'CONFIRMED']]},\n",
              " 'M13': {'attendees': ['A0', 'A4', 'A1', 'A3'],\n",
              "  'initiator': 'A4',\n",
              "  'timeslots': [['53', 'CONFIRMED']]},\n",
              " 'M14': {'attendees': ['A1', 'A0'],\n",
              "  'initiator': 'A1',\n",
              "  'timeslots': [['111', 'CONFIRMED']]},\n",
              " 'M15': {'attendees': ['A3', 'A2', 'A4'],\n",
              "  'initiator': 'A3',\n",
              "  'timeslots': [['133', 'CONFIRMED']]},\n",
              " 'M16': {'attendees': ['A2', 'A0', 'A3', 'A1'],\n",
              "  'initiator': 'A2',\n",
              "  'timeslots': [['29', 'CONFIRMED']]},\n",
              " 'M17': {'attendees': ['A2', 'A4'],\n",
              "  'initiator': 'A4',\n",
              "  'timeslots': [['113', 'CONFIRMED']]},\n",
              " 'M18': {'attendees': ['A0', 'A4', 'A1', 'A3'],\n",
              "  'initiator': 'A1',\n",
              "  'timeslots': [['92', 'CONFIRMED']]},\n",
              " 'M19': {'attendees': ['A3', 'A0', 'A1', 'A2', 'A4'],\n",
              "  'initiator': 'A4',\n",
              "  'timeslots': [['90', 'CONFIRMED']]},\n",
              " 'M2': {'attendees': ['A4', 'A1', 'A2', 'A3', 'A0'],\n",
              "  'initiator': 'A3',\n",
              "  'timeslots': [['126', 'CONFIRMED']]},\n",
              " 'M20': {'attendees': ['A0', 'A2', 'A1', 'A4', 'A3'],\n",
              "  'initiator': 'A0',\n",
              "  'timeslots': [['101', 'CONFIRMED']]},\n",
              " 'M21': {'attendees': ['A2', 'A4', 'A1', 'A0'],\n",
              "  'initiator': 'A0',\n",
              "  'timeslots': [['43', 'CONFIRMED']]},\n",
              " 'M22': {'attendees': ['A2', 'A0', 'A4'],\n",
              "  'initiator': 'A2',\n",
              "  'timeslots': [['68', 'CONFIRMED']]},\n",
              " 'M23': {'attendees': ['A1', 'A0', 'A3', 'A2', 'A4'],\n",
              "  'initiator': 'A3',\n",
              "  'timeslots': [['56', 'CONFIRMED']]},\n",
              " 'M24': {'attendees': ['A1', 'A3', 'A4', 'A0'],\n",
              "  'initiator': 'A4',\n",
              "  'timeslots': [['91', 'CONFIRMED']]},\n",
              " 'M25': {'attendees': ['A0', 'A1', 'A4'],\n",
              "  'initiator': 'A1',\n",
              "  'timeslots': [['62', 'CONFIRMED']]},\n",
              " 'M26': {'attendees': ['A4', 'A3', 'A2'],\n",
              "  'initiator': 'A2',\n",
              "  'timeslots': [['30', 'CONFIRMED']]},\n",
              " 'M27': {'attendees': ['A0', 'A4', 'A3', 'A1', 'A2'],\n",
              "  'initiator': 'A0',\n",
              "  'timeslots': [['134', 'CONFIRMED']]},\n",
              " 'M28': {'attendees': ['A4', 'A3', 'A2', 'A0', 'A1'],\n",
              "  'initiator': 'A3',\n",
              "  'timeslots': [['42', 'CONFIRMED']]},\n",
              " 'M29': {'attendees': ['A1', 'A2', 'A4'],\n",
              "  'initiator': 'A4',\n",
              "  'timeslots': [['67', 'CONFIRMED']]},\n",
              " 'M3': {'attendees': ['A0', 'A2', 'A1', 'A4'],\n",
              "  'initiator': 'A4',\n",
              "  'timeslots': [['60', 'CONFIRMED']]},\n",
              " 'M30': {'attendees': ['A2', 'A3', 'A1'],\n",
              "  'initiator': 'A1',\n",
              "  'timeslots': [['55', 'CONFIRMED']]},\n",
              " 'M31': {'attendees': ['A1', 'A4', 'A0'],\n",
              "  'initiator': 'A0',\n",
              "  'timeslots': [['137', 'CONFIRMED']]},\n",
              " 'M32': {'attendees': ['A3', 'A0'],\n",
              "  'initiator': 'A0',\n",
              "  'timeslots': [['35', 'CONFIRMED']]},\n",
              " 'M33': {'attendees': ['A0', 'A4'],\n",
              "  'initiator': 'A0',\n",
              "  'timeslots': [['127', 'CONFIRMED']]},\n",
              " 'M34': {'attendees': ['A1', 'A4', 'A3', 'A2'],\n",
              "  'initiator': 'A1',\n",
              "  'timeslots': [['89', 'CONFIRMED']]},\n",
              " 'M35': {'attendees': ['A1', 'A3', 'A2'],\n",
              "  'initiator': 'A1',\n",
              "  'timeslots': [['77', 'CONFIRMED']]},\n",
              " 'M36': {'attendees': ['A2', 'A3'],\n",
              "  'initiator': 'A2',\n",
              "  'timeslots': [['41', 'IMPOSSIBLE'], ['109', 'CONFIRMED']]},\n",
              " 'M37': {'attendees': ['A2', 'A3'],\n",
              "  'initiator': 'A3',\n",
              "  'timeslots': [['79', 'CONFIRMED']]},\n",
              " 'M38': {'attendees': ['A2', 'A3'],\n",
              "  'initiator': 'A2',\n",
              "  'timeslots': [['33', 'CONFIRMED']]},\n",
              " 'M39': {'attendees': ['A3', 'A2'],\n",
              "  'initiator': 'A3',\n",
              "  'timeslots': [['78', 'CONFIRMED']]},\n",
              " 'M4': {'attendees': ['A2', 'A0'],\n",
              "  'initiator': 'A0',\n",
              "  'timeslots': [['139', 'CONFIRMED']]},\n",
              " 'M40': {'attendees': ['A3', 'A2'],\n",
              "  'initiator': 'A3',\n",
              "  'timeslots': [['132', 'CONFIRMED']]},\n",
              " 'M41': {'attendees': ['A3', 'A2'],\n",
              "  'initiator': 'A2',\n",
              "  'timeslots': [['37', 'CONFIRMED']]},\n",
              " 'M42': {'attendees': ['A3', 'A2'],\n",
              "  'initiator': 'A3',\n",
              "  'timeslots': [['54', 'CONFIRMED']]},\n",
              " 'M43': {'attendees': ['A3', 'A2'],\n",
              "  'initiator': 'A2',\n",
              "  'timeslots': [['108', 'CONFIRMED']]},\n",
              " 'M44': {'attendees': ['A3', 'A2'],\n",
              "  'initiator': 'A3',\n",
              "  'timeslots': [['81', 'CONFIRMED']]},\n",
              " 'M45': {'attendees': ['A3', 'A2'],\n",
              "  'initiator': 'A3',\n",
              "  'timeslots': [['117', 'CONFIRMED']]},\n",
              " 'M46': {'attendees': ['A2', 'A3'],\n",
              "  'initiator': 'A2',\n",
              "  'timeslots': [['69', 'CONFIRMED']]},\n",
              " 'M47': {'attendees': ['A2', 'A3'],\n",
              "  'initiator': 'A2',\n",
              "  'timeslots': [['138', 'CONFIRMED']]},\n",
              " 'M48': {'attendees': ['A3', 'A2'],\n",
              "  'initiator': 'A3',\n",
              "  'timeslots': [['125', 'CONFIRMED']]},\n",
              " 'M49': {'attendees': ['A3', 'A2'],\n",
              "  'initiator': 'A2',\n",
              "  'timeslots': [['86', 'CONFIRMED']]},\n",
              " 'M5': {'attendees': ['A1', 'A0', 'A2', 'A4'],\n",
              "  'initiator': 'A4',\n",
              "  'timeslots': [['136', 'CONFIRMED']]},\n",
              " 'M50': {'attendees': ['A2', 'A3'],\n",
              "  'initiator': 'A3',\n",
              "  'timeslots': [['64', 'CONFIRMED']]},\n",
              " 'M51': {'attendees': ['A2', 'A3'],\n",
              "  'initiator': 'A2',\n",
              "  'timeslots': [['46', 'CONFIRMED']]},\n",
              " 'M52': {'attendees': ['A2', 'A3'],\n",
              "  'initiator': 'A3',\n",
              "  'timeslots': [['66', 'CONFIRMED']]},\n",
              " 'M53': {'attendees': ['A2', 'A3'],\n",
              "  'initiator': 'A3',\n",
              "  'timeslots': [['135', 'CONFIRMED']]},\n",
              " 'M54': {'attendees': ['A1', 'A2', 'A0'],\n",
              "  'initiator': 'A0',\n",
              "  'timeslots': [['41', 'CONFIRMED']]},\n",
              " 'M6': {'attendees': ['A4', 'A2', 'A3', 'A0'],\n",
              "  'initiator': 'A0',\n",
              "  'timeslots': [['63', 'CONFIRMED']]},\n",
              " 'M7': {'attendees': ['A4', 'A0'],\n",
              "  'initiator': 'A4',\n",
              "  'timeslots': [['32', 'CONFIRMED']]},\n",
              " 'M8': {'attendees': ['A4', 'A1', 'A3', 'A2', 'A0'],\n",
              "  'initiator': 'A3',\n",
              "  'timeslots': [['115', 'CONFIRMED']]},\n",
              " 'M9': {'attendees': ['A1', 'A0', 'A2'],\n",
              "  'initiator': 'A1',\n",
              "  'timeslots': [['45', 'CONFIRMED']]}}"
            ]
          },
          "metadata": {},
          "execution_count": 72
        }
      ]
    }
  ]
}