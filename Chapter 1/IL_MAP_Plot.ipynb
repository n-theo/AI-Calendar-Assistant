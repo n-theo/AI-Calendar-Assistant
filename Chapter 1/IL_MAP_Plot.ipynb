{
  "nbformat": 4,
  "nbformat_minor": 0,
  "metadata": {
    "colab": {
      "name": "IL-MAP_Plot.ipynb",
      "provenance": [],
      "collapsed_sections": []
    },
    "kernelspec": {
      "display_name": "Python 3",
      "name": "python3"
    },
    "language_info": {
      "name": "python"
    }
  },
  "cells": [
    {
      "cell_type": "code",
      "metadata": {
        "id": "9a7xF8TgCtht"
      },
      "source": [
        "#!pip install ortools\n"
      ],
      "execution_count": null,
      "outputs": []
    },
    {
      "cell_type": "code",
      "metadata": {
        "id": "MzHsCUefJvjm"
      },
      "source": [
        "# from ortools.sat.python import cp_model \n",
        "# from ortools.linear_solver import pywraplp\n",
        "# from __future__ import print_function\n",
        "# from ortools.sat.python import cp_model\n",
        "import time\n",
        "import numpy as np\n",
        "from pprint import pprint\n",
        "import random\n",
        "from random import choices\n",
        "from copy import deepcopy\n",
        "from collections import defaultdict\n",
        "from matplotlib import pyplot as plt"
      ],
      "execution_count": null,
      "outputs": []
    },
    {
      "cell_type": "code",
      "metadata": {
        "colab": {
          "base_uri": "https://localhost:8080/"
        },
        "id": "vVY847yhs5Uq",
        "outputId": "9ad1bb84-7c5d-4c27-93ef-4a481277c05b"
      },
      "source": [
        "from google.colab import drive\n",
        "drive.mount('/content/gdrive')\n",
        "images_dir = '/content/gdrive/My Drive/Negotiation'\n"
      ],
      "execution_count": null,
      "outputs": [
        {
          "output_type": "stream",
          "text": [
            "Mounted at /content/gdrive\n"
          ],
          "name": "stdout"
        }
      ]
    },
    {
      "cell_type": "code",
      "metadata": {
        "id": "9ViGlg1v6npl"
      },
      "source": [
        "def create_agents(num_agents, percentage_busy, num_timeslots):\n",
        "  '''\n",
        "  creates a dictionary of agents\n",
        "  each has a unique id, a calendar, and a number of meetings\n",
        "  num_agents: number of agents to create\n",
        "  percentage_busy: how many of them should be deemed as busy\n",
        "  num_timeslots: how many timeslots should their calendar have\n",
        "  '''\n",
        "\n",
        "  agents = dict()\n",
        "  population = [0,1]\n",
        "  weights = (1-percentage_busy, percentage_busy)\n",
        "  for i in range(num_agents):\n",
        "    idx = choices(population,weights)[0]\n",
        "    \n",
        "    if idx == 1:\n",
        "      agents.update({'A%i'%i:{'calendar':{'%i'%i:{'meeting':'No Meeting',\n",
        "'status':None} for i in range(num_timeslots)},'busy':True, 'num_meetings': 0}})\n",
        "    \n",
        "    elif idx == 0:\n",
        "      agents.update({'A%i'%i:{'calendar':{'%i'%i:{'meeting':'No Meeting',\n",
        "'status':None} for i in range(num_timeslots)},'busy':False, 'num_meetings': 0}})\n",
        "\n",
        "  \n",
        "  return agents\n",
        "\n",
        "    "
      ],
      "execution_count": null,
      "outputs": []
    },
    {
      "cell_type": "code",
      "metadata": {
        "id": "lUrrKurq96jb"
      },
      "source": [
        "def get_free_slots(dictionary, idx):\n",
        "  '''\n",
        "  function that returns free slots for given attendee\n",
        "  used when populating initial calendar\n",
        "  '''\n",
        "  available_slots = []\n",
        "  for key in dictionary[idx]['calendar'].keys():\n",
        "    if dictionary[idx]['calendar'][key]['meeting'] == 'No Meeting':\n",
        "      available_slots.append(key)\n",
        "  return available_slots\n"
      ],
      "execution_count": null,
      "outputs": []
    },
    {
      "cell_type": "code",
      "metadata": {
        "id": "xHv-LfRFS3Wy"
      },
      "source": [
        "def get_free_slots_2(m_dict, attendee, num_slots):\n",
        "  '''\n",
        "  function that gets free slots for attendee\n",
        "  adapted for negotiation protocol\n",
        "  '''\n",
        "  # slots = []\n",
        "  # for key in m_dict.keys():\n",
        "  #   for t in m_dict[key]['timeslots']:\n",
        "  #     slots.append(t[0])\n",
        "  \n",
        "\n",
        "  # available_slots = list(set(slots))\n",
        "\n",
        "  available_slots =[str(i) for i in  list(range(num_slots))]\n",
        "\n",
        "  for key in m_dict.keys():\n",
        "    if attendee in m_dict[key]['attendees']:\n",
        "      for tuple in m_dict[key]['timeslots']:\n",
        "        if tuple[0] in available_slots:\n",
        "          available_slots.remove(tuple[0])\n",
        "\n",
        "  return available_slots"
      ],
      "execution_count": null,
      "outputs": []
    },
    {
      "cell_type": "code",
      "metadata": {
        "id": "evrKSA97nEQ5"
      },
      "source": [
        "def create_meetings(agents, num_slots, density_busy, density_not_busy,\n",
        "                    min_attendees, max_attendees):\n",
        "  '''\n",
        "  function that creates meetings and populates calendars of attendees\n",
        "  agents: dictionary\n",
        "  num_slots = number of available slots\n",
        "  density_busy: How dense should a busy persons calendar be\n",
        "  density_not_busy: How dense should a not busy persons calendar be\n",
        "  min, max attendees: minimum and maximum attendees for each meeting\n",
        "  '''\n",
        "  #empty dict for meetings:\n",
        "  meetings = dict()\n",
        "  count = 0\n",
        "  #how many meetings busy and non busy individuals should have according to\n",
        "  #percentages:\n",
        "  num_meetings_busy = int(num_slots*density_busy)\n",
        "  num_meetings_not_busy = int(num_slots*density_not_busy)\n",
        "\n",
        "  #get list of agent ids:\n",
        "  agent_list = list(agents.keys())\n",
        "  \n",
        "  #while the above list is not empty\n",
        "  while len(agent_list) >= min_attendees:\n",
        "    #randomly sample a subset of the attendees within allowed number of attendees:\n",
        "    num = max_attendees\n",
        "    if len(agent_list) <= num:\n",
        "      num = len(agent_list)\n",
        "    attendees = random.sample(agent_list,random.randint(min_attendees,num))\n",
        "\n",
        "\n",
        "    all_slots = []\n",
        "    #for each attendee, add the available slots to a list:\n",
        "    for attendee in attendees:\n",
        "      available_slots = get_free_slots(agents, attendee)\n",
        "\n",
        "      #append free slots for a single attendee to array for all attendees\n",
        "      all_slots.append(available_slots)\n",
        "    #find the overlap between the slots for each attendee:\n",
        "    overlap = set(all_slots[0]).intersection(*all_slots)\n",
        "    #\n",
        "    if len(overlap) == 0:\n",
        "      pass\n",
        "      #print(attendees)\n",
        "    #if the overlap is a non empty list, choose a random slot\n",
        "    else:\n",
        "      meeting_slot = random.choice(list(overlap))\n",
        "      #create a meeting for that slot, and add it to the meetings dictionary\n",
        "      meeting_id = 'M%i'%count\n",
        "      count += 1\n",
        "      #randomly assign an initiator\n",
        "      initiator_idx = random.randint(0,len(attendees)-1)\n",
        "      meetings.update({meeting_id: {'attendees': attendees, 'timeslot':\n",
        "                                    meeting_slot, \n",
        "                                    'initiator': attendees[initiator_idx], \n",
        "                                    'status':'CONFIRMED'}})\n",
        "\n",
        "      \n",
        "      #for each attendee in that meeting, update the calendar and the meetings count\n",
        "      for attendee in attendees:\n",
        "        agents[attendee]['calendar'][meeting_slot]['meeting'] = meeting_id\n",
        "        agents[attendee]['calendar'][meeting_slot]['status'] = 'CONFIRMED'\n",
        "        agents[attendee]['num_meetings']+= 1\n",
        "        \n",
        "        #if the attendees have reached their maximum allowed limit of meetings,\n",
        "        #remove them from available attendees\n",
        "        if  agents[attendee]['busy'] and agents[attendee]['num_meetings'] == num_meetings_busy:\n",
        "          agent_list.remove(attendee)\n",
        "        if  not agents[attendee]['busy'] and agents[attendee]['num_meetings'] == num_meetings_not_busy:\n",
        "          agent_list.remove(attendee)\n",
        "        \n",
        "\n",
        "     \n",
        "  return meetings"
      ],
      "execution_count": null,
      "outputs": []
    },
    {
      "cell_type": "code",
      "metadata": {
        "id": "94jYGQETTQLs"
      },
      "source": [
        "def list_duplicates(seq):\n",
        "  '''\n",
        "  function that finds duplicates in a list\n",
        "  this is implemented for testing reasons\n",
        "  '''\n",
        "  tally = defaultdict(list)\n",
        "  for i,item in enumerate(seq):\n",
        "      tally[item].append(i)\n",
        "  return ((key,locs) for key,locs in tally.items() \n",
        "                          if len(locs)>1)"
      ],
      "execution_count": null,
      "outputs": []
    },
    {
      "cell_type": "code",
      "metadata": {
        "id": "iwx37dH9iUIB"
      },
      "source": [
        "\n",
        "\n",
        "def agents_to_dict(a_dictionary):\n",
        "  '''\n",
        "  takes agents dictionary and adjusts it for negotiation protocol\n",
        "  '''\n",
        "\n",
        "  a_dict = deepcopy(a_dictionary)\n",
        "  out = {}\n",
        "  for key in a_dict.keys():\n",
        "    out.update({key: []})\n",
        "    for key_2 in a_dict[key]['calendar'].keys():\n",
        "      if a_dict[key]['calendar'][key_2]['meeting'] != 'No Meeting':\n",
        "        out[key].append([a_dict[key]['calendar'][key_2]['meeting'], key_2,\n",
        "                        a_dict[key]['calendar'][key_2]['status']])\n",
        "  return out\n",
        "\n",
        "def meetings_to_dict(m_dictionary):\n",
        "  '''\n",
        "  takes meetings dictionary and adjusts it for negotiation protocol\n",
        "  '''\n",
        "  m_dict = deepcopy(m_dictionary)\n",
        "  out = {}\n",
        "  for key in m_dict.keys():\n",
        "    out.update({key: {'attendees': m_dict[key]['attendees'],\n",
        "                      'initiator': m_dict[key]['initiator'],\n",
        "                      'timeslots': []}})\n",
        "    \n",
        "    out[key]['timeslots'].append( [m_dict[key]['timeslot'],\n",
        "                                   m_dict[key]['status']])\n",
        "  \n",
        "  return out\n",
        "\n",
        "\n",
        "\n"
      ],
      "execution_count": null,
      "outputs": []
    },
    {
      "cell_type": "code",
      "metadata": {
        "id": "nITKBd4_TUCE"
      },
      "source": [
        "def check_for_duplicates(timeslots):\n",
        "  '''\n",
        "  function that takes in timeslots for every meeting\n",
        "  and checks whether there is overlap between attendees\n",
        "  '''\n",
        "  duplicate_timeslots = []\n",
        "  for dup in sorted(list_duplicates(timeslots)):\n",
        "      duplicate_timeslots.append(dup)\n",
        "  final = []\n",
        "  for i in duplicate_timeslots:\n",
        "    attendees_of_duplicates = []\n",
        "    for key in m.keys():\n",
        "      if m[key]['timeslot'] == i[0]:\n",
        "        attendees_of_duplicates.append(m[key]['attendees'])\n",
        "    final.append(attendees_of_duplicates)\n",
        "  for f in final:\n",
        "     overlap = set(f[0]).intersection(*f)\n",
        "     if len(overlap) != 0:\n",
        "       return('MISTAKE')\n",
        "  return 'NO MISTAKE'\n"
      ],
      "execution_count": null,
      "outputs": []
    },
    {
      "cell_type": "code",
      "metadata": {
        "id": "MbJwfN9i4lOI"
      },
      "source": [
        "def get_number_from_key(key):\n",
        "  '''\n",
        "  helper function to get number in key string\n",
        "  '''\n",
        "  l = list(key)\n",
        "  digits = l[1:]\n",
        "  new_num = int(\"\".join(digits))\n",
        "  return new_num\n"
      ],
      "execution_count": null,
      "outputs": []
    },
    {
      "cell_type": "code",
      "metadata": {
        "id": "R0p6X26zv3hl"
      },
      "source": [
        "def check(user):\n",
        "  '''\n",
        "  takes a user as an input and\n",
        "  checks whether actual number of meetings matches up \n",
        "  to corresponding entry\n",
        "  '''\n",
        "  counter = 0\n",
        "  for key in new_dict_deepcopy[user]['calendar'].keys():\n",
        "    if new_dict_deepcopy[user]['calendar'][key] != 'No Meeting':\n",
        "      counter += 1\n",
        "  if counter ==  new_dict_deepcopy[user]['num_meetings'] == counter:\n",
        "    return 'CORRECT'\n",
        "  else:\n",
        "    return 'WRONG'\n",
        "\n",
        "\n"
      ],
      "execution_count": null,
      "outputs": []
    },
    {
      "cell_type": "code",
      "metadata": {
        "id": "0RQLEV2zprlF"
      },
      "source": [
        "\n",
        "def get_new_meeting_id(meeting_ids):\n",
        "  '''\n",
        "  takes previous ids, returns new id\n",
        "  '''\n",
        "  last_id = list(meeting_ids[-1])\n",
        "  digits = last_id[1:]\n",
        "  new_num = int(\"\".join(digits))+1\n",
        "  new_id = last_id[0]+str(new_num)\n",
        "  return new_id\n"
      ],
      "execution_count": null,
      "outputs": []
    },
    {
      "cell_type": "code",
      "metadata": {
        "id": "-TVyX72a359k"
      },
      "source": [
        "def get_meetings_at_t_2(timeslot, m_dict):\n",
        "  ''' \n",
        "  function that returns all meetings\n",
        "  at timeslot t\n",
        "  '''\n",
        "  m_dict_1 = deepcopy(m_dict)\n",
        "  out = {}\n",
        "  for key in m_dict_1.keys():\n",
        "    for tuple in  m_dict_1[key]['timeslots']:\n",
        "      if tuple[0] == timeslot:\n",
        "        out.update({key:m_dict_1[key]})\n",
        "  return out"
      ],
      "execution_count": null,
      "outputs": []
    },
    {
      "cell_type": "code",
      "metadata": {
        "id": "jb52CW25yiL6"
      },
      "source": [
        "def bumping_rule_2(attendee,  meeting_in_calendar,meeting_proposed,\n",
        "                   a_dict, m_dict):\n",
        "  '''\n",
        "  function that takes current meeting and proposed meeting and chooses\n",
        "  whether to bump or not\n",
        "  '''\n",
        "  bump = False\n",
        "  diff_list_1 = []\n",
        "  diff_list_2 = []\n",
        "  sum_1 = 0\n",
        "  sum_2 = 0\n",
        "  if attendee not in m_dict[meeting_in_calendar]['attendees']:\n",
        "    return('Wrong Input')\n",
        "  for att in m_dict[meeting_in_calendar]['attendees']:\n",
        "    if att != attendee:\n",
        "      diff_list_1.append(att)\n",
        "  for att in m_dict[meeting_proposed]['attendees']:\n",
        "    if att != attendee:\n",
        "      diff_list_2.append(att)\n",
        "  for i in diff_list_1:\n",
        "    sum_1+=  len(a_dict[i])\n",
        "  for j in diff_list_2:\n",
        "    sum_2+=  len(a_dict[j])\n",
        "  if sum_2 > sum_1:\n",
        "    bump = True\n",
        "  if print_on:\n",
        "    print(attendee, 'deciding whether to bump', meeting_in_calendar, 'for',\n",
        "          meeting_proposed)\n",
        "    print('Difficulty of', meeting_in_calendar, ':', sum_1)\n",
        "    print('Difficulty of', meeting_proposed, ':', sum_2)\n",
        "  return bump"
      ],
      "execution_count": null,
      "outputs": []
    },
    {
      "cell_type": "code",
      "metadata": {
        "id": "AM7w0dpszkVq"
      },
      "source": [
        "def create_new_meeting_random_2(num_attendees, a_dict, m_dict):\n",
        "  '''\n",
        "  takes in meeting arguments, and creates a pending meeting\n",
        "  '''\n",
        "  meeting_ids = list(m_dict.keys())\n",
        "  new_id = get_new_meeting_id(meeting_ids)\n",
        "  agent_list = list(a_dict.keys())\n",
        "  attendees = random.sample(agent_list,num_attendees)\n",
        "  idx = random.randint(0, len(attendees)-1)\n",
        "  initiator = attendees[idx]\n",
        "  timeslots = get_free_slots_2(m_dict, initiator, 40)\n",
        "  if len(timeslots) == 0:\n",
        "    return 'No available timeslots for initiator'\n",
        "  t_idx = random.randint(0, len(timeslots)-1)\n",
        "  t = timeslots [t_idx]\n",
        "  out = {new_id: {'attendees': attendees, 'initiator': initiator,\n",
        "                  'timeslots':[[t, 'PENDING']] }}\n",
        "  return out\n"
      ],
      "execution_count": null,
      "outputs": []
    },
    {
      "cell_type": "markdown",
      "metadata": {
        "id": "6MTjEYjRoQ3o"
      },
      "source": [
        "From this point onwards, the functions correspond to the pseudocode in the paper"
      ]
    },
    {
      "cell_type": "code",
      "metadata": {
        "id": "AwG-IoHNA6AO"
      },
      "source": [
        "def initiate_2_random(num_attendees, a_dict, m_dict):\n",
        "  '''\n",
        "  initiates new meeting randomly, and assigns random initiator\n",
        "  only takes number of attendees as input\n",
        "  \n",
        "  '''\n",
        "  #create new meeting:\n",
        "  global round\n",
        "  round+=1\n",
        "  if print_on:\n",
        "    print('--------------------------------------------------')\n",
        "    print('ROUND:',round)\n",
        "    print('--------------------------------------------------')\n",
        "    print('initiated random meeting')\n",
        "\n",
        "  new_meeting = create_new_meeting_random_2(num_attendees, a_dict, m_dict)\n",
        "\n",
        "  #print('new meeting:')\n",
        "  #print(new_meeting)\n",
        "\n",
        "  #update meetings dictionary with new meeting:\n",
        "  m_dict.update(new_meeting)\n",
        "  new_id = list(new_meeting)[0]\n",
        "\n",
        "  timeslot = new_meeting[new_id]['timeslots'][0][0]\n",
        "  if print_on:\n",
        "    print('ID:', new_id)\n",
        "    print('Proposed timeslot:', timeslot)\n",
        "    print('initiator:',new_meeting[new_id]['initiator'])\n",
        "    print('attendees:', new_meeting[new_id]['attendees'])\n",
        "  #for each attenddee call the next function:\n",
        "  for attendee in new_meeting[new_id]['attendees']:\n",
        "    if attendee !=  new_meeting[new_id]['initiator']: \n",
        "\n",
        "      receive_propose_2(new_id, attendee, timeslot, a_dict, m_dict)"
      ],
      "execution_count": null,
      "outputs": []
    },
    {
      "cell_type": "code",
      "metadata": {
        "id": "jH3d8JHMLPFe"
      },
      "source": [
        "def initiate_2(meeting, a_dict, m_dict):\n",
        "  '''\n",
        "  initiates meeting negotiation for pre-defined meeeting\n",
        "  that already has given attendees and initiator\n",
        "  '''\n",
        "  global round\n",
        "  round+=1\n",
        "\n",
        "  if print_on:\n",
        "    print('--------------------------------------------------')\n",
        "    print('ROUND:',round)\n",
        "    print('--------------------------------------------------')\n",
        "    print('re-initiate negotiation for meeting', meeting)\n",
        "\n",
        "  #create new meeting:\n",
        "  \n",
        "  initiator = m_dict[meeting]['initiator']\n",
        "  timeslots = get_free_slots_2(m_dict, initiator, 40)\n",
        "  if print_on:\n",
        "    print('available timeslots of initiator:', timeslots)\n",
        "\n",
        "  if len(timeslots) == 0:\n",
        "    return 'No available timeslots for initiator'\n",
        "  t_idx = random.randint(0, len(timeslots)-1)\n",
        "  t = timeslots[t_idx]\n",
        "  m_dict[meeting]['timeslots'].append([t, 'PENDING'])\n",
        "\n",
        "  if print_on:\n",
        "    print('Proposed timeslot:', t)\n",
        "    print('Initiator:', initiator)\n",
        "    print('attendees:', m_dict[meeting]['attendees'])\n",
        "\n",
        "  #for each attenddee call the next function:\n",
        "  for attendee in m_dict[meeting]['attendees']:\n",
        "    #########################\n",
        "    if attendee != initiator: \n",
        "    #########################\n",
        "      receive_propose_2(meeting, attendee, t, a_dict, m_dict)"
      ],
      "execution_count": null,
      "outputs": []
    },
    {
      "cell_type": "code",
      "metadata": {
        "id": "p-q1SFTI3tCG"
      },
      "source": [
        "############################################################################\n",
        "### PROPOSE ################################################################\n",
        "############################################################################\n",
        "\n",
        "def receive_propose_2(meeting, attendee, timeslot, a_dict, m_dict):\n",
        "  '''\n",
        "  takes meeting id and proposed timeslot and checks \n",
        "  for individual availability of given\n",
        "  '''\n",
        "  global round\n",
        "  round+=1\n",
        "  if print_on:\n",
        "    print('--------------------------------------------------')\n",
        "    print('ROUND:',round)\n",
        "    print('--------------------------------------------------')\n",
        "\n",
        "  reply = 'PENDING'\n",
        " \n",
        "  meetings_at_t = get_meetings_at_t_2(timeslot, m_dict)\n",
        "\n",
        "\n",
        "  for key in meetings_at_t.keys():\n",
        "    #for all the available meetings in the tmeslot (besides the new one)\n",
        "    if key != meeting:\n",
        "      #if the current attendee is in any of those meetings:\n",
        "      if attendee in meetings_at_t[key]['attendees']:\n",
        "        #print('meeting status', meetings_at_t[key]['status'])\n",
        "        \n",
        "        #if the specific meeting is pending, reply impossible:\n",
        "        for tuple in m_dict[key]['timeslots']:\n",
        "          if print_on:\n",
        "            print('Status of timeslot', timeslot, 'of',\n",
        "                  attendee,'before editing:', tuple[1])\n",
        "          if tuple[0] == timeslot and tuple[1] == 'PENDING':\n",
        "            reply =  'IMPOSSIBLE'\n",
        "        \n",
        "        #if the meeting is already confirmed check the bumping rule: \n",
        "          elif tuple[0] == timeslot and tuple[1] == 'CONFIRMED':\n",
        "\n",
        "          #if the bumping rule holds, bump current\n",
        "          # meeting and add pending to new\n",
        "            if bumping_rule_2(attendee, key, meeting, a_dict, m_dict):\n",
        "\n",
        "              tuple[1] = 'BUMPED'\n",
        "              if print_on:\n",
        "                print(attendee,'bumped', key, 'for',meeting)\n",
        "              for tuple_2 in m_dict[meeting]['timeslots']:\n",
        "                if tuple_2[0] == timeslot:\n",
        "                  tuple_2[1] = 'PENDING'\n",
        "              reply = 'PENDING'\n",
        "          \n",
        "            else:\n",
        "              if print_on:\n",
        "                print(attendee,'did not bump', key, 'for', meeting)\n",
        "              reply = 'IMPOSSIBLE'\n",
        "          \n",
        "          #cover the BUMPED case\n",
        "          elif tuple[0] == timeslot and tuple[1] == 'BUMPED':\n",
        "            if print_on:\n",
        "              print(attendee,'has a bumped meeting at that timeslot')\n",
        "            reply =  'PENDING'\n",
        "\n",
        "      ### BUMPED case not covered? ###\n",
        "      #if there is no meeting at that timeslot, reply pending\n",
        "      else:\n",
        "        for tuple_2 in m_dict[meeting]['timeslots']:\n",
        "          if tuple_2[0] == timeslot:\n",
        "            tuple_2[1] = 'PENDING'\n",
        "\n",
        "\n",
        "        reply = 'PENDING'\n",
        "\n",
        "  if print_on:\n",
        "    print('Attendee', attendee, 'replied',reply)\n",
        "\n",
        "  receive_reply_2(meeting, timeslot, reply, attendee,  a_dict, m_dict)\n",
        "\n"
      ],
      "execution_count": null,
      "outputs": []
    },
    {
      "cell_type": "code",
      "metadata": {
        "id": "9hpUpkya9ZHD"
      },
      "source": [
        "# def receive_propose_2(meeting, attendee, timeslot, a_dict, m_dict):\n",
        "#   '''\n",
        "#   takes meeting id and proposed timeslot and checks \n",
        "#   for individual availability of given\n",
        "#   '''\n",
        "#   global round\n",
        "#   round+=1\n",
        "#   if print_on:\n",
        "#     print('--------------------------------------------------')\n",
        "#     print('ROUND:',round)\n",
        "#     print('--------------------------------------------------')\n",
        "\n",
        "\n",
        "#   other_meetings = []\n",
        "\n",
        "#   #get meetings at specifc timeslot\n",
        "#   meetings_at_t = get_meetings_at_t_2(timeslot, m_dict)\n",
        "#   for key in meetings_at_t.keys():\n",
        "#     #find meetings other than the current one that are attended by the\n",
        "#     #attenddee:\n",
        "\n",
        "#     if key != meeting and attendee in meetings_at_t[key]['attendees']:\n",
        "#       other_meetings.append(key)\n",
        "\n",
        "#   #If there are other meetings for this attendee in the timeslot:\n",
        "\n",
        "#   if len(other_meetings) != 0:\n",
        "#     if print_on:\n",
        "#       print('other meetings of', attendee,'at', timeslot, ':')\n",
        "#       print(other_meetings)\n",
        "\n",
        "#     for key in other_meetings:\n",
        "\n",
        "#       #if the specific meeting is pending, reply impossible:\n",
        "#       for tuple in m_dict[key]['timeslots']:\n",
        "#         if print_on and tuple[0] ==  timeslot:\n",
        "#           print('Status of timeslot', timeslot, 'of',\n",
        "#                 attendee,'before editing:',key,'-',tuple[1])\n",
        "#         if tuple[0] == timeslot and tuple[1] == 'PENDING':\n",
        "#           reply =  'IMPOSSIBLE'\n",
        "      \n",
        "#       #if the meeting is already confirmed check the bumping rule: \n",
        "#         elif tuple[0] == timeslot and tuple[1] == 'CONFIRMED':\n",
        "\n",
        "#         #if the bumping rule holds, bump current\n",
        "#         # meeting and add pending to new\n",
        "#           if bumping_rule_2(attendee, key, meeting, a_dict, m_dict):\n",
        "\n",
        "#             tuple[1] = 'BUMPED'\n",
        "#             if print_on:\n",
        "#               print(attendee,'bumped', key, 'for',meeting)\n",
        "#             for tuple_2 in m_dict[meeting]['timeslots']:\n",
        "#               if tuple_2[0] == timeslot:\n",
        "#                 tuple_2[1] = 'PENDING'\n",
        "#             reply = 'PENDING'\n",
        "        \n",
        "#           else:\n",
        "#             if print_on:\n",
        "#               print(attendee,'did not bump', key, 'for', meeting)\n",
        "#             reply = 'IMPOSSIBLE'\n",
        "        \n",
        "#         #cover the BUMPED case\n",
        "#         else: #if tuple[0] == timeslot and (tuple[1] == 'BUMPED' or tuple[1] == 'IMPOSSIBLE' or tuple[1] == 'POSSIBLE'):\n",
        "#           if print_on:\n",
        "#             print(attendee,'has a', tuple[1], 'meeting at that timeslot')\n",
        "#           reply =  'PENDING'\n",
        "\n",
        "#   ### BUMPED case not covered? ###\n",
        "#   #if there is no meeting at that timeslot, reply pending\n",
        "#   else:\n",
        "#     if print_on:\n",
        "#       print(attendee,'has no other meetings at', timeslot)\n",
        "#     for tuple_2 in m_dict[meeting]['timeslots']:\n",
        "#       if tuple_2[0] == timeslot:\n",
        "#         tuple_2[1] = 'PENDING'\n",
        "\n",
        "\n",
        "#     reply = 'PENDING'\n",
        "  \n",
        "#   if print_on:\n",
        "#     print('Attendee', attendee, 'replied',reply)\n",
        "#   receive_reply_2(meeting, timeslot, reply, attendee,  a_dict, m_dict)"
      ],
      "execution_count": null,
      "outputs": []
    },
    {
      "cell_type": "code",
      "metadata": {
        "id": "Kd0UGczuTpVY"
      },
      "source": [
        " def receive_reply_2(meeting, timeslot, reply, attendee, a_dict, m_dict):\n",
        "\n",
        "  '''\n",
        "  function that takes the replies of attendees for proposed meeting\n",
        "  and checks for possible intersection.\n",
        "  If not new timeslot is proposed\n",
        "  '''\n",
        "  global round\n",
        "  round+=1\n",
        "\n",
        "  reply_list = []\n",
        "  a_dict[attendee].append([meeting, timeslot, reply])\n",
        "\n",
        "  if print_on:\n",
        "    print('--------------------------------------------------')\n",
        "    print('ROUND:',round)\n",
        "    print('--------------------------------------------------')\n",
        "    print('initiator',m_dict[meeting]['initiator'],\n",
        "          'received reply from', attendee )\n",
        "  \n",
        "  for attendee in m_dict[meeting]['attendees']:\n",
        "    ############################################\n",
        "    if attendee != m_dict[meeting]['initiator']:\n",
        "      ##########################################\n",
        "      for tuple in a_dict[attendee]:\n",
        "        if tuple[0] == meeting and tuple[1] == timeslot:\n",
        "          reply_list.append(tuple[2])\n",
        "    \n",
        "  #print(reply_list)\n",
        "  ##########################################################\n",
        "  if len(reply_list) == len(m_dict[meeting]['attendees'])-1:\n",
        "  ##########################################################\n",
        "    if print_on:\n",
        "      print('All attendees have replied')\n",
        "      print()\n",
        "    \n",
        "    t_list = []\n",
        "    s_list = []\n",
        "\n",
        "    for attendee in m_dict[meeting]['attendees']:\n",
        "      if attendee != m_dict[meeting]['initiator']:\n",
        "\n",
        "        for tuple in a_dict[attendee]:\n",
        "          if tuple[0] == meeting and tuple[1] == timeslot:\n",
        "            t_list.append(tuple)\n",
        "            s_list.append(tuple[2])\n",
        "    if print_on:\n",
        "      print('collected replies list:')\n",
        "      print()\n",
        "      print(s_list)\n",
        "      print()\n",
        "    \n",
        "    if len(set(s_list)) == 1 and s_list[0] == 'PENDING':\n",
        "      \n",
        "      t_dash = t_list[0][1]\n",
        "      if print_on:\n",
        "        print('confirmed timeslot:', t_dash, 'for', meeting)\n",
        "      \n",
        "      for tuple in m_dict[meeting]['timeslots']:\n",
        "        if tuple[0] == t_dash:\n",
        "\n",
        "          tuple[1] = 'CONFIRMED'\n",
        "          resolved_2(meeting, a_dict, m_dict)\n",
        "\n",
        "          if print_on:\n",
        "            print('attendees of', meeting, m_dict[meeting]['attendees'])\n",
        "          \n",
        "          for attendee in m_dict[meeting]['attendees']:\n",
        "            ###########################################\n",
        "            if attendee != m_dict[meeting]['initiator']:\n",
        "              if print_on:\n",
        "                print('send confirm to attendee', attendee)\n",
        "                print()\n",
        "              receive_confirm_2(meeting, t_dash, attendee, a_dict, m_dict)\n",
        "            ###########################################\n",
        "            \n",
        "            \n",
        "          \n",
        "          for key in m_dict.keys():\n",
        "\n",
        "            for tuple_2 in m_dict[key]['timeslots']:\n",
        "              if tuple_2[0] == t_dash and tuple_2[1] == 'BUMPED':\n",
        "                if print_on:\n",
        "                  print('reschedule ',key)\n",
        "                #return 'Reschedule'\n",
        "                ##################################################\n",
        "                reschedule_2(key, m_dict[key]['initiator'], a_dict, m_dict)\n",
        "                ##################################################\n",
        "      \n",
        "    else:\n",
        "\n",
        "      free_slots = get_free_slots_2(m_dict, m_dict[meeting]['initiator'], 40)\n",
        "      if print_on:\n",
        "        print('Remaining free slots of initiator:',free_slots)\n",
        "      #if no free slot is found send fail\n",
        "      if len(free_slots) == 0:\n",
        "        global fail\n",
        "        fail += 1\n",
        "        #print('null')\n",
        "        \n",
        "        #############################################\n",
        "        resolved_2(meeting, a_dict, m_dict)\n",
        "        for attendee in m_dict[meeting]['attendees']:\n",
        "          if attendee != m_dict[meeting]['initiator']:\n",
        "            receive_fail_2(meeting, attendee, a_dict, m_dict)\n",
        "            if print_on:\n",
        "              print('send meeting', meeting, 'FAILED to', attendee)\n",
        "        #############################################\n",
        "\n",
        "      \n",
        "      else:\n",
        "\n",
        "        #find new timeslot\n",
        "        t_idx = random.randint(0, len(free_slots)-1)\n",
        "        t_dash_dash = free_slots[t_idx]\n",
        "        \n",
        "        if print_on:\n",
        "          print('alternative timeslot for', meeting, ':', t_dash_dash)\n",
        "\n",
        "        for key in m_dict.keys():\n",
        "\n",
        "          if key == meeting:\n",
        "            m_dict[key]['timeslots'].append([t_dash_dash, 'PENDING'])\n",
        "\n",
        "            for attendee in m_dict[key]['attendees']:\n",
        "              if attendee != m_dict[meeting]['initiator']:\n",
        "\n",
        "                #propose alternative timeslot to attendees\n",
        "                if print_on:\n",
        "                  print('propose alternative slot to', attendee)\n",
        "                receive_propose_2(meeting, attendee,\n",
        "                                  t_dash_dash, a_dict, m_dict)\n",
        "              \n",
        "             \n",
        "    \n",
        "  else:\n",
        "    pass\n",
        "                                              \n",
        "\n",
        "\n",
        "\n",
        "\n",
        "\n",
        "\n"
      ],
      "execution_count": null,
      "outputs": []
    },
    {
      "cell_type": "code",
      "metadata": {
        "id": "MsD1pxveUYbu"
      },
      "source": [
        "def receive_confirm_2(meeting, timeslot, attendee, a_dict, m_dict):\n",
        "  '''\n",
        "  function for changing status of confirmed meeting\n",
        "  '''\n",
        "  global round\n",
        "  round+=1\n",
        "\n",
        "  if print_on:\n",
        "    print('--------------------------------------------------')\n",
        "    print('ROUND:',round)\n",
        "    print('--------------------------------------------------')  \n",
        "    print(attendee, 'receiving confirmation for', meeting)\n",
        "  \n",
        "  for tuple in m_dict[meeting]['timeslots']:\n",
        "    if tuple[0] == timeslot:\n",
        "      tuple[1] = 'CONFIRMED'\n",
        "      resolved_2(meeting, a_dict, m_dict)\n",
        "  \n",
        "  for key in m_dict.keys():\n",
        "    for tuple_2 in m_dict[key]['timeslots']:\n",
        "      if tuple_2[0] == timeslot and tuple_2[1] == 'BUMPED':\n",
        "        #print('Im in confirm and will reschedule:', key)\n",
        "        reschedule_2(key, attendee, a_dict, m_dict)"
      ],
      "execution_count": null,
      "outputs": []
    },
    {
      "cell_type": "code",
      "metadata": {
        "id": "8fgf5YArYuPf"
      },
      "source": [
        "def receive_fail_2(meeting, attendee, a_dict, m_dict):\n",
        "  \n",
        "  global round\n",
        "  round+=1\n",
        "\n",
        "\n",
        "  if print_on:\n",
        "    print('--------------------------------------------------')\n",
        "    print('ROUND:',round)\n",
        "    print('--------------------------------------------------')\n",
        "    \n",
        "    print('attendee', attendee, 'received fail for', meeting)\n",
        "  resolved_2(meeting, a_dict, m_dict)"
      ],
      "execution_count": null,
      "outputs": []
    },
    {
      "cell_type": "code",
      "metadata": {
        "id": "-Y7fKyh7Iy_X"
      },
      "source": [
        "def receive_reschedule_2(meeting, attendee, a_dict, m_dict):\n",
        "  \n",
        "  global round\n",
        "  round+=1\n",
        "  if print_on:\n",
        "    print('--------------------------------------------------')\n",
        "    print('ROUND:',round)\n",
        "    print('--------------------------------------------------') \n",
        "    print(attendee, 'received reschedule')\n",
        "  reschedule_2(meeting, attendee, a_dict, m_dict)"
      ],
      "execution_count": null,
      "outputs": []
    },
    {
      "cell_type": "code",
      "metadata": {
        "id": "FyQOb_fIjzoi"
      },
      "source": [
        "def reschedule_2(meeting, attendee, a_dict, m_dict):\n",
        "  '''\n",
        "  function that reschedules meeting\n",
        "  '''\n",
        "  global round\n",
        "  round+=1\n",
        "\n",
        "  if print_on:\n",
        "    print('--------------------------------------------------')\n",
        "    print('ROUND:',round)\n",
        "    print('--------------------------------------------------')\n",
        "\n",
        "    print('rescheduling', meeting)\n",
        "  \n",
        "  initiator = m_dict[meeting]['initiator']\n",
        "  attendees = m_dict[meeting]['attendees']\n",
        "  \n",
        "  if initiator == attendee:\n",
        "    if print_on:\n",
        "      print(attendee, 'is the initiator')\n",
        "    for tuple in m_dict[meeting]['timeslots']: ### was key\n",
        "      if tuple[1] == 'BUMPED' or tuple[1] == 'CONFIRMED':\n",
        "        if print_on:\n",
        "          print('Changing the status of', meeting, 'at', tuple[0], 'from',\n",
        "                tuple[1], 'to IMPOSSIBLE')\n",
        "        tuple[1] = 'IMPOSSIBLE'\n",
        "\n",
        "    \n",
        "    for attendee in m_dict[meeting]['attendees']:\n",
        "      if attendee != m_dict[meeting]['initiator']:\n",
        "\n",
        "        for tuple_2 in a_dict[attendee]:\n",
        "          if tuple_2[2] == 'IMPOSSIBLE' or tuple_2[2] == 'PENDING':\n",
        "            tuple_2[2] = 'POSSIBLE'\n",
        "    \n",
        "    initiate_2(meeting, a_dict, m_dict)\n",
        "  \n",
        "  else:\n",
        "    receive_reschedule_2(meeting, initiator, a_dict, m_dict)\n",
        "\n"
      ],
      "execution_count": null,
      "outputs": []
    },
    {
      "cell_type": "code",
      "metadata": {
        "id": "2MPEB0vwwNW_"
      },
      "source": [
        "def resolved_2(meeting, a_dict, m_dict):\n",
        "  '''\n",
        "  final function that resolves meetings that\n",
        "  are either confirmed or failed\n",
        "  '''\n",
        "  global round\n",
        "  round+=1\n",
        "\n",
        "  if print_on:\n",
        "    print('--------------------------------------------------')\n",
        "    print('ROUND:',round)\n",
        "    print('--------------------------------------------------')\n",
        "\n",
        "    print('resolving', meeting)\n",
        "\n",
        "  for key in m_dict.keys():\n",
        "    if key == meeting:\n",
        "      for tuple in m_dict[meeting]['timeslots']:\n",
        "        if tuple[1] == 'PENDING':\n",
        "          slot = tuple[0]\n",
        "          tuple[1] = 'POSSIBLE'\n",
        "          if print_on:\n",
        "            print('changed status of', meeting,\n",
        "                  'at', slot, 'from PENDING to POSSIBLE')\n",
        "\n",
        "          for key in m_dict.keys():\n",
        "            for tuple_2 in m_dict[key]['timeslots']:\n",
        "              if tuple_2[0] == slot and tuple_2[1] == 'BUMPED':\n",
        "                tuple_2[1] = 'CONFIRMED'\n",
        "                \n",
        "                if print_on:\n",
        "                  print('changed status of', meeting, 'at',\n",
        "                        slot, 'from BUMPED to CONFIRMED')\n",
        "        \n"
      ],
      "execution_count": null,
      "outputs": []
    },
    {
      "cell_type": "code",
      "metadata": {
        "id": "DD-VKFBxZYCG"
      },
      "source": [
        "\n",
        "def get_confirmed_meetings_at_t(timeslot, m_dict):\n",
        "  ''' \n",
        "  function that returns all meetings\n",
        "  at timeslot t\n",
        "  '''\n",
        "  m_dict_1 = deepcopy(m_dict)\n",
        "  out = {}\n",
        "  for key in m_dict_1.keys():\n",
        "    for tuple in  m_dict_1[key]['timeslots']:\n",
        "      if tuple[0] == timeslot and tuple[1] == 'CONFIRMED':\n",
        "        out.update({key:m_dict_1[key]})\n",
        "  return out\n",
        "\n"
      ],
      "execution_count": null,
      "outputs": []
    },
    {
      "cell_type": "code",
      "metadata": {
        "id": "utPBukQdigHG"
      },
      "source": [
        "\n",
        "num_steps = 1000\n",
        "meeting_duration = 1\n",
        "min_attendees_per_meeting = 2\n",
        "num_workdays = 5\n",
        "len_workday = 8\n",
        "num_agents = 10\n",
        "num_timeslots = num_workdays*(len_workday//meeting_duration)\n",
        "\n",
        "all_agents = create_agents(num_agents,0.5,num_timeslots)\n",
        "new_dict_deepcopy = deepcopy(all_agents)\n",
        "m = create_meetings(new_dict_deepcopy,num_timeslots,0.8,0.3,2,num_agents)\n",
        "a_list = list(range(2,num_agents))\n",
        "\n",
        "round_list = []\n",
        "fail_list = []\n",
        "print_on = False\n",
        "\n",
        "for i in a_list:\n",
        "  round_step = 0\n",
        "  fail_step = 0\n",
        "  for _ in range(num_steps):\n",
        "    #create the meetings dictionary\n",
        "    meetings = meetings_to_dict(m)\n",
        "    meetings_before = deepcopy(meetings)\n",
        "    agents = agents_to_dict(new_dict_deepcopy)\n",
        "\n",
        "    # #Get the timeslots for all the meetings:\n",
        "    # timeslots = []\n",
        "    # for key in m.keys():\n",
        "    #   timeslots.append(m[key]['timeslot'])\n",
        "    # check_for_duplicates(timeslots)\n",
        "\n",
        "\n",
        "    round = 0\n",
        "    fail = 0\n",
        "    initiate_2_random(i, agents, meetings)\n",
        "    if print_on:\n",
        "      print()\n",
        "      print('--------------------------------------------------')\n",
        "      print('--------------------------------------------------')\n",
        "      print()\n",
        "      print('PROCESS HAS ENDED')\n",
        "      print('TOTAL ROUNDS OF NEGOTIATION:',round)\n",
        "      print()\n",
        "      print('--------------------------------------------------')\n",
        "      print('--------------------------------------------------')\n",
        "    round_step+=round\n",
        "    fail_step+=fail\n",
        "  \n",
        "  #print(round_step/num_steps)\n",
        "  round_list.append(round_step/num_steps)\n",
        "  fail_list.append(fail_step/num_steps)\n",
        "\n",
        "\n",
        "\n",
        "\n"
      ],
      "execution_count": null,
      "outputs": []
    },
    {
      "cell_type": "code",
      "metadata": {
        "colab": {
          "base_uri": "https://localhost:8080/",
          "height": 279
        },
        "id": "L2PoUkWPraoX",
        "outputId": "56d78205-5e64-4242-c884-b07152c298cc"
      },
      "source": [
        "plt.figure()\n",
        "plt.plot(a_list, round_list)\n",
        "plt.xlabel('Number of Agents in Meeting')\n",
        "plt.ylabel('Average Rounds of Negotiation')\n",
        "plt.bar(a_list, fail_list)\n",
        "plt.plot()\n",
        "plt.savefig(f\"{images_dir}/a1_{num_steps}.png\")\n",
        "plt.show()"
      ],
      "execution_count": null,
      "outputs": [
        {
          "output_type": "display_data",
          "data": {
            "image/png": "[encoded data removed]",
            "text/plain": [
              "<Figure size 432x288 with 1 Axes>"
            ]
          },
          "metadata": {
            "needs_background": "light"
          }
        }
      ]
    },
    {
      "cell_type": "code",
      "metadata": {
        "colab": {
          "base_uri": "https://localhost:8080/",
          "height": 279
        },
        "id": "A6MRUwoRmCEk",
        "outputId": "63eb9ea3-106a-47a9-b483-ce801ce28b67"
      },
      "source": [
        "# Create bars\n",
        "plt.figure()\n",
        "plt.bar(a_list, fail_list)\n",
        "plt.xlabel('Number of Agents in Meeting')\n",
        "plt.ylabel('Average Number of Failures')\n",
        "plt.plot()\n",
        "plt.savefig(f\"{images_dir}/b1_{num_steps}.png\")\n",
        "plt.show()"
      ],
      "execution_count": null,
      "outputs": [
        {
          "output_type": "display_data",
          "data": {
            "image/png": "[encoded data removed]",
            "text/plain": [
              "<Figure size 432x288 with 1 Axes>"
            ]
          },
          "metadata": {
            "needs_background": "light"
          }
        }
      ]
    },
    {
      "cell_type": "code",
      "metadata": {
        "colab": {
          "base_uri": "https://localhost:8080/"
        },
        "id": "L0g6KYMflI6w",
        "outputId": "9ce2dacc-6d11-4df6-b875-72a721ad7be3"
      },
      "source": [
        "fail_list"
      ],
      "execution_count": null,
      "outputs": [
        {
          "output_type": "execute_result",
          "data": {
            "text/plain": [
              "[0.013, 0.015, 0.005, 0.021, 0.024, 0.029, 0.03, 0.024]"
            ]
          },
          "metadata": {},
          "execution_count": 31
        }
      ]
    },
    {
      "cell_type": "code",
      "metadata": {
        "id": "7BZ79dDfDZ2d"
      },
      "source": [
        "\n",
        "meeting_duration = 1\n",
        "min_attendees_per_meeting = 2\n",
        "num_workdays = 5\n",
        "len_workday = 8\n",
        "num_agents = 10\n",
        "num_timeslots = num_workdays*(len_workday//meeting_duration)\n",
        "\n",
        "\n",
        "p_list = [(i/10,i/10) for i in range(1,9)]\n",
        "round_list = []\n",
        "fail_list = []\n",
        "print_on = False\n",
        "\n",
        "for i in p_list:\n",
        "  all_agents = create_agents(num_agents,0.5,num_timeslots)\n",
        "  new_dict_deepcopy = deepcopy(all_agents)\n",
        "  m = create_meetings(new_dict_deepcopy,num_timeslots,i[1],i[0],2,num_agents)\n",
        "  round_step = 0\n",
        "  fail_step = 0\n",
        "  for _ in range(num_steps):\n",
        "    #create the meetings dictionary\n",
        "    meetings = meetings_to_dict(m)\n",
        "    meetings_before = deepcopy(meetings)\n",
        "    agents = agents_to_dict(new_dict_deepcopy)\n",
        "\n",
        "    # #Get the timeslots for all the meetings:\n",
        "    # timeslots = []\n",
        "    # for key in m.keys():\n",
        "    #   timeslots.append(m[key]['timeslot'])\n",
        "    # check_for_duplicates(timeslots)\n",
        "\n",
        "\n",
        "    round = 0\n",
        "    fail = 0\n",
        "    initiate_2_random(3, agents, meetings)\n",
        "    if print_on:\n",
        "      print()\n",
        "      print('--------------------------------------------------')\n",
        "      print('--------------------------------------------------')\n",
        "      print()\n",
        "      print('PROCESS HAS ENDED')\n",
        "      print('TOTAL ROUNDS OF NEGOTIATION:',round)\n",
        "      print()\n",
        "      print('--------------------------------------------------')\n",
        "      print('--------------------------------------------------')\n",
        "    round_step+=round\n",
        "    fail_step+=fail\n",
        "  \n",
        "  #print(round_step/num_steps)\n",
        "  round_list.append(round_step/num_steps)\n",
        "  fail_list.append(fail_step/num_steps)\n",
        "\n"
      ],
      "execution_count": null,
      "outputs": []
    },
    {
      "cell_type": "code",
      "metadata": {
        "colab": {
          "base_uri": "https://localhost:8080/"
        },
        "id": "khV9U-NIrW9l",
        "outputId": "c02bed1d-9b3d-4541-8831-39d68ac934cc"
      },
      "source": [
        "plt.figure()\n",
        "x = range(len(p_list))\n",
        "plt.plot(x, round_list)\n",
        "plt.xlabel('Calendar Density Percentages')\n",
        "plt.ylabel('Average Rounds of Negotiation')\n",
        "plt.bar(x, fail_list)\n",
        "my_xticks = [i[0] for i in p_list]\n",
        "plt.xticks(x, my_xticks)\n",
        "plt.plot()\n",
        "plt.savefig(f\"{images_dir}/c1_{num_steps}.png\")\n",
        "plt.show()\n",
        "\n"
      ],
      "execution_count": null,
      "outputs": [
        {
          "output_type": "display_data",
          "data": {
            "image/png": "[encoded data removed]",
            "text/plain": [
              "<Figure size 432x288 with 1 Axes>"
            ]
          },
          "metadata": {
            "needs_background": "light"
          }
        }
      ]
    },
    {
      "cell_type": "code",
      "metadata": {
        "id": "fsrAnhhW7P0T",
        "colab": {
          "base_uri": "https://localhost:8080/"
        },
        "outputId": "a363983f-86cf-4cb5-a66c-b1eecfcc24d4"
      },
      "source": [
        "plt.figure()\n",
        "plt.bar(x, fail_list)\n",
        "plt.xlabel('(Non-Busy, Busy) Density percentages')\n",
        "plt.xticks(x, my_xticks)\n",
        "plt.ylabel('Average Number of Failures')\n",
        "plt.plot()\n",
        "plt.savefig(f\"{images_dir}/d1_{num_steps}.png\")\n",
        "plt.show()"
      ],
      "execution_count": null,
      "outputs": [
        {
          "output_type": "display_data",
          "data": {
            "image/png": "[encoded data removed]",
            "text/plain": [
              "<Figure size 432x288 with 1 Axes>"
            ]
          },
          "metadata": {
            "needs_background": "light"
          }
        }
      ]
    }
  ]
}