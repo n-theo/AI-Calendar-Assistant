{
  "nbformat": 4,
  "nbformat_minor": 0,
  "metadata": {
    "colab": {
      "name": "Calendar_API.ipynb",
      "provenance": [],
      "collapsed_sections": []
    },
    "kernelspec": {
      "name": "python3",
      "display_name": "Python 3"
    },
    "language_info": {
      "name": "python"
    }
  },
  "cells": [
    {
      "cell_type": "code",
      "metadata": {
        "colab": {
          "base_uri": "https://localhost:8080/"
        },
        "id": "4jjNrcOyoaQR",
        "outputId": "d0a7d327-874e-457e-d8d5-4c1b472353ee"
      },
      "source": [
        "#Install google API python client\n",
        "#This library helps us interact with any Google API\n",
        "!pip install google-api-python-client\n",
        "!pip install datefinder\n"
      ],
      "execution_count": 1,
      "outputs": [
        {
          "output_type": "stream",
          "text": [
            "Requirement already satisfied: google-api-python-client in /usr/local/lib/python3.7/dist-packages (1.12.8)\n",
            "Requirement already satisfied: httplib2<1dev,>=0.15.0 in /usr/local/lib/python3.7/dist-packages (from google-api-python-client) (0.17.4)\n",
            "Requirement already satisfied: six<2dev,>=1.13.0 in /usr/local/lib/python3.7/dist-packages (from google-api-python-client) (1.15.0)\n",
            "Requirement already satisfied: google-api-core<2dev,>=1.21.0 in /usr/local/lib/python3.7/dist-packages (from google-api-python-client) (1.26.3)\n",
            "Requirement already satisfied: google-auth-httplib2>=0.0.3 in /usr/local/lib/python3.7/dist-packages (from google-api-python-client) (0.0.4)\n",
            "Requirement already satisfied: uritemplate<4dev,>=3.0.0 in /usr/local/lib/python3.7/dist-packages (from google-api-python-client) (3.0.1)\n",
            "Requirement already satisfied: google-auth>=1.16.0 in /usr/local/lib/python3.7/dist-packages (from google-api-python-client) (1.34.0)\n",
            "Requirement already satisfied: pytz in /usr/local/lib/python3.7/dist-packages (from google-api-core<2dev,>=1.21.0->google-api-python-client) (2018.9)\n",
            "Requirement already satisfied: protobuf>=3.12.0 in /usr/local/lib/python3.7/dist-packages (from google-api-core<2dev,>=1.21.0->google-api-python-client) (3.17.3)\n",
            "Requirement already satisfied: setuptools>=40.3.0 in /usr/local/lib/python3.7/dist-packages (from google-api-core<2dev,>=1.21.0->google-api-python-client) (57.4.0)\n",
            "Requirement already satisfied: packaging>=14.3 in /usr/local/lib/python3.7/dist-packages (from google-api-core<2dev,>=1.21.0->google-api-python-client) (21.0)\n",
            "Requirement already satisfied: googleapis-common-protos<2.0dev,>=1.6.0 in /usr/local/lib/python3.7/dist-packages (from google-api-core<2dev,>=1.21.0->google-api-python-client) (1.53.0)\n",
            "Requirement already satisfied: requests<3.0.0dev,>=2.18.0 in /usr/local/lib/python3.7/dist-packages (from google-api-core<2dev,>=1.21.0->google-api-python-client) (2.23.0)\n",
            "Requirement already satisfied: cachetools<5.0,>=2.0.0 in /usr/local/lib/python3.7/dist-packages (from google-auth>=1.16.0->google-api-python-client) (4.2.2)\n",
            "Requirement already satisfied: pyasn1-modules>=0.2.1 in /usr/local/lib/python3.7/dist-packages (from google-auth>=1.16.0->google-api-python-client) (0.2.8)\n",
            "Requirement already satisfied: rsa<5,>=3.1.4 in /usr/local/lib/python3.7/dist-packages (from google-auth>=1.16.0->google-api-python-client) (4.7.2)\n",
            "Requirement already satisfied: pyparsing>=2.0.2 in /usr/local/lib/python3.7/dist-packages (from packaging>=14.3->google-api-core<2dev,>=1.21.0->google-api-python-client) (2.4.7)\n",
            "Requirement already satisfied: pyasn1<0.5.0,>=0.4.6 in /usr/local/lib/python3.7/dist-packages (from pyasn1-modules>=0.2.1->google-auth>=1.16.0->google-api-python-client) (0.4.8)\n",
            "Requirement already satisfied: idna<3,>=2.5 in /usr/local/lib/python3.7/dist-packages (from requests<3.0.0dev,>=2.18.0->google-api-core<2dev,>=1.21.0->google-api-python-client) (2.10)\n",
            "Requirement already satisfied: certifi>=2017.4.17 in /usr/local/lib/python3.7/dist-packages (from requests<3.0.0dev,>=2.18.0->google-api-core<2dev,>=1.21.0->google-api-python-client) (2021.5.30)\n",
            "Requirement already satisfied: urllib3!=1.25.0,!=1.25.1,<1.26,>=1.21.1 in /usr/local/lib/python3.7/dist-packages (from requests<3.0.0dev,>=2.18.0->google-api-core<2dev,>=1.21.0->google-api-python-client) (1.24.3)\n",
            "Requirement already satisfied: chardet<4,>=3.0.2 in /usr/local/lib/python3.7/dist-packages (from requests<3.0.0dev,>=2.18.0->google-api-core<2dev,>=1.21.0->google-api-python-client) (3.0.4)\n",
            "Requirement already satisfied: datefinder in /usr/local/lib/python3.7/dist-packages (0.7.1)\n",
            "Requirement already satisfied: pytz in /usr/local/lib/python3.7/dist-packages (from datefinder) (2018.9)\n",
            "Requirement already satisfied: regex>=2017.02.08 in /usr/local/lib/python3.7/dist-packages (from datefinder) (2019.12.20)\n",
            "Requirement already satisfied: python-dateutil>=2.4.2 in /usr/local/lib/python3.7/dist-packages (from datefinder) (2.8.2)\n",
            "Requirement already satisfied: six>=1.5 in /usr/local/lib/python3.7/dist-packages (from python-dateutil>=2.4.2->datefinder) (1.15.0)\n"
          ],
          "name": "stdout"
        }
      ]
    },
    {
      "cell_type": "code",
      "metadata": {
        "id": "uCjrM3PApnfb"
      },
      "source": [
        "#build helps us build any service object for google APIs:\n",
        "from apiclient.discovery import build\n",
        "#Many different flows can be used:\n",
        "from google_auth_oauthlib.flow import InstalledAppFlow\n",
        "from datetime import datetime, timedelta\n",
        "from pprint import pprint\n",
        "import datefinder\n",
        "import pickle\n",
        "import pytz\n",
        "from dateutil import parser\n",
        "import numpy as np"
      ],
      "execution_count": 2,
      "outputs": []
    },
    {
      "cell_type": "code",
      "metadata": {
        "id": "ezFiu-ETcE0P"
      },
      "source": [
        "\n",
        "tz = pytz.timezone('Asia/Nicosia')\n",
        "#localize just assumes that the naive datetime you pass\n",
        "# it is \"right\" (except for not knowing about the timezone!)\n",
        "# and so just sets the timezone, no other adjustments.\n"
      ],
      "execution_count": 3,
      "outputs": []
    },
    {
      "cell_type": "code",
      "metadata": {
        "id": "9XtyQWqUp2t1"
      },
      "source": [
        "#Permissions taken from the user:\n",
        "#The below scope is the main scope that provides all access \n",
        "scopes = ['https://www.googleapis.com/auth/calendar']"
      ],
      "execution_count": 4,
      "outputs": []
    },
    {
      "cell_type": "code",
      "metadata": {
        "id": "dPWSwCU6qH6G"
      },
      "source": [
        "## client secret file that contains client secret credentials:\n",
        "flow = InstalledAppFlow.from_client_secrets_file('client_secret.json', scopes = scopes)\n"
      ],
      "execution_count": 5,
      "outputs": []
    },
    {
      "cell_type": "code",
      "metadata": {
        "id": "T4_UyON1qzk2",
        "colab": {
          "base_uri": "https://localhost:8080/"
        },
        "outputId": "6491c1a0-9007-4897-9e6e-6baef8a97bda"
      },
      "source": [
        "## This will ask us to sign in from account and give permissions to google project\n",
        "## We only do this once\n",
        "credentials = flow.run_console()"
      ],
      "execution_count": 6,
      "outputs": [
        {
          "output_type": "stream",
          "text": [
            "Please visit this URL to authorize this application: https://accounts.google.com/o/oauth2/auth?response_type=code&client_id=379240348935-m3hoisho74uishv763lg9e0nphbdblb7.apps.googleusercontent.com&redirect_uri=urn%3Aietf%3Awg%3Aoauth%3A2.0%3Aoob&scope=https%3A%2F%2Fwww.googleapis.com%2Fauth%2Fcalendar&state=f2iHvppSCeEvuEYc3ypeRHZkhlE6jt&prompt=consent&access_type=offline\n",
            "Enter the authorization code: 4/1AX4XfWjxkd-ZoUXWvWOmSJQv5YPInKbQX-vBN2YLc6LtdpodoFkZXaFJ6oI\n"
          ],
          "name": "stdout"
        }
      ]
    },
    {
      "cell_type": "code",
      "metadata": {
        "id": "2uPbU9oOrPMM"
      },
      "source": [
        "## We sabe the credentials in a pkl file so we only run the flow once\n",
        "pickle.dump(credentials, open('token.pkl','wb'))"
      ],
      "execution_count": 7,
      "outputs": []
    },
    {
      "cell_type": "code",
      "metadata": {
        "id": "_eZ-2Enz-Q71"
      },
      "source": [
        "credentials = pickle.load(open('token.pkl','rb'))"
      ],
      "execution_count": 8,
      "outputs": []
    },
    {
      "cell_type": "code",
      "metadata": {
        "colab": {
          "base_uri": "https://localhost:8080/"
        },
        "id": "4TfssWWm-Rkc",
        "outputId": "3b14c150-82e9-4d78-f9d2-d4ec616fa425"
      },
      "source": [
        "credentials"
      ],
      "execution_count": 9,
      "outputs": [
        {
          "output_type": "execute_result",
          "data": {
            "text/plain": [
              "<google.oauth2.credentials.Credentials at 0x7f3c9034c510>"
            ]
          },
          "metadata": {},
          "execution_count": 9
        }
      ]
    },
    {
      "cell_type": "code",
      "metadata": {
        "id": "SFdOBuSC-8Aa"
      },
      "source": [
        "# We want to build version 3 of the Google Calendar API. \n",
        "# We also pass the credentials\n",
        "service = build('calendar', 'v3', credentials=credentials)"
      ],
      "execution_count": 10,
      "outputs": []
    },
    {
      "cell_type": "code",
      "metadata": {
        "id": "iO7bdfr1_lb-"
      },
      "source": [
        "#Generate a python object that outputs all calendars.\n",
        "#Execute API request\n",
        "all_calendars = service.calendarList().list().execute()"
      ],
      "execution_count": 11,
      "outputs": []
    },
    {
      "cell_type": "code",
      "metadata": {
        "colab": {
          "base_uri": "https://localhost:8080/"
        },
        "id": "1PHTQojXQRAa",
        "outputId": "d85d55ea-e2d2-4a6b-f2a1-60378582ff6d"
      },
      "source": [
        "all_calendars"
      ],
      "execution_count": 12,
      "outputs": [
        {
          "output_type": "execute_result",
          "data": {
            "text/plain": [
              "{'etag': '\"p33ofjn4bmu2v40g\"',\n",
              " 'items': [{'accessRole': 'owner',\n",
              "   'backgroundColor': '#9fc6e7',\n",
              "   'colorId': '15',\n",
              "   'conferenceProperties': {'allowedConferenceSolutionTypes': ['hangoutsMeet']},\n",
              "   'defaultReminders': [],\n",
              "   'description': 'dummy calendar for Bob',\n",
              "   'etag': '\"1625653384496000\"',\n",
              "   'foregroundColor': '#000000',\n",
              "   'id': '5ac0pg5kb88rffkipu6uoi6v6g@group.calendar.google.com',\n",
              "   'kind': 'calendar#calendarListEntry',\n",
              "   'summary': 'Bob',\n",
              "   'timeZone': 'Asia/Nicosia'},\n",
              "  {'accessRole': 'reader',\n",
              "   'backgroundColor': '#92e1c0',\n",
              "   'colorId': '13',\n",
              "   'conferenceProperties': {'allowedConferenceSolutionTypes': ['hangoutsMeet']},\n",
              "   'defaultReminders': [],\n",
              "   'description': 'Displays birthdays, anniversaries and other event dates of people in Google Contacts.',\n",
              "   'etag': '\"1625653385481000\"',\n",
              "   'foregroundColor': '#000000',\n",
              "   'id': 'addressbook#contacts@group.v.calendar.google.com',\n",
              "   'kind': 'calendar#calendarListEntry',\n",
              "   'summary': 'Birthdays',\n",
              "   'summaryOverride': 'Birthdays',\n",
              "   'timeZone': 'Europe/London'},\n",
              "  {'accessRole': 'owner',\n",
              "   'backgroundColor': '#c2c2c2',\n",
              "   'colorId': '19',\n",
              "   'conferenceProperties': {'allowedConferenceSolutionTypes': ['hangoutsMeet']},\n",
              "   'defaultReminders': [],\n",
              "   'description': 'Dummy calendar for Alice',\n",
              "   'etag': '\"1625659739934000\"',\n",
              "   'foregroundColor': '#000000',\n",
              "   'id': '5e1ugehj0tta053tgklj4vj09o@group.calendar.google.com',\n",
              "   'kind': 'calendar#calendarListEntry',\n",
              "   'summary': 'Alice',\n",
              "   'timeZone': 'Asia/Nicosia'},\n",
              "  {'accessRole': 'reader',\n",
              "   'backgroundColor': '#16a765',\n",
              "   'colorId': '8',\n",
              "   'conferenceProperties': {'allowedConferenceSolutionTypes': ['hangoutsMeet']},\n",
              "   'defaultReminders': [],\n",
              "   'description': 'Holidays and Observances in United Kingdom',\n",
              "   'etag': '\"1625661445757000\"',\n",
              "   'foregroundColor': '#000000',\n",
              "   'id': 'en.uk#holiday@group.v.calendar.google.com',\n",
              "   'kind': 'calendar#calendarListEntry',\n",
              "   'summary': 'Holidays in United Kingdom',\n",
              "   'timeZone': 'Europe/London'},\n",
              "  {'accessRole': 'writer',\n",
              "   'backgroundColor': '#cabdbf',\n",
              "   'colorId': '20',\n",
              "   'conferenceProperties': {'allowedConferenceSolutionTypes': ['hangoutsMeet']},\n",
              "   'defaultReminders': [],\n",
              "   'etag': '\"1625679235747000\"',\n",
              "   'foregroundColor': '#000000',\n",
              "   'id': '0n5n4e5q7i3r43puvm9v9huj4c@group.calendar.google.com',\n",
              "   'kind': 'calendar#calendarListEntry',\n",
              "   'selected': True,\n",
              "   'summary': 'A2',\n",
              "   'timeZone': 'Europe/London'},\n",
              "  {'accessRole': 'owner',\n",
              "   'backgroundColor': '#9fe1e7',\n",
              "   'colorId': '14',\n",
              "   'conferenceProperties': {'allowedConferenceSolutionTypes': ['hangoutsMeet']},\n",
              "   'defaultReminders': [{'method': 'popup', 'minutes': 30}],\n",
              "   'etag': '\"1625679928253000\"',\n",
              "   'foregroundColor': '#000000',\n",
              "   'id': 'theodosiounicholas@gmail.com',\n",
              "   'kind': 'calendar#calendarListEntry',\n",
              "   'notificationSettings': {'notifications': [{'method': 'email',\n",
              "      'type': 'eventCreation'},\n",
              "     {'method': 'email', 'type': 'eventChange'},\n",
              "     {'method': 'email', 'type': 'eventCancellation'},\n",
              "     {'method': 'email', 'type': 'eventResponse'}]},\n",
              "   'primary': True,\n",
              "   'selected': True,\n",
              "   'summary': 'theodosiounicholas@gmail.com',\n",
              "   'timeZone': 'Europe/London'}],\n",
              " 'kind': 'calendar#calendarList',\n",
              " 'nextSyncToken': 'CPD53Iu3hfICEhx0aGVvZG9zaW91bmljaG9sYXNAZ21haWwuY29t'}"
            ]
          },
          "metadata": {},
          "execution_count": 12
        }
      ]
    },
    {
      "cell_type": "code",
      "metadata": {
        "id": "1qZ36bjE_-7j"
      },
      "source": [
        "for item in all_calendars['items']:\n",
        "  summary = item['summary']\n",
        "  if summary == 'theodosiounicholas@gmail.com':\n",
        "    calendar_id = item['id']\n",
        "  elif summary == 'Alice':\n",
        "    alice_id = item['id']\n",
        "  elif summary == 'Bob':\n",
        "    bob_id = item['id']\n",
        "\n",
        "alice_events = service.events().list(calendarId = alice_id).execute()#, timeZone = 'Asia/Nicosia').execute()\n",
        "bob_events = service.events().list(calendarId = bob_id).execute()#, timeZone = 'Asia/Nicosia').execute()"
      ],
      "execution_count": 13,
      "outputs": []
    },
    {
      "cell_type": "code",
      "metadata": {
        "id": "6miQHV19W7OX",
        "colab": {
          "base_uri": "https://localhost:8080/"
        },
        "outputId": "0d75d068-308f-473d-bc7e-c0229f2265d4"
      },
      "source": [
        "print('Bobs events:')\n",
        "print('---------------------------------------------')\n",
        "pprint(bob_events['items'])\n",
        "print('---------------------------------------------')\n",
        "print()\n",
        "print('Alice events:')\n",
        "print('---------------------------------------------')\n",
        "pprint(alice_events['items'])\n",
        "print('---------------------------------------------')"
      ],
      "execution_count": 14,
      "outputs": [
        {
          "output_type": "stream",
          "text": [
            "Bobs events:\n",
            "---------------------------------------------\n",
            "[{'created': '2021-04-21T07:16:10.000Z',\n",
            "  'creator': {'email': 'theodosiounicholas@gmail.com'},\n",
            "  'end': {'dateTime': '2021-04-21T12:30:00+03:00'},\n",
            "  'etag': '\"3237978741494000\"',\n",
            "  'eventType': 'default',\n",
            "  'htmlLink': 'https://www.google.com/calendar/event?eid=Nzk0ZmlhZWZlYmdicTNydmJsNTdnZ2tpNjUgNWFjMHBnNWtiODhyZmZraXB1NnVvaTZ2NmdAZw',\n",
            "  'iCalUID': '794fiaefebgbq3rvbl57ggki65@google.com',\n",
            "  'id': '794fiaefebgbq3rvbl57ggki65',\n",
            "  'kind': 'calendar#event',\n",
            "  'organizer': {'displayName': 'Bob',\n",
            "                'email': '5ac0pg5kb88rffkipu6uoi6v6g@group.calendar.google.com',\n",
            "                'self': True},\n",
            "  'reminders': {'useDefault': True},\n",
            "  'sequence': 0,\n",
            "  'start': {'dateTime': '2021-04-21T11:30:00+03:00'},\n",
            "  'status': 'confirmed',\n",
            "  'summary': 'Meeting',\n",
            "  'updated': '2021-04-21T07:16:10.747Z'},\n",
            " {'created': '2021-04-21T07:16:25.000Z',\n",
            "  'creator': {'email': 'theodosiounicholas@gmail.com'},\n",
            "  'end': {'dateTime': '2021-04-21T16:00:00+03:00'},\n",
            "  'etag': '\"3237978771664000\"',\n",
            "  'eventType': 'default',\n",
            "  'htmlLink': 'https://www.google.com/calendar/event?eid=NGoycGtyNnI1dTh1YWRsbGpqa2NoZGR1bGIgNWFjMHBnNWtiODhyZmZraXB1NnVvaTZ2NmdAZw',\n",
            "  'iCalUID': '4j2pkr6r5u8uadlljjkchddulb@google.com',\n",
            "  'id': '4j2pkr6r5u8uadlljjkchddulb',\n",
            "  'kind': 'calendar#event',\n",
            "  'organizer': {'displayName': 'Bob',\n",
            "                'email': '5ac0pg5kb88rffkipu6uoi6v6g@group.calendar.google.com',\n",
            "                'self': True},\n",
            "  'reminders': {'useDefault': True},\n",
            "  'sequence': 0,\n",
            "  'start': {'dateTime': '2021-04-21T15:00:00+03:00'},\n",
            "  'status': 'confirmed',\n",
            "  'summary': 'Meeting',\n",
            "  'updated': '2021-04-21T07:16:25.832Z'},\n",
            " {'created': '2021-04-21T07:16:34.000Z',\n",
            "  'creator': {'email': 'theodosiounicholas@gmail.com'},\n",
            "  'end': {'dateTime': '2021-04-21T14:30:00+03:00'},\n",
            "  'etag': '\"3237978788940000\"',\n",
            "  'eventType': 'default',\n",
            "  'htmlLink': 'https://www.google.com/calendar/event?eid=MjllYTVwOWFtNGI5MHZrYmkzYWNlZGw1aGUgNWFjMHBnNWtiODhyZmZraXB1NnVvaTZ2NmdAZw',\n",
            "  'iCalUID': '29ea5p9am4b90vkbi3acedl5he@google.com',\n",
            "  'id': '29ea5p9am4b90vkbi3acedl5he',\n",
            "  'kind': 'calendar#event',\n",
            "  'organizer': {'displayName': 'Bob',\n",
            "                'email': '5ac0pg5kb88rffkipu6uoi6v6g@group.calendar.google.com',\n",
            "                'self': True},\n",
            "  'reminders': {'useDefault': True},\n",
            "  'sequence': 0,\n",
            "  'start': {'dateTime': '2021-04-21T13:30:00+03:00'},\n",
            "  'status': 'confirmed',\n",
            "  'summary': 'Lunch',\n",
            "  'updated': '2021-04-21T07:16:34.470Z'},\n",
            " {'created': '2021-04-21T07:16:46.000Z',\n",
            "  'creator': {'email': 'theodosiounicholas@gmail.com'},\n",
            "  'end': {'dateTime': '2021-04-21T18:30:00+03:00'},\n",
            "  'etag': '\"3237978813978000\"',\n",
            "  'eventType': 'default',\n",
            "  'htmlLink': 'https://www.google.com/calendar/event?eid=N2Q5Yms2dTg0ZzJycnNwanJqZWF0ZmRucGMgNWFjMHBnNWtiODhyZmZraXB1NnVvaTZ2NmdAZw',\n",
            "  'iCalUID': '7d9bk6u84g2rrspjrjeatfdnpc@google.com',\n",
            "  'id': '7d9bk6u84g2rrspjrjeatfdnpc',\n",
            "  'kind': 'calendar#event',\n",
            "  'organizer': {'displayName': 'Bob',\n",
            "                'email': '5ac0pg5kb88rffkipu6uoi6v6g@group.calendar.google.com',\n",
            "                'self': True},\n",
            "  'reminders': {'useDefault': True},\n",
            "  'sequence': 0,\n",
            "  'start': {'dateTime': '2021-04-21T17:30:00+03:00'},\n",
            "  'status': 'confirmed',\n",
            "  'summary': 'Coffee with friends',\n",
            "  'updated': '2021-04-21T07:16:46.989Z'},\n",
            " {'created': '2021-04-30T09:24:32.000Z',\n",
            "  'creator': {'email': 'theodosiounicholas@gmail.com'},\n",
            "  'description': 'Leisure',\n",
            "  'end': {'dateTime': '2021-04-21T19:00:00+03:00', 'timeZone': 'Asia/Nicosia'},\n",
            "  'etag': '\"3239549344790000\"',\n",
            "  'eventType': 'default',\n",
            "  'htmlLink': 'https://www.google.com/calendar/event?eid=b2V1cmpmOGdqZjcyODRlOHY1bm9rbG05ajggNWFjMHBnNWtiODhyZmZraXB1NnVvaTZ2NmdAZw',\n",
            "  'iCalUID': 'oeurjf8gjf7284e8v5noklm9j8@google.com',\n",
            "  'id': 'oeurjf8gjf7284e8v5noklm9j8',\n",
            "  'kind': 'calendar#event',\n",
            "  'location': 'Coffeehouse',\n",
            "  'organizer': {'displayName': 'Bob',\n",
            "                'email': '5ac0pg5kb88rffkipu6uoi6v6g@group.calendar.google.com',\n",
            "                'self': True},\n",
            "  'reminders': {'overrides': [{'method': 'popup', 'minutes': 10},\n",
            "                              {'method': 'email', 'minutes': 1440}],\n",
            "                'useDefault': False},\n",
            "  'sequence': 0,\n",
            "  'start': {'dateTime': '2021-04-21T18:30:00+03:00',\n",
            "            'timeZone': 'Asia/Nicosia'},\n",
            "  'status': 'confirmed',\n",
            "  'summary': 'Meet with friend',\n",
            "  'updated': '2021-04-30T09:24:32.445Z'},\n",
            " {'created': '2021-04-30T11:11:55.000Z',\n",
            "  'creator': {'email': 'theodosiounicholas@gmail.com'},\n",
            "  'description': 'Leisure',\n",
            "  'end': {'dateTime': '2021-04-21T13:30:00+03:00', 'timeZone': 'Asia/Nicosia'},\n",
            "  'etag': '\"3239562230949000\"',\n",
            "  'eventType': 'default',\n",
            "  'htmlLink': 'https://www.google.com/calendar/event?eid=Zmw3a2Jqajk3ZTI1NjYzdWQ4MGZyM21zM3MgNWFjMHBnNWtiODhyZmZraXB1NnVvaTZ2NmdAZw',\n",
            "  'iCalUID': 'fl7kbjj97e25663ud80fr3ms3s@google.com',\n",
            "  'id': 'fl7kbjj97e25663ud80fr3ms3s',\n",
            "  'kind': 'calendar#event',\n",
            "  'location': 'Coffeehouse',\n",
            "  'organizer': {'displayName': 'Bob',\n",
            "                'email': '5ac0pg5kb88rffkipu6uoi6v6g@group.calendar.google.com',\n",
            "                'self': True},\n",
            "  'reminders': {'overrides': [{'method': 'popup', 'minutes': 10},\n",
            "                              {'method': 'email', 'minutes': 1440}],\n",
            "                'useDefault': False},\n",
            "  'sequence': 0,\n",
            "  'start': {'dateTime': '2021-04-21T13:00:00+03:00',\n",
            "            'timeZone': 'Asia/Nicosia'},\n",
            "  'status': 'confirmed',\n",
            "  'summary': 'Meet with friend',\n",
            "  'updated': '2021-04-30T11:11:55.500Z'},\n",
            " {'created': '2021-04-30T12:04:08.000Z',\n",
            "  'creator': {'email': 'theodosiounicholas@gmail.com'},\n",
            "  'description': 'Leisure',\n",
            "  'end': {'dateTime': '2021-04-21T19:30:00+03:00', 'timeZone': 'Asia/Nicosia'},\n",
            "  'etag': '\"3239568496824000\"',\n",
            "  'eventType': 'default',\n",
            "  'htmlLink': 'https://www.google.com/calendar/event?eid=ZjZxYWFwYWhyNm9mbHQ4bjVndnA0cWI3bnMgNWFjMHBnNWtiODhyZmZraXB1NnVvaTZ2NmdAZw',\n",
            "  'iCalUID': 'f6qaapahr6oflt8n5gvp4qb7ns@google.com',\n",
            "  'id': 'f6qaapahr6oflt8n5gvp4qb7ns',\n",
            "  'kind': 'calendar#event',\n",
            "  'location': 'Coffeehouse',\n",
            "  'organizer': {'displayName': 'Bob',\n",
            "                'email': '5ac0pg5kb88rffkipu6uoi6v6g@group.calendar.google.com',\n",
            "                'self': True},\n",
            "  'reminders': {'overrides': [{'method': 'popup', 'minutes': 10},\n",
            "                              {'method': 'email', 'minutes': 1440}],\n",
            "                'useDefault': False},\n",
            "  'sequence': 0,\n",
            "  'start': {'dateTime': '2021-04-21T19:00:00+03:00',\n",
            "            'timeZone': 'Asia/Nicosia'},\n",
            "  'status': 'confirmed',\n",
            "  'summary': 'Meet with friend',\n",
            "  'updated': '2021-04-30T12:04:08.438Z'},\n",
            " {'created': '2021-06-15T13:29:13.000Z',\n",
            "  'creator': {'email': 'theodosiounicholas@gmail.com'},\n",
            "  'description': 'Leisure',\n",
            "  'end': {'dateTime': '2021-04-21T20:00:00+03:00', 'timeZone': 'Asia/Nicosia'},\n",
            "  'etag': '\"3247527506979000\"',\n",
            "  'eventType': 'default',\n",
            "  'htmlLink': 'https://www.google.com/calendar/event?eid=bDRsbHRub2xhbmxmbTZyYTN0M2lyb29zaTggNWFjMHBnNWtiODhyZmZraXB1NnVvaTZ2NmdAZw',\n",
            "  'iCalUID': 'l4lltnolanlfm6ra3t3iroosi8@google.com',\n",
            "  'id': 'l4lltnolanlfm6ra3t3iroosi8',\n",
            "  'kind': 'calendar#event',\n",
            "  'location': 'Coffeehouse',\n",
            "  'organizer': {'displayName': 'Bob',\n",
            "                'email': '5ac0pg5kb88rffkipu6uoi6v6g@group.calendar.google.com',\n",
            "                'self': True},\n",
            "  'reminders': {'overrides': [{'method': 'popup', 'minutes': 10},\n",
            "                              {'method': 'email', 'minutes': 1440}],\n",
            "                'useDefault': False},\n",
            "  'sequence': 0,\n",
            "  'start': {'dateTime': '2021-04-21T19:30:00+03:00',\n",
            "            'timeZone': 'Asia/Nicosia'},\n",
            "  'status': 'confirmed',\n",
            "  'summary': 'Meet with friend',\n",
            "  'updated': '2021-06-15T13:29:13.530Z'},\n",
            " {'created': '2021-08-26T11:33:22.000Z',\n",
            "  'creator': {'email': 'theodosiounicholas@gmail.com'},\n",
            "  'description': 'Leisure',\n",
            "  'end': {'dateTime': '2021-04-21T13:30:00+03:00', 'timeZone': 'Asia/Nicosia'},\n",
            "  'etag': '\"3259955205418000\"',\n",
            "  'eventType': 'default',\n",
            "  'htmlLink': 'https://www.google.com/calendar/event?eid=NXRlbDY4cDIxcWw1NnBnNzBnOHQzdnU5NTggNWFjMHBnNWtiODhyZmZraXB1NnVvaTZ2NmdAZw',\n",
            "  'iCalUID': '5tel68p21ql56pg70g8t3vu958@google.com',\n",
            "  'id': '5tel68p21ql56pg70g8t3vu958',\n",
            "  'kind': 'calendar#event',\n",
            "  'location': 'Coffeehouse',\n",
            "  'organizer': {'displayName': 'Bob',\n",
            "                'email': '5ac0pg5kb88rffkipu6uoi6v6g@group.calendar.google.com',\n",
            "                'self': True},\n",
            "  'reminders': {'overrides': [{'method': 'popup', 'minutes': 10},\n",
            "                              {'method': 'email', 'minutes': 1440}],\n",
            "                'useDefault': False},\n",
            "  'sequence': 0,\n",
            "  'start': {'dateTime': '2021-04-21T13:00:00+03:00',\n",
            "            'timeZone': 'Asia/Nicosia'},\n",
            "  'status': 'confirmed',\n",
            "  'summary': 'Meet with friend',\n",
            "  'updated': '2021-08-26T11:33:22.738Z'}]\n",
            "---------------------------------------------\n",
            "\n",
            "Alice events:\n",
            "---------------------------------------------\n",
            "[{'created': '2021-04-21T07:17:29.000Z',\n",
            "  'creator': {'email': 'theodosiounicholas@gmail.com'},\n",
            "  'end': {'dateTime': '2021-04-21T13:00:00+03:00'},\n",
            "  'etag': '\"3237978899170000\"',\n",
            "  'eventType': 'default',\n",
            "  'htmlLink': 'https://www.google.com/calendar/event?eid=NjZwbGlvdGY0bDFuMTFpcjA3dnRldWdndG4gNWUxdWdlaGowdHRhMDUzdGdrbGo0dmowOW9AZw',\n",
            "  'iCalUID': '66pliotf4l1n11ir07vteuggtn@google.com',\n",
            "  'id': '66pliotf4l1n11ir07vteuggtn',\n",
            "  'kind': 'calendar#event',\n",
            "  'organizer': {'displayName': 'Alice',\n",
            "                'email': '5e1ugehj0tta053tgklj4vj09o@group.calendar.google.com',\n",
            "                'self': True},\n",
            "  'reminders': {'useDefault': True},\n",
            "  'sequence': 0,\n",
            "  'start': {'dateTime': '2021-04-21T12:00:00+03:00'},\n",
            "  'status': 'confirmed',\n",
            "  'summary': 'Lunch',\n",
            "  'updated': '2021-04-21T07:17:29.585Z'},\n",
            " {'created': '2021-04-21T07:17:40.000Z',\n",
            "  'creator': {'email': 'theodosiounicholas@gmail.com'},\n",
            "  'end': {'dateTime': '2021-04-21T15:00:00+03:00'},\n",
            "  'etag': '\"3237978921766000\"',\n",
            "  'eventType': 'default',\n",
            "  'htmlLink': 'https://www.google.com/calendar/event?eid=MWp2a2M3M2FndXRsc25qNmluczJ2YXNiYm4gNWUxdWdlaGowdHRhMDUzdGdrbGo0dmowOW9AZw',\n",
            "  'iCalUID': '1jvkc73agutlsnj6ins2vasbbn@google.com',\n",
            "  'id': '1jvkc73agutlsnj6ins2vasbbn',\n",
            "  'kind': 'calendar#event',\n",
            "  'organizer': {'displayName': 'Alice',\n",
            "                'email': '5e1ugehj0tta053tgklj4vj09o@group.calendar.google.com',\n",
            "                'self': True},\n",
            "  'reminders': {'useDefault': True},\n",
            "  'sequence': 0,\n",
            "  'start': {'dateTime': '2021-04-21T14:00:00+03:00'},\n",
            "  'status': 'confirmed',\n",
            "  'summary': 'Meeting',\n",
            "  'updated': '2021-04-21T07:17:40.883Z'},\n",
            " {'created': '2021-04-21T07:17:52.000Z',\n",
            "  'creator': {'email': 'theodosiounicholas@gmail.com'},\n",
            "  'end': {'dateTime': '2021-04-21T16:30:00+03:00'},\n",
            "  'etag': '\"3237978945710000\"',\n",
            "  'eventType': 'default',\n",
            "  'htmlLink': 'https://www.google.com/calendar/event?eid=N2U0cGQ0NzBqYWU2OThmdnVqdTI1NjlnaTkgNWUxdWdlaGowdHRhMDUzdGdrbGo0dmowOW9AZw',\n",
            "  'iCalUID': '7e4pd470jae698fvuju2569gi9@google.com',\n",
            "  'id': '7e4pd470jae698fvuju2569gi9',\n",
            "  'kind': 'calendar#event',\n",
            "  'organizer': {'displayName': 'Alice',\n",
            "                'email': '5e1ugehj0tta053tgklj4vj09o@group.calendar.google.com',\n",
            "                'self': True},\n",
            "  'reminders': {'useDefault': True},\n",
            "  'sequence': 0,\n",
            "  'start': {'dateTime': '2021-04-21T15:30:00+03:00'},\n",
            "  'status': 'confirmed',\n",
            "  'summary': 'Coffee with Lisa',\n",
            "  'updated': '2021-04-21T07:17:52.855Z'},\n",
            " {'created': '2021-04-21T07:17:57.000Z',\n",
            "  'creator': {'email': 'theodosiounicholas@gmail.com'},\n",
            "  'end': {'dateTime': '2021-04-21T18:00:00+03:00'},\n",
            "  'etag': '\"3237978955110000\"',\n",
            "  'eventType': 'default',\n",
            "  'htmlLink': 'https://www.google.com/calendar/event?eid=MzVidGU0NW5hbXRmdDlwOWZ0cmk5MW04NjEgNWUxdWdlaGowdHRhMDUzdGdrbGo0dmowOW9AZw',\n",
            "  'iCalUID': '35bte45namtft9p9ftri91m861@google.com',\n",
            "  'id': '35bte45namtft9p9ftri91m861',\n",
            "  'kind': 'calendar#event',\n",
            "  'organizer': {'displayName': 'Alice',\n",
            "                'email': '5e1ugehj0tta053tgklj4vj09o@group.calendar.google.com',\n",
            "                'self': True},\n",
            "  'reminders': {'useDefault': True},\n",
            "  'sequence': 0,\n",
            "  'start': {'dateTime': '2021-04-21T17:00:00+03:00'},\n",
            "  'status': 'confirmed',\n",
            "  'summary': 'Gym',\n",
            "  'updated': '2021-04-21T07:17:57.555Z'},\n",
            " {'created': '2021-04-27T18:35:53.000Z',\n",
            "  'creator': {'email': 'theodosiounicholas@gmail.com'},\n",
            "  'end': {'dateTime': '2021-04-28T13:30:00+03:00'},\n",
            "  'etag': '\"3239097107086000\"',\n",
            "  'eventType': 'default',\n",
            "  'htmlLink': 'https://www.google.com/calendar/event?eid=NTQwMGMxcWYwdmhraTZybXNsN2psZmVpbTYgNWUxdWdlaGowdHRhMDUzdGdrbGo0dmowOW9AZw',\n",
            "  'iCalUID': '5400c1qf0vhki6rmsl7jlfeim6@google.com',\n",
            "  'id': '5400c1qf0vhki6rmsl7jlfeim6',\n",
            "  'kind': 'calendar#event',\n",
            "  'organizer': {'displayName': 'Alice',\n",
            "                'email': '5e1ugehj0tta053tgklj4vj09o@group.calendar.google.com',\n",
            "                'self': True},\n",
            "  'reminders': {'useDefault': True},\n",
            "  'sequence': 0,\n",
            "  'start': {'dateTime': '2021-04-28T12:30:00+03:00'},\n",
            "  'status': 'confirmed',\n",
            "  'summary': 'Lunch',\n",
            "  'updated': '2021-04-27T18:35:53.543Z'},\n",
            " {'created': '2021-04-30T09:24:32.000Z',\n",
            "  'creator': {'email': 'theodosiounicholas@gmail.com'},\n",
            "  'description': 'Leisure',\n",
            "  'end': {'dateTime': '2021-04-21T19:00:00+03:00', 'timeZone': 'Asia/Nicosia'},\n",
            "  'etag': '\"3239549345726000\"',\n",
            "  'eventType': 'default',\n",
            "  'htmlLink': 'https://www.google.com/calendar/event?eid=azhyZzJmMHUybzRybzliZG45bjhha2lxNW8gNWUxdWdlaGowdHRhMDUzdGdrbGo0dmowOW9AZw',\n",
            "  'iCalUID': 'k8rg2f0u2o4ro9bdn9n8akiq5o@google.com',\n",
            "  'id': 'k8rg2f0u2o4ro9bdn9n8akiq5o',\n",
            "  'kind': 'calendar#event',\n",
            "  'location': 'Coffeehouse',\n",
            "  'organizer': {'displayName': 'Alice',\n",
            "                'email': '5e1ugehj0tta053tgklj4vj09o@group.calendar.google.com',\n",
            "                'self': True},\n",
            "  'reminders': {'overrides': [{'method': 'email', 'minutes': 1440},\n",
            "                              {'method': 'popup', 'minutes': 10}],\n",
            "                'useDefault': False},\n",
            "  'sequence': 0,\n",
            "  'start': {'dateTime': '2021-04-21T18:30:00+03:00',\n",
            "            'timeZone': 'Asia/Nicosia'},\n",
            "  'status': 'confirmed',\n",
            "  'summary': 'Meet with friend',\n",
            "  'updated': '2021-04-30T09:24:33.002Z'},\n",
            " {'created': '2021-04-30T11:11:55.000Z',\n",
            "  'creator': {'email': 'theodosiounicholas@gmail.com'},\n",
            "  'description': 'Leisure',\n",
            "  'end': {'dateTime': '2021-04-21T13:30:00+03:00', 'timeZone': 'Asia/Nicosia'},\n",
            "  'etag': '\"3239562231738000\"',\n",
            "  'eventType': 'default',\n",
            "  'htmlLink': 'https://www.google.com/calendar/event?eid=MzNjcDhuaDMyZGFvY29pMmV1ZTRxMXNyczggNWUxdWdlaGowdHRhMDUzdGdrbGo0dmowOW9AZw',\n",
            "  'iCalUID': '33cp8nh32daocoi2eue4q1srs8@google.com',\n",
            "  'id': '33cp8nh32daocoi2eue4q1srs8',\n",
            "  'kind': 'calendar#event',\n",
            "  'location': 'Coffeehouse',\n",
            "  'organizer': {'displayName': 'Alice',\n",
            "                'email': '5e1ugehj0tta053tgklj4vj09o@group.calendar.google.com',\n",
            "                'self': True},\n",
            "  'reminders': {'overrides': [{'method': 'email', 'minutes': 1440},\n",
            "                              {'method': 'popup', 'minutes': 10}],\n",
            "                'useDefault': False},\n",
            "  'sequence': 0,\n",
            "  'start': {'dateTime': '2021-04-21T13:00:00+03:00',\n",
            "            'timeZone': 'Asia/Nicosia'},\n",
            "  'status': 'confirmed',\n",
            "  'summary': 'Meet with friend',\n",
            "  'updated': '2021-04-30T11:11:56.002Z'},\n",
            " {'created': '2021-04-30T12:04:08.000Z',\n",
            "  'creator': {'email': 'theodosiounicholas@gmail.com'},\n",
            "  'description': 'Leisure',\n",
            "  'end': {'dateTime': '2021-04-21T19:30:00+03:00', 'timeZone': 'Asia/Nicosia'},\n",
            "  'etag': '\"3239568497631000\"',\n",
            "  'eventType': 'default',\n",
            "  'htmlLink': 'https://www.google.com/calendar/event?eid=Nm43ZjZyMDAwZGtmc21ocTU3ZDlnZ2pldjAgNWUxdWdlaGowdHRhMDUzdGdrbGo0dmowOW9AZw',\n",
            "  'iCalUID': '6n7f6r000dkfsmhq57d9ggjev0@google.com',\n",
            "  'id': '6n7f6r000dkfsmhq57d9ggjev0',\n",
            "  'kind': 'calendar#event',\n",
            "  'location': 'Coffeehouse',\n",
            "  'organizer': {'displayName': 'Alice',\n",
            "                'email': '5e1ugehj0tta053tgklj4vj09o@group.calendar.google.com',\n",
            "                'self': True},\n",
            "  'reminders': {'overrides': [{'method': 'email', 'minutes': 1440},\n",
            "                              {'method': 'popup', 'minutes': 10}],\n",
            "                'useDefault': False},\n",
            "  'sequence': 0,\n",
            "  'start': {'dateTime': '2021-04-21T19:00:00+03:00',\n",
            "            'timeZone': 'Asia/Nicosia'},\n",
            "  'status': 'confirmed',\n",
            "  'summary': 'Meet with friend',\n",
            "  'updated': '2021-04-30T12:04:08.958Z'},\n",
            " {'created': '2021-06-15T13:29:13.000Z',\n",
            "  'creator': {'email': 'theodosiounicholas@gmail.com'},\n",
            "  'description': 'Leisure',\n",
            "  'end': {'dateTime': '2021-04-21T20:00:00+03:00', 'timeZone': 'Asia/Nicosia'},\n",
            "  'etag': '\"3247527507875000\"',\n",
            "  'eventType': 'default',\n",
            "  'htmlLink': 'https://www.google.com/calendar/event?eid=cXExODBrYmQ3MXEwaDFzdHVpcjBhMmYwdWcgNWUxdWdlaGowdHRhMDUzdGdrbGo0dmowOW9AZw',\n",
            "  'iCalUID': 'qq180kbd71q0h1stuir0a2f0ug@google.com',\n",
            "  'id': 'qq180kbd71q0h1stuir0a2f0ug',\n",
            "  'kind': 'calendar#event',\n",
            "  'location': 'Coffeehouse',\n",
            "  'organizer': {'displayName': 'Alice',\n",
            "                'email': '5e1ugehj0tta053tgklj4vj09o@group.calendar.google.com',\n",
            "                'self': True},\n",
            "  'reminders': {'overrides': [{'method': 'email', 'minutes': 1440},\n",
            "                              {'method': 'popup', 'minutes': 10}],\n",
            "                'useDefault': False},\n",
            "  'sequence': 0,\n",
            "  'start': {'dateTime': '2021-04-21T19:30:00+03:00',\n",
            "            'timeZone': 'Asia/Nicosia'},\n",
            "  'status': 'confirmed',\n",
            "  'summary': 'Meet with friend',\n",
            "  'updated': '2021-06-15T13:29:13.977Z'},\n",
            " {'created': '2021-06-15T16:53:33.000Z',\n",
            "  'creator': {'email': 'theodosiounicholas@gmail.com'},\n",
            "  'end': {'dateTime': '2021-06-14T16:00:00+03:00'},\n",
            "  'etag': '\"3247552026700000\"',\n",
            "  'eventType': 'default',\n",
            "  'htmlLink': 'https://www.google.com/calendar/event?eid=NXRoaGIyaGVqaGVwdHAyNXA1bmE0aGdvYTMgNWUxdWdlaGowdHRhMDUzdGdrbGo0dmowOW9AZw',\n",
            "  'iCalUID': '5thhb2hejheptp25p5na4hgoa3@google.com',\n",
            "  'id': '5thhb2hejheptp25p5na4hgoa3',\n",
            "  'kind': 'calendar#event',\n",
            "  'organizer': {'displayName': 'Alice',\n",
            "                'email': '5e1ugehj0tta053tgklj4vj09o@group.calendar.google.com',\n",
            "                'self': True},\n",
            "  'reminders': {'useDefault': True},\n",
            "  'sequence': 0,\n",
            "  'start': {'dateTime': '2021-06-14T15:00:00+03:00'},\n",
            "  'status': 'confirmed',\n",
            "  'summary': 'b',\n",
            "  'updated': '2021-06-15T16:53:33.350Z'},\n",
            " {'created': '2021-06-15T16:53:29.000Z',\n",
            "  'creator': {'email': 'theodosiounicholas@gmail.com'},\n",
            "  'end': {'dateTime': '2021-06-15T17:00:00+03:00'},\n",
            "  'etag': '\"3247552049246000\"',\n",
            "  'eventType': 'default',\n",
            "  'htmlLink': 'https://www.google.com/calendar/event?eid=N241MXNwNGhsMG9ubW85a2V2cG11aWJqbzAgNWUxdWdlaGowdHRhMDUzdGdrbGo0dmowOW9AZw',\n",
            "  'iCalUID': '7n51sp4hl0onmo9kevpmuibjo0@google.com',\n",
            "  'id': '7n51sp4hl0onmo9kevpmuibjo0',\n",
            "  'kind': 'calendar#event',\n",
            "  'organizer': {'displayName': 'Alice',\n",
            "                'email': '5e1ugehj0tta053tgklj4vj09o@group.calendar.google.com',\n",
            "                'self': True},\n",
            "  'reminders': {'useDefault': True},\n",
            "  'sequence': 0,\n",
            "  'start': {'dateTime': '2021-06-15T16:00:00+03:00'},\n",
            "  'status': 'confirmed',\n",
            "  'summary': 'c',\n",
            "  'updated': '2021-06-15T16:53:44.623Z'},\n",
            " {'created': '2021-06-21T12:34:15.000Z',\n",
            "  'creator': {'email': 'theodosiounicholas@gmail.com'},\n",
            "  'end': {'dateTime': '2021-06-14T14:00:00+03:00'},\n",
            "  'etag': '\"3248557710532000\"',\n",
            "  'eventType': 'default',\n",
            "  'htmlLink': 'https://www.google.com/calendar/event?eid=NG1ta2R0NXVub3BnZWMxbmNmaGlrZjl1ZXIgNWUxdWdlaGowdHRhMDUzdGdrbGo0dmowOW9AZw',\n",
            "  'iCalUID': '4mmkdt5unopgec1ncfhikf9uer@google.com',\n",
            "  'id': '4mmkdt5unopgec1ncfhikf9uer',\n",
            "  'kind': 'calendar#event',\n",
            "  'organizer': {'displayName': 'Alice',\n",
            "                'email': '5e1ugehj0tta053tgklj4vj09o@group.calendar.google.com',\n",
            "                'self': True},\n",
            "  'reminders': {'useDefault': True},\n",
            "  'sequence': 0,\n",
            "  'start': {'dateTime': '2021-06-14T13:00:00+03:00'},\n",
            "  'status': 'confirmed',\n",
            "  'summary': 'a',\n",
            "  'updated': '2021-06-21T12:34:15.266Z'},\n",
            " {'created': '2021-06-21T12:34:23.000Z',\n",
            "  'creator': {'email': 'theodosiounicholas@gmail.com'},\n",
            "  'end': {'dateTime': '2021-06-14T20:00:00+03:00'},\n",
            "  'etag': '\"3248557726084000\"',\n",
            "  'eventType': 'default',\n",
            "  'htmlLink': 'https://www.google.com/calendar/event?eid=MWd0Z2NwN250Zmw4NGhzODM2dDhkcWMxb2sgNWUxdWdlaGowdHRhMDUzdGdrbGo0dmowOW9AZw',\n",
            "  'iCalUID': '1gtgcp7ntfl84hs836t8dqc1ok@google.com',\n",
            "  'id': '1gtgcp7ntfl84hs836t8dqc1ok',\n",
            "  'kind': 'calendar#event',\n",
            "  'organizer': {'displayName': 'Alice',\n",
            "                'email': '5e1ugehj0tta053tgklj4vj09o@group.calendar.google.com',\n",
            "                'self': True},\n",
            "  'reminders': {'useDefault': True},\n",
            "  'sequence': 0,\n",
            "  'start': {'dateTime': '2021-06-14T19:00:00+03:00'},\n",
            "  'status': 'confirmed',\n",
            "  'summary': 'c',\n",
            "  'updated': '2021-06-21T12:34:23.042Z'},\n",
            " {'created': '2021-06-21T12:34:28.000Z',\n",
            "  'creator': {'email': 'theodosiounicholas@gmail.com'},\n",
            "  'end': {'dateTime': '2021-06-14T18:00:00+03:00'},\n",
            "  'etag': '\"3248557737428000\"',\n",
            "  'eventType': 'default',\n",
            "  'htmlLink': 'https://www.google.com/calendar/event?eid=MXRyNHRkcXFlc3Q0c25pMHU0ZGc3c21uYWggNWUxdWdlaGowdHRhMDUzdGdrbGo0dmowOW9AZw',\n",
            "  'iCalUID': '1tr4tdqqest4sni0u4dg7smnah@google.com',\n",
            "  'id': '1tr4tdqqest4sni0u4dg7smnah',\n",
            "  'kind': 'calendar#event',\n",
            "  'organizer': {'displayName': 'Alice',\n",
            "                'email': '5e1ugehj0tta053tgklj4vj09o@group.calendar.google.com',\n",
            "                'self': True},\n",
            "  'reminders': {'useDefault': True},\n",
            "  'sequence': 0,\n",
            "  'start': {'dateTime': '2021-06-14T17:00:00+03:00'},\n",
            "  'status': 'confirmed',\n",
            "  'summary': 'k',\n",
            "  'updated': '2021-06-21T12:34:28.714Z'},\n",
            " {'created': '2021-06-21T12:34:38.000Z',\n",
            "  'creator': {'email': 'theodosiounicholas@gmail.com'},\n",
            "  'end': {'dateTime': '2021-06-14T12:00:00+03:00'},\n",
            "  'etag': '\"3248557757220000\"',\n",
            "  'eventType': 'default',\n",
            "  'htmlLink': 'https://www.google.com/calendar/event?eid=NGVpbTNmcW51Z2Y4OTlzbnE4cjNjZmE0Zm8gNWUxdWdlaGowdHRhMDUzdGdrbGo0dmowOW9AZw',\n",
            "  'iCalUID': '4eim3fqnugf899snq8r3cfa4fo@google.com',\n",
            "  'id': '4eim3fqnugf899snq8r3cfa4fo',\n",
            "  'kind': 'calendar#event',\n",
            "  'organizer': {'displayName': 'Alice',\n",
            "                'email': '5e1ugehj0tta053tgklj4vj09o@group.calendar.google.com',\n",
            "                'self': True},\n",
            "  'reminders': {'useDefault': True},\n",
            "  'sequence': 0,\n",
            "  'start': {'dateTime': '2021-06-14T11:00:00+03:00'},\n",
            "  'status': 'confirmed',\n",
            "  'summary': 'a',\n",
            "  'updated': '2021-06-21T12:34:38.610Z'},\n",
            " {'created': '2021-06-21T12:34:49.000Z',\n",
            "  'creator': {'email': 'theodosiounicholas@gmail.com'},\n",
            "  'end': {'dateTime': '2021-06-15T12:00:00+03:00'},\n",
            "  'etag': '\"3248557778678000\"',\n",
            "  'eventType': 'default',\n",
            "  'htmlLink': 'https://www.google.com/calendar/event?eid=NDY2ajlqZ2dhN3NlMDhjdmduaHNnb2g4NjQgNWUxdWdlaGowdHRhMDUzdGdrbGo0dmowOW9AZw',\n",
            "  'iCalUID': '466j9jgga7se08cvgnhsgoh864@google.com',\n",
            "  'id': '466j9jgga7se08cvgnhsgoh864',\n",
            "  'kind': 'calendar#event',\n",
            "  'organizer': {'displayName': 'Alice',\n",
            "                'email': '5e1ugehj0tta053tgklj4vj09o@group.calendar.google.com',\n",
            "                'self': True},\n",
            "  'reminders': {'useDefault': True},\n",
            "  'sequence': 0,\n",
            "  'start': {'dateTime': '2021-06-15T11:00:00+03:00'},\n",
            "  'status': 'confirmed',\n",
            "  'summary': 'a',\n",
            "  'updated': '2021-06-21T12:34:49.339Z'},\n",
            " {'created': '2021-06-21T12:34:53.000Z',\n",
            "  'creator': {'email': 'theodosiounicholas@gmail.com'},\n",
            "  'end': {'dateTime': '2021-06-15T14:00:00+03:00'},\n",
            "  'etag': '\"3248557786100000\"',\n",
            "  'eventType': 'default',\n",
            "  'htmlLink': 'https://www.google.com/calendar/event?eid=NGExYWZvMTBuMHYwZG9xb3JwajNmY3U5OWUgNWUxdWdlaGowdHRhMDUzdGdrbGo0dmowOW9AZw',\n",
            "  'iCalUID': '4a1afo10n0v0doqorpj3fcu99e@google.com',\n",
            "  'id': '4a1afo10n0v0doqorpj3fcu99e',\n",
            "  'kind': 'calendar#event',\n",
            "  'organizer': {'displayName': 'Alice',\n",
            "                'email': '5e1ugehj0tta053tgklj4vj09o@group.calendar.google.com',\n",
            "                'self': True},\n",
            "  'reminders': {'useDefault': True},\n",
            "  'sequence': 0,\n",
            "  'start': {'dateTime': '2021-06-15T13:00:00+03:00'},\n",
            "  'status': 'confirmed',\n",
            "  'summary': 'b',\n",
            "  'updated': '2021-06-21T12:34:53.050Z'},\n",
            " {'created': '2021-06-21T12:35:36.000Z',\n",
            "  'creator': {'email': 'theodosiounicholas@gmail.com'},\n",
            "  'end': {'dateTime': '2021-06-15T10:00:00+03:00'},\n",
            "  'etag': '\"3248557872152000\"',\n",
            "  'eventType': 'default',\n",
            "  'htmlLink': 'https://www.google.com/calendar/event?eid=NnBkZTI2M3VpMjgydXNsbGlkdDRkNTlmNmEgNWUxdWdlaGowdHRhMDUzdGdrbGo0dmowOW9AZw',\n",
            "  'iCalUID': '6pde263ui282usllidt4d59f6a@google.com',\n",
            "  'id': '6pde263ui282usllidt4d59f6a',\n",
            "  'kind': 'calendar#event',\n",
            "  'organizer': {'displayName': 'Alice',\n",
            "                'email': '5e1ugehj0tta053tgklj4vj09o@group.calendar.google.com',\n",
            "                'self': True},\n",
            "  'reminders': {'useDefault': True},\n",
            "  'sequence': 0,\n",
            "  'start': {'dateTime': '2021-06-15T09:00:00+03:00'},\n",
            "  'status': 'confirmed',\n",
            "  'summary': 'a',\n",
            "  'updated': '2021-06-21T12:35:36.076Z'},\n",
            " {'created': '2021-06-21T12:35:41.000Z',\n",
            "  'creator': {'email': 'theodosiounicholas@gmail.com'},\n",
            "  'end': {'dateTime': '2021-06-14T10:00:00+03:00'},\n",
            "  'etag': '\"3248557882418000\"',\n",
            "  'eventType': 'default',\n",
            "  'htmlLink': 'https://www.google.com/calendar/event?eid=NHM0M29vc2hwcTk2anJxbnY3c2g4NGY2YWsgNWUxdWdlaGowdHRhMDUzdGdrbGo0dmowOW9AZw',\n",
            "  'iCalUID': '4s43ooshpq96jrqnv7sh84f6ak@google.com',\n",
            "  'id': '4s43ooshpq96jrqnv7sh84f6ak',\n",
            "  'kind': 'calendar#event',\n",
            "  'organizer': {'displayName': 'Alice',\n",
            "                'email': '5e1ugehj0tta053tgklj4vj09o@group.calendar.google.com',\n",
            "                'self': True},\n",
            "  'reminders': {'useDefault': True},\n",
            "  'sequence': 0,\n",
            "  'start': {'dateTime': '2021-06-14T09:00:00+03:00'},\n",
            "  'status': 'confirmed',\n",
            "  'summary': 'a',\n",
            "  'updated': '2021-06-21T12:35:41.209Z'},\n",
            " {'created': '2021-06-21T12:35:47.000Z',\n",
            "  'creator': {'email': 'theodosiounicholas@gmail.com'},\n",
            "  'end': {'dateTime': '2021-06-15T19:00:00+03:00'},\n",
            "  'etag': '\"3248557895034000\"',\n",
            "  'eventType': 'default',\n",
            "  'htmlLink': 'https://www.google.com/calendar/event?eid=MWgxZjExOGszdXNtZG5kbTdrMWMwYmlxamwgNWUxdWdlaGowdHRhMDUzdGdrbGo0dmowOW9AZw',\n",
            "  'iCalUID': '1h1f118k3usmdndm7k1c0biqjl@google.com',\n",
            "  'id': '1h1f118k3usmdndm7k1c0biqjl',\n",
            "  'kind': 'calendar#event',\n",
            "  'organizer': {'displayName': 'Alice',\n",
            "                'email': '5e1ugehj0tta053tgklj4vj09o@group.calendar.google.com',\n",
            "                'self': True},\n",
            "  'reminders': {'useDefault': True},\n",
            "  'sequence': 0,\n",
            "  'start': {'dateTime': '2021-06-15T18:00:00+03:00'},\n",
            "  'status': 'confirmed',\n",
            "  'summary': 'c',\n",
            "  'updated': '2021-06-21T12:35:47.517Z'},\n",
            " {'created': '2021-06-21T12:35:57.000Z',\n",
            "  'creator': {'email': 'theodosiounicholas@gmail.com'},\n",
            "  'end': {'dateTime': '2021-06-16T11:00:00+03:00'},\n",
            "  'etag': '\"3248557915048000\"',\n",
            "  'eventType': 'default',\n",
            "  'htmlLink': 'https://www.google.com/calendar/event?eid=NTNxN2tkNGNidThhNnBpY3JqOWoxNG9kamcgNWUxdWdlaGowdHRhMDUzdGdrbGo0dmowOW9AZw',\n",
            "  'iCalUID': '53q7kd4cbu8a6picrj9j14odjg@google.com',\n",
            "  'id': '53q7kd4cbu8a6picrj9j14odjg',\n",
            "  'kind': 'calendar#event',\n",
            "  'organizer': {'displayName': 'Alice',\n",
            "                'email': '5e1ugehj0tta053tgklj4vj09o@group.calendar.google.com',\n",
            "                'self': True},\n",
            "  'reminders': {'useDefault': True},\n",
            "  'sequence': 0,\n",
            "  'start': {'dateTime': '2021-06-16T10:00:00+03:00'},\n",
            "  'status': 'confirmed',\n",
            "  'summary': 'a',\n",
            "  'updated': '2021-06-21T12:35:57.524Z'},\n",
            " {'created': '2021-06-21T12:36:01.000Z',\n",
            "  'creator': {'email': 'theodosiounicholas@gmail.com'},\n",
            "  'end': {'dateTime': '2021-06-16T13:00:00+03:00'},\n",
            "  'etag': '\"3248557923494000\"',\n",
            "  'eventType': 'default',\n",
            "  'htmlLink': 'https://www.google.com/calendar/event?eid=MGJzbGp0cmF0aGRzbWQ2c2dzcHBtODc3bTQgNWUxdWdlaGowdHRhMDUzdGdrbGo0dmowOW9AZw',\n",
            "  'iCalUID': '0bsljtrathdsmd6sgsppm877m4@google.com',\n",
            "  'id': '0bsljtrathdsmd6sgsppm877m4',\n",
            "  'kind': 'calendar#event',\n",
            "  'organizer': {'displayName': 'Alice',\n",
            "                'email': '5e1ugehj0tta053tgklj4vj09o@group.calendar.google.com',\n",
            "                'self': True},\n",
            "  'reminders': {'useDefault': True},\n",
            "  'sequence': 0,\n",
            "  'start': {'dateTime': '2021-06-16T12:00:00+03:00'},\n",
            "  'status': 'confirmed',\n",
            "  'summary': 'b',\n",
            "  'updated': '2021-06-21T12:36:01.747Z'},\n",
            " {'created': '2021-06-21T12:36:04.000Z',\n",
            "  'creator': {'email': 'theodosiounicholas@gmail.com'},\n",
            "  'end': {'dateTime': '2021-06-16T15:00:00+03:00'},\n",
            "  'etag': '\"3248557928774000\"',\n",
            "  'eventType': 'default',\n",
            "  'htmlLink': 'https://www.google.com/calendar/event?eid=NjllaDVxam1sODN0anEyZ2MzdTZhZmhhNzAgNWUxdWdlaGowdHRhMDUzdGdrbGo0dmowOW9AZw',\n",
            "  'iCalUID': '69eh5qjml83tjq2gc3u6afha70@google.com',\n",
            "  'id': '69eh5qjml83tjq2gc3u6afha70',\n",
            "  'kind': 'calendar#event',\n",
            "  'organizer': {'displayName': 'Alice',\n",
            "                'email': '5e1ugehj0tta053tgklj4vj09o@group.calendar.google.com',\n",
            "                'self': True},\n",
            "  'reminders': {'useDefault': True},\n",
            "  'sequence': 0,\n",
            "  'start': {'dateTime': '2021-06-16T14:00:00+03:00'},\n",
            "  'status': 'confirmed',\n",
            "  'summary': 'c',\n",
            "  'updated': '2021-06-21T12:36:04.387Z'},\n",
            " {'created': '2021-06-21T12:36:22.000Z',\n",
            "  'creator': {'email': 'theodosiounicholas@gmail.com'},\n",
            "  'end': {'dateTime': '2021-06-17T10:00:00+03:00'},\n",
            "  'etag': '\"3248557964060000\"',\n",
            "  'eventType': 'default',\n",
            "  'htmlLink': 'https://www.google.com/calendar/event?eid=MmRlZzBpdXU4bmw3bDRxZnA2Zm8xaGdpbG4gNWUxdWdlaGowdHRhMDUzdGdrbGo0dmowOW9AZw',\n",
            "  'iCalUID': '2deg0iuu8nl7l4qfp6fo1hgiln@google.com',\n",
            "  'id': '2deg0iuu8nl7l4qfp6fo1hgiln',\n",
            "  'kind': 'calendar#event',\n",
            "  'organizer': {'displayName': 'Alice',\n",
            "                'email': '5e1ugehj0tta053tgklj4vj09o@group.calendar.google.com',\n",
            "                'self': True},\n",
            "  'reminders': {'useDefault': True},\n",
            "  'sequence': 0,\n",
            "  'start': {'dateTime': '2021-06-17T09:00:00+03:00'},\n",
            "  'status': 'confirmed',\n",
            "  'summary': 'a',\n",
            "  'updated': '2021-06-21T12:36:22.030Z'},\n",
            " {'created': '2021-06-21T12:36:24.000Z',\n",
            "  'creator': {'email': 'theodosiounicholas@gmail.com'},\n",
            "  'end': {'dateTime': '2021-06-17T12:00:00+03:00'},\n",
            "  'etag': '\"3248557969570000\"',\n",
            "  'eventType': 'default',\n",
            "  'htmlLink': 'https://www.google.com/calendar/event?eid=NzE0MzJwOGhqbmNxaThxNDFtZm1scmhvcWggNWUxdWdlaGowdHRhMDUzdGdrbGo0dmowOW9AZw',\n",
            "  'iCalUID': '71432p8hjncqi8q41mfmlrhoqh@google.com',\n",
            "  'id': '71432p8hjncqi8q41mfmlrhoqh',\n",
            "  'kind': 'calendar#event',\n",
            "  'organizer': {'displayName': 'Alice',\n",
            "                'email': '5e1ugehj0tta053tgklj4vj09o@group.calendar.google.com',\n",
            "                'self': True},\n",
            "  'reminders': {'useDefault': True},\n",
            "  'sequence': 0,\n",
            "  'start': {'dateTime': '2021-06-17T11:00:00+03:00'},\n",
            "  'status': 'confirmed',\n",
            "  'summary': 'b',\n",
            "  'updated': '2021-06-21T12:36:24.785Z'},\n",
            " {'created': '2021-06-21T12:36:30.000Z',\n",
            "  'creator': {'email': 'theodosiounicholas@gmail.com'},\n",
            "  'end': {'dateTime': '2021-06-18T11:00:00+03:00'},\n",
            "  'etag': '\"3248557981608000\"',\n",
            "  'eventType': 'default',\n",
            "  'htmlLink': 'https://www.google.com/calendar/event?eid=MDJkOTRnMXRvbGlwajU0ajFoZWZwbTM2aWwgNWUxdWdlaGowdHRhMDUzdGdrbGo0dmowOW9AZw',\n",
            "  'iCalUID': '02d94g1tolipj54j1hefpm36il@google.com',\n",
            "  'id': '02d94g1tolipj54j1hefpm36il',\n",
            "  'kind': 'calendar#event',\n",
            "  'organizer': {'displayName': 'Alice',\n",
            "                'email': '5e1ugehj0tta053tgklj4vj09o@group.calendar.google.com',\n",
            "                'self': True},\n",
            "  'reminders': {'useDefault': True},\n",
            "  'sequence': 0,\n",
            "  'start': {'dateTime': '2021-06-18T10:00:00+03:00'},\n",
            "  'status': 'confirmed',\n",
            "  'summary': 'b',\n",
            "  'updated': '2021-06-21T12:36:30.804Z'},\n",
            " {'created': '2021-08-26T11:33:23.000Z',\n",
            "  'creator': {'email': 'theodosiounicholas@gmail.com'},\n",
            "  'description': 'Leisure',\n",
            "  'end': {'dateTime': '2021-04-21T13:30:00+03:00', 'timeZone': 'Asia/Nicosia'},\n",
            "  'etag': '\"3259955206304000\"',\n",
            "  'eventType': 'default',\n",
            "  'htmlLink': 'https://www.google.com/calendar/event?eid=bm4zcTZ1am9ndmZudmN1MGJvMmE5Z2cybG8gNWUxdWdlaGowdHRhMDUzdGdrbGo0dmowOW9AZw',\n",
            "  'iCalUID': 'nn3q6ujogvfnvcu0bo2a9gg2lo@google.com',\n",
            "  'id': 'nn3q6ujogvfnvcu0bo2a9gg2lo',\n",
            "  'kind': 'calendar#event',\n",
            "  'location': 'Coffeehouse',\n",
            "  'organizer': {'displayName': 'Alice',\n",
            "                'email': '5e1ugehj0tta053tgklj4vj09o@group.calendar.google.com',\n",
            "                'self': True},\n",
            "  'reminders': {'overrides': [{'method': 'email', 'minutes': 1440},\n",
            "                              {'method': 'popup', 'minutes': 10}],\n",
            "                'useDefault': False},\n",
            "  'sequence': 0,\n",
            "  'start': {'dateTime': '2021-04-21T13:00:00+03:00',\n",
            "            'timeZone': 'Asia/Nicosia'},\n",
            "  'status': 'confirmed',\n",
            "  'summary': 'Meet with friend',\n",
            "  'updated': '2021-08-26T11:33:23.240Z'}]\n",
            "---------------------------------------------\n"
          ],
          "name": "stdout"
        }
      ]
    },
    {
      "cell_type": "code",
      "metadata": {
        "id": "b2jcQR4kL-_c",
        "colab": {
          "base_uri": "https://localhost:8080/"
        },
        "outputId": "3481d5b2-7d55-4480-8b31-b88d85dc670c"
      },
      "source": [
        "service.events().list(calendarId = calendar_id).execute()"
      ],
      "execution_count": 15,
      "outputs": [
        {
          "output_type": "execute_result",
          "data": {
            "text/plain": [
              "{'accessRole': 'owner',\n",
              " 'defaultReminders': [{'method': 'popup', 'minutes': 30}],\n",
              " 'etag': '\"p33ofjn4bmu2v40g\"',\n",
              " 'items': [{'created': '2019-12-16T07:57:18.000Z',\n",
              "   'creator': {'email': 'theodosiounicholas@gmail.com', 'self': True},\n",
              "   'end': {'dateTime': '2019-12-17T19:00:00Z', 'timeZone': 'Asia/Nicosia'},\n",
              "   'etag': '\"3152966076990000\"',\n",
              "   'eventType': 'default',\n",
              "   'htmlLink': 'https://www.google.com/calendar/event?eid=NzFqMzhjaGw2OHAzZ2JiNGNnb2pnYjlrNmtzamdiOW9jOWgzaWJiNGNrcDY0b2hnYzhvbTRwMzI2ZyB0aGVvZG9zaW91bmljaG9sYXNAbQ',\n",
              "   'iCalUID': '71j38chl68p3gbb4cgojgb9k6ksjgb9oc9h3ibb4ckp64ohgc8om4p326g@google.com',\n",
              "   'id': '71j38chl68p3gbb4cgojgb9k6ksjgb9oc9h3ibb4ckp64ohgc8om4p326g',\n",
              "   'kind': 'calendar#event',\n",
              "   'organizer': {'email': 'theodosiounicholas@gmail.com', 'self': True},\n",
              "   'reminders': {'useDefault': True},\n",
              "   'sequence': 1,\n",
              "   'start': {'dateTime': '2019-12-17T18:00:00Z', 'timeZone': 'Asia/Nicosia'},\n",
              "   'status': 'tentative',\n",
              "   'summary': 'Dinner with bois',\n",
              "   'updated': '2019-12-16T07:57:18.495Z'},\n",
              "  {'created': '2019-12-16T07:57:19.000Z',\n",
              "   'creator': {'email': 'theodosiounicholas@gmail.com', 'self': True},\n",
              "   'end': {'date': '2019-12-20'},\n",
              "   'etag': '\"3152966078548000\"',\n",
              "   'eventType': 'default',\n",
              "   'htmlLink': 'https://www.google.com/calendar/event?eid=NzVpNjhvcGs2OWdtOGI5ajY1Z2pnYjlrNzRxbTZiOW9jZGozZWI5Z2NnbzMwZDFsY2RoamVwMzE2OCB0aGVvZG9zaW91bmljaG9sYXNAbQ',\n",
              "   'iCalUID': '75i68opk69gm8b9j65gjgb9k74qm6b9ocdj3eb9gcgo30d1lcdhjep3168@google.com',\n",
              "   'id': '75i68opk69gm8b9j65gjgb9k74qm6b9ocdj3eb9gcgo30d1lcdhjep3168',\n",
              "   'kind': 'calendar#event',\n",
              "   'organizer': {'email': 'theodosiounicholas@gmail.com', 'self': True},\n",
              "   'reminders': {'useDefault': False},\n",
              "   'sequence': 1,\n",
              "   'start': {'date': '2019-12-19'},\n",
              "   'status': 'tentative',\n",
              "   'summary': 'Lofou',\n",
              "   'updated': '2019-12-16T07:57:19.274Z'},\n",
              "  {'created': '2019-12-16T08:00:24.000Z',\n",
              "   'creator': {'email': 'theodosiounicholas@gmail.com', 'self': True},\n",
              "   'end': {'dateTime': '2019-12-22T14:00:00Z', 'timeZone': 'Asia/Nicosia'},\n",
              "   'etag': '\"3152966449076000\"',\n",
              "   'eventType': 'default',\n",
              "   'htmlLink': 'https://www.google.com/calendar/event?eid=NjBwajhkajZja3E2OGJiMTc1aTY4YjlrNnBpNjhiOXA3MHA2OGI5bzY5Z20ycDFvYzRvbWFwMWljOCB0aGVvZG9zaW91bmljaG9sYXNAbQ',\n",
              "   'iCalUID': '60pj8dj6ckq68bb175i68b9k6pi68b9p70p68b9o69gm2p1oc4omap1ic8@google.com',\n",
              "   'id': '60pj8dj6ckq68bb175i68b9k6pi68b9p70p68b9o69gm2p1oc4omap1ic8',\n",
              "   'kind': 'calendar#event',\n",
              "   'organizer': {'email': 'theodosiounicholas@gmail.com', 'self': True},\n",
              "   'reminders': {'useDefault': True},\n",
              "   'sequence': 1,\n",
              "   'start': {'dateTime': '2019-12-22T13:00:00Z', 'timeZone': 'Asia/Nicosia'},\n",
              "   'status': 'tentative',\n",
              "   'summary': 'Makris Bday',\n",
              "   'updated': '2019-12-16T08:00:24.538Z'},\n",
              "  {'created': '2019-12-16T08:01:06.000Z',\n",
              "   'creator': {'email': 'theodosiounicholas@gmail.com', 'self': True},\n",
              "   'end': {'dateTime': '2019-12-27T22:00:00Z', 'timeZone': 'Asia/Nicosia'},\n",
              "   'etag': '\"3152966533142000\"',\n",
              "   'eventType': 'default',\n",
              "   'htmlLink': 'https://www.google.com/calendar/event?eid=Y2RoM2NjOWljZ3I2NmJiNmNrbzZhYjlrY2tzbThiYjE2MWozZWI5bWNvcm0yZTFoNmtyamVjaGo2NCB0aGVvZG9zaW91bmljaG9sYXNAbQ',\n",
              "   'iCalUID': 'cdh3cc9icgr66bb6cko6ab9kcksm8bb161j3eb9mcorm2e1h6krjechj64@google.com',\n",
              "   'id': 'cdh3cc9icgr66bb6cko6ab9kcksm8bb161j3eb9mcorm2e1h6krjechj64',\n",
              "   'kind': 'calendar#event',\n",
              "   'organizer': {'email': 'theodosiounicholas@gmail.com', 'self': True},\n",
              "   'reminders': {'useDefault': True},\n",
              "   'sequence': 1,\n",
              "   'start': {'dateTime': '2019-12-27T21:00:00Z', 'timeZone': 'Asia/Nicosia'},\n",
              "   'status': 'tentative',\n",
              "   'summary': 'Electra Bday',\n",
              "   'updated': '2019-12-16T08:01:06.571Z'},\n",
              "  {'created': '2019-12-16T08:01:07.000Z',\n",
              "   'creator': {'email': 'theodosiounicholas@gmail.com', 'self': True},\n",
              "   'end': {'date': '2019-12-30'},\n",
              "   'etag': '\"3152966534894000\"',\n",
              "   'eventType': 'default',\n",
              "   'htmlLink': 'https://www.google.com/calendar/event?eid=Y2NzajBvaG82bGlqZWI5aDZkZ21hYjlrNnRoajJiOXBja3BtNGJiNWM4cGphZTloYzhxNjZlOWg2MCB0aGVvZG9zaW91bmljaG9sYXNAbQ',\n",
              "   'iCalUID': 'ccsj0oho6lijeb9h6dgmab9k6thj2b9pckpm4bb5c8pjae9hc8q66e9h60@google.com',\n",
              "   'id': 'ccsj0oho6lijeb9h6dgmab9k6thj2b9pckpm4bb5c8pjae9hc8q66e9h60',\n",
              "   'kind': 'calendar#event',\n",
              "   'organizer': {'email': 'theodosiounicholas@gmail.com', 'self': True},\n",
              "   'reminders': {'useDefault': False},\n",
              "   'sequence': 1,\n",
              "   'start': {'date': '2019-12-29'},\n",
              "   'status': 'tentative',\n",
              "   'summary': 'Stella',\n",
              "   'updated': '2019-12-16T08:01:07.447Z'},\n",
              "  {'created': '2019-12-16T08:01:08.000Z',\n",
              "   'creator': {'email': 'theodosiounicholas@gmail.com', 'self': True},\n",
              "   'end': {'date': '2019-12-22'},\n",
              "   'etag': '\"3152966537568000\"',\n",
              "   'eventType': 'default',\n",
              "   'htmlLink': 'https://www.google.com/calendar/event?eid=Y29yNjJjMzQ2Z3NqZ2JiNTZzcW1jYjlrNzFoM2ViOW83NWhqOGI5ZzZzcGppYzlvNzRyajhwOW9jbyB0aGVvZG9zaW91bmljaG9sYXNAbQ',\n",
              "   'iCalUID': 'cor62c346gsjgbb56sqmcb9k71h3eb9o75hj8b9g6spjic9o74rj8p9oco@google.com',\n",
              "   'id': 'cor62c346gsjgbb56sqmcb9k71h3eb9o75hj8b9g6spjic9o74rj8p9oco',\n",
              "   'kind': 'calendar#event',\n",
              "   'organizer': {'email': 'theodosiounicholas@gmail.com', 'self': True},\n",
              "   'reminders': {'useDefault': False},\n",
              "   'sequence': 1,\n",
              "   'start': {'date': '2019-12-21'},\n",
              "   'status': 'tentative',\n",
              "   'summary': 'Neverland',\n",
              "   'updated': '2019-12-16T08:01:08.784Z'},\n",
              "  {'created': '2021-04-20T11:20:18.000Z',\n",
              "   'creator': {'email': 'theodosiounicholas@gmail.com', 'self': True},\n",
              "   'end': {'dateTime': '2021-04-18T16:30:00+01:00'},\n",
              "   'etag': '\"3237835236506000\"',\n",
              "   'eventType': 'default',\n",
              "   'htmlLink': 'https://www.google.com/calendar/event?eid=N2FtaWN0MjZiMDI0bDgyN3BwMGxjOG9sYnMgdGhlb2Rvc2lvdW5pY2hvbGFzQG0',\n",
              "   'iCalUID': '7amict26b024l827pp0lc8olbs@google.com',\n",
              "   'id': '7amict26b024l827pp0lc8olbs',\n",
              "   'kind': 'calendar#event',\n",
              "   'organizer': {'email': 'theodosiounicholas@gmail.com', 'self': True},\n",
              "   'reminders': {'useDefault': True},\n",
              "   'sequence': 0,\n",
              "   'start': {'dateTime': '2021-04-18T15:30:00+01:00'},\n",
              "   'status': 'confirmed',\n",
              "   'summary': 'Church',\n",
              "   'updated': '2021-04-20T11:20:18.253Z'},\n",
              "  {'created': '2021-04-20T13:21:15.000Z',\n",
              "   'creator': {'email': 'theodosiounicholas@gmail.com', 'self': True},\n",
              "   'end': {'dateTime': '2021-04-22T09:00:00+01:00',\n",
              "    'timeZone': 'Asia/Nicosia'},\n",
              "   'etag': '\"3237849750639000\"',\n",
              "   'eventType': 'default',\n",
              "   'htmlLink': 'https://www.google.com/calendar/event?eid=b3U0bHY2bWFmNGJvMnZ1MzRjYnBkdTA2ZGcgdGhlb2Rvc2lvdW5pY2hvbGFzQG0',\n",
              "   'iCalUID': 'ou4lv6maf4bo2vu34cbpdu06dg@google.com',\n",
              "   'id': 'ou4lv6maf4bo2vu34cbpdu06dg',\n",
              "   'kind': 'calendar#event',\n",
              "   'organizer': {'email': 'theodosiounicholas@gmail.com', 'self': True},\n",
              "   'reminders': {'overrides': [{'method': 'popup', 'minutes': 10},\n",
              "     {'method': 'email', 'minutes': 1440}],\n",
              "    'useDefault': False},\n",
              "   'sequence': 0,\n",
              "   'start': {'dateTime': '2021-04-22T08:00:00+01:00',\n",
              "    'timeZone': 'Asia/Nicosia'},\n",
              "   'status': 'confirmed',\n",
              "   'summary': 'Study',\n",
              "   'updated': '2021-04-20T13:21:15.356Z'},\n",
              "  {'created': '2021-04-20T13:35:17.000Z',\n",
              "   'creator': {'email': 'theodosiounicholas@gmail.com', 'self': True},\n",
              "   'description': 'MI vs TBD',\n",
              "   'end': {'dateTime': '2021-04-20T19:30:00+01:00',\n",
              "    'timeZone': 'Asia/Nicosia'},\n",
              "   'etag': '\"3237851434092000\"',\n",
              "   'eventType': 'default',\n",
              "   'htmlLink': 'https://www.google.com/calendar/event?eid=a2c3dXU5YjdiY2x1ZjEyaDR1NW5uNDE3YjggdGhlb2Rvc2lvdW5pY2hvbGFzQG0',\n",
              "   'iCalUID': 'kg7uu9b7bcluf12h4u5nn417b8@google.com',\n",
              "   'id': 'kg7uu9b7bcluf12h4u5nn417b8',\n",
              "   'kind': 'calendar#event',\n",
              "   'location': 'Hyderabad',\n",
              "   'organizer': {'email': 'theodosiounicholas@gmail.com', 'self': True},\n",
              "   'reminders': {'overrides': [{'method': 'popup', 'minutes': 10},\n",
              "     {'method': 'email', 'minutes': 1440}],\n",
              "    'useDefault': False},\n",
              "   'sequence': 0,\n",
              "   'start': {'dateTime': '2021-04-20T17:30:00+01:00',\n",
              "    'timeZone': 'Asia/Nicosia'},\n",
              "   'status': 'confirmed',\n",
              "   'summary': 'IPL Final 2019',\n",
              "   'updated': '2021-04-20T13:35:17.071Z'},\n",
              "  {'created': '2021-04-20T13:46:01.000Z',\n",
              "   'creator': {'email': 'theodosiounicholas@gmail.com', 'self': True},\n",
              "   'end': {'dateTime': '2021-04-21T01:30:00+01:00'},\n",
              "   'etag': '\"3237852722534000\"',\n",
              "   'eventType': 'default',\n",
              "   'htmlLink': 'https://www.google.com/calendar/event?eid=NDFubDVjM2kwdnRpYTU0ZnFucms1ajM2MDMgdGhlb2Rvc2lvdW5pY2hvbGFzQG0',\n",
              "   'iCalUID': '41nl5c3i0vtia54fqnrk5j3603@google.com',\n",
              "   'id': '41nl5c3i0vtia54fqnrk5j3603',\n",
              "   'kind': 'calendar#event',\n",
              "   'organizer': {'email': 'theodosiounicholas@gmail.com', 'self': True},\n",
              "   'reminders': {'useDefault': True},\n",
              "   'sequence': 0,\n",
              "   'start': {'dateTime': '2021-04-21T00:30:00+01:00'},\n",
              "   'status': 'confirmed',\n",
              "   'summary': 'Beer with bois',\n",
              "   'updated': '2021-04-20T13:46:01.267Z'},\n",
              "  {'created': '2021-04-20T15:37:19.000Z',\n",
              "   'creator': {'email': 'theodosiounicholas@gmail.com', 'self': True},\n",
              "   'end': {'dateTime': '2021-04-21T03:00:00+01:00'},\n",
              "   'etag': '\"3237866078584000\"',\n",
              "   'eventType': 'default',\n",
              "   'htmlLink': 'https://www.google.com/calendar/event?eid=MzNkMWU4c2U1dW5jamVpcmFlbjJlMnJsbTUgdGhlb2Rvc2lvdW5pY2hvbGFzQG0',\n",
              "   'iCalUID': '33d1e8se5uncjeiraen2e2rlm5@google.com',\n",
              "   'id': '33d1e8se5uncjeiraen2e2rlm5',\n",
              "   'kind': 'calendar#event',\n",
              "   'organizer': {'email': 'theodosiounicholas@gmail.com', 'self': True},\n",
              "   'reminders': {'useDefault': True},\n",
              "   'sequence': 0,\n",
              "   'start': {'dateTime': '2021-04-21T02:00:00+01:00'},\n",
              "   'status': 'confirmed',\n",
              "   'summary': 'Beer with bois vol 2',\n",
              "   'updated': '2021-04-20T15:37:19.292Z'},\n",
              "  {'created': '2021-04-21T07:11:10.000Z',\n",
              "   'creator': {'email': 'theodosiounicholas@gmail.com', 'self': True},\n",
              "   'end': {'dateTime': '2021-04-22T21:00:00+01:00',\n",
              "    'timeZone': 'Asia/Nicosia'},\n",
              "   'etag': '\"3237978141666000\"',\n",
              "   'eventType': 'default',\n",
              "   'htmlLink': 'https://www.google.com/calendar/event?eid=MG5mdTZxMXEzY2JrdDRua2J1cDBnanVpN2sgdGhlb2Rvc2lvdW5pY2hvbGFzQG0',\n",
              "   'iCalUID': '0nfu6q1q3cbkt4nkbup0gjui7k@google.com',\n",
              "   'id': '0nfu6q1q3cbkt4nkbup0gjui7k',\n",
              "   'kind': 'calendar#event',\n",
              "   'organizer': {'email': 'theodosiounicholas@gmail.com', 'self': True},\n",
              "   'reminders': {'overrides': [{'method': 'popup', 'minutes': 10},\n",
              "     {'method': 'email', 'minutes': 1440}],\n",
              "    'useDefault': False},\n",
              "   'sequence': 0,\n",
              "   'start': {'dateTime': '2021-04-22T20:00:00+01:00',\n",
              "    'timeZone': 'Asia/Nicosia'},\n",
              "   'status': 'confirmed',\n",
              "   'summary': 'Study',\n",
              "   'updated': '2021-04-21T07:11:10.857Z'},\n",
              "  {'created': '2021-04-21T13:20:34.000Z',\n",
              "   'creator': {'email': 'theodosiounicholas@gmail.com', 'self': True},\n",
              "   'description': 'Leisure',\n",
              "   'end': {'dateTime': '2021-04-24T10:30:00+01:00',\n",
              "    'timeZone': 'Asia/Nicosia'},\n",
              "   'etag': '\"3238022469634000\"',\n",
              "   'eventType': 'default',\n",
              "   'htmlLink': 'https://www.google.com/calendar/event?eid=cTYyaWVsazhoYWx1cGJzanJsZTlha2lnODQgdGhlb2Rvc2lvdW5pY2hvbGFzQG0',\n",
              "   'iCalUID': 'q62ielk8halupbsjrle9akig84@google.com',\n",
              "   'id': 'q62ielk8halupbsjrle9akig84',\n",
              "   'kind': 'calendar#event',\n",
              "   'location': 'Troodos',\n",
              "   'organizer': {'email': 'theodosiounicholas@gmail.com', 'self': True},\n",
              "   'reminders': {'overrides': [{'method': 'popup', 'minutes': 10},\n",
              "     {'method': 'email', 'minutes': 1440}],\n",
              "    'useDefault': False},\n",
              "   'sequence': 0,\n",
              "   'start': {'dateTime': '2021-04-24T08:30:00+01:00',\n",
              "    'timeZone': 'Asia/Nicosia'},\n",
              "   'status': 'confirmed',\n",
              "   'summary': 'Roadtrip',\n",
              "   'updated': '2021-04-21T13:20:34.892Z'},\n",
              "  {'created': '2021-04-28T09:47:54.000Z',\n",
              "   'creator': {'email': 'theodosiounicholas@gmail.com', 'self': True},\n",
              "   'end': {'dateTime': '2021-07-19T15:00:00+01:00'},\n",
              "   'etag': '\"3239206549532000\"',\n",
              "   'eventType': 'default',\n",
              "   'htmlLink': 'https://www.google.com/calendar/event?eid=X2R0cDZpcHI5ZHBnbW9sYTk4ZyB0aGVvZG9zaW91bmljaG9sYXNAbQ',\n",
              "   'iCalUID': 'originalUID',\n",
              "   'id': '_dtp6ipr9dpgmola98g',\n",
              "   'kind': 'calendar#event',\n",
              "   'organizer': {'email': 'theodosiounicholas@gmail.com', 'self': True},\n",
              "   'reminders': {'useDefault': True},\n",
              "   'sequence': 0,\n",
              "   'start': {'dateTime': '2021-07-19T13:00:00+01:00'},\n",
              "   'status': 'confirmed',\n",
              "   'summary': 'Nicks bday',\n",
              "   'updated': '2021-04-28T09:47:54.766Z'},\n",
              "  {'attendees': [{'email': 'theodosiounicholas@gmail.com',\n",
              "     'responseStatus': 'accepted',\n",
              "     'self': True},\n",
              "    {'displayName': 'Carlisle, Timothy',\n",
              "     'email': 'timothy.carlisle@d-fine.co.uk',\n",
              "     'responseStatus': 'needsAction'}],\n",
              "   'created': '2021-06-11T08:23:04.000Z',\n",
              "   'creator': {'email': 'theodosiounicholas@gmail.com', 'self': True},\n",
              "   'description': 'Dear Nikolas,\\nPlease find below information about your Teams Video interview with Dr Tim Carlisle.\\nTo conduct the remote interview, you need a laptop/PC with an already integrated or separate webcam. We recommend a stable internet connection with at least 10 Mbit/s. and a common browser (e.g. Google Chrome, Microsoft Edge, Firefox or Safari) without Pop-Up Blocker.\\nClick on the “Click here to join the meeting” in this email, then “continue on this browser”. When asked “allow” your Mic and camera to be used by Microsoft Teams. The final step is to click on “Join now” and you are ready for your interview.\\nIf unexpected technical problems occur during the interview, please inform your interviewer honestly and quickly or call the office on 020 7776 1000. In this way we can find a solution or, if necessary, arrange a new appointment.\\nTo ensure the confidentiality of the interview and to avoid disturbances during the interview, you should be undisturbed in a closed room. To be able to fade out any disturbing background noise, we also recommend the use of a headset.\\nWe would like to point out that the recording of the interview is for the protection of your personal rights and that of your interview partners mutually inadmissible. This also includes Screenshots of the interview (i.e. of the participants, the presentation documents etc.) as well as photos or similar. For technical reasons, the connection data required for the purpose of conducting this call (e.g. meeting ID, IP address, date, time) are saved.\\nPlease do not forward the personalized dial-in data to the virtual meeting room (link \"Microsoft Teams meeting\"). This guarantees the confidentiality of your interview and prevents unauthorized third parties from entering the virtual meeting room.\\nPlease accept this invitation so that I know that you have received the details, or alternatively confirm it by return email. If you have any further questions, please feel free to contact me.\\nBest wishes,\\nClaudia\\n\\n\\n________________________________________________________________________________\\nMicrosoft Teams meeting\\nJoin on your computer or mobile app\\nClick here to join the meeting<https://teams.microsoft.com/l/meetup-join/19%3ameeting_YmE2NzI0NjEtMmVlOS00MjY3LWEwMzgtYmNlNWE5Y2UyM2Vl%40thread.v2/0?context=%7b%22Tid%22%3a%22300fda2f-c016-4897-8eae-a33491f11d58%22%2c%22Oid%22%3a%2288bfdc7e-425d-4014-9e17-878d0bb12cb7%22%7d>\\nLearn More<https://aka.ms/JoinTeamsMeeting> | Meeting options<https://teams.microsoft.com/meetingOptions/?organizerId=88bfdc7e-425d-4014-9e17-878d0bb12cb7&tenantId=300fda2f-c016-4897-8eae-a33491f11d58&threadId=19_meeting_YmE2NzI0NjEtMmVlOS00MjY3LWEwMzgtYmNlNWE5Y2UyM2Vl@thread.v2&messageId=0&language=en-US>\\n________________________________________________________________________________\\n\\n\\nPlease do not print this document unless it is necessary, consider the environment.\\n\\nd-fine Limited: Registered Office: 6-7 Queen Street, London EC4N 1SP; Registered in England and Wales, No 52 91 675; Directors: Wolfgang Pleyer, Dr Suren Sorathia, Dr Ryan Warne\\n\\nThis e-mail communication (and any attachment/s) is confidential and intended only for the individual(s) or entity named above and to others who have been specifically authorized to receive it. If you are not the intended recipient, please do not read, copy, use or disclose the contents of this communication to others. Please notify the sender that you have received this e-mail in error, and delete the e-mail (including any attachment/s) subsequently. This information may be subject to professional secrecy (e. g. of auditor, tax or legal advisor), other privilege or otherwise be protected by work product immunity or other legal rules.\\nFor more information about how and why we use personal information and who to contact with any queries about this, please consult our Data Privacy Policy on https://www.d-fine.com/en_DE/privacy-policy/.\\nThank you.\\n',\n",
              "   'end': {'dateTime': '2021-06-18T12:00:00+01:00',\n",
              "    'timeZone': 'Europe/London'},\n",
              "   'etag': '\"3246812109668000\"',\n",
              "   'eventType': 'default',\n",
              "   'guestsCanInviteOthers': False,\n",
              "   'htmlLink': 'https://www.google.com/calendar/event?eid=XzYwcTMwYzFnNjBvMzBlMWk2MG80YWMxZzYwcmo4Z3BsODhyajJjMWg4NHMzNGg5ZzYwczMwYzFnNjBvMzBjMWc4Y28zY2hpNDY4cGpjZzlqNmwyazhkcGc2NG8zMGMxZzYwbzMwYzFnNjBvMzBjMWc2MG8zMmMxZzYwbzMwYzFnODUwamNlOW82dDFqMGdhMzcwcGtjZ2hrNjBzazRkaGs2cDMzZ2gxajg0b2pjY2kyNmQxZyB0aGVvZG9zaW91bmljaG9sYXNAbQ',\n",
              "   'iCalUID': '040000008200E00074C5B7101A82E00800000000C06FD236A35ED701000000000000000010000000AA6987C0AC83FB409B646F8D3A162B3C',\n",
              "   'id': '_60q30c1g60o30e1i60o4ac1g60rj8gpl88rj2c1h84s34h9g60s30c1g60o30c1g8co3chi468pjcg9j6l2k8dpg64o30c1g60o30c1g60o30c1g60o32c1g60o30c1g850jce9o6t1j0ga370pkcghk60sk4dhk6p33gh1j84ojcci26d1g',\n",
              "   'kind': 'calendar#event',\n",
              "   'location': 'Microsoft Teams Meeting',\n",
              "   'organizer': {'displayName': 'Sievers, Claudia',\n",
              "    'email': 'claudia.sievers@d-fine.co.uk'},\n",
              "   'privateCopy': True,\n",
              "   'reminders': {'useDefault': True},\n",
              "   'sequence': 0,\n",
              "   'start': {'dateTime': '2021-06-18T11:00:00+01:00',\n",
              "    'timeZone': 'Europe/London'},\n",
              "   'status': 'confirmed',\n",
              "   'summary': 'd-fine Interview',\n",
              "   'updated': '2021-06-11T10:07:34.834Z'},\n",
              "  {'attendees': [{'email': 'theodosiounicholas@gmail.com',\n",
              "     'responseStatus': 'accepted',\n",
              "     'self': True},\n",
              "    {'displayName': 'Sorathia, Suren',\n",
              "     'email': 'suren.sorathia@d-fine.co.uk',\n",
              "     'responseStatus': 'needsAction'}],\n",
              "   'created': '2021-06-21T14:41:21.000Z',\n",
              "   'creator': {'email': 'theodosiounicholas@gmail.com', 'self': True},\n",
              "   'description': 'Dear Nikolas\\nPlease find below information about your Teams Video interview with Dr Suren Sorathia.\\nTo conduct the remote interview, you need a laptop/PC with an already integrated or separate webcam. We recommend a stable internet connection with at least 10 Mbit/s. and a common browser (e.g. Google Chrome, Microsoft Edge, Firefox or Safari) without Pop-Up Blocker.\\nClick on the “Click here to join the meeting” in this email, then “continue on this browser”. When asked “allow” your Mic and camera to be used by Microsoft Teams. The final step is to click on “Join now” and you are ready for your interview.\\nIf unexpected technical problems occur during the interview, please inform your interviewer honestly and quickly or call the office on 020 7776 1000. In this way we can find a solution or, if necessary, arrange a new appointment.\\nTo ensure the confidentiality of the interview and to avoid disturbances during the interview, you should be undisturbed in a closed room. To be able to fade out any disturbing background noise, we also recommend the use of a headset.\\nWe would like to point out that the recording of the interview is for the protection of your personal rights and that of your interview partners mutually inadmissible. This also includes Screenshots of the interview (i.e. of the participants, the presentation documents etc.) as well as photos or similar. For technical reasons, the connection data required for the purpose of conducting this call (e.g. meeting ID, IP address, date, time) are saved.\\nPlease do not forward the personalized dial-in data to the virtual meeting room (link \"Microsoft Teams meeting\"). This guarantees the confidentiality of your interview and prevents unauthorized third parties from entering the virtual meeting room.\\nPlease accept this invitation so that I know that you have received the details, or alternatively confirm it by return email. If you have any further questions, please feel free to contact me.\\nBest wishes,\\nClaudia\\n\\n________________________________________________________________________________\\nMicrosoft Teams meeting\\nJoin on your computer or mobile app\\nClick here to join the meeting<https://teams.microsoft.com/l/meetup-join/19%3ameeting_YTQ1ODBiZTAtZTZhMy00NmQ0LWExOGItOGZjYTMzMDk2YTg3%40thread.v2/0?context=%7b%22Tid%22%3a%22300fda2f-c016-4897-8eae-a33491f11d58%22%2c%22Oid%22%3a%2288bfdc7e-425d-4014-9e17-878d0bb12cb7%22%7d>\\nLearn More<https://aka.ms/JoinTeamsMeeting> | Meeting options<https://teams.microsoft.com/meetingOptions/?organizerId=88bfdc7e-425d-4014-9e17-878d0bb12cb7&tenantId=300fda2f-c016-4897-8eae-a33491f11d58&threadId=19_meeting_YTQ1ODBiZTAtZTZhMy00NmQ0LWExOGItOGZjYTMzMDk2YTg3@thread.v2&messageId=0&language=en-US>\\n________________________________________________________________________________\\n\\n\\nPlease do not print this document unless it is necessary, consider the environment.\\n\\nd-fine Limited: Registered Office: 6-7 Queen Street, London EC4N 1SP; Registered in England and Wales, No 52 91 675; Directors: Wolfgang Pleyer, Dr Suren Sorathia, Dr Ryan Warne\\n\\nThis e-mail communication (and any attachment/s) is confidential and intended only for the individual(s) or entity named above and to others who have been specifically authorized to receive it. If you are not the intended recipient, please do not read, copy, use or disclose the contents of this communication to others. Please notify the sender that you have received this e-mail in error, and delete the e-mail (including any attachment/s) subsequently. This information may be subject to professional secrecy (e. g. of auditor, tax or legal advisor), other privilege or otherwise be protected by work product immunity or other legal rules.\\nFor more information about how and why we use personal information and who to contact with any queries about this, please consult our Data Privacy Policy on https://www.d-fine.com/en_DE/privacy-policy/.\\nThank you.\\n',\n",
              "   'end': {'dateTime': '2021-06-30T17:00:00+01:00'},\n",
              "   'etag': '\"3250108970812000\"',\n",
              "   'eventType': 'default',\n",
              "   'guestsCanInviteOthers': False,\n",
              "   'htmlLink': 'https://www.google.com/calendar/event?eid=XzYwcTMwYzFnNjBvMzBlMWk2MG80YWMxZzYwcmo4Z3BsODhyajJjMWg4NHMzNGg5ZzYwczMwYzFnNjBvMzBjMWc2NG8zYWRobzY4cGs4Z2hqNm9yNDhkcGc2NG8zMGMxZzYwbzMwYzFnNjBvMzBjMWc2MG8zMmMxZzYwbzMwYzFnOGgwamdkOW04Z28zY2dwbDcxMjM2aGhrNmgwamVncTU2b3AzNmQxZzg4b2s2aDI2OGdvMCB0aGVvZG9zaW91bmljaG9sYXNAbQ',\n",
              "   'iCalUID': '040000008200E00074C5B7101A82E008000000001056823DB366D701000000000000000010000000DA856D06C58D3F44A7CE62340B1CDFD0',\n",
              "   'id': '_60q30c1g60o30e1i60o4ac1g60rj8gpl88rj2c1h84s34h9g60s30c1g60o30c1g64o3adho68pk8ghj6or48dpg64o30c1g60o30c1g60o30c1g60o32c1g60o30c1g8h0jgd9m8go3cgpl71236hhk6h0jegq56op36d1g88ok6h268go0',\n",
              "   'kind': 'calendar#event',\n",
              "   'location': 'Microsoft Teams Meeting',\n",
              "   'organizer': {'displayName': 'Sievers, Claudia',\n",
              "    'email': 'claudia.sievers@d-fine.co.uk'},\n",
              "   'privateCopy': True,\n",
              "   'reminders': {'useDefault': True},\n",
              "   'sequence': 0,\n",
              "   'start': {'dateTime': '2021-06-30T16:00:00+01:00'},\n",
              "   'status': 'confirmed',\n",
              "   'summary': 'd-fine Interview',\n",
              "   'updated': '2021-06-30T12:01:25.406Z'},\n",
              "  {'attendees': [{'email': 'theodosiounicholas@gmail.com',\n",
              "     'responseStatus': 'accepted',\n",
              "     'self': True},\n",
              "    {'displayName': 'Warne, Ryan',\n",
              "     'email': 'ryan.warne@d-fine.co.uk',\n",
              "     'responseStatus': 'needsAction'}],\n",
              "   'created': '2021-07-01T13:42:25.000Z',\n",
              "   'creator': {'email': 'theodosiounicholas@gmail.com', 'self': True},\n",
              "   'description': 'Dear Nikolas\\nPlease find below information about your Teams Audio interview with Dr Ryan Warne.\\nTo conduct the remote interview, you need a laptop/PC with an already integrated or separate webcam. We recommend a stable internet connection with at least 10 Mbit/s. and a common browser (e.g. Google Chrome, Microsoft Edge, Firefox or Safari) without Pop-Up Blocker.\\nClick on the “Click here to join the meeting” in this email, then “continue on this browser”. When asked “allow” your Mic and camera to be used by Microsoft Teams. The final step is to click on “Join now”. You can then switch off the camera. You are ready for your interview.\\nIf unexpected technical problems occur during the interview, please inform your interviewer honestly and quickly or call the office on 020 7776 1000. In this way we can find a solution or, if necessary, arrange a new appointment.\\nTo ensure the confidentiality of the interview and to avoid disturbances during the interview, you should be undisturbed in a closed room. To be able to fade out any disturbing background noise, we also recommend the use of a headset.\\nWe would like to point out that the recording of the interview is for the protection of your personal rights and that of your interview partners mutually inadmissible. This also includes Screenshots of the interview (i.e. of the participants, the presentation documents etc.) as well as photos or similar. For technical reasons, the connection data required for the purpose of conducting this call (e.g. meeting ID, IP address, date, time) are saved.\\nPlease do not forward the personalized dial-in data to the virtual meeting room (link \"Join Microsoft Teams Meeting\"). This guarantees the confidentiality of your interview and prevents unauthorized third parties from entering the virtual meeting room.\\nPlease accept this invitation so that I know that you have received the details, or alternatively confirm it by return email. If you have any further questions, please feel free to contact me.\\nBest wishes,\\nClaudia\\n\\n________________________________________________________________________________\\nMicrosoft Teams meeting\\nJoin on your computer or mobile app\\nClick here to join the meeting<https://teams.microsoft.com/l/meetup-join/19%3ameeting_Nzc4MGNkMzUtZmI5Mi00ZmM3LThiODEtNDU0N2Q4NTdkNDZi%40thread.v2/0?context=%7b%22Tid%22%3a%22300fda2f-c016-4897-8eae-a33491f11d58%22%2c%22Oid%22%3a%2288bfdc7e-425d-4014-9e17-878d0bb12cb7%22%7d>\\nLearn More<https://aka.ms/JoinTeamsMeeting> | Meeting options<https://teams.microsoft.com/meetingOptions/?organizerId=88bfdc7e-425d-4014-9e17-878d0bb12cb7&tenantId=300fda2f-c016-4897-8eae-a33491f11d58&threadId=19_meeting_Nzc4MGNkMzUtZmI5Mi00ZmM3LThiODEtNDU0N2Q4NTdkNDZi@thread.v2&messageId=0&language=en-US>\\n________________________________________________________________________________\\n\\n\\nPlease do not print this document unless it is necessary, consider the environment.\\n\\nd-fine Limited: Registered Office: 6-7 Queen Street, London EC4N 1SP; Registered in England and Wales, No 52 91 675; Directors: Wolfgang Pleyer, Dr Suren Sorathia, Dr Ryan Warne\\n\\nThis e-mail communication (and any attachment/s) is confidential and intended only for the individual(s) or entity named above and to others who have been specifically authorized to receive it. If you are not the intended recipient, please do not read, copy, use or disclose the contents of this communication to others. Please notify the sender that you have received this e-mail in error, and delete the e-mail (including any attachment/s) subsequently. This information may be subject to professional secrecy (e. g. of auditor, tax or legal advisor), other privilege or otherwise be protected by work product immunity or other legal rules.\\nFor more information about how and why we use personal information and who to contact with any queries about this, please consult our Data Privacy Policy on https://www.d-fine.com/en_DE/privacy-policy/.\\nThank you.\\n',\n",
              "   'end': {'dateTime': '2021-07-05T12:00:00+01:00'},\n",
              "   'etag': '\"3250294718992000\"',\n",
              "   'eventType': 'default',\n",
              "   'guestsCanInviteOthers': False,\n",
              "   'htmlLink': 'https://www.google.com/calendar/event?eid=XzYwcTMwYzFnNjBvMzBlMWk2MG80YWMxZzYwcmo4Z3BsODhyajJjMWg4NHMzNGg5ZzYwczMwYzFnNjBvMzBjMWc2a28zYWRxNDc1MWo4ZTFtNnAyazhkcGc2NG8zMGMxZzYwbzMwYzFnNjBvMzBjMWc2MG8zMmMxZzYwbzMwYzFnNjRyazRoaGw2NTIzZ2dwbDY4bzNlZTlrODkxNDJnaTE4Z3E0NmgxbTc1MWs4Z2hpOGNxMCB0aGVvZG9zaW91bmljaG9sYXNAbQ',\n",
              "   'iCalUID': '040000008200E00074C5B7101A82E008000000005057D9C4866ED70100000000000000001000000017BF51D8C520794BBABAD4CD69CDB2C4',\n",
              "   'id': '_60q30c1g60o30e1i60o4ac1g60rj8gpl88rj2c1h84s34h9g60s30c1g60o30c1g6ko3adq4751j8e1m6p2k8dpg64o30c1g60o30c1g60o30c1g60o32c1g60o30c1g64rk4hhl6523ggpl68o3ee9k89142gi18gq46h1m751k8ghi8cq0',\n",
              "   'kind': 'calendar#event',\n",
              "   'location': 'Microsoft Teams Meeting',\n",
              "   'organizer': {'displayName': 'Sievers, Claudia',\n",
              "    'email': 'claudia.sievers@d-fine.co.uk'},\n",
              "   'privateCopy': True,\n",
              "   'reminders': {'useDefault': True},\n",
              "   'sequence': 0,\n",
              "   'start': {'dateTime': '2021-07-05T11:00:00+01:00'},\n",
              "   'status': 'confirmed',\n",
              "   'summary': 'd-fine Interview',\n",
              "   'updated': '2021-07-01T13:49:19.496Z'},\n",
              "  {'attendees': [{'email': 'theodosiounicholas@gmail.com',\n",
              "     'responseStatus': 'needsAction',\n",
              "     'self': True},\n",
              "    {'email': 'sofia98armeni@gmail.com', 'responseStatus': 'needsAction'}],\n",
              "   'conferenceData': {'conferenceId': 'nmt-mknk-zqh',\n",
              "    'conferenceSolution': {'iconUri': 'https://fonts.gstatic.com/s/i/productlogos/meet_2020q4/v6/web-512dp/logo_meet_2020q4_color_2x_web_512dp.png',\n",
              "     'key': {'type': 'hangoutsMeet'},\n",
              "     'name': 'Google Meet'},\n",
              "    'entryPoints': [{'entryPointType': 'video',\n",
              "      'label': 'meet.google.com/nmt-mknk-zqh',\n",
              "      'uri': 'https://meet.google.com/nmt-mknk-zqh'}],\n",
              "    'signature': 'ADXwMqPQcUWDaWoXrk2le9g5uUo4'},\n",
              "   'created': '2021-07-07T17:43:53.000Z',\n",
              "   'creator': {'email': 'theodosiounicholas@gmail.com', 'self': True},\n",
              "   'end': {'dateTime': '2021-07-08T18:00:00+01:00'},\n",
              "   'etag': '\"3251360045826000\"',\n",
              "   'eventType': 'default',\n",
              "   'hangoutLink': 'https://meet.google.com/nmt-mknk-zqh',\n",
              "   'htmlLink': 'https://www.google.com/calendar/event?eid=N2xuMTJlZWh1bWZxNnV1OGF2anBsMHBnN2ggdGhlb2Rvc2lvdW5pY2hvbGFzQG0',\n",
              "   'iCalUID': '7ln12eehumfq6uu8avjpl0pg7h@google.com',\n",
              "   'id': '7ln12eehumfq6uu8avjpl0pg7h',\n",
              "   'kind': 'calendar#event',\n",
              "   'organizer': {'displayName': 'A2',\n",
              "    'email': '0n5n4e5q7i3r43puvm9v9huj4c@group.calendar.google.com'},\n",
              "   'reminders': {'useDefault': True},\n",
              "   'sequence': 0,\n",
              "   'start': {'dateTime': '2021-07-08T17:00:00+01:00'},\n",
              "   'status': 'confirmed',\n",
              "   'summary': 'M1',\n",
              "   'updated': '2021-07-07T17:47:02.913Z'},\n",
              "  {'attachments': [{'fileUrl': 'https://mail.google.com/?view=att&th=17aec64dd7c7c525&attid=0.1&disp=attd&zw',\n",
              "     'iconLink': '',\n",
              "     'title': 'CV (8).pdf'}],\n",
              "   'attendees': [{'email': 'theodosiounicholas@gmail.com',\n",
              "     'responseStatus': 'accepted',\n",
              "     'self': True},\n",
              "    {'displayName': 'Robu, Maria',\n",
              "     'email': 'maria.r.robu@medtronic.com',\n",
              "     'responseStatus': 'needsAction'},\n",
              "    {'displayName': 'Mohammadi, Rahim',\n",
              "     'email': 'rahim.mohammadi@medtronic.com',\n",
              "     'responseStatus': 'needsAction'},\n",
              "    {'displayName': 'Sanchez-Matilla, Ricardo',\n",
              "     'email': 'ricardo.sanchez-matilla@medtronic.com',\n",
              "     'responseStatus': 'needsAction'},\n",
              "    {'displayName': 'Grammatikopoulou, Maria',\n",
              "     'email': 'maria.grammatikopoulou@medtronic.com',\n",
              "     'responseStatus': 'needsAction'}],\n",
              "   'created': '2021-07-28T09:14:26.000Z',\n",
              "   'creator': {'email': 'theodosiounicholas@gmail.com', 'self': True},\n",
              "   'description': \"Hi Nicholas,\\n\\nI'm pleased to confirm your interview for our Machine Learning Engineer position:\\n\\n\\nhttps://jobs.medtronic.com/jobs/machine-learning-engineer-98962\\n\\nDuring this interview you will be meeting:\\n\\n\\n\\nRahim Mohammadi, Lead Computer Vision Engineer\\n\\nRicardo Sanchez-Matilla, Principal AI/Data Science Engineer\\n\\nMaria Grammatikpoulou, Principal AI/Data Science Engineer\\n\\n\\n\\nThe Zoom details are at the bottom of this email and the meeting will last approximately 1 hour which will be a chance to go over your experience and background in more detail as well as provide further information about the position and our working environment.\\n\\n\\nAbout us:\\n\\nhttps://digitalsurgery.com/about/\\n\\nhttps://www.medtronic.com/covidien/en-us/robotic-assisted-surgery/digital-surgery.html?ef_id=EAIaIQobChMI6_qU3ZCP7QIVEttRCh2ragwtEAAYASAAEgLnKPD_BwE:G:s&s_kwcid=AL!13272!3!438799373404!e!!g!!digital%20surgery%20medtronic&gclid=EAIaIQobChMI6_qU3ZCP7QIVEttRCh2ragwtEAAYASAAEgLnKPD_BwE\\n\\n\\n\\nhttps://www.fiercebiotech.com/medtech/medtronic-to-bolster-its-ai-and-surgical-robotics-work-digital-surgery-acquisition\\n\\n\\nIf you require any further information before the interview, please feel free to reach out to me on the details below.\\n\\nWarm regards\\n\\nGraeme Harper\\nTalent Partner\\nTouch Surgery\\nMobile:- +447918118383\\nEmail:- graeme.harper@medtronic.com\\n\\n\\n[https://st2.zoom.us/static/5.1.851/image/new/ZoomLogo_110_25.png] <https://zoom.us>\\nHi there,\\nHarper, Graeme is inviting you to a scheduled Zoom meeting.\\nJoin Zoom Meeting<https://medtronic.zoom.us/j/99331533738?pwd=dzZFU2RIS3Vob1pscTAxY1dPSmk0UT09&from=addon>\\nOne tap mobile:         US: +16513728299,,99331533738#,,,,*944328#<tel:+16513728299,,99331533738#,,,,*944328#> or +16692192599,,99331533738#,,,,*944328#<tel:+16692192599,,99331533738#,,,,*944328#>\\nMeeting URL:    https://medtronic.zoom.us/j/99331533738?pwd=dzZFU2RIS3Vob1pscTAxY1dPSmk0UT09&from=addon\\nMeeting ID:     993 3153 3738\\nPasscode:       944328\\nJoin by Telephone\\nFor higher quality, dial a number based on your current location.\\nDial:\\nUS: +1 651 372 8299 or +1 669 219 2599\\nMeeting ID:     993 3153 3738\\nPasscode:       944328\\nInternational numbers<https://medtronic.zoom.us/u/adHX21hX7A>\\nJoin from an H.323/SIP room system\\nH.323:  162.255.37.11 (US West)\\n162.255.36.11 (US East)\\n221.122.88.195 (China)\\n115.114.131.7 (India Mumbai)\\n115.114.115.7 (India Hyderabad)\\n213.19.144.110 (Amsterdam Netherlands)\\n213.244.140.110 (Germany)\\n103.122.166.55 (Australia Sydney)\\n103.122.167.55 (Australia Melbourne)\\n209.9.211.110 (Hong Kong SAR)\\n149.137.40.110 (Singapore)\\n64.211.144.160 (Brazil)\\n149.137.68.253 (Mexico)\\n69.174.57.160 (Canada Toronto)\\n65.39.152.160 (Canada Vancouver)\\n207.226.132.110 (Japan Tokyo)\\n149.137.24.110 (Japan Osaka)\\nMeeting ID:     993 3153 3738\\nPasscode:       944328\\nSIP:    99331533738@zoomcrc.com\\nPasscode:       944328\\n[CONFIDENTIALITY AND PRIVACY NOTICE] Information transmitted by this email is proprietary to Medtronic and is intended for use only by the individual or entity to which it is addressed, and may contain information that is private, privileged, confidential or exempt from disclosure under applicable law. If you are not the intended recipient or it appears that this mail has been forwarded to you without proper authority, you are notified that any use or dissemination of this information in any manner is strictly prohibited. In such cases, please delete this mail from your records. To view this notice in other languages you can either select the following link or manually copy and paste the link into the address bar of a web browser: http://emaildisclaimer.medtronic.com\\n\",\n",
              "   'end': {'dateTime': '2021-07-28T16:30:00+01:00'},\n",
              "   'etag': '\"3254927560136000\"',\n",
              "   'eventType': 'default',\n",
              "   'guestsCanInviteOthers': False,\n",
              "   'htmlLink': 'https://www.google.com/calendar/event?eid=XzYwcTMwYzFnNjBvMzBlMWk2MG80YWMxZzYwcmo4Z3BsODhyajJjMWg4NHMzNGg5ZzYwczMwYzFnNjBvMzBjMWc4b3JqY2MyMjg0cTNnaGE1NzBwNDhkcGc2NG8zMGMxZzYwbzMwYzFnNjBvMzBjMWc2MG8zMmMxZzYwbzMwYzFnODRvMzBkMjE2MTBqMGgxazY1MGo4ZGhrNmNzMzZnaGg3NHAzNGUyMTZvcGo4ZTlrNzBvMCB0aGVvZG9zaW91bmljaG9sYXNAbQ',\n",
              "   'iCalUID': '040000008200E00074C5B7101A82E00800000000F760BA48EE82D701000000000000000010000000A004A0A0D41A464383B19228A6349480',\n",
              "   'id': '_60q30c1g60o30e1i60o4ac1g60rj8gpl88rj2c1h84s34h9g60s30c1g60o30c1g8orjcc2284q3gha570p48dpg64o30c1g60o30c1g60o30c1g60o32c1g60o30c1g84o30d21610j0h1k650j8dhk6cs36ghh74p34e216opj8e9k70o0',\n",
              "   'kind': 'calendar#event',\n",
              "   'location': 'https://medtronic.zoom.us/j/99331533738?pwd=dzZFU2RIS3Vob1pscTAxY1dPSmk0UT09&from=addon',\n",
              "   'organizer': {'displayName': 'Harper, Graeme',\n",
              "    'email': 'graeme.harper@medtronic.com'},\n",
              "   'privateCopy': True,\n",
              "   'reminders': {'useDefault': True},\n",
              "   'sequence': 3,\n",
              "   'start': {'dateTime': '2021-07-28T15:30:00+01:00'},\n",
              "   'status': 'confirmed',\n",
              "   'summary': 'Nicholas Theodosiou - Machine Learning Engineer',\n",
              "   'updated': '2021-07-28T09:16:20.068Z'}],\n",
              " 'kind': 'calendar#events',\n",
              " 'nextSyncToken': 'CPD53Iu3hfICEPD53Iu3hfICGAUgkMPrugE=',\n",
              " 'summary': 'theodosiounicholas@gmail.com',\n",
              " 'timeZone': 'Europe/London',\n",
              " 'updated': '2021-07-28T09:16:36.342Z'}"
            ]
          },
          "metadata": {},
          "execution_count": 15
        }
      ]
    },
    {
      "cell_type": "markdown",
      "metadata": {
        "id": "sLKFS_0CzUoK"
      },
      "source": [
        "**IN THIS NEXT SUBSECTION WE TRANSFORM A WEEK TO AN ARRAY**"
      ]
    },
    {
      "cell_type": "code",
      "metadata": {
        "id": "g_H-cNnGxpXQ"
      },
      "source": [
        "################################################################################\n",
        "################################################################################\n",
        "\n",
        "day_dict = {'Sunday': 0, 'Monday':1, 'Tuesday':2, 'Wednesday':3, 'Thursday':4, 'Friday':5, 'Saturday':6  }"
      ],
      "execution_count": 16,
      "outputs": []
    },
    {
      "cell_type": "code",
      "metadata": {
        "id": "plrCdyvx5m4Q"
      },
      "source": [
        "def events_from_interval(cal_id,t_min, t_max):\n",
        "  events = service.events().list(calendarId= cal_id, timeMin=t_min, timeMax=t_max).execute()\n",
        "  return events"
      ],
      "execution_count": 17,
      "outputs": []
    },
    {
      "cell_type": "code",
      "metadata": {
        "id": "Fj-vV4vbp_80"
      },
      "source": [
        "def create_week(week_len, num_slots):\n",
        "  week_array = np.zeros((week_len, num_slots))\n",
        "  return week_array\n",
        "\n",
        "empty_week = create_week(7, 24)"
      ],
      "execution_count": 18,
      "outputs": []
    },
    {
      "cell_type": "code",
      "metadata": {
        "colab": {
          "base_uri": "https://localhost:8080/"
        },
        "id": "FYEPPFqLyeCb",
        "outputId": "b66b4ac6-5366-47ab-f120-eee901fcf2c5"
      },
      "source": [
        "empty_week[6]"
      ],
      "execution_count": 19,
      "outputs": [
        {
          "output_type": "execute_result",
          "data": {
            "text/plain": [
              "array([0., 0., 0., 0., 0., 0., 0., 0., 0., 0., 0., 0., 0., 0., 0., 0., 0.,\n",
              "       0., 0., 0., 0., 0., 0., 0.])"
            ]
          },
          "metadata": {},
          "execution_count": 19
        }
      ]
    },
    {
      "cell_type": "code",
      "metadata": {
        "id": "1ioc_HZ0oneH"
      },
      "source": [
        "alice_week_events = events_from_interval(alice_id,'2021-06-13T00:00:00Z', '2021-06-19T23:59:59Z')"
      ],
      "execution_count": 20,
      "outputs": []
    },
    {
      "cell_type": "code",
      "metadata": {
        "id": "FICxGZIDpcn6"
      },
      "source": [
        "def createDayName(s):\n",
        "  d = parser.parse(s)\n",
        "  day = '{0:%A}'.format(d)\n",
        "  #print(day)\n",
        "  hour = d.hour\n",
        "  return day, hour"
      ],
      "execution_count": 21,
      "outputs": []
    },
    {
      "cell_type": "code",
      "metadata": {
        "id": "1HDg0MEpqFjK"
      },
      "source": [
        "for i in alice_week_events['items']:\n",
        "  s_time = i['start']['dateTime']\n",
        "  day = createDayName(s_time)[0]\n",
        "  slot = createDayName(s_time)[1]\n",
        "  day_num = day_dict[day]\n",
        "  empty_week[day_num][slot] = 1\n"
      ],
      "execution_count": 22,
      "outputs": []
    },
    {
      "cell_type": "code",
      "metadata": {
        "colab": {
          "base_uri": "https://localhost:8080/"
        },
        "id": "3Q_2jGuhyh7D",
        "outputId": "155affe7-d96c-4dc5-801b-e603015909e6"
      },
      "source": [
        "empty_week"
      ],
      "execution_count": 23,
      "outputs": [
        {
          "output_type": "execute_result",
          "data": {
            "text/plain": [
              "array([[0., 0., 0., 0., 0., 0., 0., 0., 0., 0., 0., 0., 0., 0., 0., 0.,\n",
              "        0., 0., 0., 0., 0., 0., 0., 0.],\n",
              "       [0., 0., 0., 0., 0., 0., 0., 0., 0., 1., 0., 1., 0., 1., 0., 1.,\n",
              "        0., 1., 0., 1., 0., 0., 0., 0.],\n",
              "       [0., 0., 0., 0., 0., 0., 0., 0., 0., 1., 0., 1., 0., 1., 0., 0.,\n",
              "        1., 0., 1., 0., 0., 0., 0., 0.],\n",
              "       [0., 0., 0., 0., 0., 0., 0., 0., 0., 0., 1., 0., 1., 0., 1., 0.,\n",
              "        0., 0., 0., 0., 0., 0., 0., 0.],\n",
              "       [0., 0., 0., 0., 0., 0., 0., 0., 0., 1., 0., 1., 0., 0., 0., 0.,\n",
              "        0., 0., 0., 0., 0., 0., 0., 0.],\n",
              "       [0., 0., 0., 0., 0., 0., 0., 0., 0., 0., 1., 0., 0., 0., 0., 0.,\n",
              "        0., 0., 0., 0., 0., 0., 0., 0.],\n",
              "       [0., 0., 0., 0., 0., 0., 0., 0., 0., 0., 0., 0., 0., 0., 0., 0.,\n",
              "        0., 0., 0., 0., 0., 0., 0., 0.]])"
            ]
          },
          "metadata": {},
          "execution_count": 23
        }
      ]
    },
    {
      "cell_type": "code",
      "metadata": {
        "id": "h0FpyI4Wx4mh"
      },
      "source": [
        "################################################################################\n",
        "################################################################################"
      ],
      "execution_count": 24,
      "outputs": []
    },
    {
      "cell_type": "code",
      "metadata": {
        "id": "a4XOLlQm6qKQ",
        "colab": {
          "base_uri": "https://localhost:8080/"
        },
        "outputId": "b7c1dc1f-6212-445a-aa7c-fb04ca84afa2"
      },
      "source": [
        "my_events = service.events().list(calendarId = calendar_id, timeZone = 'Asia/Nicosia').execute()\n",
        "print('My events')\n",
        "pprint(my_events['items'][-2])"
      ],
      "execution_count": 25,
      "outputs": [
        {
          "output_type": "stream",
          "text": [
            "My events\n",
            "{'attendees': [{'email': 'theodosiounicholas@gmail.com',\n",
            "                'responseStatus': 'needsAction',\n",
            "                'self': True},\n",
            "               {'email': 'sofia98armeni@gmail.com',\n",
            "                'responseStatus': 'needsAction'}],\n",
            " 'conferenceData': {'conferenceId': 'nmt-mknk-zqh',\n",
            "                    'conferenceSolution': {'iconUri': 'https://fonts.gstatic.com/s/i/productlogos/meet_2020q4/v6/web-512dp/logo_meet_2020q4_color_2x_web_512dp.png',\n",
            "                                           'key': {'type': 'hangoutsMeet'},\n",
            "                                           'name': 'Google Meet'},\n",
            "                    'entryPoints': [{'entryPointType': 'video',\n",
            "                                     'label': 'meet.google.com/nmt-mknk-zqh',\n",
            "                                     'uri': 'https://meet.google.com/nmt-mknk-zqh'}],\n",
            "                    'signature': 'ADXwMqPQcUWDaWoXrk2le9g5uUo4'},\n",
            " 'created': '2021-07-07T17:43:53.000Z',\n",
            " 'creator': {'email': 'theodosiounicholas@gmail.com', 'self': True},\n",
            " 'end': {'dateTime': '2021-07-08T20:00:00+03:00'},\n",
            " 'etag': '\"3251360045826000\"',\n",
            " 'eventType': 'default',\n",
            " 'hangoutLink': 'https://meet.google.com/nmt-mknk-zqh',\n",
            " 'htmlLink': 'https://www.google.com/calendar/event?eid=N2xuMTJlZWh1bWZxNnV1OGF2anBsMHBnN2ggdGhlb2Rvc2lvdW5pY2hvbGFzQG0&ctz=Asia/Nicosia',\n",
            " 'iCalUID': '7ln12eehumfq6uu8avjpl0pg7h@google.com',\n",
            " 'id': '7ln12eehumfq6uu8avjpl0pg7h',\n",
            " 'kind': 'calendar#event',\n",
            " 'organizer': {'displayName': 'A2',\n",
            "               'email': '0n5n4e5q7i3r43puvm9v9huj4c@group.calendar.google.com'},\n",
            " 'reminders': {'useDefault': True},\n",
            " 'sequence': 0,\n",
            " 'start': {'dateTime': '2021-07-08T19:00:00+03:00'},\n",
            " 'status': 'confirmed',\n",
            " 'summary': 'M1',\n",
            " 'updated': '2021-07-07T17:47:02.913Z'}\n"
          ],
          "name": "stdout"
        }
      ]
    },
    {
      "cell_type": "code",
      "metadata": {
        "id": "hEU4kKJaOv99"
      },
      "source": [
        ""
      ],
      "execution_count": 25,
      "outputs": []
    },
    {
      "cell_type": "code",
      "metadata": {
        "id": "vcXOQWhubQBp",
        "colab": {
          "base_uri": "https://localhost:8080/"
        },
        "outputId": "9211fd1d-8265-42c2-c702-d8843422a95f"
      },
      "source": [
        "#Get busy times:\n",
        "tz = pytz.timezone('Europe/London')\n",
        "time_1 = tz.localize(datetime(2021, 4, 21, 11, 0, 0))\n",
        "time_2 = tz.localize(datetime(2021, 4, 21, 20, 0, 0))\n",
        "\n",
        "#add body (two times and calendar id)\n",
        "\n",
        "body_bob = {\n",
        "  \"timeMin\": time_1.isoformat(),\n",
        "  \"timeMax\": time_2.isoformat(),\n",
        "  \"timeZone\": 'Asia/Nicosia',\n",
        "  \"items\": [{\"id\": bob_id}, {\"id\": alice_id}]\n",
        "}\n",
        "\n",
        "#request the freebusy resource\n",
        "bob_fb = service.freebusy().query(body=body_bob).execute()\n",
        "pprint(bob_fb)\n"
      ],
      "execution_count": 26,
      "outputs": [
        {
          "output_type": "stream",
          "text": [
            "{'calendars': {'5ac0pg5kb88rffkipu6uoi6v6g@group.calendar.google.com': {'busy': [{'end': '2021-04-21T14:30:00+03:00',\n",
            "                                                                                  'start': '2021-04-21T13:00:00+03:00'},\n",
            "                                                                                 {'end': '2021-04-21T16:00:00+03:00',\n",
            "                                                                                  'start': '2021-04-21T15:00:00+03:00'},\n",
            "                                                                                 {'end': '2021-04-21T20:00:00+03:00',\n",
            "                                                                                  'start': '2021-04-21T17:30:00+03:00'}]},\n",
            "               '5e1ugehj0tta053tgklj4vj09o@group.calendar.google.com': {'busy': [{'end': '2021-04-21T13:30:00+03:00',\n",
            "                                                                                  'start': '2021-04-21T13:00:00+03:00'},\n",
            "                                                                                 {'end': '2021-04-21T15:00:00+03:00',\n",
            "                                                                                  'start': '2021-04-21T14:00:00+03:00'},\n",
            "                                                                                 {'end': '2021-04-21T16:30:00+03:00',\n",
            "                                                                                  'start': '2021-04-21T15:30:00+03:00'},\n",
            "                                                                                 {'end': '2021-04-21T18:00:00+03:00',\n",
            "                                                                                  'start': '2021-04-21T17:00:00+03:00'},\n",
            "                                                                                 {'end': '2021-04-21T20:00:00+03:00',\n",
            "                                                                                  'start': '2021-04-21T18:30:00+03:00'}]}},\n",
            " 'kind': 'calendar#freeBusy',\n",
            " 'timeMax': '2021-04-21T19:00:00.000Z',\n",
            " 'timeMin': '2021-04-21T10:00:00.000Z'}\n"
          ],
          "name": "stdout"
        }
      ]
    },
    {
      "cell_type": "code",
      "metadata": {
        "id": "Vesho1QTOu7f"
      },
      "source": [
        ""
      ],
      "execution_count": 26,
      "outputs": []
    },
    {
      "cell_type": "code",
      "metadata": {
        "id": "9p75Ywv_lp09"
      },
      "source": [
        "#Busy times for each person:\n",
        "\n",
        "bob_busy = bob_fb['calendars'][bob_id]['busy']\n",
        "alice_busy = bob_fb['calendars'][alice_id]['busy']"
      ],
      "execution_count": 27,
      "outputs": []
    },
    {
      "cell_type": "code",
      "metadata": {
        "id": "XhgL5t7C0pHc"
      },
      "source": [
        "#return busy slots as list:\n",
        "\n",
        "def get_hours_list(busy):\n",
        "  out = []\n",
        "  for i in range(len(busy)):\n",
        "    st = busy[i]['start']\n",
        "    en = busy[i]['end']\n",
        "    st_1 = datefinder.find_dates(st)\n",
        "    en_1 = datefinder.find_dates(en)\n",
        "    st_2 = list(st_1)[0]\n",
        "    en_2 = list(en_1)[0]\n",
        "    start = str(st_2.hour) + ':' + str(st_2.minute)\n",
        "    end = str(en_2.hour) + ':' + str(en_2.minute)\n",
        "    if len(start) == 4:\n",
        "      start += '0'\n",
        "    if len(end) == 4:\n",
        "      end += '0'\n",
        "    out.append([start, end])\n",
        "  return(out)\n"
      ],
      "execution_count": 28,
      "outputs": []
    },
    {
      "cell_type": "code",
      "metadata": {
        "id": "lqW_AGJB4FY_"
      },
      "source": [
        "#Create function which returns free times:\n",
        "def free_time(x, bounds, time): #schedule, working hours, time\n",
        "  #output list:\n",
        "  new = []\n",
        "  #start and end of workhours:\n",
        "  b_start = datetime.strptime(bounds[0], \"%H:%M\")\n",
        "  b_end = datetime.strptime(bounds[1], \"%H:%M\")\n",
        "  #start and end of schedule (list of lists)\n",
        "  start=datetime.strptime(x[0][0],\"%H:%M\")\n",
        "  #print('start:',start)\n",
        "  end=datetime.strptime(x[-1][1],\"%H:%M\")\n",
        "  #print('end:',end)\n",
        "  #start and end minutes (difference between start of day and first constraint in minutes)\n",
        "  min_start = (b_start - start).seconds/60\n",
        "  min_end = (b_end - end).seconds/60\n",
        "  #check if first slot is larger than 30 minutes\n",
        "  if min_start >= float(time):\n",
        "    new.append([bounds[0],x[0][0]])\n",
        "  #do this for every slot in schedule\n",
        "  for i in range(len(x)-1):\n",
        "    if ((datetime.strptime(x[i+1][0],\"%H:%M\")-datetime.strptime(x[i][1],\"%H:%M\")).seconds/60) >=float(time):\n",
        "      new.append([x[i][1],x[i+1][0]])\n",
        "  #do the same for end of day:\n",
        "  if min_end >= float(time):\n",
        "    new.append([x[len(x)-1][1],bounds[1]])\n",
        "  return new"
      ],
      "execution_count": 29,
      "outputs": []
    },
    {
      "cell_type": "code",
      "metadata": {
        "id": "B8ejX3zZ4IMZ"
      },
      "source": [
        "def find_meetings(calendar1, calendar2, time):\n",
        "  '''\n",
        "  takes in free times of two calendars, duration \n",
        "  of meeting and returns possible times\n",
        "  '''\n",
        "  pres = []\n",
        "  final =[]\n",
        "  #loop through both:\n",
        "  for i in range(len(calendar1)):\n",
        "    for j in range(len(calendar2)):\n",
        "      #First loop essentially checks if slot 1 falls in slot 2 and is larger than 30 mins\n",
        "      #if end time of 1 is before 2:\n",
        "      if datetime.strptime(calendar1[i][1],\"%H:%M\")<=datetime.strptime(calendar2[j][1],\"%H:%M\"):\n",
        "        #if start time of 1 is after\n",
        "        if datetime.strptime(calendar1[i][0],\"%H:%M\")>=datetime.strptime(calendar2[j][0],\"%H:%M\"):\n",
        "          #if the difference between them is larger or equal than meeting time keep\n",
        "          if ((datetime.strptime(calendar1[i][1],\"%H:%M\")-datetime.strptime(calendar1[i][0],\"%H:%M\")).seconds/60) >= float(time) :\n",
        "          #append start end end of slot in calendar 1\n",
        "            pres.append([calendar1[i][0],calendar1[i][1]])\n",
        "        else:\n",
        "          #if 1 ends after 2 and the difference is larger than 30 mins:\n",
        "          if ((datetime.strptime(calendar1[i][1],\"%H:%M\")-datetime.strptime(calendar2[j][0],\"%H:%M\")).seconds/60) >= float(time) :\n",
        "            #meeting starts at start of 2 and ends at end of slot 1\n",
        "            pres.append([calendar2[j][0],calendar1[i][1]])\n",
        "      else:\n",
        "        #if 1 starts after 2 starts\n",
        "        if datetime.strptime(calendar1[i][0],\"%H:%M\")>=datetime.strptime(calendar2[j][0],\"%H:%M\"):\n",
        "          #if the end of 2 and the start of 1 have 30 min difference\n",
        "          if ((datetime.strptime(calendar2[j][1],\"%H:%M\")-datetime.strptime(calendar1[i][0],\"%H:%M\")).seconds/60) >= float(time) :\n",
        "            #append [start1, end2] since \n",
        "            pres.append([calendar1[i][0],calendar2[j][1]])\n",
        "  #ensure that start time is before end time:\n",
        "  for i in range(len(pres)):\n",
        "    if datetime.strptime(pres[i][0],\"%H:%M\")<datetime.strptime(pres[i][1],\"%H:%M\"):\n",
        "      final.append([pres[i][0],pres[i][1]])\n",
        "                        \n",
        "  return final"
      ],
      "execution_count": 30,
      "outputs": []
    },
    {
      "cell_type": "code",
      "metadata": {
        "id": "i42EObMh13r5"
      },
      "source": [
        "#Get busy times for both:\n",
        "bob_busy_list = get_hours_list(bob_busy)\n",
        "alice_busy_list = get_hours_list(alice_busy)\n",
        "\n",
        "#get free times for both:\n",
        "bob_available = ['7:00','21:00']\n",
        "alice_available = ['8:00','20:00']\n",
        "\n",
        "#define meeting time:\n",
        "meeting_time = 30\n",
        "\n",
        "#get free slots:\n",
        "bob_slots = free_time(bob_busy_list, bob_available, meeting_time)\n",
        "alice_slots = free_time(alice_busy_list, alice_available, meeting_time)\n"
      ],
      "execution_count": 31,
      "outputs": []
    },
    {
      "cell_type": "code",
      "metadata": {
        "id": "9_WT0Gso3jqM",
        "colab": {
          "base_uri": "https://localhost:8080/"
        },
        "outputId": "6ea4a1c6-2795-4be4-edec-936929d357f6"
      },
      "source": [
        "print('----------------------------------------------------------------------------------')\n",
        "print('Busy times:')\n",
        "print('----------------------------------------------------------------------------------')\n",
        "print('Bob')\n",
        "print(bob_busy_list)\n",
        "print('Alice')\n",
        "print(alice_busy_list)\n",
        "print('----------------------------------------------------------------------------------')\n",
        "print()\n",
        "print('----------------------------------------------------------------------------------')\n",
        "print('Free slots:')\n",
        "print('----------------------------------------------------------------------------------')\n",
        "print('Bob')\n",
        "print(bob_slots)\n",
        "print('Alice')\n",
        "print(alice_slots)\n",
        "print('----------------------------------------------------------------------------------')"
      ],
      "execution_count": 32,
      "outputs": [
        {
          "output_type": "stream",
          "text": [
            "----------------------------------------------------------------------------------\n",
            "Busy times:\n",
            "----------------------------------------------------------------------------------\n",
            "Bob\n",
            "[['13:00', '14:30'], ['15:00', '16:00'], ['17:30', '20:00']]\n",
            "Alice\n",
            "[['13:00', '13:30'], ['14:00', '15:00'], ['15:30', '16:30'], ['17:00', '18:00'], ['18:30', '20:00']]\n",
            "----------------------------------------------------------------------------------\n",
            "\n",
            "----------------------------------------------------------------------------------\n",
            "Free slots:\n",
            "----------------------------------------------------------------------------------\n",
            "Bob\n",
            "[['7:00', '13:00'], ['14:30', '15:00'], ['16:00', '17:30'], ['20:00', '21:00']]\n",
            "Alice\n",
            "[['8:00', '13:00'], ['13:30', '14:00'], ['15:00', '15:30'], ['16:30', '17:00'], ['18:00', '18:30']]\n",
            "----------------------------------------------------------------------------------\n"
          ],
          "name": "stdout"
        }
      ]
    },
    {
      "cell_type": "code",
      "metadata": {
        "id": "1f1JbktN4zhB",
        "colab": {
          "base_uri": "https://localhost:8080/"
        },
        "outputId": "3eb2ff77-fde8-4e39-c96e-239c110b29ce"
      },
      "source": [
        "possible_meetings = find_meetings(bob_slots, alice_slots, meeting_time)\n",
        "for i in range(len(possible_meetings)):\n",
        "  print(i+1,'. possible time for the meeting is : ', possible_meetings[i]);"
      ],
      "execution_count": 33,
      "outputs": [
        {
          "output_type": "stream",
          "text": [
            "1 . possible time for the meeting is :  ['8:00', '13:00']\n"
          ],
          "name": "stdout"
        }
      ]
    },
    {
      "cell_type": "code",
      "metadata": {
        "id": "7TA6smtZCoer"
      },
      "source": [
        "final_meeting = possible_meetings[0][1]\n",
        "s_hour = int(final_meeting.split(':')[0])\n",
        "s_min = int(final_meeting.split(':')[1])"
      ],
      "execution_count": 34,
      "outputs": []
    },
    {
      "cell_type": "code",
      "metadata": {
        "colab": {
          "base_uri": "https://localhost:8080/",
          "height": 35
        },
        "id": "SInCUiGOOZdn",
        "outputId": "d740ff08-3ceb-4f32-f69e-52f047ab43d8"
      },
      "source": [
        "final_meeting.split(':')[1]"
      ],
      "execution_count": 35,
      "outputs": [
        {
          "output_type": "execute_result",
          "data": {
            "application/vnd.google.colaboratory.intrinsic+json": {
              "type": "string"
            },
            "text/plain": [
              "'00'"
            ]
          },
          "metadata": {},
          "execution_count": 35
        }
      ]
    },
    {
      "cell_type": "code",
      "metadata": {
        "id": "JRHpKg30B8B_"
      },
      "source": [
        "\n",
        "start_time = datetime(2021, 4, 21, s_hour, s_min, 0)\n",
        "#Define end time (relevant to start time)\n",
        "end_time = start_time + timedelta(minutes = meeting_time)\n",
        "#Define time zone\n",
        "timezone =  'Asia/Nicosia'"
      ],
      "execution_count": 36,
      "outputs": []
    },
    {
      "cell_type": "code",
      "metadata": {
        "id": "l-RBhy3pDwxW",
        "colab": {
          "base_uri": "https://localhost:8080/"
        },
        "outputId": "a40811d6-46b5-4e85-d1b8-6c998432102f"
      },
      "source": [
        "print(start_time)\n",
        "print(end_time)"
      ],
      "execution_count": 37,
      "outputs": [
        {
          "output_type": "stream",
          "text": [
            "2021-04-21 13:00:00\n",
            "2021-04-21 13:30:00\n"
          ],
          "name": "stdout"
        }
      ]
    },
    {
      "cell_type": "code",
      "metadata": {
        "id": "3mE9EzDJ-Qcc",
        "colab": {
          "base_uri": "https://localhost:8080/"
        },
        "outputId": "e9857c7f-c713-4750-f2d5-774bc761d63b"
      },
      "source": [
        "meeting_event = {\n",
        "  'summary': 'Meet with friend',\n",
        "  'location': 'Coffeehouse',\n",
        "  'description': 'Leisure',\n",
        "  'start': {\n",
        "    'dateTime': start_time.strftime(\"%Y-%m-%dT%H:%M:%S\"),\n",
        "    'timeZone': timezone,\n",
        "  },\n",
        "  'end': {\n",
        "    'dateTime': end_time.strftime(\"%Y-%m-%dT%H:%M:%S\"),\n",
        "    'timeZone': timezone,\n",
        "  },\n",
        "  'reminders': {\n",
        "    'useDefault': False,\n",
        "    'overrides': [\n",
        "      {'method': 'email', 'minutes': 24 * 60}, # get email 24 hours before\n",
        "      {'method': 'popup', 'minutes': 10}, # get pop up 10 minutes before\n",
        "    ],\n",
        "  },\n",
        "}\n",
        "service.events().insert(calendarId = bob_id, body = meeting_event).execute()\n",
        "service.events().insert(calendarId = alice_id, body = meeting_event).execute()"
      ],
      "execution_count": 38,
      "outputs": [
        {
          "output_type": "execute_result",
          "data": {
            "text/plain": [
              "{'created': '2021-08-26T11:34:07.000Z',\n",
              " 'creator': {'email': 'theodosiounicholas@gmail.com'},\n",
              " 'description': 'Leisure',\n",
              " 'end': {'dateTime': '2021-04-21T13:30:00+03:00', 'timeZone': 'Asia/Nicosia'},\n",
              " 'etag': '\"3259955296175000\"',\n",
              " 'eventType': 'default',\n",
              " 'htmlLink': 'https://www.google.com/calendar/event?eid=YmRuaTRzcTg2YmI5dGppMTVpbGNnZmgwZ2sgNWUxdWdlaGowdHRhMDUzdGdrbGo0dmowOW9AZw',\n",
              " 'iCalUID': 'bdni4sq86bb9tji15ilcgfh0gk@google.com',\n",
              " 'id': 'bdni4sq86bb9tji15ilcgfh0gk',\n",
              " 'kind': 'calendar#event',\n",
              " 'location': 'Coffeehouse',\n",
              " 'organizer': {'displayName': 'Alice',\n",
              "  'email': '5e1ugehj0tta053tgklj4vj09o@group.calendar.google.com',\n",
              "  'self': True},\n",
              " 'reminders': {'overrides': [{'method': 'popup', 'minutes': 10},\n",
              "   {'method': 'email', 'minutes': 1440}],\n",
              "  'useDefault': False},\n",
              " 'sequence': 0,\n",
              " 'start': {'dateTime': '2021-04-21T13:00:00+03:00',\n",
              "  'timeZone': 'Asia/Nicosia'},\n",
              " 'status': 'confirmed',\n",
              " 'summary': 'Meet with friend',\n",
              " 'updated': '2021-08-26T11:34:08.176Z'}"
            ]
          },
          "metadata": {},
          "execution_count": 38
        }
      ]
    },
    {
      "cell_type": "code",
      "metadata": {
        "id": "O8OU24l_18DZ"
      },
      "source": [
        "# #Request events between 5:30 and 15:30 on the 24th of April 2021\n",
        "# #On my primary calendar\n",
        "\n",
        "# the_datetime = tz.localize(datetime(2021, 4, 24, 5, 30, 0))\n",
        "# the_datetime2 = tz.localize(datetime(2021, 4, 24, 18, 30, 0))\n",
        "\n",
        "# #add body (two times and calendar id)\n",
        "\n",
        "# body = {\n",
        "#   \"timeMin\": the_datetime.isoformat(),\n",
        "#   \"timeMax\": the_datetime2.isoformat(),\n",
        "#   \"timeZone\": 'Asia/Nicosia',\n",
        "#   \"items\": [{\"id\": calendar_id}]\n",
        "# }\n",
        "\n",
        "# #request the freebusy resource\n",
        "# eventsResult = service.freebusy().query(body=body).execute()"
      ],
      "execution_count": 39,
      "outputs": []
    },
    {
      "cell_type": "code",
      "metadata": {
        "id": "4kqDvaHJ7iDU"
      },
      "source": [
        "\n",
        "# time_1 = tz.localize(datetime(2021, 4, 21, 1, 0, 0))\n",
        "# time_2 = tz.localize(datetime(2021, 4, 21, 6, 30, 0))\n",
        "\n",
        "# #add body (two times and calendar id)\n",
        "\n",
        "# body2 = {\n",
        "#   \"timeMin\": time_1.isoformat(),\n",
        "#   \"timeMax\": time_2.isoformat(),\n",
        "#   \"timeZone\": 'Asia/Nicosia',\n",
        "#   \"items\": [{\"id\": calendar_id}]\n",
        "# }\n",
        "\n",
        "# #request the freebusy resource\n",
        "# eventsResult_2 = service.freebusy().query(body=body2).execute()"
      ],
      "execution_count": 40,
      "outputs": []
    },
    {
      "cell_type": "code",
      "metadata": {
        "id": "G9FD55pt6UL5"
      },
      "source": [
        "# print(eventsResult_2)"
      ],
      "execution_count": 41,
      "outputs": []
    },
    {
      "cell_type": "code",
      "metadata": {
        "id": "ZQeo-x0mhuAG"
      },
      "source": [
        "# print('calendar id:')\n",
        "# print(calendar_id)"
      ],
      "execution_count": 42,
      "outputs": []
    },
    {
      "cell_type": "markdown",
      "metadata": {
        "id": "nmTYXZ76ysIH"
      },
      "source": [
        "Get events for first calendar"
      ]
    },
    {
      "cell_type": "code",
      "metadata": {
        "id": "mm2TaoZIARV-"
      },
      "source": [
        "# result_events = service.events().list(calendarId = calendar_id, timeZone = 'Asia/Nicosia').execute()"
      ],
      "execution_count": 43,
      "outputs": []
    },
    {
      "cell_type": "code",
      "metadata": {
        "id": "qHhy0BTnBN-6"
      },
      "source": [
        "#pprint(result_events['items'])"
      ],
      "execution_count": 44,
      "outputs": []
    },
    {
      "cell_type": "markdown",
      "metadata": {
        "id": "CkGOJCm-fXNo"
      },
      "source": [
        "Enter new event to dictionary"
      ]
    },
    {
      "cell_type": "code",
      "metadata": {
        "id": "ZppoGH4pFAOH"
      },
      "source": [
        "# #Define start time\n",
        "# start_time = datetime(2021, 4, 24, 10, 30, 0)\n",
        "# #Define end time (relevant to start time)\n",
        "# end_time = start_time + timedelta(hours = 2)\n",
        "# #Define time zone\n",
        "# timezone =  'Asia/Nicosia'"
      ],
      "execution_count": 45,
      "outputs": []
    },
    {
      "cell_type": "code",
      "metadata": {
        "id": "0P9HTePqEbmk"
      },
      "source": [
        "# #Define event dictionary to insert:\n",
        "\n",
        "# event = {\n",
        "#   'summary': 'Roadtrip',\n",
        "#   'location': 'Troodos',\n",
        "#   'description': 'Leisure',\n",
        "#   'start': {\n",
        "#     'dateTime': start_time.strftime(\"%Y-%m-%dT%H:%M:%S\"),\n",
        "#     'timeZone': timezone,\n",
        "#   },\n",
        "#   'end': {\n",
        "#     'dateTime': end_time.strftime(\"%Y-%m-%dT%H:%M:%S\"),\n",
        "#     'timeZone': timezone,\n",
        "#   },\n",
        "#   'reminders': {\n",
        "#     'useDefault': False,\n",
        "#     'overrides': [\n",
        "#       {'method': 'email', 'minutes': 24 * 60}, # get email 24 hours before\n",
        "#       {'method': 'popup', 'minutes': 10}, # get pop up 10 minutes before\n",
        "#     ],\n",
        "#   },\n",
        "# }"
      ],
      "execution_count": 46,
      "outputs": []
    },
    {
      "cell_type": "code",
      "metadata": {
        "id": "s84_hJ7sFzKq"
      },
      "source": [
        "#Insert to calendar with calendar Id and body = event\n",
        "# service.events().insert(calendarId = calendar_id, body = event).execute()"
      ],
      "execution_count": 47,
      "outputs": []
    },
    {
      "cell_type": "code",
      "metadata": {
        "id": "d92gR0pUHWZy"
      },
      "source": [
        "# #date finder gets string as input and returns datetime\n",
        "# matches = datefinder.find_dates(\"29 april 10 AM\")"
      ],
      "execution_count": 48,
      "outputs": []
    },
    {
      "cell_type": "code",
      "metadata": {
        "id": "npd8jxqUHiwO"
      },
      "source": [
        "# list(matches)"
      ],
      "execution_count": 49,
      "outputs": []
    },
    {
      "cell_type": "code",
      "metadata": {
        "id": "rRUzRq51lBRU"
      },
      "source": [
        "# l = list(datefinder.find_dates('22 April 10 AM'))\n",
        "# l[0]"
      ],
      "execution_count": 50,
      "outputs": []
    },
    {
      "cell_type": "code",
      "metadata": {
        "id": "jCcBEzpIHLeE"
      },
      "source": [
        "# def create_event(start_time_str, summary, duration=1, description=None, location=None):\n",
        "#     matches = list(datefinder.find_dates(start_time_str))\n",
        "#     if len(matches):\n",
        "#         # \n",
        "#         start_time = matches[0]\n",
        "#         #print(start_time)\n",
        "#         end_time = start_time + timedelta(hours=duration)\n",
        "    \n",
        "#     event = {\n",
        "#         'summary': summary,\n",
        "#         'location': location,\n",
        "#         'description': description,\n",
        "#         'start': {\n",
        "#             'dateTime': start_time.strftime(\"%Y-%m-%dT%H:%M:%S\"),\n",
        "#             'timeZone': 'Asia/Nicosia',\n",
        "#         },\n",
        "#         'end': {\n",
        "#             'dateTime': end_time.strftime(\"%Y-%m-%dT%H:%M:%S\"),\n",
        "#             'timeZone': 'Asia/Nicosia',\n",
        "#         },\n",
        "#         'reminders': {\n",
        "#             'useDefault': False,\n",
        "#             'overrides': [\n",
        "#                 {'method': 'email', 'minutes': 24 * 60},\n",
        "#                 {'method': 'popup', 'minutes': 10},\n",
        "#             ],\n",
        "#         },\n",
        "#     }\n",
        "#     return service.events().insert(calendarId='primary', body=event).execute()"
      ],
      "execution_count": 51,
      "outputs": []
    },
    {
      "cell_type": "code",
      "metadata": {
        "id": "aTUdyNboHygN"
      },
      "source": [
        "# create_event('22 April 10 PM', 'Study')"
      ],
      "execution_count": 52,
      "outputs": []
    },
    {
      "cell_type": "code",
      "metadata": {
        "id": "1aHnGx38JMwO"
      },
      "source": [
        ""
      ],
      "execution_count": 52,
      "outputs": []
    }
  ]
}