{
  "nbformat": 4,
  "nbformat_minor": 0,
  "metadata": {
    "colab": {
      "name": "Learning_Preferences_CNN.ipynb",
      "provenance": [],
      "collapsed_sections": []
    },
    "kernelspec": {
      "name": "python3",
      "display_name": "Python 3"
    },
    "language_info": {
      "name": "python"
    }
  },
  "cells": [
    {
      "cell_type": "code",
      "metadata": {
        "id": "KzlkBitLI37V"
      },
      "source": [
        "import pandas as pd\n",
        "from sklearn.model_selection import train_test_split\n",
        "import matplotlib.pyplot as plt\n",
        "import ast\n",
        "import numpy as np\n"
      ],
      "execution_count": null,
      "outputs": []
    },
    {
      "cell_type": "code",
      "metadata": {
        "id": "NikoqxoS2Oet"
      },
      "source": [
        "import torch\n",
        "import torch.nn as nn\n",
        "import torch.nn.functional as F\n",
        "import torch.optim as optim\n",
        "from torch.autograd import Variable\n",
        "\n",
        "import pandas as pd\n",
        "import matplotlib.pyplot as plt\n",
        "import seaborn as sns\n",
        "%matplotlib inline"
      ],
      "execution_count": null,
      "outputs": []
    },
    {
      "cell_type": "code",
      "metadata": {
        "id": "QCoW8qtWUW13"
      },
      "source": [
        "from sklearn.metrics import f1_score\n",
        "from sklearn.metrics import confusion_matrix \n",
        "from sklearn.metrics import accuracy_score \n",
        "from sklearn.metrics import classification_report \n",
        "from sklearn.metrics import cohen_kappa_score"
      ],
      "execution_count": null,
      "outputs": []
    },
    {
      "cell_type": "code",
      "metadata": {
        "id": "ELWKHjnwdeLa"
      },
      "source": [
        "def from_np_array(array_string):\n",
        "    array_string = ','.join(array_string.replace('[ ', '[').split())\n",
        "    return np.array(ast.literal_eval(array_string))"
      ],
      "execution_count": null,
      "outputs": []
    },
    {
      "cell_type": "code",
      "metadata": {
        "colab": {
          "base_uri": "https://localhost:8080/"
        },
        "id": "nJglGQlWINvZ",
        "outputId": "1c6947ac-e9d1-4949-bde8-7da7364b15c4"
      },
      "source": [
        "from google.colab import drive\n",
        "\n",
        "drive.mount('/content/gdrive')\n",
        "file_path = 'gdrive/My Drive/Preferences/data_500_2.csv' #second dataset has more randomness"
      ],
      "execution_count": null,
      "outputs": [
        {
          "output_type": "stream",
          "text": [
            "Drive already mounted at /content/gdrive; to attempt to forcibly remount, call drive.mount(\"/content/gdrive\", force_remount=True).\n"
          ],
          "name": "stdout"
        }
      ]
    },
    {
      "cell_type": "code",
      "metadata": {
        "id": "-XRe_dwmIh4u"
      },
      "source": [
        "#df = pd.read_csv(file_path)\n",
        "df = pd.read_csv(file_path, converters={'Calendar': from_np_array})"
      ],
      "execution_count": null,
      "outputs": []
    },
    {
      "cell_type": "code",
      "metadata": {
        "id": "MyEI0WOrJoUj"
      },
      "source": [
        "df = df.drop(columns=['Unnamed: 0'])"
      ],
      "execution_count": null,
      "outputs": []
    },
    {
      "cell_type": "code",
      "metadata": {
        "id": "3KUsvqQPKDJu"
      },
      "source": [
        "def convert(array):\n",
        "  out = []\n",
        "  for list in array:\n",
        "    # Converting integer list to string list\n",
        "    s = [str(int(i)) for i in list]\n",
        "    # Join list items using join()\n",
        "    res = \"\".join(s)\n",
        "    out.append(res)\n",
        "\n",
        "      \n",
        "  return(out)"
      ],
      "execution_count": null,
      "outputs": []
    },
    {
      "cell_type": "code",
      "metadata": {
        "id": "Ma8G1FdmeHDE"
      },
      "source": [
        "df['string'] =  df.apply(lambda x: str(x['Calendar']), axis=1)\n",
        "df['lbl_concat'] =  df.apply(lambda x: x['lbl_concat']-1, axis=1)\n",
        "df['cal_flat'] =  df.apply(lambda x: x['Calendar'].flatten(), axis=1)"
      ],
      "execution_count": null,
      "outputs": []
    },
    {
      "cell_type": "code",
      "metadata": {
        "id": "dSsHaJImgUX4"
      },
      "source": [
        "columns = ['Week','Day','b2b','lbl_concat']\n",
        "df_copy = df.copy()\n",
        "df_lookup = df_copy[columns].head(18)"
      ],
      "execution_count": null,
      "outputs": []
    },
    {
      "cell_type": "code",
      "metadata": {
        "id": "Uvlprhqm33m_"
      },
      "source": [
        "df_lookup = df_lookup.replace(np.nan, 'None')\n"
      ],
      "execution_count": null,
      "outputs": []
    },
    {
      "cell_type": "code",
      "metadata": {
        "colab": {
          "base_uri": "https://localhost:8080/",
          "height": 603
        },
        "id": "tG1Tx5R3BbBt",
        "outputId": "135ddb1e-86d5-4a7c-ecd4-534efafa304d"
      },
      "source": [
        "df_lookup"
      ],
      "execution_count": null,
      "outputs": [
        {
          "output_type": "execute_result",
          "data": {
            "text/html": [
              "<div>\n",
              "<style scoped>\n",
              "    .dataframe tbody tr th:only-of-type {\n",
              "        vertical-align: middle;\n",
              "    }\n",
              "\n",
              "    .dataframe tbody tr th {\n",
              "        vertical-align: top;\n",
              "    }\n",
              "\n",
              "    .dataframe thead th {\n",
              "        text-align: right;\n",
              "    }\n",
              "</style>\n",
              "<table border=\"1\" class=\"dataframe\">\n",
              "  <thead>\n",
              "    <tr style=\"text-align: right;\">\n",
              "      <th></th>\n",
              "      <th>Week</th>\n",
              "      <th>Day</th>\n",
              "      <th>b2b</th>\n",
              "      <th>lbl_concat</th>\n",
              "    </tr>\n",
              "  </thead>\n",
              "  <tbody>\n",
              "    <tr>\n",
              "      <th>0</th>\n",
              "      <td>early</td>\n",
              "      <td>early</td>\n",
              "      <td>True</td>\n",
              "      <td>0</td>\n",
              "    </tr>\n",
              "    <tr>\n",
              "      <th>1</th>\n",
              "      <td>early</td>\n",
              "      <td>early</td>\n",
              "      <td>False</td>\n",
              "      <td>1</td>\n",
              "    </tr>\n",
              "    <tr>\n",
              "      <th>2</th>\n",
              "      <td>early</td>\n",
              "      <td>late</td>\n",
              "      <td>True</td>\n",
              "      <td>2</td>\n",
              "    </tr>\n",
              "    <tr>\n",
              "      <th>3</th>\n",
              "      <td>early</td>\n",
              "      <td>late</td>\n",
              "      <td>False</td>\n",
              "      <td>3</td>\n",
              "    </tr>\n",
              "    <tr>\n",
              "      <th>4</th>\n",
              "      <td>early</td>\n",
              "      <td>None</td>\n",
              "      <td>True</td>\n",
              "      <td>4</td>\n",
              "    </tr>\n",
              "    <tr>\n",
              "      <th>5</th>\n",
              "      <td>early</td>\n",
              "      <td>None</td>\n",
              "      <td>False</td>\n",
              "      <td>5</td>\n",
              "    </tr>\n",
              "    <tr>\n",
              "      <th>6</th>\n",
              "      <td>late</td>\n",
              "      <td>early</td>\n",
              "      <td>True</td>\n",
              "      <td>6</td>\n",
              "    </tr>\n",
              "    <tr>\n",
              "      <th>7</th>\n",
              "      <td>late</td>\n",
              "      <td>early</td>\n",
              "      <td>False</td>\n",
              "      <td>7</td>\n",
              "    </tr>\n",
              "    <tr>\n",
              "      <th>8</th>\n",
              "      <td>late</td>\n",
              "      <td>late</td>\n",
              "      <td>True</td>\n",
              "      <td>8</td>\n",
              "    </tr>\n",
              "    <tr>\n",
              "      <th>9</th>\n",
              "      <td>late</td>\n",
              "      <td>late</td>\n",
              "      <td>False</td>\n",
              "      <td>9</td>\n",
              "    </tr>\n",
              "    <tr>\n",
              "      <th>10</th>\n",
              "      <td>late</td>\n",
              "      <td>None</td>\n",
              "      <td>True</td>\n",
              "      <td>10</td>\n",
              "    </tr>\n",
              "    <tr>\n",
              "      <th>11</th>\n",
              "      <td>late</td>\n",
              "      <td>None</td>\n",
              "      <td>False</td>\n",
              "      <td>11</td>\n",
              "    </tr>\n",
              "    <tr>\n",
              "      <th>12</th>\n",
              "      <td>None</td>\n",
              "      <td>early</td>\n",
              "      <td>True</td>\n",
              "      <td>12</td>\n",
              "    </tr>\n",
              "    <tr>\n",
              "      <th>13</th>\n",
              "      <td>None</td>\n",
              "      <td>early</td>\n",
              "      <td>False</td>\n",
              "      <td>13</td>\n",
              "    </tr>\n",
              "    <tr>\n",
              "      <th>14</th>\n",
              "      <td>None</td>\n",
              "      <td>late</td>\n",
              "      <td>True</td>\n",
              "      <td>14</td>\n",
              "    </tr>\n",
              "    <tr>\n",
              "      <th>15</th>\n",
              "      <td>None</td>\n",
              "      <td>late</td>\n",
              "      <td>False</td>\n",
              "      <td>15</td>\n",
              "    </tr>\n",
              "    <tr>\n",
              "      <th>16</th>\n",
              "      <td>None</td>\n",
              "      <td>None</td>\n",
              "      <td>True</td>\n",
              "      <td>16</td>\n",
              "    </tr>\n",
              "    <tr>\n",
              "      <th>17</th>\n",
              "      <td>None</td>\n",
              "      <td>None</td>\n",
              "      <td>False</td>\n",
              "      <td>17</td>\n",
              "    </tr>\n",
              "  </tbody>\n",
              "</table>\n",
              "</div>"
            ],
            "text/plain": [
              "     Week    Day    b2b  lbl_concat\n",
              "0   early  early   True           0\n",
              "1   early  early  False           1\n",
              "2   early   late   True           2\n",
              "3   early   late  False           3\n",
              "4   early   None   True           4\n",
              "5   early   None  False           5\n",
              "6    late  early   True           6\n",
              "7    late  early  False           7\n",
              "8    late   late   True           8\n",
              "9    late   late  False           9\n",
              "10   late   None   True          10\n",
              "11   late   None  False          11\n",
              "12   None  early   True          12\n",
              "13   None  early  False          13\n",
              "14   None   late   True          14\n",
              "15   None   late  False          15\n",
              "16   None   None   True          16\n",
              "17   None   None  False          17"
            ]
          },
          "metadata": {},
          "execution_count": 1058
        }
      ]
    },
    {
      "cell_type": "code",
      "metadata": {
        "id": "A5vQtblIyEni"
      },
      "source": [
        "# df_lookup.to_csv('lookup.csv')\n",
        "# !cp lookup.csv \"gdrive/My Drive/Preferences\""
      ],
      "execution_count": null,
      "outputs": []
    },
    {
      "cell_type": "code",
      "metadata": {
        "colab": {
          "base_uri": "https://localhost:8080/"
        },
        "id": "PcZImDORzZLz",
        "outputId": "d9decc3d-e956-494b-e0ab-76a128b97ece"
      },
      "source": [
        "print('Sum of duplicates:')\n",
        "print(df.string.duplicated().sum())"
      ],
      "execution_count": null,
      "outputs": [
        {
          "output_type": "stream",
          "text": [
            "Sum of duplicates:\n",
            "0\n"
          ],
          "name": "stdout"
        }
      ]
    },
    {
      "cell_type": "code",
      "metadata": {
        "id": "TpTlR19y22CQ"
      },
      "source": [
        "df = df.drop_duplicates(subset=['string'])"
      ],
      "execution_count": null,
      "outputs": []
    },
    {
      "cell_type": "code",
      "metadata": {
        "colab": {
          "base_uri": "https://localhost:8080/"
        },
        "id": "DrqVruhp28nL",
        "outputId": "c0bdd790-ed0b-473f-e135-d27b6c227b1e"
      },
      "source": [
        "df.string.duplicated().sum()"
      ],
      "execution_count": null,
      "outputs": [
        {
          "output_type": "execute_result",
          "data": {
            "text/plain": [
              "0"
            ]
          },
          "metadata": {},
          "execution_count": 1062
        }
      ]
    },
    {
      "cell_type": "code",
      "metadata": {
        "id": "dNGfVcS_5IVS"
      },
      "source": [
        "counts = []\n",
        "for i in range(18):\n",
        "  counts.append(df[df['lbl_concat']==i+1]['Calendar'].count())"
      ],
      "execution_count": null,
      "outputs": []
    },
    {
      "cell_type": "code",
      "metadata": {
        "id": "FVsyJPY76shP"
      },
      "source": [
        "#shuffle dataset\n",
        "df = df.sample(frac=1)"
      ],
      "execution_count": null,
      "outputs": []
    },
    {
      "cell_type": "code",
      "metadata": {
        "id": "e24yLZYZURyC"
      },
      "source": [
        " df['String_cal'] = df.apply(lambda x: convert(x['Calendar']), axis=1)"
      ],
      "execution_count": null,
      "outputs": []
    },
    {
      "cell_type": "code",
      "metadata": {
        "id": "vLvVTq0P7yKR"
      },
      "source": [
        "train_df, test_df = train_test_split(df, test_size=0.1)"
      ],
      "execution_count": null,
      "outputs": []
    },
    {
      "cell_type": "code",
      "metadata": {
        "id": "VJvvJ85k70xD"
      },
      "source": [
        "counts_train = []\n",
        "counts_test = []\n",
        "for i in range(18):\n",
        "  counts_train.append(train_df[train_df['lbl_concat']==i+1]['Calendar'].count())\n",
        "  counts_test.append(test_df[test_df['lbl_concat']==i+1]['Calendar'].count())\n"
      ],
      "execution_count": null,
      "outputs": []
    },
    {
      "cell_type": "code",
      "metadata": {
        "colab": {
          "base_uri": "https://localhost:8080/",
          "height": 285
        },
        "id": "CwxK5H3f9ZGG",
        "outputId": "7f63aa5b-436e-4ce8-993b-62924bb25c88"
      },
      "source": [
        "df['lbl_concat'].value_counts().plot(kind='bar')\n"
      ],
      "execution_count": null,
      "outputs": [
        {
          "output_type": "execute_result",
          "data": {
            "text/plain": [
              "<matplotlib.axes._subplots.AxesSubplot at 0x7f223caced50>"
            ]
          },
          "metadata": {},
          "execution_count": 1068
        },
        {
          "output_type": "display_data",
          "data": {
            "image/png": "[encoded data removed]",
            "text/plain": [
              "<Figure size 432x288 with 1 Axes>"
            ]
          },
          "metadata": {
            "needs_background": "light"
          }
        }
      ]
    },
    {
      "cell_type": "code",
      "metadata": {
        "id": "agvRJmqaAP4Q",
        "colab": {
          "base_uri": "https://localhost:8080/",
          "height": 285
        },
        "outputId": "abcbf620-009c-445e-d268-62bffe7d56dc"
      },
      "source": [
        "train_df['lbl_concat'].value_counts().plot(kind='bar')"
      ],
      "execution_count": null,
      "outputs": [
        {
          "output_type": "execute_result",
          "data": {
            "text/plain": [
              "<matplotlib.axes._subplots.AxesSubplot at 0x7f223c76ba10>"
            ]
          },
          "metadata": {},
          "execution_count": 1069
        },
        {
          "output_type": "display_data",
          "data": {
            "image/png": "[encoded data removed]",
            "text/plain": [
              "<Figure size 432x288 with 1 Axes>"
            ]
          },
          "metadata": {
            "needs_background": "light"
          }
        }
      ]
    },
    {
      "cell_type": "code",
      "metadata": {
        "id": "UOthvgj0ATVx",
        "colab": {
          "base_uri": "https://localhost:8080/",
          "height": 285
        },
        "outputId": "4b24f348-e581-4aaf-ce78-f55e8d523d2f"
      },
      "source": [
        "test_df['lbl_concat'].value_counts().plot(kind='bar')"
      ],
      "execution_count": null,
      "outputs": [
        {
          "output_type": "execute_result",
          "data": {
            "text/plain": [
              "<matplotlib.axes._subplots.AxesSubplot at 0x7f223c70f7d0>"
            ]
          },
          "metadata": {},
          "execution_count": 1070
        },
        {
          "output_type": "display_data",
          "data": {
            "image/png": "[encoded data removed]",
            "text/plain": [
              "<Figure size 432x288 with 1 Axes>"
            ]
          },
          "metadata": {
            "needs_background": "light"
          }
        }
      ]
    },
    {
      "cell_type": "code",
      "metadata": {
        "id": "x_KhzF6bV1CK"
      },
      "source": [
        "df = df.drop(columns=['string'])"
      ],
      "execution_count": null,
      "outputs": []
    },
    {
      "cell_type": "code",
      "metadata": {
        "colab": {
          "base_uri": "https://localhost:8080/",
          "height": 110
        },
        "id": "CDxbOrpdv5_D",
        "outputId": "1b9bb76e-c5d1-4f89-f2c7-077eb36becd9"
      },
      "source": [
        "df.head(2)"
      ],
      "execution_count": null,
      "outputs": [
        {
          "output_type": "execute_result",
          "data": {
            "text/html": [
              "<div>\n",
              "<style scoped>\n",
              "    .dataframe tbody tr th:only-of-type {\n",
              "        vertical-align: middle;\n",
              "    }\n",
              "\n",
              "    .dataframe tbody tr th {\n",
              "        vertical-align: top;\n",
              "    }\n",
              "\n",
              "    .dataframe thead th {\n",
              "        text-align: right;\n",
              "    }\n",
              "</style>\n",
              "<table border=\"1\" class=\"dataframe\">\n",
              "  <thead>\n",
              "    <tr style=\"text-align: right;\">\n",
              "      <th></th>\n",
              "      <th>Calendar</th>\n",
              "      <th>Week</th>\n",
              "      <th>Day</th>\n",
              "      <th>b2b</th>\n",
              "      <th>lbl_concat</th>\n",
              "      <th>label</th>\n",
              "      <th>cal_flat</th>\n",
              "      <th>String_cal</th>\n",
              "    </tr>\n",
              "  </thead>\n",
              "  <tbody>\n",
              "    <tr>\n",
              "      <th>3758</th>\n",
              "      <td>[[0.0, 0.0, 0.0, 0.0, 0.0, 0.0, 0.0, 0.0, 0.0,...</td>\n",
              "      <td>NaN</td>\n",
              "      <td>late</td>\n",
              "      <td>True</td>\n",
              "      <td>14</td>\n",
              "      <td>[0, 2, 0]</td>\n",
              "      <td>[0.0, 0.0, 0.0, 0.0, 0.0, 0.0, 0.0, 0.0, 0.0, ...</td>\n",
              "      <td>[000000000000000000000000, 0000000000000000110...</td>\n",
              "    </tr>\n",
              "    <tr>\n",
              "      <th>6144</th>\n",
              "      <td>[[0.0, 0.0, 0.0, 0.0, 0.0, 0.0, 0.0, 0.0, 0.0,...</td>\n",
              "      <td>late</td>\n",
              "      <td>early</td>\n",
              "      <td>True</td>\n",
              "      <td>6</td>\n",
              "      <td>[2, 1, 0]</td>\n",
              "      <td>[0.0, 0.0, 0.0, 0.0, 0.0, 0.0, 0.0, 0.0, 0.0, ...</td>\n",
              "      <td>[000000000000000000000000, 0000100000000000000...</td>\n",
              "    </tr>\n",
              "  </tbody>\n",
              "</table>\n",
              "</div>"
            ],
            "text/plain": [
              "                                               Calendar  ...                                         String_cal\n",
              "3758  [[0.0, 0.0, 0.0, 0.0, 0.0, 0.0, 0.0, 0.0, 0.0,...  ...  [000000000000000000000000, 0000000000000000110...\n",
              "6144  [[0.0, 0.0, 0.0, 0.0, 0.0, 0.0, 0.0, 0.0, 0.0,...  ...  [000000000000000000000000, 0000100000000000000...\n",
              "\n",
              "[2 rows x 8 columns]"
            ]
          },
          "metadata": {},
          "execution_count": 1072
        }
      ]
    },
    {
      "cell_type": "code",
      "metadata": {
        "colab": {
          "base_uri": "https://localhost:8080/"
        },
        "id": "x_iJNeH87fiT",
        "outputId": "7671808d-a7ee-476a-ee42-bb0e03801b64"
      },
      "source": [
        "train_df['Calendar']"
      ],
      "execution_count": null,
      "outputs": [
        {
          "output_type": "execute_result",
          "data": {
            "text/plain": [
              "611     [[0.0, 0.0, 0.0, 0.0, 0.0, 0.0, 0.0, 0.0, 0.0,...\n",
              "3343    [[0.0, 0.0, 0.0, 0.0, 0.0, 0.0, 0.0, 0.0, 0.0,...\n",
              "6659    [[0.0, 0.0, 0.0, 0.0, 0.0, 0.0, 0.0, 0.0, 0.0,...\n",
              "2901    [[0.0, 0.0, 0.0, 0.0, 0.0, 0.0, 0.0, 0.0, 0.0,...\n",
              "4413    [[0.0, 0.0, 0.0, 0.0, 0.0, 0.0, 0.0, 0.0, 0.0,...\n",
              "                              ...                        \n",
              "6931    [[0.0, 0.0, 0.0, 0.0, 0.0, 0.0, 0.0, 0.0, 0.0,...\n",
              "4603    [[0.0, 0.0, 0.0, 0.0, 0.0, 0.0, 0.0, 0.0, 0.0,...\n",
              "5975    [[0.0, 0.0, 0.0, 0.0, 0.0, 0.0, 0.0, 0.0, 0.0,...\n",
              "8984    [[0.0, 0.0, 0.0, 0.0, 0.0, 0.0, 0.0, 0.0, 0.0,...\n",
              "8050    [[0.0, 0.0, 0.0, 0.0, 0.0, 0.0, 0.0, 0.0, 0.0,...\n",
              "Name: Calendar, Length: 8100, dtype: object"
            ]
          },
          "metadata": {},
          "execution_count": 1073
        }
      ]
    },
    {
      "cell_type": "code",
      "metadata": {
        "id": "bcqTSmfh0mC_"
      },
      "source": [
        "x_train = train_df['Calendar']\n",
        "y_train = train_df['lbl_concat']\n",
        "\n",
        "x_test = test_df['Calendar']\n",
        "y_test = test_df['lbl_concat']"
      ],
      "execution_count": null,
      "outputs": []
    },
    {
      "cell_type": "code",
      "metadata": {
        "id": "570tJQos1UQM"
      },
      "source": [
        "x_train_np = x_train.to_numpy()\n",
        "y_train_np = y_train.to_numpy()\n",
        "\n",
        "x_test_np = x_test.to_numpy()\n",
        "y_test_np = y_test.to_numpy()"
      ],
      "execution_count": null,
      "outputs": []
    },
    {
      "cell_type": "code",
      "metadata": {
        "id": "qCMZqzbQ12jH"
      },
      "source": [
        "xtrain = torch.FloatTensor(x_train_np.tolist())\n",
        "ytrain = torch.FloatTensor(y_train_np.tolist())\n",
        "\n",
        "xtest = torch.FloatTensor(x_test_np.tolist())\n",
        "ytest = torch.FloatTensor(y_test_np.tolist())"
      ],
      "execution_count": null,
      "outputs": []
    },
    {
      "cell_type": "code",
      "metadata": {
        "id": "xueO94HJHw36"
      },
      "source": [
        ""
      ],
      "execution_count": null,
      "outputs": []
    },
    {
      "cell_type": "code",
      "metadata": {
        "id": "_i9EWvrJ2anQ"
      },
      "source": [
        "# hyperparameters\n",
        "output_size = 18 #0-17 (classes)\n",
        "epochs = 20\n",
        "batch_size = 32\n",
        "learning_rate = 0.001\n"
      ],
      "execution_count": null,
      "outputs": []
    },
    {
      "cell_type": "markdown",
      "metadata": {
        "id": "gpabAIIocaCH"
      },
      "source": [
        "Define Model:"
      ]
    },
    {
      "cell_type": "code",
      "metadata": {
        "id": "PMuWVT1i8JRw"
      },
      "source": [
        "class CNN(nn.Module):\n",
        "    def __init__(self):\n",
        "        super().__init__()\n",
        "        self.conv1 = nn.Conv2d(1,16,3, padding= 1) #1x7x24 -> 16x7x24\n",
        "        self.bn1 = nn.BatchNorm2d(16)\n",
        "        self.conv2 = nn.Conv2d(16, 32, (5, 7)) #16x7X24 -> 32x3x18 = 1728\n",
        "        self.bn2 = nn.BatchNorm2d(32)\n",
        "        self.fc1 = nn.Linear(1728, 84) #linear layers\n",
        "        self.fc2 = nn.Linear(120, 84)\n",
        "        self.fc3 = nn.Linear(84, 18)\n",
        "\n",
        "    def forward(self, x):\n",
        "        x = F.relu(self.conv1(x))\n",
        "        x = self.bn1(x)\n",
        "        x = F.relu(self.conv2(x))\n",
        "        x = self.bn2(x)\n",
        "        x = torch.flatten(x, 1)\n",
        "        x = F.relu(self.fc1(x))\n",
        "        #x = F.relu(self.fc2(x))\n",
        "        x = self.fc3(x)\n",
        "        return x"
      ],
      "execution_count": null,
      "outputs": []
    },
    {
      "cell_type": "code",
      "metadata": {
        "colab": {
          "base_uri": "https://localhost:8080/"
        },
        "id": "gODqRI522qTE",
        "outputId": "2c6235b4-8a7d-40c2-8c4c-1edd7b651bc0"
      },
      "source": [
        "model = CNN()\n",
        "print(model)"
      ],
      "execution_count": null,
      "outputs": [
        {
          "output_type": "stream",
          "text": [
            "CNN(\n",
            "  (conv1): Conv2d(1, 16, kernel_size=(3, 3), stride=(1, 1), padding=(1, 1))\n",
            "  (bn1): BatchNorm2d(16, eps=1e-05, momentum=0.1, affine=True, track_running_stats=True)\n",
            "  (conv2): Conv2d(16, 32, kernel_size=(5, 7), stride=(1, 1))\n",
            "  (bn2): BatchNorm2d(32, eps=1e-05, momentum=0.1, affine=True, track_running_stats=True)\n",
            "  (fc1): Linear(in_features=1728, out_features=84, bias=True)\n",
            "  (fc2): Linear(in_features=120, out_features=84, bias=True)\n",
            "  (fc3): Linear(in_features=84, out_features=18, bias=True)\n",
            ")\n"
          ],
          "name": "stdout"
        }
      ]
    },
    {
      "cell_type": "code",
      "metadata": {
        "id": "AATkKyeH2nQH"
      },
      "source": [
        "optimizer = optim.SGD(model.parameters(), learning_rate, momentum=0.9)\n",
        "criterion = nn.CrossEntropyLoss()"
      ],
      "execution_count": null,
      "outputs": []
    },
    {
      "cell_type": "code",
      "metadata": {
        "colab": {
          "base_uri": "https://localhost:8080/"
        },
        "id": "SSDhQo-B28f5",
        "outputId": "a8f5d716-e69b-4b98-c50b-fcdc53f8ff7b"
      },
      "source": [
        "xtrain[0].unsqueeze(0)"
      ],
      "execution_count": null,
      "outputs": [
        {
          "output_type": "execute_result",
          "data": {
            "text/plain": [
              "tensor([[[0., 0., 0., 0., 0., 0., 0., 0., 0., 0., 0., 0., 0., 0., 0., 0., 0.,\n",
              "          0., 0., 0., 0., 0., 0., 0.],\n",
              "         [0., 0., 0., 1., 0., 0., 1., 0., 0., 1., 0., 0., 1., 0., 0., 1., 0.,\n",
              "          0., 0., 0., 0., 0., 0., 0.],\n",
              "         [0., 0., 0., 0., 0., 0., 0., 0., 0., 0., 0., 0., 0., 1., 0., 1., 0.,\n",
              "          0., 1., 0., 0., 0., 0., 0.],\n",
              "         [0., 0., 0., 0., 0., 0., 1., 0., 1., 0., 0., 1., 0., 1., 0., 1., 0.,\n",
              "          0., 0., 0., 0., 0., 0., 0.],\n",
              "         [0., 0., 0., 0., 0., 0., 0., 0., 0., 0., 0., 0., 1., 0., 1., 0., 0.,\n",
              "          1., 0., 0., 0., 0., 0., 0.],\n",
              "         [0., 0., 0., 0., 0., 1., 0., 1., 0., 0., 1., 0., 0., 1., 0., 0., 0.,\n",
              "          0., 0., 0., 0., 0., 0., 0.],\n",
              "         [0., 0., 0., 0., 0., 0., 0., 0., 0., 0., 0., 0., 0., 0., 0., 0., 0.,\n",
              "          0., 0., 0., 0., 0., 0., 0.]]])"
            ]
          },
          "metadata": {},
          "execution_count": 1081
        }
      ]
    },
    {
      "cell_type": "code",
      "metadata": {
        "id": "eaF8r4TCWKt1"
      },
      "source": [
        "def get_acc(y_pred, actual):\n",
        "  denom = y_pred.shape[0]\n",
        "  out = np.sum(y_pred == actual)/denom*100\n",
        "  return out"
      ],
      "execution_count": null,
      "outputs": []
    },
    {
      "cell_type": "markdown",
      "metadata": {
        "id": "T7h-FFVfceuw"
      },
      "source": [
        "Train Model:"
      ]
    },
    {
      "cell_type": "code",
      "metadata": {
        "colab": {
          "base_uri": "https://localhost:8080/"
        },
        "id": "Vqxu6UIQZE42",
        "outputId": "ebb319f6-d4ce-4cba-ed09-3f2e18adc869"
      },
      "source": [
        "loss_log = []\n",
        "train_acc = []\n",
        "\n",
        "loss_avg_lst = []\n",
        "acc_avg_lst = []\n",
        "add_every = 100\n",
        "\n",
        "#per epoch\n",
        "for epoch in range(epochs):\n",
        "  loss_total = 0\n",
        "  acc_total = 0\n",
        "  step = 0\n",
        "  #per item in batch:\n",
        "\n",
        "  for i in range(0, xtrain.shape[0], batch_size):\n",
        "\n",
        "    step+=1\n",
        "    x_batch = xtrain[i:i + batch_size] \n",
        "    y_batch = ytrain[i:i + batch_size] \n",
        "    x_var = Variable(x_batch)\n",
        "    y_var = Variable(y_batch).type(torch.LongTensor)\n",
        "    optimizer.zero_grad()\n",
        "    net_out = model(x_var.unsqueeze(1))\n",
        "    y_pred = torch.max(net_out.data, 1)[1].numpy()\n",
        "    actual = y_batch.numpy()\n",
        "    accuracy = get_acc(y_pred, actual)\n",
        "    loss = criterion(net_out, y_var)\n",
        "\n",
        "    loss_total += loss.item()\n",
        "    acc_total += accuracy\n",
        "\n",
        "    loss.backward()\n",
        "    optimizer.step()\n",
        "\n",
        "    if i % add_every == 0:\n",
        "      loss_log.append(loss.item())\n",
        "      train_acc.append(accuracy)\n",
        "    \n",
        "\n",
        "  acc_avg = acc_total/step\n",
        "  loss_avg = loss_total/step\n",
        "\n",
        "  loss_avg_lst.append(loss_avg)\n",
        "  acc_avg_lst.append(acc_avg)\n",
        "\n",
        "\n",
        "\n",
        "  print('Epoch: {}/{} | Train Loss: {:.4f} | Train Acc: {:.2f} '.format(epoch, epochs, loss_avg, acc_avg))\n"
      ],
      "execution_count": null,
      "outputs": [
        {
          "output_type": "stream",
          "text": [
            "Epoch: 0/20 | Train Loss: 1.3382 | Train Acc: 62.36 \n",
            "Epoch: 1/20 | Train Loss: 0.3271 | Train Acc: 91.19 \n",
            "Epoch: 2/20 | Train Loss: 0.2118 | Train Acc: 93.68 \n",
            "Epoch: 3/20 | Train Loss: 0.1709 | Train Acc: 94.73 \n",
            "Epoch: 4/20 | Train Loss: 0.1465 | Train Acc: 95.57 \n",
            "Epoch: 5/20 | Train Loss: 0.1289 | Train Acc: 96.16 \n",
            "Epoch: 6/20 | Train Loss: 0.1153 | Train Acc: 96.65 \n",
            "Epoch: 7/20 | Train Loss: 0.1044 | Train Acc: 97.11 \n",
            "Epoch: 8/20 | Train Loss: 0.0956 | Train Acc: 97.45 \n",
            "Epoch: 9/20 | Train Loss: 0.0879 | Train Acc: 97.74 \n",
            "Epoch: 10/20 | Train Loss: 0.0811 | Train Acc: 97.93 \n",
            "Epoch: 11/20 | Train Loss: 0.0749 | Train Acc: 98.17 \n",
            "Epoch: 12/20 | Train Loss: 0.0694 | Train Acc: 98.29 \n",
            "Epoch: 13/20 | Train Loss: 0.0643 | Train Acc: 98.44 \n",
            "Epoch: 14/20 | Train Loss: 0.0594 | Train Acc: 98.55 \n",
            "Epoch: 15/20 | Train Loss: 0.0548 | Train Acc: 98.71 \n",
            "Epoch: 16/20 | Train Loss: 0.0504 | Train Acc: 98.84 \n",
            "Epoch: 17/20 | Train Loss: 0.0462 | Train Acc: 99.03 \n",
            "Epoch: 18/20 | Train Loss: 0.0422 | Train Acc: 99.16 \n",
            "Epoch: 19/20 | Train Loss: 0.0385 | Train Acc: 99.30 \n"
          ],
          "name": "stdout"
        }
      ]
    },
    {
      "cell_type": "code",
      "metadata": {
        "id": "cuSDYkpl77ZL"
      },
      "source": [
        "#torch.save(model.state_dict(), 'gdrive/My Drive/Preferences/CNN/CNN_model_2.pth' )"
      ],
      "execution_count": null,
      "outputs": []
    },
    {
      "cell_type": "code",
      "metadata": {
        "colab": {
          "base_uri": "https://localhost:8080/",
          "height": 554
        },
        "id": "sOnXeYePapnr",
        "outputId": "309a2e88-6b28-4816-d9ab-f78cdb4c1600"
      },
      "source": [
        "fig, axes = plt.subplots(nrows=1, ncols=2, figsize=(15, 8))\n",
        "fig.suptitle(\"Training Losses\", fontsize=14)\n",
        "axes[0].plot(loss_avg_lst)\n",
        "axes[1].plot(loss_log)\n",
        "axes[0].set(xlabel=\"Epochs\", ylabel=\"Train Loss\")\n",
        "axes[1].set(xlabel=\"Steps in Batch\", ylabel=\"Train Loss\")\n",
        "plt.savefig(\"gdrive/My Drive/Preferences/CNN/pref_losses.png\")\n",
        "plt.show()\n",
        "#fig.tight_layout()\n",
        "\n",
        "# plt.figure(figsize=(10,8))\n",
        "# plt.plot(loss_avg_lst)\n",
        "\n",
        "# plt.figure(figsize=(10,8))\n",
        "# plt.plot(loss_log)"
      ],
      "execution_count": null,
      "outputs": [
        {
          "output_type": "display_data",
          "data": {
            "image/png": "[encoded data removed]",
            "text/plain": [
              "<Figure size 1080x576 with 2 Axes>"
            ]
          },
          "metadata": {
            "needs_background": "light"
          }
        }
      ]
    },
    {
      "cell_type": "code",
      "metadata": {
        "colab": {
          "base_uri": "https://localhost:8080/",
          "height": 554
        },
        "id": "wuzcptTgcNB9",
        "outputId": "28ef3aa5-748b-445f-e5bc-cede5ccf2db6"
      },
      "source": [
        "fig, axes = plt.subplots(nrows=1, ncols=2, figsize=(15, 8))\n",
        "fig = plt.gcf()\n",
        "fig.suptitle(\"Training Accuracies\", fontsize=14)\n",
        "axes[0].plot(acc_avg_lst)\n",
        "axes[1].plot(train_acc)\n",
        "axes[0].set(xlabel=\"Epochs\", ylabel=\"Train Accuracy\")\n",
        "axes[1].set(xlabel=\"Steps in Batch\", ylabel=\"Train Accuracy\")\n",
        "plt.savefig(\"gdrive/My Drive/Preferences/CNN/pref_accuracies.png\")\n",
        "plt.show()\n",
        "#fig.tight_layout()\n",
        "\n",
        "# plt.figure(figsize=(10,8))\n",
        "# plt.plot(acc_avg_lst)\n",
        "\n",
        "# plt.figure(figsize=(10,8))\n",
        "# plt.plot(train_acc)"
      ],
      "execution_count": null,
      "outputs": [
        {
          "output_type": "display_data",
          "data": {
            "image/png": "[encoded data removed]",
            "text/plain": [
              "<Figure size 1080x576 with 2 Axes>"
            ]
          },
          "metadata": {
            "needs_background": "light"
          }
        }
      ]
    },
    {
      "cell_type": "markdown",
      "metadata": {
        "id": "CqAQZUj4cjfy"
      },
      "source": [
        "Test Model:"
      ]
    },
    {
      "cell_type": "code",
      "metadata": {
        "colab": {
          "base_uri": "https://localhost:8080/"
        },
        "id": "mSp8zfHWUi32",
        "outputId": "d62627ff-03ca-4a59-e966-0ed1f4133eb5"
      },
      "source": [
        "model.eval()\n",
        "with torch.no_grad():\n",
        "  test_var = Variable(xtest)\n",
        "\n",
        "  net_out = model(test_var.unsqueeze(1))\n",
        "  test_pred = torch.max(net_out.data, 1)[1].numpy()\n",
        "  test_acc = get_acc(test_pred, y_test)\n",
        "print(100*'-')\n",
        "print('Test Accuracy:', test_acc)\n",
        "print(100*'-')"
      ],
      "execution_count": null,
      "outputs": [
        {
          "output_type": "stream",
          "text": [
            "----------------------------------------------------------------------------------------------------\n",
            "Test Accuracy: 97.22222222222221\n",
            "----------------------------------------------------------------------------------------------------\n"
          ],
          "name": "stdout"
        }
      ]
    },
    {
      "cell_type": "code",
      "metadata": {
        "colab": {
          "base_uri": "https://localhost:8080/"
        },
        "id": "CLFhEVOlYqsp",
        "outputId": "5a92d75d-6f96-4370-ffc3-1b4a711b03ea"
      },
      "source": [
        "actual = y_test.tolist() \n",
        "predicted = test_pred\n",
        "target_names = list(range(18))\n",
        "conf_mat = confusion_matrix(actual, predicted, target_names)   \n",
        "target_names = ['class 0', 'class 1', 'class 2']\n",
        "print('Confusion Matrix :')\n",
        "print(conf_mat) \n",
        "acc = accuracy_score(actual, predicted)\n",
        "print ('Accuracy: %.3f'% acc) \n",
        "print(100*'-')\n",
        "print()\n",
        "print ('Classification report : ')\n",
        "print (classification_report(actual, predicted, digits=3) )\n",
        "print(100*'-')\n",
        "f_score = f1_score(actual, predicted, average = None )"
      ],
      "execution_count": null,
      "outputs": [
        {
          "output_type": "stream",
          "text": [
            "Confusion Matrix :\n",
            "[[50  0  0  0  0  0  0  0  0  0  0  0  0  0  0  0  0  0]\n",
            " [ 0 48  0  0  0  0  0  0  0  0  0  0  0  0  0  0  0  0]\n",
            " [ 0  0 43  0  0  0  0  0  0  0  0  0  0  0  0  0  0  0]\n",
            " [ 0  0  0 58  0  0  0  0  0  0  0  0  0  0  0  0  0  0]\n",
            " [ 1  0  0  0 45  0  0  0  0  0  0  0  0  0  0  0  0  0]\n",
            " [ 0  6  0  0  0 54  0  0  0  0  0  0  0  0  0  0  0  0]\n",
            " [ 0  0  0  0  0  0 56  0  0  0  0  0  0  0  0  0  0  0]\n",
            " [ 0  0  0  0  0  0  0 42  0  0  0  0  0  0  0  0  0  0]\n",
            " [ 0  0  0  0  0  0  0  0 44  0  0  0  0  0  0  0  0  0]\n",
            " [ 0  0  0  0  0  0  0  0  0 61  0  0  0  0  0  0  0  0]\n",
            " [ 0  0  0  0  0  0  0  0  0  0 39  0  0  0  0  0  1  0]\n",
            " [ 0  0  0  0  0  0  0  3  0  0  0 46  0  0  0  0  0  1]\n",
            " [ 0  0  0  0  0  0  0  0  0  0  0  0 45  0  0  0  0  0]\n",
            " [ 0  0  0  0  0  0  0  0  0  0  0  0  0 39  0  0  0  5]\n",
            " [ 0  0  0  0  0  0  0  0  1  0  0  0  0  0 67  0  0  0]\n",
            " [ 0  0  0  0  0  0  0  0  0  0  0  0  0  0  0 60  0  0]\n",
            " [ 0  0  0  0  0  0  0  0  0  0  0  0  1  0  0  0 47  0]\n",
            " [ 0  0  0  0  0  0  0  0  0  0  0  0  0  6  0  0  0 31]]\n",
            "Accuracy: 0.972\n",
            "----------------------------------------------------------------------------------------------------\n",
            "\n",
            "Classification report : \n",
            "              precision    recall  f1-score   support\n",
            "\n",
            "           0      0.980     1.000     0.990        50\n",
            "           1      0.889     1.000     0.941        48\n",
            "           2      1.000     1.000     1.000        43\n",
            "           3      1.000     1.000     1.000        58\n",
            "           4      1.000     0.978     0.989        46\n",
            "           5      1.000     0.900     0.947        60\n",
            "           6      1.000     1.000     1.000        56\n",
            "           7      0.933     1.000     0.966        42\n",
            "           8      0.978     1.000     0.989        44\n",
            "           9      1.000     1.000     1.000        61\n",
            "          10      1.000     0.975     0.987        40\n",
            "          11      1.000     0.920     0.958        50\n",
            "          12      0.978     1.000     0.989        45\n",
            "          13      0.867     0.886     0.876        44\n",
            "          14      1.000     0.985     0.993        68\n",
            "          15      1.000     1.000     1.000        60\n",
            "          16      0.979     0.979     0.979        48\n",
            "          17      0.838     0.838     0.838        37\n",
            "\n",
            "    accuracy                          0.972       900\n",
            "   macro avg      0.969     0.970     0.969       900\n",
            "weighted avg      0.973     0.972     0.972       900\n",
            "\n",
            "----------------------------------------------------------------------------------------------------\n"
          ],
          "name": "stdout"
        }
      ]
    },
    {
      "cell_type": "code",
      "metadata": {
        "colab": {
          "base_uri": "https://localhost:8080/",
          "height": 265
        },
        "id": "37jv4--VcyOc",
        "outputId": "cd1a7297-47ba-42cf-81f3-3cb250dc5b5d"
      },
      "source": [
        "ax= plt.subplot()\n",
        "counts = [\"{0:0.0f}\".format(i) for i in conf_mat.flatten()]\n",
        "percentages = [\"{0:.2%}\".format(i) for i in conf_mat.flatten()/np.sum(conf_mat)]\n",
        "sns.heatmap(conf_mat, fmt='', cmap= 'RdPu')\n",
        "ax.xaxis.set_ticklabels(list(range(18)))\n",
        "ax.yaxis.set_ticklabels(list(range(18)))\n",
        "plt.savefig(\"gdrive/My Drive/Preferences/CNN/pref_conf_mat.png\")\n",
        "plt.show()"
      ],
      "execution_count": null,
      "outputs": [
        {
          "output_type": "display_data",
          "data": {
            "image/png": "[encoded data removed]",
            "text/plain": [
              "<Figure size 432x288 with 2 Axes>"
            ]
          },
          "metadata": {
            "needs_background": "light"
          }
        }
      ]
    },
    {
      "cell_type": "code",
      "metadata": {
        "colab": {
          "base_uri": "https://localhost:8080/",
          "height": 696
        },
        "id": "JTOfXea80PC4",
        "outputId": "173829d5-f77e-4f4a-e6c8-d64e6d169c96"
      },
      "source": [
        "report = classification_report(actual, predicted, digits=3, output_dict=True)\n",
        "report_df = pd.DataFrame(report).transpose()\n",
        "report_df"
      ],
      "execution_count": null,
      "outputs": [
        {
          "output_type": "execute_result",
          "data": {
            "text/html": [
              "<div>\n",
              "<style scoped>\n",
              "    .dataframe tbody tr th:only-of-type {\n",
              "        vertical-align: middle;\n",
              "    }\n",
              "\n",
              "    .dataframe tbody tr th {\n",
              "        vertical-align: top;\n",
              "    }\n",
              "\n",
              "    .dataframe thead th {\n",
              "        text-align: right;\n",
              "    }\n",
              "</style>\n",
              "<table border=\"1\" class=\"dataframe\">\n",
              "  <thead>\n",
              "    <tr style=\"text-align: right;\">\n",
              "      <th></th>\n",
              "      <th>precision</th>\n",
              "      <th>recall</th>\n",
              "      <th>f1-score</th>\n",
              "      <th>support</th>\n",
              "    </tr>\n",
              "  </thead>\n",
              "  <tbody>\n",
              "    <tr>\n",
              "      <th>0</th>\n",
              "      <td>0.980392</td>\n",
              "      <td>1.000000</td>\n",
              "      <td>0.990099</td>\n",
              "      <td>50.000000</td>\n",
              "    </tr>\n",
              "    <tr>\n",
              "      <th>1</th>\n",
              "      <td>0.888889</td>\n",
              "      <td>1.000000</td>\n",
              "      <td>0.941176</td>\n",
              "      <td>48.000000</td>\n",
              "    </tr>\n",
              "    <tr>\n",
              "      <th>2</th>\n",
              "      <td>1.000000</td>\n",
              "      <td>1.000000</td>\n",
              "      <td>1.000000</td>\n",
              "      <td>43.000000</td>\n",
              "    </tr>\n",
              "    <tr>\n",
              "      <th>3</th>\n",
              "      <td>1.000000</td>\n",
              "      <td>1.000000</td>\n",
              "      <td>1.000000</td>\n",
              "      <td>58.000000</td>\n",
              "    </tr>\n",
              "    <tr>\n",
              "      <th>4</th>\n",
              "      <td>1.000000</td>\n",
              "      <td>0.978261</td>\n",
              "      <td>0.989011</td>\n",
              "      <td>46.000000</td>\n",
              "    </tr>\n",
              "    <tr>\n",
              "      <th>5</th>\n",
              "      <td>1.000000</td>\n",
              "      <td>0.900000</td>\n",
              "      <td>0.947368</td>\n",
              "      <td>60.000000</td>\n",
              "    </tr>\n",
              "    <tr>\n",
              "      <th>6</th>\n",
              "      <td>1.000000</td>\n",
              "      <td>1.000000</td>\n",
              "      <td>1.000000</td>\n",
              "      <td>56.000000</td>\n",
              "    </tr>\n",
              "    <tr>\n",
              "      <th>7</th>\n",
              "      <td>0.933333</td>\n",
              "      <td>1.000000</td>\n",
              "      <td>0.965517</td>\n",
              "      <td>42.000000</td>\n",
              "    </tr>\n",
              "    <tr>\n",
              "      <th>8</th>\n",
              "      <td>0.977778</td>\n",
              "      <td>1.000000</td>\n",
              "      <td>0.988764</td>\n",
              "      <td>44.000000</td>\n",
              "    </tr>\n",
              "    <tr>\n",
              "      <th>9</th>\n",
              "      <td>1.000000</td>\n",
              "      <td>1.000000</td>\n",
              "      <td>1.000000</td>\n",
              "      <td>61.000000</td>\n",
              "    </tr>\n",
              "    <tr>\n",
              "      <th>10</th>\n",
              "      <td>1.000000</td>\n",
              "      <td>0.975000</td>\n",
              "      <td>0.987342</td>\n",
              "      <td>40.000000</td>\n",
              "    </tr>\n",
              "    <tr>\n",
              "      <th>11</th>\n",
              "      <td>1.000000</td>\n",
              "      <td>0.920000</td>\n",
              "      <td>0.958333</td>\n",
              "      <td>50.000000</td>\n",
              "    </tr>\n",
              "    <tr>\n",
              "      <th>12</th>\n",
              "      <td>0.978261</td>\n",
              "      <td>1.000000</td>\n",
              "      <td>0.989011</td>\n",
              "      <td>45.000000</td>\n",
              "    </tr>\n",
              "    <tr>\n",
              "      <th>13</th>\n",
              "      <td>0.866667</td>\n",
              "      <td>0.886364</td>\n",
              "      <td>0.876404</td>\n",
              "      <td>44.000000</td>\n",
              "    </tr>\n",
              "    <tr>\n",
              "      <th>14</th>\n",
              "      <td>1.000000</td>\n",
              "      <td>0.985294</td>\n",
              "      <td>0.992593</td>\n",
              "      <td>68.000000</td>\n",
              "    </tr>\n",
              "    <tr>\n",
              "      <th>15</th>\n",
              "      <td>1.000000</td>\n",
              "      <td>1.000000</td>\n",
              "      <td>1.000000</td>\n",
              "      <td>60.000000</td>\n",
              "    </tr>\n",
              "    <tr>\n",
              "      <th>16</th>\n",
              "      <td>0.979167</td>\n",
              "      <td>0.979167</td>\n",
              "      <td>0.979167</td>\n",
              "      <td>48.000000</td>\n",
              "    </tr>\n",
              "    <tr>\n",
              "      <th>17</th>\n",
              "      <td>0.837838</td>\n",
              "      <td>0.837838</td>\n",
              "      <td>0.837838</td>\n",
              "      <td>37.000000</td>\n",
              "    </tr>\n",
              "    <tr>\n",
              "      <th>accuracy</th>\n",
              "      <td>0.972222</td>\n",
              "      <td>0.972222</td>\n",
              "      <td>0.972222</td>\n",
              "      <td>0.972222</td>\n",
              "    </tr>\n",
              "    <tr>\n",
              "      <th>macro avg</th>\n",
              "      <td>0.969018</td>\n",
              "      <td>0.970107</td>\n",
              "      <td>0.969035</td>\n",
              "      <td>900.000000</td>\n",
              "    </tr>\n",
              "    <tr>\n",
              "      <th>weighted avg</th>\n",
              "      <td>0.973404</td>\n",
              "      <td>0.972222</td>\n",
              "      <td>0.972277</td>\n",
              "      <td>900.000000</td>\n",
              "    </tr>\n",
              "  </tbody>\n",
              "</table>\n",
              "</div>"
            ],
            "text/plain": [
              "              precision    recall  f1-score     support\n",
              "0              0.980392  1.000000  0.990099   50.000000\n",
              "1              0.888889  1.000000  0.941176   48.000000\n",
              "2              1.000000  1.000000  1.000000   43.000000\n",
              "3              1.000000  1.000000  1.000000   58.000000\n",
              "4              1.000000  0.978261  0.989011   46.000000\n",
              "5              1.000000  0.900000  0.947368   60.000000\n",
              "6              1.000000  1.000000  1.000000   56.000000\n",
              "7              0.933333  1.000000  0.965517   42.000000\n",
              "8              0.977778  1.000000  0.988764   44.000000\n",
              "9              1.000000  1.000000  1.000000   61.000000\n",
              "10             1.000000  0.975000  0.987342   40.000000\n",
              "11             1.000000  0.920000  0.958333   50.000000\n",
              "12             0.978261  1.000000  0.989011   45.000000\n",
              "13             0.866667  0.886364  0.876404   44.000000\n",
              "14             1.000000  0.985294  0.992593   68.000000\n",
              "15             1.000000  1.000000  1.000000   60.000000\n",
              "16             0.979167  0.979167  0.979167   48.000000\n",
              "17             0.837838  0.837838  0.837838   37.000000\n",
              "accuracy       0.972222  0.972222  0.972222    0.972222\n",
              "macro avg      0.969018  0.970107  0.969035  900.000000\n",
              "weighted avg   0.973404  0.972222  0.972277  900.000000"
            ]
          },
          "metadata": {},
          "execution_count": 1091
        }
      ]
    },
    {
      "cell_type": "code",
      "metadata": {
        "colab": {
          "base_uri": "https://localhost:8080/"
        },
        "id": "YblUTOOd1MAg",
        "outputId": "e995fdfe-9bf6-44ad-e415-01491fac97cc"
      },
      "source": [
        "print(report_df.to_latex())"
      ],
      "execution_count": null,
      "outputs": [
        {
          "output_type": "stream",
          "text": [
            "\\begin{tabular}{lrrrr}\n",
            "\\toprule\n",
            "{} &  precision &    recall &  f1-score &     support \\\\\n",
            "\\midrule\n",
            "0            &   0.980392 &  1.000000 &  0.990099 &   50.000000 \\\\\n",
            "1            &   0.888889 &  1.000000 &  0.941176 &   48.000000 \\\\\n",
            "2            &   1.000000 &  1.000000 &  1.000000 &   43.000000 \\\\\n",
            "3            &   1.000000 &  1.000000 &  1.000000 &   58.000000 \\\\\n",
            "4            &   1.000000 &  0.978261 &  0.989011 &   46.000000 \\\\\n",
            "5            &   1.000000 &  0.900000 &  0.947368 &   60.000000 \\\\\n",
            "6            &   1.000000 &  1.000000 &  1.000000 &   56.000000 \\\\\n",
            "7            &   0.933333 &  1.000000 &  0.965517 &   42.000000 \\\\\n",
            "8            &   0.977778 &  1.000000 &  0.988764 &   44.000000 \\\\\n",
            "9            &   1.000000 &  1.000000 &  1.000000 &   61.000000 \\\\\n",
            "10           &   1.000000 &  0.975000 &  0.987342 &   40.000000 \\\\\n",
            "11           &   1.000000 &  0.920000 &  0.958333 &   50.000000 \\\\\n",
            "12           &   0.978261 &  1.000000 &  0.989011 &   45.000000 \\\\\n",
            "13           &   0.866667 &  0.886364 &  0.876404 &   44.000000 \\\\\n",
            "14           &   1.000000 &  0.985294 &  0.992593 &   68.000000 \\\\\n",
            "15           &   1.000000 &  1.000000 &  1.000000 &   60.000000 \\\\\n",
            "16           &   0.979167 &  0.979167 &  0.979167 &   48.000000 \\\\\n",
            "17           &   0.837838 &  0.837838 &  0.837838 &   37.000000 \\\\\n",
            "accuracy     &   0.972222 &  0.972222 &  0.972222 &    0.972222 \\\\\n",
            "macro avg    &   0.969018 &  0.970107 &  0.969035 &  900.000000 \\\\\n",
            "weighted avg &   0.973404 &  0.972222 &  0.972277 &  900.000000 \\\\\n",
            "\\bottomrule\n",
            "\\end{tabular}\n",
            "\n"
          ],
          "name": "stdout"
        }
      ]
    },
    {
      "cell_type": "code",
      "metadata": {
        "id": "MGHzEBZqrP79"
      },
      "source": [
        "test_array_1 = np.array([[0., 0., 0., 0., 0., 0., 0., 0., 0., 0., 0., 0., 0., 0., 0., 0.,\n",
        "        0., 0., 0., 0., 0., 0., 0., 0.],\n",
        "       [0., 0., 0., 0., 0., 0., 0., 0., 0., 0., 0., 0., 0., 1., 0., 1.,\n",
        "        0., 0., 0., 1., 0., 1., 0., 0.],\n",
        "       [0., 0., 0., 0., 0., 0., 0., 0., 0., 0., 0., 0., 1., 0., 0., 0.,\n",
        "        1., 0., 1., 0., 0., 1., 0., 0.],\n",
        "       [0., 0., 0., 0., 0., 0., 0., 0., 0., 0., 0., 0., 1., 0., 1., 0.,\n",
        "        0., 1., 0., 0., 1., 0., 0., 0.],\n",
        "       [0., 0., 0., 0., 0., 0., 0., 0., 0., 1., 0., 1., 0., 0., 0., 0.,\n",
        "        0., 0., 0., 0., 0., 0., 0., 0.],\n",
        "       [0., 0., 0., 0., 0., 0., 0., 0., 1., 0., 1., 0., 0., 0., 0., 0.,\n",
        "        0., 0., 0., 0., 0., 0., 0., 0.],\n",
        "       [0., 0., 0., 0., 0., 0., 0., 0., 0., 0., 0., 0., 0., 0., 0., 0.,\n",
        "        0., 0., 0., 0., 0., 0., 0., 0.]])"
      ],
      "execution_count": null,
      "outputs": []
    },
    {
      "cell_type": "code",
      "metadata": {
        "id": "bSJ5xLIjCU35"
      },
      "source": [
        "test_array_2 = np.array([[0., 0., 0., 0., 0., 0., 0., 0., 0., 0., 0., 0., 0., 0., 0., 0.,\n",
        "        0., 0., 0., 0., 0., 0., 0., 0.],\n",
        "       [0., 0., 0., 0., 1., 1., 1., 0., 1., 0., 1., 0., 0., 0., 0., 0.,\n",
        "        0., 0., 0., 0., 0., 0., 0., 0.],\n",
        "       [0., 0., 0., 0., 1., 0., 1., 1., 1., 1., 0., 0., 0., 0., 0., 0.,\n",
        "        0., 0., 0., 0., 0., 0., 0., 0.],\n",
        "       [0., 0., 0., 1., 1., 1., 0., 0., 0., 0., 0., 0., 0., 0., 0., 0.,\n",
        "        0., 0., 0., 0., 0., 0., 0., 0.],\n",
        "       [0., 0., 0., 1., 0., 1., 0., 0., 0., 0., 0., 0., 0., 0., 0., 0.,\n",
        "        0., 0., 0., 0., 0., 0., 0., 0.],\n",
        "       [0., 0., 0., 0., 0., 0., 0., 0., 0., 0., 0., 0., 0., 0., 0., 0.,\n",
        "        0., 0., 0., 0., 0., 0., 0., 0.],\n",
        "       [0., 0., 0., 0., 0., 0., 0., 0., 0., 0., 0., 0., 0., 0., 0., 0.,\n",
        "        0., 0., 0., 0., 0., 0., 0., 0.]])#\n"
      ],
      "execution_count": null,
      "outputs": []
    },
    {
      "cell_type": "code",
      "metadata": {
        "id": "A86HmdZUTMkG"
      },
      "source": [
        "test_array_3= np.array([0., 0., 0., 0., 0., 0., 0., 0., 0., 0., 0., 0., 0., 0., 0., 0., 0.,\n",
        "       0., 0., 0., 0., 0., 0., 0., 0., 0., 0., 0., 0., 0., 0., 0., 0., 0.,\n",
        "       1., 1., 1., 1., 1., 0., 0., 0., 0., 0., 0., 0., 0., 0., 0., 0., 0.,\n",
        "       0., 0., 0., 0., 0., 0., 0., 0., 0., 0., 1., 0., 1., 1., 1., 0., 0.,\n",
        "       0., 0., 0., 0., 0., 0., 0., 0., 0., 0., 0., 0., 0., 1., 1., 1., 0.,\n",
        "       0., 0., 0., 0., 0., 0., 0., 0., 0., 0., 0., 0., 0., 0., 0., 0., 0.,\n",
        "       1., 1., 0., 0., 0., 0., 0., 0., 0., 0., 0., 0., 0., 0., 0., 0., 0.,\n",
        "       0., 0., 0., 0., 0., 0., 0., 0., 0., 0., 0., 0., 0., 0., 0., 0., 0.,\n",
        "       0., 1., 0., 0., 0., 0., 0., 0., 0., 0., 0., 0., 0., 0., 0., 0., 0.,\n",
        "       0., 0., 0., 0., 0., 0., 0., 0., 0., 0., 0., 0., 0., 0., 0.])"
      ],
      "execution_count": null,
      "outputs": []
    },
    {
      "cell_type": "code",
      "metadata": {
        "id": "OSxxiKlUTS12"
      },
      "source": [
        "test_array_4 = np.array([[0., 0., 0., 0., 0., 0., 0., 0., 0., 0., 0., 0., 0., 0., 0., 0.,\n",
        "        0., 0., 0., 0., 0., 0., 0., 0.],\n",
        "       [0., 0., 0., 0., 1., 1., 1., 1., 1., 0., 0., 0., 0., 0., 0., 0.,\n",
        "        0., 0., 0., 0., 0., 0., 0., 0.],\n",
        "       [0., 0., 0., 0., 0., 0., 0., 0., 0., 0., 0., 0., 0., 0., 0., 0.,\n",
        "        0., 0., 0., 0., 0., 0., 0., 0.],\n",
        "       [0., 0., 0., 0., 0., 0., 0., 0., 0., 0., 0., 0., 0., 0., 0., 0.,\n",
        "        0., 0., 0., 0., 0., 0., 0., 0.],\n",
        "       [0., 0., 0., 0., 0., 0., 0., 0., 0., 0., 0., 0., 0., 0., 0., 0.,\n",
        "        0., 0., 0., 0., 0., 0., 0., 0.],\n",
        "       [0., 0., 0., 0., 0., 0., 0., 0., 0., 0., 0., 0., 0., 0., 0., 0.,\n",
        "        0., 0., 0., 0., 0., 0., 0., 0.],\n",
        "       [0., 0., 0., 0., 0., 0., 0., 0., 0., 0., 0., 0., 0., 0., 0., 0.,\n",
        "        0., 0., 0., 0., 0., 0., 0., 0.]])#"
      ],
      "execution_count": null,
      "outputs": []
    },
    {
      "cell_type": "code",
      "metadata": {
        "id": "sQ8s4RvKDIO_"
      },
      "source": [
        "test_array_5 = np.array([[0., 0., 0., 0., 0., 0., 0., 0., 0., 0., 0., 0., 0., 0., 0., 0.,\n",
        "        0., 0., 0., 0., 0., 0., 0., 0.],\n",
        "       [0., 0., 0., 0., 0., 0., 0., 0., 0., 0., 0., 0., 0., 0., 0., 0.,\n",
        "        0., 0., 0., 0., 0., 0., 0., 0.],\n",
        "       [0., 0., 0., 0., 0., 0., 0., 0., 0., 0., 0., 0., 0., 0., 0., 0.,\n",
        "        0., 1., 0., 0., 1., 0., 1., 0.],\n",
        "       [0., 0., 0., 0., 0., 0., 0., 0., 0., 0., 0., 0., 0., 0., 0., 0.,\n",
        "        0., 0., 0., 0., 0., 0., 0., 0.],\n",
        "       [0., 0., 0., 0., 0., 0., 0., 0., 0., 0., 0., 0., 0., 0., 0., 0.,\n",
        "        0., 0., 0., 0., 0., 0., 0., 0.],\n",
        "       [0., 0., 0., 0., 0., 0., 0., 0., 0., 0., 0., 0., 0., 0., 0., 0.,\n",
        "        0., 0., 0., 0., 0., 0., 0., 0.],\n",
        "       [0., 0., 0., 0., 0., 0., 0., 0., 0., 0., 0., 0., 0., 0., 0., 0.,\n",
        "        0., 0., 0., 0., 0., 0., 0., 0.]])"
      ],
      "execution_count": null,
      "outputs": []
    },
    {
      "cell_type": "code",
      "metadata": {
        "id": "YneFOPUUiWnA"
      },
      "source": [
        "test_array_6 = np.array([[0., 0., 0., 0., 0., 0., 0., 0., 0., 0., 0., 0., 0., 0., 0., 0.,\n",
        "        0., 0., 0., 0., 0., 0., 0., 0.],\n",
        "       [0., 0., 0., 0., 0., 1., 0., 0., 1., 0., 1., 1., 0., 1., 0., 0.,\n",
        "        0., 1., 1., 0., 1., 0., 0., 0.],\n",
        "       [0., 0., 0., 1., 0., 1., 0., 0., 0., 1., 0., 1., 0., 1., 0., 1.,\n",
        "        0., 1., 0., 0., 1., 0., 1., 0.],\n",
        "       [0., 0., 0., 1., 0., 1., 0., 0., 0., 1., 0., 1., 0., 1., 0., 1.,\n",
        "        0., 1., 0., 0., 1., 0., 1., 0.],\n",
        "       [0., 0., 0., 1., 0., 1., 0., 0., 0., 1., 0., 1., 0., 1., 0., 1.,\n",
        "        0., 1., 0., 0., 1., 0., 1., 0.],\n",
        "       [0., 0., 0., 1., 0., 1., 0., 0., 0., 1., 0., 1., 0., 1., 0., 1.,\n",
        "        0., 1., 0., 0., 1., 0., 1., 0.],\n",
        "       [0., 0., 0., 0., 0., 0., 0., 0., 0., 0., 0., 0., 0., 0., 0., 0.,\n",
        "        0., 0., 0., 0., 0., 0., 0., 0.]])"
      ],
      "execution_count": null,
      "outputs": []
    },
    {
      "cell_type": "code",
      "metadata": {
        "id": "e0ZgUS8KiW_S"
      },
      "source": [
        "test_array_7 = np.array([[0., 0., 0., 0., 0., 0., 0., 0., 0., 0., 0., 0., 0., 0., 0., 0.,\n",
        "        0., 0., 0., 0., 0., 0., 0., 0.],\n",
        "       [0., 0., 0., 1., 1., 0., 1., 1., 1., 1., 0., 1., 0., 1., 1., 0.,\n",
        "        0., 1., 1., 0., 0., 0., 0., 0.],\n",
        "       [0., 0., 0., 1., 1., 1., 0., 1., 1., 0., 1., 1., 0., 1., 0., 0.,\n",
        "        0., 1., 1., 1., 1., 0., 1., 0.],\n",
        "       [0., 0., 0., 0., 0., 0., 0., 0., 0., 0., 0., 0., 0., 0., 0., 0.,\n",
        "        0., 0., 0., 0., 0., 0., 0., 0.],\n",
        "       [0., 0., 0., 1., 1., 1., 0., 1., 1., 0., 1., 1., 0., 1., 0., 0.,\n",
        "        0., 1., 1., 1., 1., 0., 1., 0.],\n",
        "       [0., 0., 0., 0., 0., 0., 0., 0., 0., 0., 0., 0., 0., 0., 0., 0.,\n",
        "        1., 1., 1., 1., 1., 1., 0., 0.],\n",
        "       [0., 0., 0., 0., 0., 0., 0., 0., 0., 0., 0., 0., 0., 0., 0., 0.,\n",
        "        0., 0., 0., 0., 0., 0., 0., 0.]])"
      ],
      "execution_count": null,
      "outputs": []
    },
    {
      "cell_type": "code",
      "metadata": {
        "id": "72LVPrbsQkOM"
      },
      "source": [
        "def predict_preference(in_model, in_array, lookup, print_on):\n",
        "\n",
        "  test_sample = torch.FloatTensor(in_array.tolist())\n",
        "  in_model.eval()\n",
        "  with torch.no_grad():\n",
        "    test_var = Variable(test_sample)\n",
        "    test_var = test_var.unsqueeze(0)\n",
        "\n",
        "    net_out = in_model(test_var.unsqueeze(0))\n",
        "    test_pred = torch.max(net_out.data, 1)[1].numpy()\n",
        "    predicted_label = test_pred.item()\n",
        "    if print_on:\n",
        "      lookup_row = lookup[lookup['lbl_concat'] == predicted_label]\n",
        "      w = lookup_row['Week'].item()\n",
        "      d = lookup_row['Day'].item()\n",
        "      b = lookup_row['b2b'].item()\n",
        "\n",
        "      print(100*'-')\n",
        "      print('Predictions:')\n",
        "      print(100*'-')\n",
        "      print()\n",
        "      print('Predicted Label:',predicted_label)\n",
        "      print('Time of week preference:', w)\n",
        "      print('Time of day preference:', d)\n",
        "      print('Back to back meetings (True/False):', b)\n",
        "      print()\n",
        "      print(100*'-')\n",
        "      print()\n",
        "      print(100*'-')\n",
        "      plt.imshow(in_array)\n",
        "      plt.yticks(ticks = list(range(7)), labels = ['Sunday', 'Monday', 'Tuesday', 'Wednesday', 'Thursday', 'Friday', 'Saturday'])\n",
        "      plt.xticks(ticks = list(range(24)),labels =  list(range(24)))\n",
        "      plt.xlabel('Timeslot')\n",
        "      plt.ylabel('Week Index')\n",
        "    return test_pred.item()"
      ],
      "execution_count": null,
      "outputs": []
    },
    {
      "cell_type": "code",
      "metadata": {
        "colab": {
          "base_uri": "https://localhost:8080/",
          "height": 362
        },
        "id": "_uLRe_5DmTRQ",
        "outputId": "ab78d7da-928f-4cdc-fb1b-3d40cd14a751"
      },
      "source": [
        "predicted_label = predict_preference(model, test_array_2, df_lookup, True)\n",
        "# plt.savefig(\"gdrive/My Drive/Preferences/0.png\")\n",
        "# plt.show()"
      ],
      "execution_count": null,
      "outputs": [
        {
          "output_type": "stream",
          "text": [
            "----------------------------------------------------------------------------------------------------\n",
            "Predictions:\n",
            "----------------------------------------------------------------------------------------------------\n",
            "\n",
            "Predicted Label: 0\n",
            "Time of week preference: early\n",
            "Time of day preference: early\n",
            "Back to back meetings (True/False): True\n",
            "\n",
            "----------------------------------------------------------------------------------------------------\n",
            "\n",
            "----------------------------------------------------------------------------------------------------\n"
          ],
          "name": "stdout"
        },
        {
          "output_type": "display_data",
          "data": {
            "image/png": "[encoded data removed]",
            "text/plain": [
              "<Figure size 432x288 with 1 Axes>"
            ]
          },
          "metadata": {
            "needs_background": "light"
          }
        }
      ]
    },
    {
      "cell_type": "code",
      "metadata": {
        "colab": {
          "base_uri": "https://localhost:8080/",
          "height": 362
        },
        "id": "a6d9zoB-Ceca",
        "outputId": "e62db561-2190-4bb4-bdb6-9bf837a2a3a6"
      },
      "source": [
        "predicted_label = predict_preference(model, test_array_1, df_lookup, True)\n",
        "# plt.savefig(\"gdrive/My Drive/Preferences/3.png\")\n",
        "plt.show()"
      ],
      "execution_count": null,
      "outputs": [
        {
          "output_type": "stream",
          "text": [
            "----------------------------------------------------------------------------------------------------\n",
            "Predictions:\n",
            "----------------------------------------------------------------------------------------------------\n",
            "\n",
            "Predicted Label: 3\n",
            "Time of week preference: early\n",
            "Time of day preference: late\n",
            "Back to back meetings (True/False): False\n",
            "\n",
            "----------------------------------------------------------------------------------------------------\n",
            "\n",
            "----------------------------------------------------------------------------------------------------\n"
          ],
          "name": "stdout"
        },
        {
          "output_type": "display_data",
          "data": {
            "image/png": "[encoded data removed]",
            "text/plain": [
              "<Figure size 432x288 with 1 Axes>"
            ]
          },
          "metadata": {
            "needs_background": "light"
          }
        }
      ]
    },
    {
      "cell_type": "code",
      "metadata": {
        "colab": {
          "base_uri": "https://localhost:8080/",
          "height": 362
        },
        "id": "SARZWDYRCsT0",
        "outputId": "b413493a-bf70-4dfb-f311-7e747b210b6d"
      },
      "source": [
        "predicted_label = predict_preference(model, test_array_4, df_lookup, True)\n",
        "# plt.savefig(\"gdrive/My Drive/Preferences/4.png\")\n",
        "plt.show()"
      ],
      "execution_count": null,
      "outputs": [
        {
          "output_type": "stream",
          "text": [
            "----------------------------------------------------------------------------------------------------\n",
            "Predictions:\n",
            "----------------------------------------------------------------------------------------------------\n",
            "\n",
            "Predicted Label: 4\n",
            "Time of week preference: early\n",
            "Time of day preference: None\n",
            "Back to back meetings (True/False): True\n",
            "\n",
            "----------------------------------------------------------------------------------------------------\n",
            "\n",
            "----------------------------------------------------------------------------------------------------\n"
          ],
          "name": "stdout"
        },
        {
          "output_type": "display_data",
          "data": {
            "image/png": "[encoded data removed]",
            "text/plain": [
              "<Figure size 432x288 with 1 Axes>"
            ]
          },
          "metadata": {
            "needs_background": "light"
          }
        }
      ]
    },
    {
      "cell_type": "code",
      "metadata": {
        "colab": {
          "base_uri": "https://localhost:8080/",
          "height": 362
        },
        "id": "EUTcFMxcBMrn",
        "outputId": "a382b2ca-ce8c-4295-bcfd-90c547145049"
      },
      "source": [
        "predicted_label = predict_preference(model, test_array_5, df_lookup, True)\n",
        "# plt.savefig(\"gdrive/My Drive/Preferences/5.png\")\n",
        "plt.show()"
      ],
      "execution_count": null,
      "outputs": [
        {
          "output_type": "stream",
          "text": [
            "----------------------------------------------------------------------------------------------------\n",
            "Predictions:\n",
            "----------------------------------------------------------------------------------------------------\n",
            "\n",
            "Predicted Label: 2\n",
            "Time of week preference: early\n",
            "Time of day preference: late\n",
            "Back to back meetings (True/False): True\n",
            "\n",
            "----------------------------------------------------------------------------------------------------\n",
            "\n",
            "----------------------------------------------------------------------------------------------------\n"
          ],
          "name": "stdout"
        },
        {
          "output_type": "display_data",
          "data": {
            "image/png": "[encoded data removed]",
            "text/plain": [
              "<Figure size 432x288 with 1 Axes>"
            ]
          },
          "metadata": {
            "needs_background": "light"
          }
        }
      ]
    },
    {
      "cell_type": "code",
      "metadata": {
        "colab": {
          "base_uri": "https://localhost:8080/",
          "height": 362
        },
        "id": "tTnmFdmpiTdp",
        "outputId": "7dc1fa2f-aa27-401d-e132-6c5677c9186a"
      },
      "source": [
        "predicted_label = predict_preference(model, test_array_6, df_lookup, True)"
      ],
      "execution_count": null,
      "outputs": [
        {
          "output_type": "stream",
          "text": [
            "----------------------------------------------------------------------------------------------------\n",
            "Predictions:\n",
            "----------------------------------------------------------------------------------------------------\n",
            "\n",
            "Predicted Label: 17\n",
            "Time of week preference: None\n",
            "Time of day preference: None\n",
            "Back to back meetings (True/False): False\n",
            "\n",
            "----------------------------------------------------------------------------------------------------\n",
            "\n",
            "----------------------------------------------------------------------------------------------------\n"
          ],
          "name": "stdout"
        },
        {
          "output_type": "display_data",
          "data": {
            "image/png": "[encoded data removed]",
            "text/plain": [
              "<Figure size 432x288 with 1 Axes>"
            ]
          },
          "metadata": {
            "needs_background": "light"
          }
        }
      ]
    },
    {
      "cell_type": "code",
      "metadata": {
        "colab": {
          "base_uri": "https://localhost:8080/",
          "height": 362
        },
        "id": "q3WJSZrdix5b",
        "outputId": "a7d43b5d-0150-47be-9346-6e28742c1312"
      },
      "source": [
        "predicted_label = predict_preference(model, test_array_7, df_lookup, True)"
      ],
      "execution_count": null,
      "outputs": [
        {
          "output_type": "stream",
          "text": [
            "----------------------------------------------------------------------------------------------------\n",
            "Predictions:\n",
            "----------------------------------------------------------------------------------------------------\n",
            "\n",
            "Predicted Label: 16\n",
            "Time of week preference: None\n",
            "Time of day preference: None\n",
            "Back to back meetings (True/False): True\n",
            "\n",
            "----------------------------------------------------------------------------------------------------\n",
            "\n",
            "----------------------------------------------------------------------------------------------------\n"
          ],
          "name": "stdout"
        },
        {
          "output_type": "display_data",
          "data": {
            "image/png": "[encoded data removed]",
            "text/plain": [
              "<Figure size 432x288 with 1 Axes>"
            ]
          },
          "metadata": {
            "needs_background": "light"
          }
        }
      ]
    },
    {
      "cell_type": "code",
      "metadata": {
        "id": "3wzoEhwODyM8"
      },
      "source": [
        "#print(df_lookup.to_latex())"
      ],
      "execution_count": null,
      "outputs": []
    }
  ]
}