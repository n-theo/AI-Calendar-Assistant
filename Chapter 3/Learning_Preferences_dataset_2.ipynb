{
  "nbformat": 4,
  "nbformat_minor": 0,
  "metadata": {
    "colab": {
      "name": "Learning_Preferences_dataset_2.ipynb",
      "provenance": [],
      "collapsed_sections": []
    },
    "kernelspec": {
      "name": "python3",
      "display_name": "Python 3"
    },
    "language_info": {
      "name": "python"
    }
  },
  "cells": [
    {
      "cell_type": "code",
      "metadata": {
        "id": "KzlkBitLI37V"
      },
      "source": [
        "import pandas as pd\n",
        "from sklearn.model_selection import train_test_split\n",
        "import matplotlib.pyplot as plt\n",
        "import ast\n",
        "import numpy as np\n"
      ],
      "execution_count": null,
      "outputs": []
    },
    {
      "cell_type": "code",
      "metadata": {
        "id": "NikoqxoS2Oet"
      },
      "source": [
        "import torch\n",
        "import torch.nn as nn\n",
        "import torch.nn.functional as F\n",
        "import torch.optim as optim\n",
        "from torch.autograd import Variable\n",
        "\n",
        "import pandas as pd\n",
        "import matplotlib.pyplot as plt\n",
        "import seaborn as sns\n",
        "%matplotlib inline"
      ],
      "execution_count": null,
      "outputs": []
    },
    {
      "cell_type": "code",
      "metadata": {
        "id": "QCoW8qtWUW13"
      },
      "source": [
        "from sklearn.metrics import f1_score\n",
        "from sklearn.metrics import confusion_matrix \n",
        "from sklearn.metrics import accuracy_score \n",
        "from sklearn.metrics import classification_report \n",
        "from sklearn.metrics import cohen_kappa_score"
      ],
      "execution_count": null,
      "outputs": []
    },
    {
      "cell_type": "code",
      "metadata": {
        "id": "ELWKHjnwdeLa"
      },
      "source": [
        "def from_np_array(array_string):\n",
        "    array_string = ','.join(array_string.replace('[ ', '[').split())\n",
        "    return np.array(ast.literal_eval(array_string))"
      ],
      "execution_count": null,
      "outputs": []
    },
    {
      "cell_type": "code",
      "metadata": {
        "colab": {
          "base_uri": "https://localhost:8080/"
        },
        "id": "nJglGQlWINvZ",
        "outputId": "1fff64cd-3db6-417e-d326-43cc614df1dc"
      },
      "source": [
        "from google.colab import drive\n",
        "\n",
        "drive.mount('/content/gdrive')\n",
        "file_path = 'gdrive/My Drive/Preferences/data_500_2.csv' #second dataset has more randomness"
      ],
      "execution_count": null,
      "outputs": [
        {
          "output_type": "stream",
          "text": [
            "Mounted at /content/gdrive\n"
          ],
          "name": "stdout"
        }
      ]
    },
    {
      "cell_type": "code",
      "metadata": {
        "id": "-XRe_dwmIh4u"
      },
      "source": [
        "#df = pd.read_csv(file_path)\n",
        "df = pd.read_csv(file_path, converters={'Calendar': from_np_array})"
      ],
      "execution_count": null,
      "outputs": []
    },
    {
      "cell_type": "code",
      "metadata": {
        "id": "MyEI0WOrJoUj"
      },
      "source": [
        "df = df.drop(columns=['Unnamed: 0'])"
      ],
      "execution_count": null,
      "outputs": []
    },
    {
      "cell_type": "code",
      "metadata": {
        "id": "3KUsvqQPKDJu"
      },
      "source": [
        "def convert(array):\n",
        "  out = []\n",
        "  for list in array:\n",
        "    # Converting integer list to string list\n",
        "    s = [str(int(i)) for i in list]\n",
        "    # Join list items using join()\n",
        "    res = \"\".join(s)\n",
        "    out.append(res)\n",
        "\n",
        "      \n",
        "  return(out)"
      ],
      "execution_count": null,
      "outputs": []
    },
    {
      "cell_type": "code",
      "metadata": {
        "id": "Ma8G1FdmeHDE"
      },
      "source": [
        "df['string'] =  df.apply(lambda x: str(x['Calendar']), axis=1)\n",
        "df['lbl_concat'] =  df.apply(lambda x: x['lbl_concat']-1, axis=1)\n",
        "df['cal_flat'] =  df.apply(lambda x: x['Calendar'].flatten(), axis=1)"
      ],
      "execution_count": null,
      "outputs": []
    },
    {
      "cell_type": "code",
      "metadata": {
        "id": "dSsHaJImgUX4"
      },
      "source": [
        "columns = ['Week','Day','b2b','lbl_concat']\n",
        "df_copy = df.copy()\n",
        "df_lookup = df_copy[columns].head(18)"
      ],
      "execution_count": null,
      "outputs": []
    },
    {
      "cell_type": "code",
      "metadata": {
        "id": "Uvlprhqm33m_"
      },
      "source": [
        "df_lookup = df_lookup.replace(np.nan, 'None')\n"
      ],
      "execution_count": null,
      "outputs": []
    },
    {
      "cell_type": "code",
      "metadata": {
        "colab": {
          "base_uri": "https://localhost:8080/",
          "height": 603
        },
        "id": "tG1Tx5R3BbBt",
        "outputId": "b2a6b3d1-c6e8-4597-963a-9bc8e0ec90b7"
      },
      "source": [
        "df_lookup"
      ],
      "execution_count": null,
      "outputs": [
        {
          "output_type": "execute_result",
          "data": {
            "text/html": [
              "<div>\n",
              "<style scoped>\n",
              "    .dataframe tbody tr th:only-of-type {\n",
              "        vertical-align: middle;\n",
              "    }\n",
              "\n",
              "    .dataframe tbody tr th {\n",
              "        vertical-align: top;\n",
              "    }\n",
              "\n",
              "    .dataframe thead th {\n",
              "        text-align: right;\n",
              "    }\n",
              "</style>\n",
              "<table border=\"1\" class=\"dataframe\">\n",
              "  <thead>\n",
              "    <tr style=\"text-align: right;\">\n",
              "      <th></th>\n",
              "      <th>Week</th>\n",
              "      <th>Day</th>\n",
              "      <th>b2b</th>\n",
              "      <th>lbl_concat</th>\n",
              "    </tr>\n",
              "  </thead>\n",
              "  <tbody>\n",
              "    <tr>\n",
              "      <th>0</th>\n",
              "      <td>early</td>\n",
              "      <td>early</td>\n",
              "      <td>True</td>\n",
              "      <td>0</td>\n",
              "    </tr>\n",
              "    <tr>\n",
              "      <th>1</th>\n",
              "      <td>early</td>\n",
              "      <td>early</td>\n",
              "      <td>False</td>\n",
              "      <td>1</td>\n",
              "    </tr>\n",
              "    <tr>\n",
              "      <th>2</th>\n",
              "      <td>early</td>\n",
              "      <td>late</td>\n",
              "      <td>True</td>\n",
              "      <td>2</td>\n",
              "    </tr>\n",
              "    <tr>\n",
              "      <th>3</th>\n",
              "      <td>early</td>\n",
              "      <td>late</td>\n",
              "      <td>False</td>\n",
              "      <td>3</td>\n",
              "    </tr>\n",
              "    <tr>\n",
              "      <th>4</th>\n",
              "      <td>early</td>\n",
              "      <td>None</td>\n",
              "      <td>True</td>\n",
              "      <td>4</td>\n",
              "    </tr>\n",
              "    <tr>\n",
              "      <th>5</th>\n",
              "      <td>early</td>\n",
              "      <td>None</td>\n",
              "      <td>False</td>\n",
              "      <td>5</td>\n",
              "    </tr>\n",
              "    <tr>\n",
              "      <th>6</th>\n",
              "      <td>late</td>\n",
              "      <td>early</td>\n",
              "      <td>True</td>\n",
              "      <td>6</td>\n",
              "    </tr>\n",
              "    <tr>\n",
              "      <th>7</th>\n",
              "      <td>late</td>\n",
              "      <td>early</td>\n",
              "      <td>False</td>\n",
              "      <td>7</td>\n",
              "    </tr>\n",
              "    <tr>\n",
              "      <th>8</th>\n",
              "      <td>late</td>\n",
              "      <td>late</td>\n",
              "      <td>True</td>\n",
              "      <td>8</td>\n",
              "    </tr>\n",
              "    <tr>\n",
              "      <th>9</th>\n",
              "      <td>late</td>\n",
              "      <td>late</td>\n",
              "      <td>False</td>\n",
              "      <td>9</td>\n",
              "    </tr>\n",
              "    <tr>\n",
              "      <th>10</th>\n",
              "      <td>late</td>\n",
              "      <td>None</td>\n",
              "      <td>True</td>\n",
              "      <td>10</td>\n",
              "    </tr>\n",
              "    <tr>\n",
              "      <th>11</th>\n",
              "      <td>late</td>\n",
              "      <td>None</td>\n",
              "      <td>False</td>\n",
              "      <td>11</td>\n",
              "    </tr>\n",
              "    <tr>\n",
              "      <th>12</th>\n",
              "      <td>None</td>\n",
              "      <td>early</td>\n",
              "      <td>True</td>\n",
              "      <td>12</td>\n",
              "    </tr>\n",
              "    <tr>\n",
              "      <th>13</th>\n",
              "      <td>None</td>\n",
              "      <td>early</td>\n",
              "      <td>False</td>\n",
              "      <td>13</td>\n",
              "    </tr>\n",
              "    <tr>\n",
              "      <th>14</th>\n",
              "      <td>None</td>\n",
              "      <td>late</td>\n",
              "      <td>True</td>\n",
              "      <td>14</td>\n",
              "    </tr>\n",
              "    <tr>\n",
              "      <th>15</th>\n",
              "      <td>None</td>\n",
              "      <td>late</td>\n",
              "      <td>False</td>\n",
              "      <td>15</td>\n",
              "    </tr>\n",
              "    <tr>\n",
              "      <th>16</th>\n",
              "      <td>None</td>\n",
              "      <td>None</td>\n",
              "      <td>True</td>\n",
              "      <td>16</td>\n",
              "    </tr>\n",
              "    <tr>\n",
              "      <th>17</th>\n",
              "      <td>None</td>\n",
              "      <td>None</td>\n",
              "      <td>False</td>\n",
              "      <td>17</td>\n",
              "    </tr>\n",
              "  </tbody>\n",
              "</table>\n",
              "</div>"
            ],
            "text/plain": [
              "     Week    Day    b2b  lbl_concat\n",
              "0   early  early   True           0\n",
              "1   early  early  False           1\n",
              "2   early   late   True           2\n",
              "3   early   late  False           3\n",
              "4   early   None   True           4\n",
              "5   early   None  False           5\n",
              "6    late  early   True           6\n",
              "7    late  early  False           7\n",
              "8    late   late   True           8\n",
              "9    late   late  False           9\n",
              "10   late   None   True          10\n",
              "11   late   None  False          11\n",
              "12   None  early   True          12\n",
              "13   None  early  False          13\n",
              "14   None   late   True          14\n",
              "15   None   late  False          15\n",
              "16   None   None   True          16\n",
              "17   None   None  False          17"
            ]
          },
          "metadata": {},
          "execution_count": 12
        }
      ]
    },
    {
      "cell_type": "code",
      "metadata": {
        "id": "A5vQtblIyEni"
      },
      "source": [
        "# df_lookup.to_csv('lookup.csv')\n",
        "# !cp lookup.csv \"gdrive/My Drive/Preferences\""
      ],
      "execution_count": null,
      "outputs": []
    },
    {
      "cell_type": "code",
      "metadata": {
        "colab": {
          "base_uri": "https://localhost:8080/"
        },
        "id": "PcZImDORzZLz",
        "outputId": "dff044fa-a496-4e5b-de57-5b5fb4ee668c"
      },
      "source": [
        "print('Sum of duplicates:')\n",
        "print(df.string.duplicated().sum())"
      ],
      "execution_count": null,
      "outputs": [
        {
          "output_type": "stream",
          "text": [
            "Sum of duplicates:\n",
            "0\n"
          ],
          "name": "stdout"
        }
      ]
    },
    {
      "cell_type": "code",
      "metadata": {
        "id": "TpTlR19y22CQ"
      },
      "source": [
        "df = df.drop_duplicates(subset=['string'])"
      ],
      "execution_count": null,
      "outputs": []
    },
    {
      "cell_type": "code",
      "metadata": {
        "colab": {
          "base_uri": "https://localhost:8080/"
        },
        "id": "DrqVruhp28nL",
        "outputId": "877e1385-94d1-4a85-8d2e-be5c0553c9e2"
      },
      "source": [
        "df.string.duplicated().sum()"
      ],
      "execution_count": null,
      "outputs": [
        {
          "output_type": "execute_result",
          "data": {
            "text/plain": [
              "0"
            ]
          },
          "metadata": {},
          "execution_count": 16
        }
      ]
    },
    {
      "cell_type": "code",
      "metadata": {
        "id": "dNGfVcS_5IVS"
      },
      "source": [
        "counts = []\n",
        "for i in range(18):\n",
        "  counts.append(df[df['lbl_concat']==i+1]['Calendar'].count())"
      ],
      "execution_count": null,
      "outputs": []
    },
    {
      "cell_type": "code",
      "metadata": {
        "id": "FVsyJPY76shP"
      },
      "source": [
        "#shuffle dataset\n",
        "df = df.sample(frac=1)"
      ],
      "execution_count": null,
      "outputs": []
    },
    {
      "cell_type": "code",
      "metadata": {
        "id": "e24yLZYZURyC"
      },
      "source": [
        " df['String_cal'] = df.apply(lambda x: convert(x['Calendar']), axis=1)"
      ],
      "execution_count": null,
      "outputs": []
    },
    {
      "cell_type": "code",
      "metadata": {
        "id": "vLvVTq0P7yKR"
      },
      "source": [
        "train_df, test_df = train_test_split(df, test_size=0.1)"
      ],
      "execution_count": null,
      "outputs": []
    },
    {
      "cell_type": "code",
      "metadata": {
        "id": "VJvvJ85k70xD"
      },
      "source": [
        "counts_train = []\n",
        "counts_test = []\n",
        "for i in range(18):\n",
        "  counts_train.append(train_df[train_df['lbl_concat']==i+1]['Calendar'].count())\n",
        "  counts_test.append(test_df[test_df['lbl_concat']==i+1]['Calendar'].count())\n"
      ],
      "execution_count": null,
      "outputs": []
    },
    {
      "cell_type": "code",
      "metadata": {
        "colab": {
          "base_uri": "https://localhost:8080/",
          "height": 285
        },
        "id": "CwxK5H3f9ZGG",
        "outputId": "4419125b-0dcb-448c-b319-5c8023ccdbf9"
      },
      "source": [
        "df['lbl_concat'].value_counts().plot(kind='bar')\n"
      ],
      "execution_count": null,
      "outputs": [
        {
          "output_type": "execute_result",
          "data": {
            "text/plain": [
              "<matplotlib.axes._subplots.AxesSubplot at 0x7f0f07ba4750>"
            ]
          },
          "metadata": {},
          "execution_count": 22
        },
        {
          "output_type": "display_data",
          "data": {
            "image/png": "[encoded data removed]",
            "text/plain": [
              "<Figure size 432x288 with 1 Axes>"
            ]
          },
          "metadata": {
            "needs_background": "light"
          }
        }
      ]
    },
    {
      "cell_type": "code",
      "metadata": {
        "id": "agvRJmqaAP4Q",
        "colab": {
          "base_uri": "https://localhost:8080/",
          "height": 285
        },
        "outputId": "5260d952-fb7c-4b53-9a3e-844fc542949e"
      },
      "source": [
        "train_df['lbl_concat'].value_counts().plot(kind='bar')"
      ],
      "execution_count": null,
      "outputs": [
        {
          "output_type": "execute_result",
          "data": {
            "text/plain": [
              "<matplotlib.axes._subplots.AxesSubplot at 0x7f0f07ab5a50>"
            ]
          },
          "metadata": {},
          "execution_count": 23
        },
        {
          "output_type": "display_data",
          "data": {
            "image/png": "[encoded data removed]",
            "text/plain": [
              "<Figure size 432x288 with 1 Axes>"
            ]
          },
          "metadata": {
            "needs_background": "light"
          }
        }
      ]
    },
    {
      "cell_type": "code",
      "metadata": {
        "id": "UOthvgj0ATVx",
        "colab": {
          "base_uri": "https://localhost:8080/",
          "height": 285
        },
        "outputId": "4a6b945a-cbad-41b7-f04d-c2e82557a362"
      },
      "source": [
        "test_df['lbl_concat'].value_counts().plot(kind='bar')"
      ],
      "execution_count": null,
      "outputs": [
        {
          "output_type": "execute_result",
          "data": {
            "text/plain": [
              "<matplotlib.axes._subplots.AxesSubplot at 0x7f0f07ab5290>"
            ]
          },
          "metadata": {},
          "execution_count": 24
        },
        {
          "output_type": "display_data",
          "data": {
            "image/png": "[encoded data removed]",
            "text/plain": [
              "<Figure size 432x288 with 1 Axes>"
            ]
          },
          "metadata": {
            "needs_background": "light"
          }
        }
      ]
    },
    {
      "cell_type": "code",
      "metadata": {
        "id": "x_KhzF6bV1CK"
      },
      "source": [
        "df = df.drop(columns=['string'])"
      ],
      "execution_count": null,
      "outputs": []
    },
    {
      "cell_type": "code",
      "metadata": {
        "id": "bcqTSmfh0mC_"
      },
      "source": [
        "x_train = train_df['cal_flat']\n",
        "y_train = train_df['lbl_concat']\n",
        "\n",
        "x_test = test_df['cal_flat']\n",
        "y_test = test_df['lbl_concat']"
      ],
      "execution_count": null,
      "outputs": []
    },
    {
      "cell_type": "code",
      "metadata": {
        "id": "570tJQos1UQM"
      },
      "source": [
        "x_train_np = x_train.to_numpy()\n",
        "y_train_np = y_train.to_numpy()\n",
        "\n",
        "x_test_np = x_test.to_numpy()\n",
        "y_test_np = y_test.to_numpy()"
      ],
      "execution_count": null,
      "outputs": []
    },
    {
      "cell_type": "code",
      "metadata": {
        "id": "qCMZqzbQ12jH"
      },
      "source": [
        "xtrain = torch.FloatTensor(x_train_np.tolist())\n",
        "ytrain = torch.FloatTensor(y_train_np.tolist())\n",
        "\n",
        "xtest = torch.FloatTensor(x_test_np.tolist())\n",
        "ytest = torch.FloatTensor(y_test_np.tolist())"
      ],
      "execution_count": null,
      "outputs": []
    },
    {
      "cell_type": "code",
      "metadata": {
        "id": "_i9EWvrJ2anQ"
      },
      "source": [
        "# hyperparameters\n",
        "input_size = 168 #7x24\n",
        "output_size = 18 #0-17 (classes)\n",
        "hidden_size = 100\n",
        "\n",
        "epochs = 500\n",
        "batch_size = 32\n",
        "learning_rate = 0.001\n",
        "dropout_rate = 0.3"
      ],
      "execution_count": null,
      "outputs": []
    },
    {
      "cell_type": "code",
      "metadata": {
        "id": "f10J4GGg2kEz"
      },
      "source": [
        "#https://www.kaggle.com/justuser/mnist-with-pytorch-fully-connected-network\n",
        "class FCNN(nn.Module):\n",
        "    \n",
        "    def __init__(self):\n",
        "        super(FCNN, self).__init__()\n",
        "        self.fc1 = nn.Linear(input_size, hidden_size)\n",
        "        self.fc2 = nn.Linear(hidden_size, hidden_size//2)\n",
        "        self.fc3 = nn.Linear(hidden_size//2, hidden_size//4)\n",
        "        self.fc4 = nn.Linear(hidden_size//4, output_size)\n",
        "        self.relu = nn.ReLU()\n",
        "        self.dropout = nn.Dropout(dropout_rate)\n",
        "        \n",
        "        # self.dropout1 = nn.Dropout(0.2)\n",
        "        # self.dropout2 = nn.Dropout(0.8)\n",
        "\n",
        "        \n",
        "    def forward(self, x):\n",
        "        x = self.fc1(x)\n",
        "        x = self.relu(x)\n",
        "        x = self.dropout(x)\n",
        "        x = self.fc2(x)\n",
        "        x = self.relu(x)\n",
        "        x = self.dropout(x)\n",
        "        x = self.fc3(x)\n",
        "        x = self.relu(x)\n",
        "        x = self.dropout(x)\n",
        "        x = self.fc4(x)\n",
        "        return F.log_softmax(x, dim=1)"
      ],
      "execution_count": null,
      "outputs": []
    },
    {
      "cell_type": "code",
      "metadata": {
        "colab": {
          "base_uri": "https://localhost:8080/"
        },
        "id": "gODqRI522qTE",
        "outputId": "e9cd2d7d-9530-4d92-9ca2-e67a45e45bdb"
      },
      "source": [
        "model = FCNN()\n",
        "print(model)"
      ],
      "execution_count": null,
      "outputs": [
        {
          "output_type": "stream",
          "text": [
            "FCNN(\n",
            "  (fc1): Linear(in_features=168, out_features=100, bias=True)\n",
            "  (fc2): Linear(in_features=100, out_features=50, bias=True)\n",
            "  (fc3): Linear(in_features=50, out_features=25, bias=True)\n",
            "  (fc4): Linear(in_features=25, out_features=18, bias=True)\n",
            "  (relu): ReLU()\n",
            "  (dropout): Dropout(p=0.3, inplace=False)\n",
            ")\n"
          ],
          "name": "stdout"
        }
      ]
    },
    {
      "cell_type": "code",
      "metadata": {
        "id": "AATkKyeH2nQH"
      },
      "source": [
        "optimizer = optim.SGD(model.parameters(), lr=learning_rate, momentum=0.9)\n",
        "criterion = nn.CrossEntropyLoss()"
      ],
      "execution_count": null,
      "outputs": []
    },
    {
      "cell_type": "code",
      "metadata": {
        "colab": {
          "base_uri": "https://localhost:8080/"
        },
        "id": "SSDhQo-B28f5",
        "outputId": "a15dd8eb-38c7-4f71-d4fe-f0abc9838dd5"
      },
      "source": [
        "xtrain.shape\n",
        "y_train.shape"
      ],
      "execution_count": null,
      "outputs": [
        {
          "output_type": "execute_result",
          "data": {
            "text/plain": [
              "(8100,)"
            ]
          },
          "metadata": {},
          "execution_count": 33
        }
      ]
    },
    {
      "cell_type": "code",
      "metadata": {
        "id": "eaF8r4TCWKt1"
      },
      "source": [
        "def get_acc(y_pred, actual):\n",
        "  denom = y_pred.shape[0]\n",
        "  out = np.sum(y_pred == actual)/denom*100\n",
        "  return out"
      ],
      "execution_count": null,
      "outputs": []
    },
    {
      "cell_type": "code",
      "metadata": {
        "colab": {
          "base_uri": "https://localhost:8080/"
        },
        "id": "Vqxu6UIQZE42",
        "outputId": "79403c72-3c35-481b-cc88-824788a8fd83"
      },
      "source": [
        "loss_log = []\n",
        "train_acc = []\n",
        "\n",
        "loss_avg_lst = []\n",
        "acc_avg_lst = []\n",
        "add_every = 500\n",
        "\n",
        "#per epoch\n",
        "for epoch in range(epochs):\n",
        "  loss_total = 0\n",
        "  acc_total = 0\n",
        "  step = 0\n",
        "  #per item in batch:\n",
        "\n",
        "  for i in range(0, xtrain.shape[0], batch_size):\n",
        "\n",
        "    step+=1\n",
        "    x_batch = xtrain[i:i + batch_size] \n",
        "    y_batch = ytrain[i:i + batch_size] \n",
        "    x_var = Variable(x_batch)\n",
        "    y_var = Variable(y_batch).type(torch.LongTensor)\n",
        "    optimizer.zero_grad()\n",
        "    net_out = model(x_var)\n",
        "    y_pred = torch.max(net_out.data, 1)[1].numpy()\n",
        "    actual = y_batch.numpy()\n",
        "    accuracy = get_acc(y_pred, actual)\n",
        "    loss = criterion(net_out, y_var)\n",
        "\n",
        "    loss_total += loss.item()\n",
        "    acc_total += accuracy\n",
        "\n",
        "    loss.backward()\n",
        "    optimizer.step()\n",
        "\n",
        "    if i % add_every == 0:\n",
        "      loss_log.append(loss.item())\n",
        "      train_acc.append(accuracy)\n",
        "    \n",
        "\n",
        "  acc_avg = acc_total/step\n",
        "  loss_avg = loss_total/step\n",
        "\n",
        "  loss_avg_lst.append(loss_avg)\n",
        "  acc_avg_lst.append(acc_avg)\n",
        "\n",
        "\n",
        "\n",
        "  print('Epoch: {}/{} | Train Loss: {:.4f} | Train Acc: {:.2f} '.format(epoch, epochs, loss_avg, acc_avg))\n"
      ],
      "execution_count": null,
      "outputs": [
        {
          "output_type": "stream",
          "text": [
            "Epoch: 0/500 | Train Loss: 2.8940 | Train Acc: 5.81 \n",
            "Epoch: 1/500 | Train Loss: 2.8906 | Train Acc: 6.00 \n",
            "Epoch: 2/500 | Train Loss: 2.8866 | Train Acc: 6.85 \n",
            "Epoch: 3/500 | Train Loss: 2.8817 | Train Acc: 7.44 \n",
            "Epoch: 4/500 | Train Loss: 2.8743 | Train Acc: 8.61 \n",
            "Epoch: 5/500 | Train Loss: 2.8596 | Train Acc: 10.78 \n",
            "Epoch: 6/500 | Train Loss: 2.8309 | Train Acc: 12.07 \n",
            "Epoch: 7/500 | Train Loss: 2.7607 | Train Acc: 12.62 \n",
            "Epoch: 8/500 | Train Loss: 2.6268 | Train Acc: 12.14 \n",
            "Epoch: 9/500 | Train Loss: 2.4594 | Train Acc: 13.57 \n",
            "Epoch: 10/500 | Train Loss: 2.3381 | Train Acc: 14.09 \n",
            "Epoch: 11/500 | Train Loss: 2.2634 | Train Acc: 15.83 \n",
            "Epoch: 12/500 | Train Loss: 2.1865 | Train Acc: 17.86 \n",
            "Epoch: 13/500 | Train Loss: 2.1108 | Train Acc: 19.16 \n",
            "Epoch: 14/500 | Train Loss: 2.0303 | Train Acc: 22.40 \n",
            "Epoch: 15/500 | Train Loss: 1.9695 | Train Acc: 24.22 \n",
            "Epoch: 16/500 | Train Loss: 1.8737 | Train Acc: 28.01 \n",
            "Epoch: 17/500 | Train Loss: 1.7661 | Train Acc: 31.90 \n",
            "Epoch: 18/500 | Train Loss: 1.6488 | Train Acc: 37.16 \n",
            "Epoch: 19/500 | Train Loss: 1.5440 | Train Acc: 39.19 \n",
            "Epoch: 20/500 | Train Loss: 1.4790 | Train Acc: 41.99 \n",
            "Epoch: 21/500 | Train Loss: 1.4004 | Train Acc: 44.94 \n",
            "Epoch: 22/500 | Train Loss: 1.3545 | Train Acc: 46.68 \n",
            "Epoch: 23/500 | Train Loss: 1.2832 | Train Acc: 49.04 \n",
            "Epoch: 24/500 | Train Loss: 1.2645 | Train Acc: 49.48 \n",
            "Epoch: 25/500 | Train Loss: 1.2164 | Train Acc: 50.94 \n",
            "Epoch: 26/500 | Train Loss: 1.2044 | Train Acc: 51.80 \n",
            "Epoch: 27/500 | Train Loss: 1.1587 | Train Acc: 54.12 \n",
            "Epoch: 28/500 | Train Loss: 1.1319 | Train Acc: 54.49 \n",
            "Epoch: 29/500 | Train Loss: 1.0973 | Train Acc: 55.41 \n",
            "Epoch: 30/500 | Train Loss: 1.0922 | Train Acc: 55.92 \n",
            "Epoch: 31/500 | Train Loss: 1.0591 | Train Acc: 57.21 \n",
            "Epoch: 32/500 | Train Loss: 1.0519 | Train Acc: 57.87 \n",
            "Epoch: 33/500 | Train Loss: 1.0323 | Train Acc: 58.24 \n",
            "Epoch: 34/500 | Train Loss: 1.0171 | Train Acc: 59.19 \n",
            "Epoch: 35/500 | Train Loss: 1.0048 | Train Acc: 59.31 \n",
            "Epoch: 36/500 | Train Loss: 0.9817 | Train Acc: 59.63 \n",
            "Epoch: 37/500 | Train Loss: 0.9683 | Train Acc: 60.90 \n",
            "Epoch: 38/500 | Train Loss: 0.9406 | Train Acc: 61.45 \n",
            "Epoch: 39/500 | Train Loss: 0.9274 | Train Acc: 62.52 \n",
            "Epoch: 40/500 | Train Loss: 0.9223 | Train Acc: 62.68 \n",
            "Epoch: 41/500 | Train Loss: 0.8997 | Train Acc: 63.15 \n",
            "Epoch: 42/500 | Train Loss: 0.9023 | Train Acc: 63.82 \n",
            "Epoch: 43/500 | Train Loss: 0.8915 | Train Acc: 63.44 \n",
            "Epoch: 44/500 | Train Loss: 0.8884 | Train Acc: 63.87 \n",
            "Epoch: 45/500 | Train Loss: 0.8510 | Train Acc: 64.99 \n",
            "Epoch: 46/500 | Train Loss: 0.8451 | Train Acc: 64.68 \n",
            "Epoch: 47/500 | Train Loss: 0.8452 | Train Acc: 65.53 \n",
            "Epoch: 48/500 | Train Loss: 0.8370 | Train Acc: 65.60 \n",
            "Epoch: 49/500 | Train Loss: 0.8184 | Train Acc: 66.52 \n",
            "Epoch: 50/500 | Train Loss: 0.8203 | Train Acc: 66.65 \n",
            "Epoch: 51/500 | Train Loss: 0.8030 | Train Acc: 66.63 \n",
            "Epoch: 52/500 | Train Loss: 0.7988 | Train Acc: 67.58 \n",
            "Epoch: 53/500 | Train Loss: 0.7894 | Train Acc: 67.61 \n",
            "Epoch: 54/500 | Train Loss: 0.7823 | Train Acc: 67.70 \n",
            "Epoch: 55/500 | Train Loss: 0.7703 | Train Acc: 68.69 \n",
            "Epoch: 56/500 | Train Loss: 0.7721 | Train Acc: 67.97 \n",
            "Epoch: 57/500 | Train Loss: 0.7598 | Train Acc: 68.07 \n",
            "Epoch: 58/500 | Train Loss: 0.7529 | Train Acc: 68.98 \n",
            "Epoch: 59/500 | Train Loss: 0.7465 | Train Acc: 69.19 \n",
            "Epoch: 60/500 | Train Loss: 0.7414 | Train Acc: 69.73 \n",
            "Epoch: 61/500 | Train Loss: 0.7346 | Train Acc: 69.66 \n",
            "Epoch: 62/500 | Train Loss: 0.7420 | Train Acc: 69.49 \n",
            "Epoch: 63/500 | Train Loss: 0.7187 | Train Acc: 70.36 \n",
            "Epoch: 64/500 | Train Loss: 0.7271 | Train Acc: 70.15 \n",
            "Epoch: 65/500 | Train Loss: 0.7091 | Train Acc: 70.57 \n",
            "Epoch: 66/500 | Train Loss: 0.7124 | Train Acc: 70.99 \n",
            "Epoch: 67/500 | Train Loss: 0.7125 | Train Acc: 70.44 \n",
            "Epoch: 68/500 | Train Loss: 0.7139 | Train Acc: 70.95 \n",
            "Epoch: 69/500 | Train Loss: 0.6946 | Train Acc: 70.93 \n",
            "Epoch: 70/500 | Train Loss: 0.6956 | Train Acc: 70.82 \n",
            "Epoch: 71/500 | Train Loss: 0.6963 | Train Acc: 70.87 \n",
            "Epoch: 72/500 | Train Loss: 0.6717 | Train Acc: 71.58 \n",
            "Epoch: 73/500 | Train Loss: 0.6793 | Train Acc: 71.85 \n",
            "Epoch: 74/500 | Train Loss: 0.6905 | Train Acc: 71.54 \n",
            "Epoch: 75/500 | Train Loss: 0.6644 | Train Acc: 72.64 \n",
            "Epoch: 76/500 | Train Loss: 0.6765 | Train Acc: 72.10 \n",
            "Epoch: 77/500 | Train Loss: 0.6685 | Train Acc: 72.48 \n",
            "Epoch: 78/500 | Train Loss: 0.6537 | Train Acc: 72.90 \n",
            "Epoch: 79/500 | Train Loss: 0.6612 | Train Acc: 72.83 \n",
            "Epoch: 80/500 | Train Loss: 0.6495 | Train Acc: 72.72 \n",
            "Epoch: 81/500 | Train Loss: 0.6510 | Train Acc: 72.67 \n",
            "Epoch: 82/500 | Train Loss: 0.6518 | Train Acc: 72.69 \n",
            "Epoch: 83/500 | Train Loss: 0.6466 | Train Acc: 72.87 \n",
            "Epoch: 84/500 | Train Loss: 0.6450 | Train Acc: 72.23 \n",
            "Epoch: 85/500 | Train Loss: 0.6395 | Train Acc: 73.18 \n",
            "Epoch: 86/500 | Train Loss: 0.6338 | Train Acc: 73.60 \n",
            "Epoch: 87/500 | Train Loss: 0.6237 | Train Acc: 73.78 \n",
            "Epoch: 88/500 | Train Loss: 0.6337 | Train Acc: 74.21 \n",
            "Epoch: 89/500 | Train Loss: 0.6317 | Train Acc: 73.17 \n",
            "Epoch: 90/500 | Train Loss: 0.6238 | Train Acc: 73.54 \n",
            "Epoch: 91/500 | Train Loss: 0.6212 | Train Acc: 73.46 \n",
            "Epoch: 92/500 | Train Loss: 0.6233 | Train Acc: 73.51 \n",
            "Epoch: 93/500 | Train Loss: 0.6264 | Train Acc: 73.86 \n",
            "Epoch: 94/500 | Train Loss: 0.6217 | Train Acc: 74.08 \n",
            "Epoch: 95/500 | Train Loss: 0.6179 | Train Acc: 74.68 \n",
            "Epoch: 96/500 | Train Loss: 0.6145 | Train Acc: 73.76 \n",
            "Epoch: 97/500 | Train Loss: 0.5994 | Train Acc: 74.80 \n",
            "Epoch: 98/500 | Train Loss: 0.6081 | Train Acc: 74.27 \n",
            "Epoch: 99/500 | Train Loss: 0.6006 | Train Acc: 74.63 \n",
            "Epoch: 100/500 | Train Loss: 0.5841 | Train Acc: 75.57 \n",
            "Epoch: 101/500 | Train Loss: 0.5896 | Train Acc: 75.68 \n",
            "Epoch: 102/500 | Train Loss: 0.5958 | Train Acc: 74.61 \n",
            "Epoch: 103/500 | Train Loss: 0.5876 | Train Acc: 75.04 \n",
            "Epoch: 104/500 | Train Loss: 0.5942 | Train Acc: 75.46 \n",
            "Epoch: 105/500 | Train Loss: 0.5872 | Train Acc: 75.14 \n",
            "Epoch: 106/500 | Train Loss: 0.5803 | Train Acc: 75.92 \n",
            "Epoch: 107/500 | Train Loss: 0.5778 | Train Acc: 75.60 \n",
            "Epoch: 108/500 | Train Loss: 0.5828 | Train Acc: 75.58 \n",
            "Epoch: 109/500 | Train Loss: 0.5703 | Train Acc: 75.79 \n",
            "Epoch: 110/500 | Train Loss: 0.5639 | Train Acc: 75.66 \n",
            "Epoch: 111/500 | Train Loss: 0.5698 | Train Acc: 76.01 \n",
            "Epoch: 112/500 | Train Loss: 0.5614 | Train Acc: 76.86 \n",
            "Epoch: 113/500 | Train Loss: 0.5596 | Train Acc: 76.27 \n",
            "Epoch: 114/500 | Train Loss: 0.5584 | Train Acc: 76.76 \n",
            "Epoch: 115/500 | Train Loss: 0.5607 | Train Acc: 76.66 \n",
            "Epoch: 116/500 | Train Loss: 0.5484 | Train Acc: 76.43 \n",
            "Epoch: 117/500 | Train Loss: 0.5447 | Train Acc: 77.07 \n",
            "Epoch: 118/500 | Train Loss: 0.5618 | Train Acc: 76.57 \n",
            "Epoch: 119/500 | Train Loss: 0.5472 | Train Acc: 77.18 \n",
            "Epoch: 120/500 | Train Loss: 0.5466 | Train Acc: 77.04 \n",
            "Epoch: 121/500 | Train Loss: 0.5555 | Train Acc: 76.57 \n",
            "Epoch: 122/500 | Train Loss: 0.5569 | Train Acc: 76.34 \n",
            "Epoch: 123/500 | Train Loss: 0.5381 | Train Acc: 77.17 \n",
            "Epoch: 124/500 | Train Loss: 0.5470 | Train Acc: 77.04 \n",
            "Epoch: 125/500 | Train Loss: 0.5434 | Train Acc: 76.70 \n",
            "Epoch: 126/500 | Train Loss: 0.5460 | Train Acc: 76.76 \n",
            "Epoch: 127/500 | Train Loss: 0.5418 | Train Acc: 77.17 \n",
            "Epoch: 128/500 | Train Loss: 0.5249 | Train Acc: 77.68 \n",
            "Epoch: 129/500 | Train Loss: 0.5319 | Train Acc: 77.46 \n",
            "Epoch: 130/500 | Train Loss: 0.5244 | Train Acc: 77.92 \n",
            "Epoch: 131/500 | Train Loss: 0.5321 | Train Acc: 77.69 \n",
            "Epoch: 132/500 | Train Loss: 0.5207 | Train Acc: 78.09 \n",
            "Epoch: 133/500 | Train Loss: 0.5211 | Train Acc: 77.88 \n",
            "Epoch: 134/500 | Train Loss: 0.5219 | Train Acc: 77.99 \n",
            "Epoch: 135/500 | Train Loss: 0.5211 | Train Acc: 78.08 \n",
            "Epoch: 136/500 | Train Loss: 0.5136 | Train Acc: 78.44 \n",
            "Epoch: 137/500 | Train Loss: 0.5094 | Train Acc: 78.75 \n",
            "Epoch: 138/500 | Train Loss: 0.5079 | Train Acc: 78.64 \n",
            "Epoch: 139/500 | Train Loss: 0.5037 | Train Acc: 78.85 \n",
            "Epoch: 140/500 | Train Loss: 0.5046 | Train Acc: 78.57 \n",
            "Epoch: 141/500 | Train Loss: 0.5031 | Train Acc: 78.65 \n",
            "Epoch: 142/500 | Train Loss: 0.5083 | Train Acc: 78.76 \n",
            "Epoch: 143/500 | Train Loss: 0.5060 | Train Acc: 78.94 \n",
            "Epoch: 144/500 | Train Loss: 0.4941 | Train Acc: 79.34 \n",
            "Epoch: 145/500 | Train Loss: 0.4892 | Train Acc: 79.08 \n",
            "Epoch: 146/500 | Train Loss: 0.4943 | Train Acc: 79.18 \n",
            "Epoch: 147/500 | Train Loss: 0.4932 | Train Acc: 79.39 \n",
            "Epoch: 148/500 | Train Loss: 0.4891 | Train Acc: 79.45 \n",
            "Epoch: 149/500 | Train Loss: 0.4798 | Train Acc: 79.77 \n",
            "Epoch: 150/500 | Train Loss: 0.4858 | Train Acc: 79.61 \n",
            "Epoch: 151/500 | Train Loss: 0.4885 | Train Acc: 79.44 \n",
            "Epoch: 152/500 | Train Loss: 0.4807 | Train Acc: 79.47 \n",
            "Epoch: 153/500 | Train Loss: 0.4817 | Train Acc: 79.53 \n",
            "Epoch: 154/500 | Train Loss: 0.4728 | Train Acc: 79.93 \n",
            "Epoch: 155/500 | Train Loss: 0.4736 | Train Acc: 80.13 \n",
            "Epoch: 156/500 | Train Loss: 0.4711 | Train Acc: 79.97 \n",
            "Epoch: 157/500 | Train Loss: 0.4761 | Train Acc: 79.90 \n",
            "Epoch: 158/500 | Train Loss: 0.4782 | Train Acc: 80.24 \n",
            "Epoch: 159/500 | Train Loss: 0.4710 | Train Acc: 80.63 \n",
            "Epoch: 160/500 | Train Loss: 0.4632 | Train Acc: 80.47 \n",
            "Epoch: 161/500 | Train Loss: 0.4522 | Train Acc: 81.53 \n",
            "Epoch: 162/500 | Train Loss: 0.4622 | Train Acc: 80.35 \n",
            "Epoch: 163/500 | Train Loss: 0.4599 | Train Acc: 81.51 \n",
            "Epoch: 164/500 | Train Loss: 0.4553 | Train Acc: 81.08 \n",
            "Epoch: 165/500 | Train Loss: 0.4531 | Train Acc: 81.57 \n",
            "Epoch: 166/500 | Train Loss: 0.4538 | Train Acc: 81.24 \n",
            "Epoch: 167/500 | Train Loss: 0.4539 | Train Acc: 80.88 \n",
            "Epoch: 168/500 | Train Loss: 0.4528 | Train Acc: 80.94 \n",
            "Epoch: 169/500 | Train Loss: 0.4489 | Train Acc: 81.43 \n",
            "Epoch: 170/500 | Train Loss: 0.4445 | Train Acc: 81.78 \n",
            "Epoch: 171/500 | Train Loss: 0.4477 | Train Acc: 81.32 \n",
            "Epoch: 172/500 | Train Loss: 0.4416 | Train Acc: 81.99 \n",
            "Epoch: 173/500 | Train Loss: 0.4426 | Train Acc: 81.42 \n",
            "Epoch: 174/500 | Train Loss: 0.4307 | Train Acc: 82.52 \n",
            "Epoch: 175/500 | Train Loss: 0.4447 | Train Acc: 81.93 \n",
            "Epoch: 176/500 | Train Loss: 0.4292 | Train Acc: 82.37 \n",
            "Epoch: 177/500 | Train Loss: 0.4368 | Train Acc: 81.68 \n",
            "Epoch: 178/500 | Train Loss: 0.4279 | Train Acc: 82.12 \n",
            "Epoch: 179/500 | Train Loss: 0.4371 | Train Acc: 82.20 \n",
            "Epoch: 180/500 | Train Loss: 0.4312 | Train Acc: 82.62 \n",
            "Epoch: 181/500 | Train Loss: 0.4236 | Train Acc: 82.79 \n",
            "Epoch: 182/500 | Train Loss: 0.4339 | Train Acc: 82.52 \n",
            "Epoch: 183/500 | Train Loss: 0.4263 | Train Acc: 82.57 \n",
            "Epoch: 184/500 | Train Loss: 0.4242 | Train Acc: 82.98 \n",
            "Epoch: 185/500 | Train Loss: 0.4226 | Train Acc: 82.78 \n",
            "Epoch: 186/500 | Train Loss: 0.4213 | Train Acc: 83.05 \n",
            "Epoch: 187/500 | Train Loss: 0.4174 | Train Acc: 83.21 \n",
            "Epoch: 188/500 | Train Loss: 0.4178 | Train Acc: 83.12 \n",
            "Epoch: 189/500 | Train Loss: 0.4158 | Train Acc: 83.44 \n",
            "Epoch: 190/500 | Train Loss: 0.4134 | Train Acc: 83.37 \n",
            "Epoch: 191/500 | Train Loss: 0.4192 | Train Acc: 83.49 \n",
            "Epoch: 192/500 | Train Loss: 0.4016 | Train Acc: 84.18 \n",
            "Epoch: 193/500 | Train Loss: 0.3999 | Train Acc: 84.31 \n",
            "Epoch: 194/500 | Train Loss: 0.4096 | Train Acc: 84.02 \n",
            "Epoch: 195/500 | Train Loss: 0.4051 | Train Acc: 83.69 \n",
            "Epoch: 196/500 | Train Loss: 0.3970 | Train Acc: 84.31 \n",
            "Epoch: 197/500 | Train Loss: 0.3949 | Train Acc: 84.79 \n",
            "Epoch: 198/500 | Train Loss: 0.3912 | Train Acc: 85.09 \n",
            "Epoch: 199/500 | Train Loss: 0.3850 | Train Acc: 85.48 \n",
            "Epoch: 200/500 | Train Loss: 0.3955 | Train Acc: 84.60 \n",
            "Epoch: 201/500 | Train Loss: 0.3895 | Train Acc: 84.72 \n",
            "Epoch: 202/500 | Train Loss: 0.3768 | Train Acc: 85.68 \n",
            "Epoch: 203/500 | Train Loss: 0.3713 | Train Acc: 85.68 \n",
            "Epoch: 204/500 | Train Loss: 0.3971 | Train Acc: 84.41 \n",
            "Epoch: 205/500 | Train Loss: 0.3724 | Train Acc: 85.78 \n",
            "Epoch: 206/500 | Train Loss: 0.3717 | Train Acc: 85.45 \n",
            "Epoch: 207/500 | Train Loss: 0.3693 | Train Acc: 85.51 \n",
            "Epoch: 208/500 | Train Loss: 0.3764 | Train Acc: 85.96 \n",
            "Epoch: 209/500 | Train Loss: 0.3727 | Train Acc: 86.07 \n",
            "Epoch: 210/500 | Train Loss: 0.3714 | Train Acc: 86.04 \n",
            "Epoch: 211/500 | Train Loss: 0.3865 | Train Acc: 85.49 \n",
            "Epoch: 212/500 | Train Loss: 0.3670 | Train Acc: 86.06 \n",
            "Epoch: 213/500 | Train Loss: 0.3652 | Train Acc: 85.85 \n",
            "Epoch: 214/500 | Train Loss: 0.3613 | Train Acc: 86.41 \n",
            "Epoch: 215/500 | Train Loss: 0.3578 | Train Acc: 86.44 \n",
            "Epoch: 216/500 | Train Loss: 0.3589 | Train Acc: 86.45 \n",
            "Epoch: 217/500 | Train Loss: 0.3663 | Train Acc: 86.37 \n",
            "Epoch: 218/500 | Train Loss: 0.3518 | Train Acc: 86.92 \n",
            "Epoch: 219/500 | Train Loss: 0.3616 | Train Acc: 86.37 \n",
            "Epoch: 220/500 | Train Loss: 0.3508 | Train Acc: 86.70 \n",
            "Epoch: 221/500 | Train Loss: 0.3423 | Train Acc: 87.48 \n",
            "Epoch: 222/500 | Train Loss: 0.3571 | Train Acc: 87.12 \n",
            "Epoch: 223/500 | Train Loss: 0.3500 | Train Acc: 87.03 \n",
            "Epoch: 224/500 | Train Loss: 0.3454 | Train Acc: 87.54 \n",
            "Epoch: 225/500 | Train Loss: 0.3399 | Train Acc: 87.32 \n",
            "Epoch: 226/500 | Train Loss: 0.3435 | Train Acc: 87.52 \n",
            "Epoch: 227/500 | Train Loss: 0.3400 | Train Acc: 87.75 \n",
            "Epoch: 228/500 | Train Loss: 0.3317 | Train Acc: 88.02 \n",
            "Epoch: 229/500 | Train Loss: 0.3273 | Train Acc: 88.08 \n",
            "Epoch: 230/500 | Train Loss: 0.3437 | Train Acc: 87.80 \n",
            "Epoch: 231/500 | Train Loss: 0.3344 | Train Acc: 87.87 \n",
            "Epoch: 232/500 | Train Loss: 0.3359 | Train Acc: 87.62 \n",
            "Epoch: 233/500 | Train Loss: 0.3291 | Train Acc: 88.10 \n",
            "Epoch: 234/500 | Train Loss: 0.3262 | Train Acc: 88.40 \n",
            "Epoch: 235/500 | Train Loss: 0.3245 | Train Acc: 88.14 \n",
            "Epoch: 236/500 | Train Loss: 0.3179 | Train Acc: 88.98 \n",
            "Epoch: 237/500 | Train Loss: 0.3094 | Train Acc: 89.05 \n",
            "Epoch: 238/500 | Train Loss: 0.3195 | Train Acc: 88.58 \n",
            "Epoch: 239/500 | Train Loss: 0.3191 | Train Acc: 88.75 \n",
            "Epoch: 240/500 | Train Loss: 0.3158 | Train Acc: 89.19 \n",
            "Epoch: 241/500 | Train Loss: 0.3137 | Train Acc: 88.78 \n",
            "Epoch: 242/500 | Train Loss: 0.3219 | Train Acc: 88.68 \n",
            "Epoch: 243/500 | Train Loss: 0.3123 | Train Acc: 88.71 \n",
            "Epoch: 244/500 | Train Loss: 0.3056 | Train Acc: 89.12 \n",
            "Epoch: 245/500 | Train Loss: 0.3078 | Train Acc: 89.27 \n",
            "Epoch: 246/500 | Train Loss: 0.3033 | Train Acc: 89.52 \n",
            "Epoch: 247/500 | Train Loss: 0.3062 | Train Acc: 89.39 \n",
            "Epoch: 248/500 | Train Loss: 0.3044 | Train Acc: 89.17 \n",
            "Epoch: 249/500 | Train Loss: 0.3038 | Train Acc: 89.25 \n",
            "Epoch: 250/500 | Train Loss: 0.2968 | Train Acc: 89.52 \n",
            "Epoch: 251/500 | Train Loss: 0.2980 | Train Acc: 89.38 \n",
            "Epoch: 252/500 | Train Loss: 0.2947 | Train Acc: 89.75 \n",
            "Epoch: 253/500 | Train Loss: 0.2940 | Train Acc: 89.94 \n",
            "Epoch: 254/500 | Train Loss: 0.2948 | Train Acc: 89.70 \n",
            "Epoch: 255/500 | Train Loss: 0.3017 | Train Acc: 89.53 \n",
            "Epoch: 256/500 | Train Loss: 0.3010 | Train Acc: 89.64 \n",
            "Epoch: 257/500 | Train Loss: 0.2909 | Train Acc: 90.02 \n",
            "Epoch: 258/500 | Train Loss: 0.2896 | Train Acc: 89.73 \n",
            "Epoch: 259/500 | Train Loss: 0.2834 | Train Acc: 90.31 \n",
            "Epoch: 260/500 | Train Loss: 0.2888 | Train Acc: 89.80 \n",
            "Epoch: 261/500 | Train Loss: 0.2821 | Train Acc: 90.51 \n",
            "Epoch: 262/500 | Train Loss: 0.2869 | Train Acc: 90.37 \n",
            "Epoch: 263/500 | Train Loss: 0.2770 | Train Acc: 90.54 \n",
            "Epoch: 264/500 | Train Loss: 0.2825 | Train Acc: 90.11 \n",
            "Epoch: 265/500 | Train Loss: 0.2576 | Train Acc: 91.01 \n",
            "Epoch: 266/500 | Train Loss: 0.2753 | Train Acc: 91.18 \n",
            "Epoch: 267/500 | Train Loss: 0.2830 | Train Acc: 90.05 \n",
            "Epoch: 268/500 | Train Loss: 0.2630 | Train Acc: 91.15 \n",
            "Epoch: 269/500 | Train Loss: 0.2751 | Train Acc: 90.67 \n",
            "Epoch: 270/500 | Train Loss: 0.2711 | Train Acc: 90.82 \n",
            "Epoch: 271/500 | Train Loss: 0.2674 | Train Acc: 90.88 \n",
            "Epoch: 272/500 | Train Loss: 0.2759 | Train Acc: 90.44 \n",
            "Epoch: 273/500 | Train Loss: 0.2631 | Train Acc: 91.45 \n",
            "Epoch: 274/500 | Train Loss: 0.2640 | Train Acc: 91.23 \n",
            "Epoch: 275/500 | Train Loss: 0.2712 | Train Acc: 90.66 \n",
            "Epoch: 276/500 | Train Loss: 0.2702 | Train Acc: 90.80 \n",
            "Epoch: 277/500 | Train Loss: 0.2686 | Train Acc: 90.94 \n",
            "Epoch: 278/500 | Train Loss: 0.2626 | Train Acc: 91.18 \n",
            "Epoch: 279/500 | Train Loss: 0.2611 | Train Acc: 91.30 \n",
            "Epoch: 280/500 | Train Loss: 0.2665 | Train Acc: 91.12 \n",
            "Epoch: 281/500 | Train Loss: 0.2599 | Train Acc: 91.46 \n",
            "Epoch: 282/500 | Train Loss: 0.2562 | Train Acc: 91.46 \n",
            "Epoch: 283/500 | Train Loss: 0.2564 | Train Acc: 91.41 \n",
            "Epoch: 284/500 | Train Loss: 0.2665 | Train Acc: 90.98 \n",
            "Epoch: 285/500 | Train Loss: 0.2568 | Train Acc: 91.15 \n",
            "Epoch: 286/500 | Train Loss: 0.2516 | Train Acc: 91.40 \n",
            "Epoch: 287/500 | Train Loss: 0.2587 | Train Acc: 90.94 \n",
            "Epoch: 288/500 | Train Loss: 0.2579 | Train Acc: 91.58 \n",
            "Epoch: 289/500 | Train Loss: 0.2507 | Train Acc: 91.54 \n",
            "Epoch: 290/500 | Train Loss: 0.2592 | Train Acc: 91.25 \n",
            "Epoch: 291/500 | Train Loss: 0.2566 | Train Acc: 91.02 \n",
            "Epoch: 292/500 | Train Loss: 0.2462 | Train Acc: 91.78 \n",
            "Epoch: 293/500 | Train Loss: 0.2627 | Train Acc: 91.09 \n",
            "Epoch: 294/500 | Train Loss: 0.2530 | Train Acc: 91.72 \n",
            "Epoch: 295/500 | Train Loss: 0.2573 | Train Acc: 91.66 \n",
            "Epoch: 296/500 | Train Loss: 0.2468 | Train Acc: 91.93 \n",
            "Epoch: 297/500 | Train Loss: 0.2435 | Train Acc: 91.84 \n",
            "Epoch: 298/500 | Train Loss: 0.2440 | Train Acc: 91.98 \n",
            "Epoch: 299/500 | Train Loss: 0.2440 | Train Acc: 91.99 \n",
            "Epoch: 300/500 | Train Loss: 0.2440 | Train Acc: 91.84 \n",
            "Epoch: 301/500 | Train Loss: 0.2489 | Train Acc: 91.77 \n",
            "Epoch: 302/500 | Train Loss: 0.2483 | Train Acc: 91.39 \n",
            "Epoch: 303/500 | Train Loss: 0.2379 | Train Acc: 91.97 \n",
            "Epoch: 304/500 | Train Loss: 0.2483 | Train Acc: 91.93 \n",
            "Epoch: 305/500 | Train Loss: 0.2404 | Train Acc: 91.83 \n",
            "Epoch: 306/500 | Train Loss: 0.2437 | Train Acc: 91.88 \n",
            "Epoch: 307/500 | Train Loss: 0.2314 | Train Acc: 92.40 \n",
            "Epoch: 308/500 | Train Loss: 0.2339 | Train Acc: 92.22 \n",
            "Epoch: 309/500 | Train Loss: 0.2429 | Train Acc: 91.84 \n",
            "Epoch: 310/500 | Train Loss: 0.2292 | Train Acc: 92.38 \n",
            "Epoch: 311/500 | Train Loss: 0.2291 | Train Acc: 92.26 \n",
            "Epoch: 312/500 | Train Loss: 0.2421 | Train Acc: 91.82 \n",
            "Epoch: 313/500 | Train Loss: 0.2318 | Train Acc: 92.27 \n",
            "Epoch: 314/500 | Train Loss: 0.2209 | Train Acc: 92.70 \n",
            "Epoch: 315/500 | Train Loss: 0.2317 | Train Acc: 92.26 \n",
            "Epoch: 316/500 | Train Loss: 0.2350 | Train Acc: 92.27 \n",
            "Epoch: 317/500 | Train Loss: 0.2215 | Train Acc: 92.85 \n",
            "Epoch: 318/500 | Train Loss: 0.2243 | Train Acc: 92.46 \n",
            "Epoch: 319/500 | Train Loss: 0.2291 | Train Acc: 92.56 \n",
            "Epoch: 320/500 | Train Loss: 0.2278 | Train Acc: 92.26 \n",
            "Epoch: 321/500 | Train Loss: 0.2317 | Train Acc: 92.50 \n",
            "Epoch: 322/500 | Train Loss: 0.2251 | Train Acc: 92.59 \n",
            "Epoch: 323/500 | Train Loss: 0.2229 | Train Acc: 92.83 \n",
            "Epoch: 324/500 | Train Loss: 0.2259 | Train Acc: 92.46 \n",
            "Epoch: 325/500 | Train Loss: 0.2143 | Train Acc: 92.84 \n",
            "Epoch: 326/500 | Train Loss: 0.2220 | Train Acc: 92.88 \n",
            "Epoch: 327/500 | Train Loss: 0.2160 | Train Acc: 92.99 \n",
            "Epoch: 328/500 | Train Loss: 0.2234 | Train Acc: 92.52 \n",
            "Epoch: 329/500 | Train Loss: 0.2210 | Train Acc: 92.53 \n",
            "Epoch: 330/500 | Train Loss: 0.2217 | Train Acc: 92.64 \n",
            "Epoch: 331/500 | Train Loss: 0.2215 | Train Acc: 92.91 \n",
            "Epoch: 332/500 | Train Loss: 0.2066 | Train Acc: 93.31 \n",
            "Epoch: 333/500 | Train Loss: 0.2225 | Train Acc: 92.67 \n",
            "Epoch: 334/500 | Train Loss: 0.2127 | Train Acc: 92.90 \n",
            "Epoch: 335/500 | Train Loss: 0.2115 | Train Acc: 93.29 \n",
            "Epoch: 336/500 | Train Loss: 0.2109 | Train Acc: 92.66 \n",
            "Epoch: 337/500 | Train Loss: 0.2177 | Train Acc: 92.81 \n",
            "Epoch: 338/500 | Train Loss: 0.2148 | Train Acc: 92.68 \n",
            "Epoch: 339/500 | Train Loss: 0.2160 | Train Acc: 92.89 \n",
            "Epoch: 340/500 | Train Loss: 0.2242 | Train Acc: 92.79 \n",
            "Epoch: 341/500 | Train Loss: 0.2186 | Train Acc: 93.22 \n",
            "Epoch: 342/500 | Train Loss: 0.2128 | Train Acc: 92.99 \n",
            "Epoch: 343/500 | Train Loss: 0.2123 | Train Acc: 93.10 \n",
            "Epoch: 344/500 | Train Loss: 0.2121 | Train Acc: 92.91 \n",
            "Epoch: 345/500 | Train Loss: 0.2145 | Train Acc: 92.67 \n",
            "Epoch: 346/500 | Train Loss: 0.2074 | Train Acc: 93.38 \n",
            "Epoch: 347/500 | Train Loss: 0.2121 | Train Acc: 93.20 \n",
            "Epoch: 348/500 | Train Loss: 0.2098 | Train Acc: 93.10 \n",
            "Epoch: 349/500 | Train Loss: 0.2112 | Train Acc: 93.41 \n",
            "Epoch: 350/500 | Train Loss: 0.2016 | Train Acc: 92.99 \n",
            "Epoch: 351/500 | Train Loss: 0.1997 | Train Acc: 92.93 \n",
            "Epoch: 352/500 | Train Loss: 0.2098 | Train Acc: 93.47 \n",
            "Epoch: 353/500 | Train Loss: 0.1959 | Train Acc: 93.38 \n",
            "Epoch: 354/500 | Train Loss: 0.2193 | Train Acc: 92.89 \n",
            "Epoch: 355/500 | Train Loss: 0.2191 | Train Acc: 92.83 \n",
            "Epoch: 356/500 | Train Loss: 0.2052 | Train Acc: 93.38 \n",
            "Epoch: 357/500 | Train Loss: 0.2053 | Train Acc: 93.31 \n",
            "Epoch: 358/500 | Train Loss: 0.1969 | Train Acc: 93.54 \n",
            "Epoch: 359/500 | Train Loss: 0.1971 | Train Acc: 93.57 \n",
            "Epoch: 360/500 | Train Loss: 0.1979 | Train Acc: 93.47 \n",
            "Epoch: 361/500 | Train Loss: 0.1995 | Train Acc: 93.28 \n",
            "Epoch: 362/500 | Train Loss: 0.2030 | Train Acc: 93.16 \n",
            "Epoch: 363/500 | Train Loss: 0.2038 | Train Acc: 93.66 \n",
            "Epoch: 364/500 | Train Loss: 0.2098 | Train Acc: 93.28 \n",
            "Epoch: 365/500 | Train Loss: 0.1937 | Train Acc: 93.90 \n",
            "Epoch: 366/500 | Train Loss: 0.1917 | Train Acc: 93.64 \n",
            "Epoch: 367/500 | Train Loss: 0.2061 | Train Acc: 93.39 \n",
            "Epoch: 368/500 | Train Loss: 0.2084 | Train Acc: 93.22 \n",
            "Epoch: 369/500 | Train Loss: 0.1914 | Train Acc: 93.74 \n",
            "Epoch: 370/500 | Train Loss: 0.2023 | Train Acc: 93.44 \n",
            "Epoch: 371/500 | Train Loss: 0.1945 | Train Acc: 93.58 \n",
            "Epoch: 372/500 | Train Loss: 0.1916 | Train Acc: 94.03 \n",
            "Epoch: 373/500 | Train Loss: 0.1964 | Train Acc: 93.65 \n",
            "Epoch: 374/500 | Train Loss: 0.1871 | Train Acc: 93.68 \n",
            "Epoch: 375/500 | Train Loss: 0.1953 | Train Acc: 93.50 \n",
            "Epoch: 376/500 | Train Loss: 0.1978 | Train Acc: 93.39 \n",
            "Epoch: 377/500 | Train Loss: 0.1871 | Train Acc: 94.09 \n",
            "Epoch: 378/500 | Train Loss: 0.1839 | Train Acc: 94.07 \n",
            "Epoch: 379/500 | Train Loss: 0.1895 | Train Acc: 93.63 \n",
            "Epoch: 380/500 | Train Loss: 0.1865 | Train Acc: 94.08 \n",
            "Epoch: 381/500 | Train Loss: 0.1938 | Train Acc: 93.98 \n",
            "Epoch: 382/500 | Train Loss: 0.1915 | Train Acc: 93.85 \n",
            "Epoch: 383/500 | Train Loss: 0.1962 | Train Acc: 93.52 \n",
            "Epoch: 384/500 | Train Loss: 0.2039 | Train Acc: 93.28 \n",
            "Epoch: 385/500 | Train Loss: 0.1919 | Train Acc: 93.79 \n",
            "Epoch: 386/500 | Train Loss: 0.1947 | Train Acc: 93.50 \n",
            "Epoch: 387/500 | Train Loss: 0.1868 | Train Acc: 93.89 \n",
            "Epoch: 388/500 | Train Loss: 0.1863 | Train Acc: 94.18 \n",
            "Epoch: 389/500 | Train Loss: 0.1815 | Train Acc: 93.95 \n",
            "Epoch: 390/500 | Train Loss: 0.1865 | Train Acc: 94.06 \n",
            "Epoch: 391/500 | Train Loss: 0.1902 | Train Acc: 93.61 \n",
            "Epoch: 392/500 | Train Loss: 0.1945 | Train Acc: 93.39 \n",
            "Epoch: 393/500 | Train Loss: 0.1805 | Train Acc: 94.18 \n",
            "Epoch: 394/500 | Train Loss: 0.1890 | Train Acc: 93.96 \n",
            "Epoch: 395/500 | Train Loss: 0.1748 | Train Acc: 94.38 \n",
            "Epoch: 396/500 | Train Loss: 0.1809 | Train Acc: 94.21 \n",
            "Epoch: 397/500 | Train Loss: 0.1788 | Train Acc: 94.11 \n",
            "Epoch: 398/500 | Train Loss: 0.1819 | Train Acc: 94.05 \n",
            "Epoch: 399/500 | Train Loss: 0.1802 | Train Acc: 94.22 \n",
            "Epoch: 400/500 | Train Loss: 0.1830 | Train Acc: 94.49 \n",
            "Epoch: 401/500 | Train Loss: 0.1817 | Train Acc: 94.13 \n",
            "Epoch: 402/500 | Train Loss: 0.1888 | Train Acc: 93.73 \n",
            "Epoch: 403/500 | Train Loss: 0.1832 | Train Acc: 94.06 \n",
            "Epoch: 404/500 | Train Loss: 0.1860 | Train Acc: 94.27 \n",
            "Epoch: 405/500 | Train Loss: 0.1716 | Train Acc: 94.53 \n",
            "Epoch: 406/500 | Train Loss: 0.1793 | Train Acc: 94.25 \n",
            "Epoch: 407/500 | Train Loss: 0.1779 | Train Acc: 94.50 \n",
            "Epoch: 408/500 | Train Loss: 0.1756 | Train Acc: 94.29 \n",
            "Epoch: 409/500 | Train Loss: 0.1692 | Train Acc: 94.38 \n",
            "Epoch: 410/500 | Train Loss: 0.1828 | Train Acc: 94.24 \n",
            "Epoch: 411/500 | Train Loss: 0.1755 | Train Acc: 94.41 \n",
            "Epoch: 412/500 | Train Loss: 0.1631 | Train Acc: 94.96 \n",
            "Epoch: 413/500 | Train Loss: 0.1807 | Train Acc: 94.17 \n",
            "Epoch: 414/500 | Train Loss: 0.1723 | Train Acc: 94.32 \n",
            "Epoch: 415/500 | Train Loss: 0.1819 | Train Acc: 94.25 \n",
            "Epoch: 416/500 | Train Loss: 0.1803 | Train Acc: 94.37 \n",
            "Epoch: 417/500 | Train Loss: 0.1798 | Train Acc: 94.21 \n",
            "Epoch: 418/500 | Train Loss: 0.1796 | Train Acc: 94.06 \n",
            "Epoch: 419/500 | Train Loss: 0.1712 | Train Acc: 94.39 \n",
            "Epoch: 420/500 | Train Loss: 0.1814 | Train Acc: 94.33 \n",
            "Epoch: 421/500 | Train Loss: 0.1705 | Train Acc: 94.69 \n",
            "Epoch: 422/500 | Train Loss: 0.1666 | Train Acc: 94.78 \n",
            "Epoch: 423/500 | Train Loss: 0.1744 | Train Acc: 94.08 \n",
            "Epoch: 424/500 | Train Loss: 0.1690 | Train Acc: 94.83 \n",
            "Epoch: 425/500 | Train Loss: 0.1784 | Train Acc: 94.05 \n",
            "Epoch: 426/500 | Train Loss: 0.1669 | Train Acc: 94.69 \n",
            "Epoch: 427/500 | Train Loss: 0.1771 | Train Acc: 94.41 \n",
            "Epoch: 428/500 | Train Loss: 0.1875 | Train Acc: 93.81 \n",
            "Epoch: 429/500 | Train Loss: 0.1668 | Train Acc: 94.87 \n",
            "Epoch: 430/500 | Train Loss: 0.1638 | Train Acc: 94.88 \n",
            "Epoch: 431/500 | Train Loss: 0.1717 | Train Acc: 94.45 \n",
            "Epoch: 432/500 | Train Loss: 0.1740 | Train Acc: 94.38 \n",
            "Epoch: 433/500 | Train Loss: 0.1674 | Train Acc: 94.87 \n",
            "Epoch: 434/500 | Train Loss: 0.1749 | Train Acc: 94.62 \n",
            "Epoch: 435/500 | Train Loss: 0.1684 | Train Acc: 94.43 \n",
            "Epoch: 436/500 | Train Loss: 0.1824 | Train Acc: 94.18 \n",
            "Epoch: 437/500 | Train Loss: 0.1753 | Train Acc: 94.41 \n",
            "Epoch: 438/500 | Train Loss: 0.1653 | Train Acc: 94.80 \n",
            "Epoch: 439/500 | Train Loss: 0.1696 | Train Acc: 94.67 \n",
            "Epoch: 440/500 | Train Loss: 0.1702 | Train Acc: 94.82 \n",
            "Epoch: 441/500 | Train Loss: 0.1497 | Train Acc: 95.09 \n",
            "Epoch: 442/500 | Train Loss: 0.1683 | Train Acc: 94.69 \n",
            "Epoch: 443/500 | Train Loss: 0.1701 | Train Acc: 94.46 \n",
            "Epoch: 444/500 | Train Loss: 0.1653 | Train Acc: 94.55 \n",
            "Epoch: 445/500 | Train Loss: 0.1694 | Train Acc: 94.46 \n",
            "Epoch: 446/500 | Train Loss: 0.1717 | Train Acc: 94.50 \n",
            "Epoch: 447/500 | Train Loss: 0.1649 | Train Acc: 94.84 \n",
            "Epoch: 448/500 | Train Loss: 0.1666 | Train Acc: 94.67 \n",
            "Epoch: 449/500 | Train Loss: 0.1633 | Train Acc: 94.87 \n",
            "Epoch: 450/500 | Train Loss: 0.1614 | Train Acc: 94.75 \n",
            "Epoch: 451/500 | Train Loss: 0.1670 | Train Acc: 94.72 \n",
            "Epoch: 452/500 | Train Loss: 0.1662 | Train Acc: 94.77 \n",
            "Epoch: 453/500 | Train Loss: 0.1646 | Train Acc: 94.59 \n",
            "Epoch: 454/500 | Train Loss: 0.1663 | Train Acc: 95.09 \n",
            "Epoch: 455/500 | Train Loss: 0.1610 | Train Acc: 94.94 \n",
            "Epoch: 456/500 | Train Loss: 0.1683 | Train Acc: 94.93 \n",
            "Epoch: 457/500 | Train Loss: 0.1691 | Train Acc: 94.72 \n",
            "Epoch: 458/500 | Train Loss: 0.1710 | Train Acc: 94.59 \n",
            "Epoch: 459/500 | Train Loss: 0.1687 | Train Acc: 94.64 \n",
            "Epoch: 460/500 | Train Loss: 0.1665 | Train Acc: 94.76 \n",
            "Epoch: 461/500 | Train Loss: 0.1684 | Train Acc: 94.76 \n",
            "Epoch: 462/500 | Train Loss: 0.1545 | Train Acc: 95.09 \n",
            "Epoch: 463/500 | Train Loss: 0.1614 | Train Acc: 94.89 \n",
            "Epoch: 464/500 | Train Loss: 0.1583 | Train Acc: 94.91 \n",
            "Epoch: 465/500 | Train Loss: 0.1622 | Train Acc: 94.99 \n",
            "Epoch: 466/500 | Train Loss: 0.1710 | Train Acc: 94.56 \n",
            "Epoch: 467/500 | Train Loss: 0.1599 | Train Acc: 94.83 \n",
            "Epoch: 468/500 | Train Loss: 0.1637 | Train Acc: 94.91 \n",
            "Epoch: 469/500 | Train Loss: 0.1575 | Train Acc: 95.00 \n",
            "Epoch: 470/500 | Train Loss: 0.1646 | Train Acc: 94.87 \n",
            "Epoch: 471/500 | Train Loss: 0.1655 | Train Acc: 94.69 \n",
            "Epoch: 472/500 | Train Loss: 0.1582 | Train Acc: 94.89 \n",
            "Epoch: 473/500 | Train Loss: 0.1582 | Train Acc: 94.94 \n",
            "Epoch: 474/500 | Train Loss: 0.1656 | Train Acc: 95.12 \n",
            "Epoch: 475/500 | Train Loss: 0.1684 | Train Acc: 94.25 \n",
            "Epoch: 476/500 | Train Loss: 0.1671 | Train Acc: 94.57 \n",
            "Epoch: 477/500 | Train Loss: 0.1599 | Train Acc: 94.84 \n",
            "Epoch: 478/500 | Train Loss: 0.1585 | Train Acc: 94.94 \n",
            "Epoch: 479/500 | Train Loss: 0.1602 | Train Acc: 94.83 \n",
            "Epoch: 480/500 | Train Loss: 0.1544 | Train Acc: 94.88 \n",
            "Epoch: 481/500 | Train Loss: 0.1663 | Train Acc: 94.80 \n",
            "Epoch: 482/500 | Train Loss: 0.1575 | Train Acc: 95.03 \n",
            "Epoch: 483/500 | Train Loss: 0.1578 | Train Acc: 94.82 \n",
            "Epoch: 484/500 | Train Loss: 0.1556 | Train Acc: 95.10 \n",
            "Epoch: 485/500 | Train Loss: 0.1608 | Train Acc: 94.67 \n",
            "Epoch: 486/500 | Train Loss: 0.1611 | Train Acc: 94.67 \n",
            "Epoch: 487/500 | Train Loss: 0.1543 | Train Acc: 95.29 \n",
            "Epoch: 488/500 | Train Loss: 0.1501 | Train Acc: 95.15 \n",
            "Epoch: 489/500 | Train Loss: 0.1610 | Train Acc: 94.60 \n",
            "Epoch: 490/500 | Train Loss: 0.1598 | Train Acc: 94.84 \n",
            "Epoch: 491/500 | Train Loss: 0.1607 | Train Acc: 94.73 \n",
            "Epoch: 492/500 | Train Loss: 0.1598 | Train Acc: 94.92 \n",
            "Epoch: 493/500 | Train Loss: 0.1550 | Train Acc: 95.08 \n",
            "Epoch: 494/500 | Train Loss: 0.1547 | Train Acc: 95.15 \n",
            "Epoch: 495/500 | Train Loss: 0.1564 | Train Acc: 95.10 \n",
            "Epoch: 496/500 | Train Loss: 0.1498 | Train Acc: 95.04 \n",
            "Epoch: 497/500 | Train Loss: 0.1517 | Train Acc: 95.12 \n",
            "Epoch: 498/500 | Train Loss: 0.1463 | Train Acc: 95.29 \n",
            "Epoch: 499/500 | Train Loss: 0.1605 | Train Acc: 94.97 \n"
          ],
          "name": "stdout"
        }
      ]
    },
    {
      "cell_type": "code",
      "metadata": {
        "id": "cuSDYkpl77ZL"
      },
      "source": [
        "#torch.save(model.state_dict(), 'gdrive/My Drive/Preferences/FCCN_model_2.pth' )"
      ],
      "execution_count": null,
      "outputs": []
    },
    {
      "cell_type": "code",
      "metadata": {
        "colab": {
          "base_uri": "https://localhost:8080/",
          "height": 554
        },
        "id": "sOnXeYePapnr",
        "outputId": "6e8e7961-9ace-474b-e8ab-1c26353671d0"
      },
      "source": [
        "fig, axes = plt.subplots(nrows=1, ncols=2, figsize=(15, 8))\n",
        "fig.suptitle(\"Training Losses\", fontsize=14)\n",
        "axes[0].plot(loss_avg_lst)\n",
        "axes[1].plot(loss_log)\n",
        "axes[0].set(xlabel=\"Epochs\", ylabel=\"Train Loss\")\n",
        "axes[1].set(xlabel=\"Steps in Batch\", ylabel=\"Train Loss\")\n",
        "plt.savefig(\"gdrive/My Drive/Preferences/pref_losses.png\")\n",
        "plt.show()\n",
        "#fig.tight_layout()\n",
        "\n",
        "# plt.figure(figsize=(10,8))\n",
        "# plt.plot(loss_avg_lst)\n",
        "\n",
        "# plt.figure(figsize=(10,8))\n",
        "# plt.plot(loss_log)"
      ],
      "execution_count": null,
      "outputs": [
        {
          "output_type": "display_data",
          "data": {
            "image/png": "[encoded data removed]",
            "text/plain": [
              "<Figure size 1080x576 with 2 Axes>"
            ]
          },
          "metadata": {
            "needs_background": "light"
          }
        }
      ]
    },
    {
      "cell_type": "code",
      "metadata": {
        "colab": {
          "base_uri": "https://localhost:8080/",
          "height": 571
        },
        "id": "wuzcptTgcNB9",
        "outputId": "17395dde-7dfe-42dd-f5b5-0357ed6f0bfa"
      },
      "source": [
        "fig, axes = plt.subplots(nrows=1, ncols=2, figsize=(15, 8))\n",
        "fig = plt.gcf()\n",
        "fig.suptitle(\"Training Accuracies\", fontsize=14)\n",
        "axes[0].plot(acc_avg_lst)\n",
        "axes[1].plot(train_acc)\n",
        "axes[0].set(xlabel=\"Epochs\", ylabel=\"Train Accuracy\")\n",
        "axes[1].set(xlabel=\"Steps in Batch\", ylabel=\"Train Accuracy\")\n",
        "# plt.savefig(\"gdrive/My Drive/Preferences/pref_accuracies.png\")\n",
        "# plt.show()\n",
        "#fig.tight_layout()\n",
        "\n",
        "# plt.figure(figsize=(10,8))\n",
        "# plt.plot(acc_avg_lst)\n",
        "\n",
        "# plt.figure(figsize=(10,8))\n",
        "# plt.plot(train_acc)"
      ],
      "execution_count": null,
      "outputs": [
        {
          "output_type": "execute_result",
          "data": {
            "text/plain": [
              "[Text(0, 0.5, 'Train Accuracy'), Text(0.5, 0, 'Steps in Batch')]"
            ]
          },
          "metadata": {},
          "execution_count": 38
        },
        {
          "output_type": "display_data",
          "data": {
            "image/png": "[encoded data removed]",
            "text/plain": [
              "<Figure size 1080x576 with 2 Axes>"
            ]
          },
          "metadata": {
            "needs_background": "light"
          }
        }
      ]
    },
    {
      "cell_type": "code",
      "metadata": {
        "colab": {
          "base_uri": "https://localhost:8080/"
        },
        "id": "mSp8zfHWUi32",
        "outputId": "82bd3a3c-3757-4a55-e3b8-caa259008c9d"
      },
      "source": [
        "model.eval()\n",
        "with torch.no_grad():\n",
        "  test_var = Variable(xtest)\n",
        "\n",
        "  net_out = model(test_var)\n",
        "  test_pred = torch.max(net_out.data, 1)[1].numpy()\n",
        "  test_acc = get_acc(test_pred, y_test)\n",
        "print(100*'-')\n",
        "print('Test Accuracy:', test_acc)\n",
        "print(100*'-')"
      ],
      "execution_count": null,
      "outputs": [
        {
          "output_type": "stream",
          "text": [
            "----------------------------------------------------------------------------------------------------\n",
            "Test Accuracy: 94.11111111111111\n",
            "----------------------------------------------------------------------------------------------------\n"
          ],
          "name": "stdout"
        }
      ]
    },
    {
      "cell_type": "code",
      "metadata": {
        "colab": {
          "base_uri": "https://localhost:8080/"
        },
        "id": "CLFhEVOlYqsp",
        "outputId": "29bb3161-bc3c-42c2-99de-32716d5a148d"
      },
      "source": [
        "actual = y_test.tolist() \n",
        "predicted = test_pred\n",
        "target_names = list(range(18))\n",
        "conf_mat = confusion_matrix(actual, predicted, target_names)   \n",
        "target_names = ['class 0', 'class 1', 'class 2']\n",
        "print('Confusion Matrix :')\n",
        "print(conf_mat) \n",
        "acc = accuracy_score(actual, predicted)\n",
        "print ('Accuracy: %.3f'% acc) \n",
        "print(100*'-')\n",
        "print()\n",
        "print ('Classification report : ')\n",
        "print (classification_report(actual, predicted, digits=3) )\n",
        "print(100*'-')\n",
        "f_score = f1_score(actual, predicted, average = None )"
      ],
      "execution_count": null,
      "outputs": [
        {
          "output_type": "stream",
          "text": [
            "Confusion Matrix :\n",
            "[[56  0  0  0  0  0  0  0  0  0  0  0  0  0  0  0  0  0]\n",
            " [ 0 40  0  0  0  4  0  0  0  0  0  0  0  0  0  0  0  0]\n",
            " [ 0  0 50  0  0  0  0  0  0  0  0  0  0  0  0  0  0  0]\n",
            " [ 0  0  0 44  0  0  0  0  0  0  0  0  0  0  0  0  0  0]\n",
            " [ 0  0  0  0 47  0  0  0  0  0  0  0  0  0  0  0  0  0]\n",
            " [ 0  4  0  0  3 43  0  0  0  0  0  0  0  0  0  0  0  0]\n",
            " [ 0  0  0  0  0  0 47  0  0  0  0  0  0  0  0  0  0  0]\n",
            " [ 0  0  0  0  0  0  0 43  0  0  0  1  0  0  0  0  0  0]\n",
            " [ 0  0  0  0  0  0  0  0 51  0  0  0  0  0  0  0  0  0]\n",
            " [ 0  0  0  0  0  0  0  0  0 52  0  0  0  0  0  0  0  0]\n",
            " [ 0  0  0  0  0  0  0  0  0  0 55  0  0  0  0  0  1  0]\n",
            " [ 0  0  0  0  0  0  0  3  0  0  1 47  0  0  0  0  0  0]\n",
            " [ 0  0  0  0  0  0  0  0  0  0  0  0 40  0  0  0  0  0]\n",
            " [ 0  0  0  0  0  0  0  0  0  0  0  0  1 47  0  0  0 17]\n",
            " [ 0  0  0  0  0  0  0  0  0  0  0  0  0  0 46  0  0  0]\n",
            " [ 0  0  0  0  0  0  0  0  0  0  0  0  0  0  1 62  0  0]\n",
            " [ 0  0  0  0  1  0  0  0  0  0  0  0  0  0  0  0 44  0]\n",
            " [ 0  0  0  0  0  0  0  0  0  0  0  0  1 10  0  0  5 33]]\n",
            "Accuracy: 0.941\n",
            "----------------------------------------------------------------------------------------------------\n",
            "\n",
            "Classification report : \n",
            "              precision    recall  f1-score   support\n",
            "\n",
            "           0      1.000     1.000     1.000        56\n",
            "           1      0.909     0.909     0.909        44\n",
            "           2      1.000     1.000     1.000        50\n",
            "           3      1.000     1.000     1.000        44\n",
            "           4      0.922     1.000     0.959        47\n",
            "           5      0.915     0.860     0.887        50\n",
            "           6      1.000     1.000     1.000        47\n",
            "           7      0.935     0.977     0.956        44\n",
            "           8      1.000     1.000     1.000        51\n",
            "           9      1.000     1.000     1.000        52\n",
            "          10      0.982     0.982     0.982        56\n",
            "          11      0.979     0.922     0.949        51\n",
            "          12      0.952     1.000     0.976        40\n",
            "          13      0.825     0.723     0.770        65\n",
            "          14      0.979     1.000     0.989        46\n",
            "          15      1.000     0.984     0.992        63\n",
            "          16      0.880     0.978     0.926        45\n",
            "          17      0.660     0.673     0.667        49\n",
            "\n",
            "    accuracy                          0.941       900\n",
            "   macro avg      0.941     0.945     0.942       900\n",
            "weighted avg      0.941     0.941     0.940       900\n",
            "\n",
            "----------------------------------------------------------------------------------------------------\n"
          ],
          "name": "stdout"
        }
      ]
    },
    {
      "cell_type": "code",
      "metadata": {
        "colab": {
          "base_uri": "https://localhost:8080/",
          "height": 567
        },
        "id": "37jv4--VcyOc",
        "outputId": "02996c71-e344-48e4-c645-4952420eb5ce"
      },
      "source": [
        "ax= plt.subplot()\n",
        "counts = [\"{0:0.0f}\".format(i) for i in conf_mat.flatten()]\n",
        "percentages = [\"{0:.2%}\".format(i) for i in conf_mat.flatten()/np.sum(conf_mat)]\n",
        "sns.heatmap(conf_mat, fmt='', cmap= 'RdPu')\n",
        "ax.xaxis.set_ticklabels(list(range(18)))\n",
        "ax.yaxis.set_ticklabels(list(range(18)))\n",
        "# plt.savefig(\"gdrive/My Drive/Preferences/pref_conf_mat.png\")\n",
        "# plt.show()"
      ],
      "execution_count": null,
      "outputs": [
        {
          "output_type": "execute_result",
          "data": {
            "text/plain": [
              "[Text(0, 0.5, '0'),\n",
              " Text(0, 1.5, '1'),\n",
              " Text(0, 2.5, '2'),\n",
              " Text(0, 3.5, '3'),\n",
              " Text(0, 4.5, '4'),\n",
              " Text(0, 5.5, '5'),\n",
              " Text(0, 6.5, '6'),\n",
              " Text(0, 7.5, '7'),\n",
              " Text(0, 8.5, '8'),\n",
              " Text(0, 9.5, '9'),\n",
              " Text(0, 10.5, '10'),\n",
              " Text(0, 11.5, '11'),\n",
              " Text(0, 12.5, '12'),\n",
              " Text(0, 13.5, '13'),\n",
              " Text(0, 14.5, '14'),\n",
              " Text(0, 15.5, '15'),\n",
              " Text(0, 16.5, '16'),\n",
              " Text(0, 17.5, '17')]"
            ]
          },
          "metadata": {},
          "execution_count": 41
        },
        {
          "output_type": "display_data",
          "data": {
            "image/png": "[encoded data removed]",
            "text/plain": [
              "<Figure size 432x288 with 2 Axes>"
            ]
          },
          "metadata": {
            "needs_background": "light"
          }
        }
      ]
    },
    {
      "cell_type": "code",
      "metadata": {
        "colab": {
          "base_uri": "https://localhost:8080/",
          "height": 696
        },
        "id": "JTOfXea80PC4",
        "outputId": "11d13d1a-bc21-4283-aceb-c581026e5186"
      },
      "source": [
        "report = classification_report(actual, predicted, digits=3, output_dict=True)\n",
        "report_df = pd.DataFrame(report).transpose()\n",
        "report_df"
      ],
      "execution_count": null,
      "outputs": [
        {
          "output_type": "execute_result",
          "data": {
            "text/html": [
              "<div>\n",
              "<style scoped>\n",
              "    .dataframe tbody tr th:only-of-type {\n",
              "        vertical-align: middle;\n",
              "    }\n",
              "\n",
              "    .dataframe tbody tr th {\n",
              "        vertical-align: top;\n",
              "    }\n",
              "\n",
              "    .dataframe thead th {\n",
              "        text-align: right;\n",
              "    }\n",
              "</style>\n",
              "<table border=\"1\" class=\"dataframe\">\n",
              "  <thead>\n",
              "    <tr style=\"text-align: right;\">\n",
              "      <th></th>\n",
              "      <th>precision</th>\n",
              "      <th>recall</th>\n",
              "      <th>f1-score</th>\n",
              "      <th>support</th>\n",
              "    </tr>\n",
              "  </thead>\n",
              "  <tbody>\n",
              "    <tr>\n",
              "      <th>0</th>\n",
              "      <td>1.000000</td>\n",
              "      <td>1.000000</td>\n",
              "      <td>1.000000</td>\n",
              "      <td>56.000000</td>\n",
              "    </tr>\n",
              "    <tr>\n",
              "      <th>1</th>\n",
              "      <td>0.909091</td>\n",
              "      <td>0.909091</td>\n",
              "      <td>0.909091</td>\n",
              "      <td>44.000000</td>\n",
              "    </tr>\n",
              "    <tr>\n",
              "      <th>2</th>\n",
              "      <td>1.000000</td>\n",
              "      <td>1.000000</td>\n",
              "      <td>1.000000</td>\n",
              "      <td>50.000000</td>\n",
              "    </tr>\n",
              "    <tr>\n",
              "      <th>3</th>\n",
              "      <td>1.000000</td>\n",
              "      <td>1.000000</td>\n",
              "      <td>1.000000</td>\n",
              "      <td>44.000000</td>\n",
              "    </tr>\n",
              "    <tr>\n",
              "      <th>4</th>\n",
              "      <td>0.921569</td>\n",
              "      <td>1.000000</td>\n",
              "      <td>0.959184</td>\n",
              "      <td>47.000000</td>\n",
              "    </tr>\n",
              "    <tr>\n",
              "      <th>5</th>\n",
              "      <td>0.914894</td>\n",
              "      <td>0.860000</td>\n",
              "      <td>0.886598</td>\n",
              "      <td>50.000000</td>\n",
              "    </tr>\n",
              "    <tr>\n",
              "      <th>6</th>\n",
              "      <td>1.000000</td>\n",
              "      <td>1.000000</td>\n",
              "      <td>1.000000</td>\n",
              "      <td>47.000000</td>\n",
              "    </tr>\n",
              "    <tr>\n",
              "      <th>7</th>\n",
              "      <td>0.934783</td>\n",
              "      <td>0.977273</td>\n",
              "      <td>0.955556</td>\n",
              "      <td>44.000000</td>\n",
              "    </tr>\n",
              "    <tr>\n",
              "      <th>8</th>\n",
              "      <td>1.000000</td>\n",
              "      <td>1.000000</td>\n",
              "      <td>1.000000</td>\n",
              "      <td>51.000000</td>\n",
              "    </tr>\n",
              "    <tr>\n",
              "      <th>9</th>\n",
              "      <td>1.000000</td>\n",
              "      <td>1.000000</td>\n",
              "      <td>1.000000</td>\n",
              "      <td>52.000000</td>\n",
              "    </tr>\n",
              "    <tr>\n",
              "      <th>10</th>\n",
              "      <td>0.982143</td>\n",
              "      <td>0.982143</td>\n",
              "      <td>0.982143</td>\n",
              "      <td>56.000000</td>\n",
              "    </tr>\n",
              "    <tr>\n",
              "      <th>11</th>\n",
              "      <td>0.979167</td>\n",
              "      <td>0.921569</td>\n",
              "      <td>0.949495</td>\n",
              "      <td>51.000000</td>\n",
              "    </tr>\n",
              "    <tr>\n",
              "      <th>12</th>\n",
              "      <td>0.952381</td>\n",
              "      <td>1.000000</td>\n",
              "      <td>0.975610</td>\n",
              "      <td>40.000000</td>\n",
              "    </tr>\n",
              "    <tr>\n",
              "      <th>13</th>\n",
              "      <td>0.824561</td>\n",
              "      <td>0.723077</td>\n",
              "      <td>0.770492</td>\n",
              "      <td>65.000000</td>\n",
              "    </tr>\n",
              "    <tr>\n",
              "      <th>14</th>\n",
              "      <td>0.978723</td>\n",
              "      <td>1.000000</td>\n",
              "      <td>0.989247</td>\n",
              "      <td>46.000000</td>\n",
              "    </tr>\n",
              "    <tr>\n",
              "      <th>15</th>\n",
              "      <td>1.000000</td>\n",
              "      <td>0.984127</td>\n",
              "      <td>0.992000</td>\n",
              "      <td>63.000000</td>\n",
              "    </tr>\n",
              "    <tr>\n",
              "      <th>16</th>\n",
              "      <td>0.880000</td>\n",
              "      <td>0.977778</td>\n",
              "      <td>0.926316</td>\n",
              "      <td>45.000000</td>\n",
              "    </tr>\n",
              "    <tr>\n",
              "      <th>17</th>\n",
              "      <td>0.660000</td>\n",
              "      <td>0.673469</td>\n",
              "      <td>0.666667</td>\n",
              "      <td>49.000000</td>\n",
              "    </tr>\n",
              "    <tr>\n",
              "      <th>accuracy</th>\n",
              "      <td>0.941111</td>\n",
              "      <td>0.941111</td>\n",
              "      <td>0.941111</td>\n",
              "      <td>0.941111</td>\n",
              "    </tr>\n",
              "    <tr>\n",
              "      <th>macro avg</th>\n",
              "      <td>0.940962</td>\n",
              "      <td>0.944918</td>\n",
              "      <td>0.942355</td>\n",
              "      <td>900.000000</td>\n",
              "    </tr>\n",
              "    <tr>\n",
              "      <th>weighted avg</th>\n",
              "      <td>0.940866</td>\n",
              "      <td>0.941111</td>\n",
              "      <td>0.940376</td>\n",
              "      <td>900.000000</td>\n",
              "    </tr>\n",
              "  </tbody>\n",
              "</table>\n",
              "</div>"
            ],
            "text/plain": [
              "              precision    recall  f1-score     support\n",
              "0              1.000000  1.000000  1.000000   56.000000\n",
              "1              0.909091  0.909091  0.909091   44.000000\n",
              "2              1.000000  1.000000  1.000000   50.000000\n",
              "3              1.000000  1.000000  1.000000   44.000000\n",
              "4              0.921569  1.000000  0.959184   47.000000\n",
              "5              0.914894  0.860000  0.886598   50.000000\n",
              "6              1.000000  1.000000  1.000000   47.000000\n",
              "7              0.934783  0.977273  0.955556   44.000000\n",
              "8              1.000000  1.000000  1.000000   51.000000\n",
              "9              1.000000  1.000000  1.000000   52.000000\n",
              "10             0.982143  0.982143  0.982143   56.000000\n",
              "11             0.979167  0.921569  0.949495   51.000000\n",
              "12             0.952381  1.000000  0.975610   40.000000\n",
              "13             0.824561  0.723077  0.770492   65.000000\n",
              "14             0.978723  1.000000  0.989247   46.000000\n",
              "15             1.000000  0.984127  0.992000   63.000000\n",
              "16             0.880000  0.977778  0.926316   45.000000\n",
              "17             0.660000  0.673469  0.666667   49.000000\n",
              "accuracy       0.941111  0.941111  0.941111    0.941111\n",
              "macro avg      0.940962  0.944918  0.942355  900.000000\n",
              "weighted avg   0.940866  0.941111  0.940376  900.000000"
            ]
          },
          "metadata": {},
          "execution_count": 42
        }
      ]
    },
    {
      "cell_type": "code",
      "metadata": {
        "colab": {
          "base_uri": "https://localhost:8080/"
        },
        "id": "YblUTOOd1MAg",
        "outputId": "bd21a920-7407-4058-c364-3ef27670ed9b"
      },
      "source": [
        "print(report_df.to_latex())"
      ],
      "execution_count": null,
      "outputs": [
        {
          "output_type": "stream",
          "text": [
            "\\begin{tabular}{lrrrr}\n",
            "\\toprule\n",
            "{} &  precision &    recall &  f1-score &     support \\\\\n",
            "\\midrule\n",
            "0            &   1.000000 &  1.000000 &  1.000000 &   56.000000 \\\\\n",
            "1            &   0.909091 &  0.909091 &  0.909091 &   44.000000 \\\\\n",
            "2            &   1.000000 &  1.000000 &  1.000000 &   50.000000 \\\\\n",
            "3            &   1.000000 &  1.000000 &  1.000000 &   44.000000 \\\\\n",
            "4            &   0.921569 &  1.000000 &  0.959184 &   47.000000 \\\\\n",
            "5            &   0.914894 &  0.860000 &  0.886598 &   50.000000 \\\\\n",
            "6            &   1.000000 &  1.000000 &  1.000000 &   47.000000 \\\\\n",
            "7            &   0.934783 &  0.977273 &  0.955556 &   44.000000 \\\\\n",
            "8            &   1.000000 &  1.000000 &  1.000000 &   51.000000 \\\\\n",
            "9            &   1.000000 &  1.000000 &  1.000000 &   52.000000 \\\\\n",
            "10           &   0.982143 &  0.982143 &  0.982143 &   56.000000 \\\\\n",
            "11           &   0.979167 &  0.921569 &  0.949495 &   51.000000 \\\\\n",
            "12           &   0.952381 &  1.000000 &  0.975610 &   40.000000 \\\\\n",
            "13           &   0.824561 &  0.723077 &  0.770492 &   65.000000 \\\\\n",
            "14           &   0.978723 &  1.000000 &  0.989247 &   46.000000 \\\\\n",
            "15           &   1.000000 &  0.984127 &  0.992000 &   63.000000 \\\\\n",
            "16           &   0.880000 &  0.977778 &  0.926316 &   45.000000 \\\\\n",
            "17           &   0.660000 &  0.673469 &  0.666667 &   49.000000 \\\\\n",
            "accuracy     &   0.941111 &  0.941111 &  0.941111 &    0.941111 \\\\\n",
            "macro avg    &   0.940962 &  0.944918 &  0.942355 &  900.000000 \\\\\n",
            "weighted avg &   0.940866 &  0.941111 &  0.940376 &  900.000000 \\\\\n",
            "\\bottomrule\n",
            "\\end{tabular}\n",
            "\n"
          ],
          "name": "stdout"
        }
      ]
    },
    {
      "cell_type": "code",
      "metadata": {
        "id": "MGHzEBZqrP79"
      },
      "source": [
        "test_array_1 = np.array([[0., 0., 0., 0., 0., 0., 0., 0., 0., 0., 0., 0., 0., 0., 0., 0.,\n",
        "        0., 0., 0., 0., 0., 0., 0., 0.],\n",
        "       [0., 0., 0., 0., 0., 0., 0., 0., 0., 0., 0., 0., 0., 1., 0., 1.,\n",
        "        0., 0., 0., 1., 0., 1., 0., 0.],\n",
        "       [0., 0., 0., 0., 0., 0., 0., 0., 0., 0., 0., 0., 1., 0., 0., 0.,\n",
        "        1., 0., 1., 0., 0., 1., 0., 0.],\n",
        "       [0., 0., 0., 0., 0., 0., 0., 0., 0., 0., 0., 0., 1., 0., 1., 0.,\n",
        "        0., 1., 0., 0., 1., 0., 0., 0.],\n",
        "       [0., 0., 0., 0., 0., 0., 0., 0., 0., 1., 0., 1., 0., 0., 0., 0.,\n",
        "        0., 0., 0., 0., 0., 0., 0., 0.],\n",
        "       [0., 0., 0., 0., 0., 0., 0., 0., 1., 0., 1., 0., 0., 0., 0., 0.,\n",
        "        0., 0., 0., 0., 0., 0., 0., 0.],\n",
        "       [0., 0., 0., 0., 0., 0., 0., 0., 0., 0., 0., 0., 0., 0., 0., 0.,\n",
        "        0., 0., 0., 0., 0., 0., 0., 0.]])"
      ],
      "execution_count": null,
      "outputs": []
    },
    {
      "cell_type": "code",
      "metadata": {
        "id": "bSJ5xLIjCU35"
      },
      "source": [
        "test_array_2 = np.array([[0., 0., 0., 0., 0., 0., 0., 0., 0., 0., 0., 0., 0., 0., 0., 0.,\n",
        "        0., 0., 0., 0., 0., 0., 0., 0.],\n",
        "       [0., 0., 0., 0., 1., 1., 1., 0., 1., 0., 1., 0., 0., 0., 0., 0.,\n",
        "        0., 0., 0., 0., 0., 0., 0., 0.],\n",
        "       [0., 0., 0., 0., 1., 0., 1., 1., 1., 1., 0., 0., 0., 0., 0., 0.,\n",
        "        0., 0., 0., 0., 0., 0., 0., 0.],\n",
        "       [0., 0., 0., 1., 1., 1., 0., 0., 0., 0., 0., 0., 0., 0., 0., 0.,\n",
        "        0., 0., 0., 0., 0., 0., 0., 0.],\n",
        "       [0., 0., 0., 1., 0., 1., 0., 0., 0., 0., 0., 0., 0., 0., 0., 0.,\n",
        "        0., 0., 0., 0., 0., 0., 0., 0.],\n",
        "       [0., 0., 0., 0., 0., 0., 0., 0., 0., 0., 0., 0., 0., 0., 0., 0.,\n",
        "        0., 0., 0., 0., 0., 0., 0., 0.],\n",
        "       [0., 0., 0., 0., 0., 0., 0., 0., 0., 0., 0., 0., 0., 0., 0., 0.,\n",
        "        0., 0., 0., 0., 0., 0., 0., 0.]])#\n"
      ],
      "execution_count": null,
      "outputs": []
    },
    {
      "cell_type": "code",
      "metadata": {
        "colab": {
          "base_uri": "https://localhost:8080/"
        },
        "id": "XVc42NjPD0GX",
        "outputId": "6ff04619-8482-4c59-b406-448fb8ba0973"
      },
      "source": [
        "test_array_2.flatten()"
      ],
      "execution_count": null,
      "outputs": [
        {
          "output_type": "execute_result",
          "data": {
            "text/plain": [
              "array([0., 0., 0., 0., 0., 0., 0., 0., 0., 0., 0., 0., 0., 0., 0., 0., 0.,\n",
              "       0., 0., 0., 0., 0., 0., 0., 0., 0., 0., 0., 1., 1., 1., 0., 1., 0.,\n",
              "       1., 0., 0., 0., 0., 0., 0., 0., 0., 0., 0., 0., 0., 0., 0., 0., 0.,\n",
              "       0., 1., 0., 1., 1., 1., 1., 0., 0., 0., 0., 0., 0., 0., 0., 0., 0.,\n",
              "       0., 0., 0., 0., 0., 0., 0., 1., 1., 1., 0., 0., 0., 0., 0., 0., 0.,\n",
              "       0., 0., 0., 0., 0., 0., 0., 0., 0., 0., 0., 0., 0., 0., 1., 0., 1.,\n",
              "       0., 0., 0., 0., 0., 0., 0., 0., 0., 0., 0., 0., 0., 0., 0., 0., 0.,\n",
              "       0., 0., 0., 0., 0., 0., 0., 0., 0., 0., 0., 0., 0., 0., 0., 0., 0.,\n",
              "       0., 0., 0., 0., 0., 0., 0., 0., 0., 0., 0., 0., 0., 0., 0., 0., 0.,\n",
              "       0., 0., 0., 0., 0., 0., 0., 0., 0., 0., 0., 0., 0., 0., 0.])"
            ]
          },
          "metadata": {},
          "execution_count": 46
        }
      ]
    },
    {
      "cell_type": "code",
      "metadata": {
        "id": "A86HmdZUTMkG"
      },
      "source": [
        "test_array_3= np.array([0., 0., 0., 0., 0., 0., 0., 0., 0., 0., 0., 0., 0., 0., 0., 0., 0.,\n",
        "       0., 0., 0., 0., 0., 0., 0., 0., 0., 0., 0., 0., 0., 0., 0., 0., 0.,\n",
        "       1., 1., 1., 1., 1., 0., 0., 0., 0., 0., 0., 0., 0., 0., 0., 0., 0.,\n",
        "       0., 0., 0., 0., 0., 0., 0., 0., 0., 0., 1., 0., 1., 1., 1., 0., 0.,\n",
        "       0., 0., 0., 0., 0., 0., 0., 0., 0., 0., 0., 0., 0., 1., 1., 1., 0.,\n",
        "       0., 0., 0., 0., 0., 0., 0., 0., 0., 0., 0., 0., 0., 0., 0., 0., 0.,\n",
        "       1., 1., 0., 0., 0., 0., 0., 0., 0., 0., 0., 0., 0., 0., 0., 0., 0.,\n",
        "       0., 0., 0., 0., 0., 0., 0., 0., 0., 0., 0., 0., 0., 0., 0., 0., 0.,\n",
        "       0., 1., 0., 0., 0., 0., 0., 0., 0., 0., 0., 0., 0., 0., 0., 0., 0.,\n",
        "       0., 0., 0., 0., 0., 0., 0., 0., 0., 0., 0., 0., 0., 0., 0.])"
      ],
      "execution_count": null,
      "outputs": []
    },
    {
      "cell_type": "code",
      "metadata": {
        "id": "OSxxiKlUTS12"
      },
      "source": [
        "test_array_4 = np.array([[0., 0., 0., 0., 0., 0., 0., 0., 0., 0., 0., 0., 0., 0., 0., 0.,\n",
        "        0., 0., 0., 0., 0., 0., 0., 0.],\n",
        "       [0., 0., 0., 0., 1., 1., 1., 1., 1., 0., 0., 0., 0., 0., 0., 0.,\n",
        "        0., 0., 0., 0., 0., 0., 0., 0.],\n",
        "       [0., 0., 0., 0., 0., 0., 0., 0., 0., 0., 0., 0., 0., 0., 0., 0.,\n",
        "        0., 0., 0., 0., 0., 0., 0., 0.],\n",
        "       [0., 0., 0., 0., 0., 0., 0., 0., 0., 0., 0., 0., 0., 0., 0., 0.,\n",
        "        0., 0., 0., 0., 0., 0., 0., 0.],\n",
        "       [0., 0., 0., 0., 0., 0., 0., 0., 0., 0., 0., 0., 0., 0., 0., 0.,\n",
        "        0., 0., 0., 0., 0., 0., 0., 0.],\n",
        "       [0., 0., 0., 0., 0., 0., 0., 0., 0., 0., 0., 0., 0., 0., 0., 0.,\n",
        "        0., 0., 0., 0., 0., 0., 0., 0.],\n",
        "       [0., 0., 0., 0., 0., 0., 0., 0., 0., 0., 0., 0., 0., 0., 0., 0.,\n",
        "        0., 0., 0., 0., 0., 0., 0., 0.]])#"
      ],
      "execution_count": null,
      "outputs": []
    },
    {
      "cell_type": "code",
      "metadata": {
        "id": "sQ8s4RvKDIO_"
      },
      "source": [
        "test_array_5 = np.array([[0., 0., 0., 0., 0., 0., 0., 0., 0., 0., 0., 0., 0., 0., 0., 0.,\n",
        "        0., 0., 0., 0., 0., 0., 0., 0.],\n",
        "       [0., 0., 0., 0., 0., 0., 0., 0., 0., 0., 0., 0., 0., 0., 0., 0.,\n",
        "        0., 0., 0., 0., 0., 0., 0., 0.],\n",
        "       [0., 0., 0., 0., 0., 0., 0., 0., 0., 0., 0., 0., 0., 0., 0., 0.,\n",
        "        0., 1., 0., 0., 1., 0., 1., 0.],\n",
        "       [0., 0., 0., 0., 0., 0., 0., 0., 0., 0., 0., 0., 0., 0., 0., 0.,\n",
        "        0., 0., 0., 0., 0., 0., 0., 0.],\n",
        "       [0., 0., 0., 0., 0., 0., 0., 0., 0., 0., 0., 0., 0., 0., 0., 0.,\n",
        "        0., 0., 0., 0., 0., 0., 0., 0.],\n",
        "       [0., 0., 0., 0., 0., 0., 0., 0., 0., 0., 0., 0., 0., 0., 0., 0.,\n",
        "        0., 0., 0., 0., 0., 0., 0., 0.],\n",
        "       [0., 0., 0., 0., 0., 0., 0., 0., 0., 0., 0., 0., 0., 0., 0., 0.,\n",
        "        0., 0., 0., 0., 0., 0., 0., 0.]])"
      ],
      "execution_count": null,
      "outputs": []
    },
    {
      "cell_type": "code",
      "metadata": {
        "id": "YneFOPUUiWnA"
      },
      "source": [
        "test_array_6 = np.array([[0., 0., 0., 0., 0., 0., 0., 0., 0., 0., 0., 0., 0., 0., 0., 0.,\n",
        "        0., 0., 0., 0., 0., 0., 0., 0.],\n",
        "       [0., 0., 0., 0., 0., 1., 0., 0., 1., 0., 1., 1., 0., 1., 0., 0.,\n",
        "        0., 1., 1., 0., 1., 0., 0., 0.],\n",
        "       [0., 0., 0., 1., 0., 1., 0., 0., 0., 1., 0., 1., 0., 1., 0., 1.,\n",
        "        0., 1., 0., 0., 1., 0., 1., 0.],\n",
        "       [0., 0., 0., 1., 0., 1., 0., 0., 0., 1., 0., 1., 0., 1., 0., 1.,\n",
        "        0., 1., 0., 0., 1., 0., 1., 0.],\n",
        "       [0., 0., 0., 1., 0., 1., 0., 0., 0., 1., 0., 1., 0., 1., 0., 1.,\n",
        "        0., 1., 0., 0., 1., 0., 1., 0.],\n",
        "       [0., 0., 0., 1., 0., 1., 0., 0., 0., 1., 0., 1., 0., 1., 0., 1.,\n",
        "        0., 1., 0., 0., 1., 0., 1., 0.],\n",
        "       [0., 0., 0., 0., 0., 0., 0., 0., 0., 0., 0., 0., 0., 0., 0., 0.,\n",
        "        0., 0., 0., 0., 0., 0., 0., 0.]])"
      ],
      "execution_count": null,
      "outputs": []
    },
    {
      "cell_type": "code",
      "metadata": {
        "id": "e0ZgUS8KiW_S"
      },
      "source": [
        "test_array_7 = np.array([[0., 0., 0., 0., 0., 0., 0., 0., 0., 0., 0., 0., 0., 0., 0., 0.,\n",
        "        0., 0., 0., 0., 0., 0., 0., 0.],\n",
        "       [0., 0., 0., 1., 1., 0., 1., 1., 1., 1., 0., 1., 0., 1., 1., 0.,\n",
        "        0., 1., 1., 0., 0., 0., 0., 0.],\n",
        "       [0., 0., 0., 1., 1., 1., 0., 1., 1., 0., 1., 1., 0., 1., 0., 0.,\n",
        "        0., 1., 1., 1., 1., 0., 1., 0.],\n",
        "       [0., 0., 0., 0., 0., 0., 0., 0., 0., 0., 0., 0., 0., 0., 0., 0.,\n",
        "        0., 0., 0., 0., 0., 0., 0., 0.],\n",
        "       [0., 0., 0., 1., 1., 1., 0., 1., 1., 0., 1., 1., 0., 1., 0., 0.,\n",
        "        0., 1., 1., 1., 1., 0., 1., 0.],\n",
        "       [0., 0., 0., 0., 0., 0., 0., 0., 0., 0., 0., 0., 0., 0., 0., 0.,\n",
        "        1., 1., 1., 1., 1., 1., 0., 0.],\n",
        "       [0., 0., 0., 0., 0., 0., 0., 0., 0., 0., 0., 0., 0., 0., 0., 0.,\n",
        "        0., 0., 0., 0., 0., 0., 0., 0.]])"
      ],
      "execution_count": null,
      "outputs": []
    },
    {
      "cell_type": "code",
      "metadata": {
        "id": "72LVPrbsQkOM"
      },
      "source": [
        "def predict_preference(in_model, in_array, lookup, print_on):\n",
        "\n",
        "  test_sample = torch.FloatTensor(in_array.flatten().tolist())\n",
        "  in_model.eval()\n",
        "  with torch.no_grad():\n",
        "    test_var = Variable(test_sample)\n",
        "    test_var = test_var.unsqueeze(1).T\n",
        "\n",
        "    net_out = in_model(test_var)\n",
        "    test_pred = torch.max(net_out.data, 1)[1].numpy()\n",
        "    predicted_label = test_pred.item()\n",
        "    if print_on:\n",
        "      lookup_row = lookup[lookup['lbl_concat'] == predicted_label]\n",
        "      w = lookup_row['Week'].item()\n",
        "      d = lookup_row['Day'].item()\n",
        "      b = lookup_row['b2b'].item()\n",
        "\n",
        "      print(100*'-')\n",
        "      print('Predictions:')\n",
        "      print(100*'-')\n",
        "      print()\n",
        "      print('Predicted Label:',predicted_label)\n",
        "      print('Time of week preference:', w)\n",
        "      print('Time of day preference:', d)\n",
        "      print('Back to back meetings (True/False):', b)\n",
        "      print()\n",
        "      print(100*'-')\n",
        "      print()\n",
        "      print(100*'-')\n",
        "      plt.imshow(in_array)\n",
        "      plt.yticks(ticks = list(range(7)), labels = ['Sunday', 'Monday', 'Tuesday', 'Wednesday', 'Thursday', 'Friday', 'Saturday'])\n",
        "      plt.xticks(ticks = list(range(24)),labels =  list(range(24)))\n",
        "      plt.xlabel('Timeslot')\n",
        "      plt.ylabel('Week Index')\n",
        "    return test_pred.item()"
      ],
      "execution_count": null,
      "outputs": []
    },
    {
      "cell_type": "code",
      "metadata": {
        "colab": {
          "base_uri": "https://localhost:8080/",
          "height": 362
        },
        "id": "_uLRe_5DmTRQ",
        "outputId": "6fa1164b-929a-4b99-8744-4ecfe178e08e"
      },
      "source": [
        "predicted_label = predict_preference(model, test_array_2, df_lookup, True)\n",
        "plt.savefig(\"gdrive/My Drive/Preferences/0.png\")\n",
        "plt.show()"
      ],
      "execution_count": null,
      "outputs": [
        {
          "output_type": "stream",
          "text": [
            "----------------------------------------------------------------------------------------------------\n",
            "Predictions:\n",
            "----------------------------------------------------------------------------------------------------\n",
            "\n",
            "Predicted Label: 0\n",
            "Time of week preference: early\n",
            "Time of day preference: early\n",
            "Back to back meetings (True/False): True\n",
            "\n",
            "----------------------------------------------------------------------------------------------------\n",
            "\n",
            "----------------------------------------------------------------------------------------------------\n"
          ],
          "name": "stdout"
        },
        {
          "output_type": "display_data",
          "data": {
            "image/png": "[encoded data removed]",
            "text/plain": [
              "<Figure size 432x288 with 1 Axes>"
            ]
          },
          "metadata": {
            "needs_background": "light"
          }
        }
      ]
    },
    {
      "cell_type": "code",
      "metadata": {
        "colab": {
          "base_uri": "https://localhost:8080/",
          "height": 362
        },
        "id": "a6d9zoB-Ceca",
        "outputId": "ed58df3a-159a-46c3-fa0a-3ffdc33aa412"
      },
      "source": [
        "predicted_label = predict_preference(model, test_array_1, df_lookup, True)\n",
        "plt.savefig(\"gdrive/My Drive/Preferences/3.png\")\n",
        "plt.show()"
      ],
      "execution_count": null,
      "outputs": [
        {
          "output_type": "stream",
          "text": [
            "----------------------------------------------------------------------------------------------------\n",
            "Predictions:\n",
            "----------------------------------------------------------------------------------------------------\n",
            "\n",
            "Predicted Label: 3\n",
            "Time of week preference: early\n",
            "Time of day preference: late\n",
            "Back to back meetings (True/False): False\n",
            "\n",
            "----------------------------------------------------------------------------------------------------\n",
            "\n",
            "----------------------------------------------------------------------------------------------------\n"
          ],
          "name": "stdout"
        },
        {
          "output_type": "display_data",
          "data": {
            "image/png": "[encoded data removed]",
            "text/plain": [
              "<Figure size 432x288 with 1 Axes>"
            ]
          },
          "metadata": {
            "needs_background": "light"
          }
        }
      ]
    },
    {
      "cell_type": "code",
      "metadata": {
        "colab": {
          "base_uri": "https://localhost:8080/",
          "height": 362
        },
        "id": "SARZWDYRCsT0",
        "outputId": "223871b1-209e-4490-becf-d9effb1bc85e"
      },
      "source": [
        "predicted_label = predict_preference(model, test_array_4, df_lookup, True)\n",
        "plt.savefig(\"gdrive/My Drive/Preferences/4.png\")\n",
        "plt.show()"
      ],
      "execution_count": null,
      "outputs": [
        {
          "output_type": "stream",
          "text": [
            "----------------------------------------------------------------------------------------------------\n",
            "Predictions:\n",
            "----------------------------------------------------------------------------------------------------\n",
            "\n",
            "Predicted Label: 4\n",
            "Time of week preference: early\n",
            "Time of day preference: None\n",
            "Back to back meetings (True/False): True\n",
            "\n",
            "----------------------------------------------------------------------------------------------------\n",
            "\n",
            "----------------------------------------------------------------------------------------------------\n"
          ],
          "name": "stdout"
        },
        {
          "output_type": "display_data",
          "data": {
            "image/png": "[encoded data removed]",
            "text/plain": [
              "<Figure size 432x288 with 1 Axes>"
            ]
          },
          "metadata": {
            "needs_background": "light"
          }
        }
      ]
    },
    {
      "cell_type": "code",
      "metadata": {
        "colab": {
          "base_uri": "https://localhost:8080/",
          "height": 362
        },
        "id": "EUTcFMxcBMrn",
        "outputId": "55c6fcb4-4e05-42f6-bf76-a21bf8011f09"
      },
      "source": [
        "predicted_label = predict_preference(model, test_array_5, df_lookup, True)\n",
        "plt.savefig(\"gdrive/My Drive/Preferences/5.png\")\n",
        "plt.show()"
      ],
      "execution_count": null,
      "outputs": [
        {
          "output_type": "stream",
          "text": [
            "----------------------------------------------------------------------------------------------------\n",
            "Predictions:\n",
            "----------------------------------------------------------------------------------------------------\n",
            "\n",
            "Predicted Label: 5\n",
            "Time of week preference: early\n",
            "Time of day preference: None\n",
            "Back to back meetings (True/False): False\n",
            "\n",
            "----------------------------------------------------------------------------------------------------\n",
            "\n",
            "----------------------------------------------------------------------------------------------------\n"
          ],
          "name": "stdout"
        },
        {
          "output_type": "display_data",
          "data": {
            "image/png": "[encoded data removed]",
            "text/plain": [
              "<Figure size 432x288 with 1 Axes>"
            ]
          },
          "metadata": {
            "needs_background": "light"
          }
        }
      ]
    },
    {
      "cell_type": "code",
      "metadata": {
        "colab": {
          "base_uri": "https://localhost:8080/",
          "height": 362
        },
        "id": "tTnmFdmpiTdp",
        "outputId": "4c815c17-967a-4d67-8494-90fbc27af410"
      },
      "source": [
        "predicted_label = predict_preference(model, test_array_6, df_lookup, True)"
      ],
      "execution_count": null,
      "outputs": [
        {
          "output_type": "stream",
          "text": [
            "----------------------------------------------------------------------------------------------------\n",
            "Predictions:\n",
            "----------------------------------------------------------------------------------------------------\n",
            "\n",
            "Predicted Label: 15\n",
            "Time of week preference: None\n",
            "Time of day preference: late\n",
            "Back to back meetings (True/False): False\n",
            "\n",
            "----------------------------------------------------------------------------------------------------\n",
            "\n",
            "----------------------------------------------------------------------------------------------------\n"
          ],
          "name": "stdout"
        },
        {
          "output_type": "display_data",
          "data": {
            "image/png": "[encoded data removed]",
            "text/plain": [
              "<Figure size 432x288 with 1 Axes>"
            ]
          },
          "metadata": {
            "needs_background": "light"
          }
        }
      ]
    },
    {
      "cell_type": "code",
      "metadata": {
        "colab": {
          "base_uri": "https://localhost:8080/",
          "height": 362
        },
        "id": "q3WJSZrdix5b",
        "outputId": "c667bf41-39c5-4401-c996-57e364ce9b8d"
      },
      "source": [
        "predicted_label = predict_preference(model, test_array_7, df_lookup, True)"
      ],
      "execution_count": null,
      "outputs": [
        {
          "output_type": "stream",
          "text": [
            "----------------------------------------------------------------------------------------------------\n",
            "Predictions:\n",
            "----------------------------------------------------------------------------------------------------\n",
            "\n",
            "Predicted Label: 3\n",
            "Time of week preference: early\n",
            "Time of day preference: late\n",
            "Back to back meetings (True/False): False\n",
            "\n",
            "----------------------------------------------------------------------------------------------------\n",
            "\n",
            "----------------------------------------------------------------------------------------------------\n"
          ],
          "name": "stdout"
        },
        {
          "output_type": "display_data",
          "data": {
            "image/png": "[encoded data removed]",
            "text/plain": [
              "<Figure size 432x288 with 1 Axes>"
            ]
          },
          "metadata": {
            "needs_background": "light"
          }
        }
      ]
    },
    {
      "cell_type": "code",
      "metadata": {
        "id": "3wzoEhwODyM8",
        "colab": {
          "base_uri": "https://localhost:8080/"
        },
        "outputId": "4d645d1e-b230-454d-d33f-5bc0a61e5cc0"
      },
      "source": [
        "print(df_lookup.to_latex())"
      ],
      "execution_count": null,
      "outputs": [
        {
          "output_type": "stream",
          "text": [
            "\\begin{tabular}{llllr}\n",
            "\\toprule\n",
            "{} &   Week &    Day &    b2b &  lbl\\_concat \\\\\n",
            "\\midrule\n",
            "0  &  early &  early &   True &           0 \\\\\n",
            "1  &  early &  early &  False &           1 \\\\\n",
            "2  &  early &   late &   True &           2 \\\\\n",
            "3  &  early &   late &  False &           3 \\\\\n",
            "4  &  early &   None &   True &           4 \\\\\n",
            "5  &  early &   None &  False &           5 \\\\\n",
            "6  &   late &  early &   True &           6 \\\\\n",
            "7  &   late &  early &  False &           7 \\\\\n",
            "8  &   late &   late &   True &           8 \\\\\n",
            "9  &   late &   late &  False &           9 \\\\\n",
            "10 &   late &   None &   True &          10 \\\\\n",
            "11 &   late &   None &  False &          11 \\\\\n",
            "12 &   None &  early &   True &          12 \\\\\n",
            "13 &   None &  early &  False &          13 \\\\\n",
            "14 &   None &   late &   True &          14 \\\\\n",
            "15 &   None &   late &  False &          15 \\\\\n",
            "16 &   None &   None &   True &          16 \\\\\n",
            "17 &   None &   None &  False &          17 \\\\\n",
            "\\bottomrule\n",
            "\\end{tabular}\n",
            "\n"
          ],
          "name": "stdout"
        }
      ]
    }
  ]
}